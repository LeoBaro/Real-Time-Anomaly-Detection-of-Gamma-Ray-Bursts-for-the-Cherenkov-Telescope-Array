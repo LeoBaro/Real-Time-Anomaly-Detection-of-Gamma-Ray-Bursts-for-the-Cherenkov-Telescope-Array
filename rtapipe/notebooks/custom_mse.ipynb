{
 "cells": [
  {
   "cell_type": "code",
   "execution_count": 1,
   "id": "45a9aec2",
   "metadata": {},
   "outputs": [],
   "source": [
    "import numpy as np\n",
    "import os\n",
    "os.environ['TF_CPP_MIN_LOG_LEVEL'] = '3'\n",
    "import tensorflow as tf"
   ]
  },
  {
   "cell_type": "code",
   "execution_count": 2,
   "id": "99773161",
   "metadata": {},
   "outputs": [],
   "source": [
    "def get_weights(number_of_features):\n",
    "    if number_of_features == 1:\n",
    "        return [1.0]\n",
    "    elif number_of_features == 2:\n",
    "        return [2./3, 1./3]\n",
    "    elif number_of_features == 3:\n",
    "        return [1./2, 1./3, 1./6]\n",
    "    elif number_of_features == 4:\n",
    "        return [2./5, 3./10, 1./5, 1./10]"
   ]
  },
  {
   "cell_type": "code",
   "execution_count": 9,
   "id": "080f7d02",
   "metadata": {},
   "outputs": [
    {
     "name": "stdout",
     "output_type": "stream",
     "text": [
      "y_true (2, 3, 2)\n"
     ]
    }
   ],
   "source": [
    "y_true = np.array([\n",
    "    [ \n",
    "        [1, 2],\n",
    "        [3, 4],\n",
    "        [5, 6]\n",
    "    ],\n",
    "    [ \n",
    "        [10, 20],\n",
    "        [30, 40],\n",
    "        [50, 60]\n",
    "    ]    \n",
    "])\n",
    "\n",
    "y_pred = np.array([\n",
    "    [ \n",
    "        [0, 0],\n",
    "        [0, 0],\n",
    "        [0, 0]\n",
    "    ],\n",
    "    [ \n",
    "        [0, 0],\n",
    "        [0, 0],\n",
    "        [0, 0]\n",
    "    ]\n",
    "    \n",
    "])\n",
    "print(\"y_true\",y_true.shape)"
   ]
  },
  {
   "cell_type": "code",
   "execution_count": 10,
   "id": "dde380b9",
   "metadata": {},
   "outputs": [
    {
     "data": {
      "text/plain": [
       "array([[[   1,    4],\n",
       "        [   9,   16],\n",
       "        [  25,   36]],\n",
       "\n",
       "       [[ 100,  400],\n",
       "        [ 900, 1600],\n",
       "        [2500, 3600]]])"
      ]
     },
     "execution_count": 10,
     "metadata": {},
     "output_type": "execute_result"
    }
   ],
   "source": [
    "residuals = np.square(y_true - y_pred)\n",
    "residuals"
   ]
  },
  {
   "cell_type": "markdown",
   "id": "d1c4ee38",
   "metadata": {},
   "source": [
    "## Tensorflow's way"
   ]
  },
  {
   "cell_type": "code",
   "execution_count": 15,
   "id": "715a19fd",
   "metadata": {},
   "outputs": [
    {
     "data": {
      "text/plain": [
       "array([[2.00000000e+00, 1.13333333e+01, 2.86666667e+01],\n",
       "       [2.00000000e+02, 1.13333333e+03, 2.86666667e+03]])"
      ]
     },
     "execution_count": 15,
     "metadata": {},
     "output_type": "execute_result"
    }
   ],
   "source": [
    "averaged_mse = np.average(residuals, axis=-1, weights=get_weights(y_true.shape[-1]))\n",
    "averaged_mse"
   ]
  },
  {
   "cell_type": "code",
   "execution_count": 12,
   "id": "fddc87f0",
   "metadata": {},
   "outputs": [
    {
     "data": {
      "text/plain": [
       "(2, 3)"
      ]
     },
     "execution_count": 12,
     "metadata": {},
     "output_type": "execute_result"
    }
   ],
   "source": [
    "averaged_mse.shape"
   ]
  },
  {
   "cell_type": "code",
   "execution_count": 13,
   "id": "ee16ee81",
   "metadata": {},
   "outputs": [
    {
     "data": {
      "text/plain": [
       "<tf.Tensor: shape=(), dtype=float64, numpy=707.0>"
      ]
     },
     "execution_count": 13,
     "metadata": {},
     "output_type": "execute_result"
    }
   ],
   "source": [
    "tf.math.reduce_mean(averaged_mse, axis=None, keepdims=False, name=None)"
   ]
  },
  {
   "cell_type": "markdown",
   "id": "b8af86a1",
   "metadata": {},
   "source": [
    "## The other way around "
   ]
  },
  {
   "cell_type": "code",
   "execution_count": 22,
   "id": "0de2fe5a",
   "metadata": {},
   "outputs": [
    {
     "data": {
      "text/plain": [
       "array([[  11.66666667,   18.66666667],\n",
       "       [1166.66666667, 1866.66666667]])"
      ]
     },
     "execution_count": 22,
     "metadata": {},
     "output_type": "execute_result"
    }
   ],
   "source": [
    "mse_on_features = np.mean(residuals, axis=1)\n",
    "mse_on_features"
   ]
  },
  {
   "cell_type": "code",
   "execution_count": 28,
   "id": "3b69c7ee",
   "metadata": {},
   "outputs": [
    {
     "data": {
      "text/plain": [
       "(2, 2)"
      ]
     },
     "execution_count": 28,
     "metadata": {},
     "output_type": "execute_result"
    }
   ],
   "source": [
    "mse_on_features.shape"
   ]
  },
  {
   "cell_type": "code",
   "execution_count": 27,
   "id": "f830f881",
   "metadata": {},
   "outputs": [
    {
     "data": {
      "text/plain": [
       "array([  14., 1400.])"
      ]
     },
     "execution_count": 27,
     "metadata": {},
     "output_type": "execute_result"
    }
   ],
   "source": [
    "averaged_mse_2 = np.average(mse_on_features, axis=-1, weights=get_weights(mse_on_features.shape[-1]))\n",
    "averaged_mse_2"
   ]
  },
  {
   "cell_type": "code",
   "execution_count": 29,
   "id": "743d8377",
   "metadata": {},
   "outputs": [
    {
     "data": {
      "text/plain": [
       "(2,)"
      ]
     },
     "execution_count": 29,
     "metadata": {},
     "output_type": "execute_result"
    }
   ],
   "source": [
    "averaged_mse_2.shape"
   ]
  },
  {
   "cell_type": "code",
   "execution_count": 26,
   "id": "5387c51f",
   "metadata": {},
   "outputs": [
    {
     "data": {
      "text/plain": [
       "707.0"
      ]
     },
     "execution_count": 26,
     "metadata": {},
     "output_type": "execute_result"
    }
   ],
   "source": [
    "np.mean(averaged_mse_2)"
   ]
  },
  {
   "cell_type": "markdown",
   "id": "3604e781",
   "metadata": {},
   "source": [
    "## Tensorflow implementation"
   ]
  },
  {
   "cell_type": "code",
   "execution_count": 30,
   "id": "8338ed8a",
   "metadata": {},
   "outputs": [],
   "source": [
    "import tensorflow as tf"
   ]
  },
  {
   "cell_type": "code",
   "execution_count": 41,
   "id": "28901792",
   "metadata": {},
   "outputs": [],
   "source": [
    "def get_weights(n_features):\n",
    "    if n_features == 1:\n",
    "        return tf.constant([1.0], dtype=tf.float32)\n",
    "    elif n_features == 2:\n",
    "        return tf.constant([2./3, 1./3], dtype=tf.float32)\n",
    "    elif n_features == 3:\n",
    "        return tf.constant([1./2, 1./3, 1./6], dtype=tf.float32)\n",
    "    elif n_features == 4:\n",
    "        return tf.constant([2./5, 3./10, 1./5, 1./10], dtype=tf.float32)"
   ]
  },
  {
   "cell_type": "code",
   "execution_count": 44,
   "id": "fb06b9d1",
   "metadata": {},
   "outputs": [],
   "source": [
    "y_true = tf.constant(y_true, dtype=tf.float32)\n",
    "y_pred = tf.constant(y_pred, dtype=tf.float32)"
   ]
  },
  {
   "cell_type": "code",
   "execution_count": 45,
   "id": "e01d251a",
   "metadata": {},
   "outputs": [
    {
     "data": {
      "text/plain": [
       "<tf.Tensor: shape=(2, 2), dtype=float32, numpy=\n",
       "array([[  11.666667,   18.666666],\n",
       "       [1166.6666  , 1866.6666  ]], dtype=float32)>"
      ]
     },
     "execution_count": 45,
     "metadata": {},
     "output_type": "execute_result"
    }
   ],
   "source": [
    "mse_per_sample_features = tf.math.reduce_mean(tf.math.square(y_true - y_pred), axis=1)\n",
    "mse_per_sample_features"
   ]
  },
  {
   "cell_type": "code",
   "execution_count": 47,
   "id": "d5f0a494",
   "metadata": {},
   "outputs": [
    {
     "data": {
      "text/plain": [
       "<tf.Tensor: shape=(2, 2), dtype=float32, numpy=\n",
       "array([[  7.777778 ,   6.2222223],\n",
       "       [777.7778   , 622.2222   ]], dtype=float32)>"
      ]
     },
     "execution_count": 47,
     "metadata": {},
     "output_type": "execute_result"
    }
   ],
   "source": [
    "mse_per_sample_features * get_weights(2)"
   ]
  },
  {
   "cell_type": "code",
   "execution_count": 49,
   "id": "a40d1baf",
   "metadata": {},
   "outputs": [
    {
     "data": {
      "text/plain": [
       "<tf.Tensor: shape=(2,), dtype=float32, numpy=array([  14., 1400.], dtype=float32)>"
      ]
     },
     "execution_count": 49,
     "metadata": {},
     "output_type": "execute_result"
    }
   ],
   "source": [
    "tf.math.reduce_sum(mse_per_sample_features * get_weights(2), axis=1) "
   ]
  },
  {
   "cell_type": "code",
   "execution_count": null,
   "id": "d1c130e4",
   "metadata": {},
   "outputs": [],
   "source": []
  }
 ],
 "metadata": {
  "kernelspec": {
   "display_name": "phd-tf",
   "language": "python",
   "name": "phd-tf"
  },
  "language_info": {
   "codemirror_mode": {
    "name": "ipython",
    "version": 3
   },
   "file_extension": ".py",
   "mimetype": "text/x-python",
   "name": "python",
   "nbconvert_exporter": "python",
   "pygments_lexer": "ipython3",
   "version": "3.9.13"
  }
 },
 "nbformat": 4,
 "nbformat_minor": 5
}
