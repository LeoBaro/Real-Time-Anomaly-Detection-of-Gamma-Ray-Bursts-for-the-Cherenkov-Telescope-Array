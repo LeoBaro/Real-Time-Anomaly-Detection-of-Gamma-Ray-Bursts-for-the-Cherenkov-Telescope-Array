{
 "cells": [
  {
   "cell_type": "code",
   "execution_count": 1,
   "id": "a113ad6b",
   "metadata": {},
   "outputs": [],
   "source": [
    "import os\n",
    "from os.path import isfile\n",
    "from sagsci.tools.utils import *\n",
    "from sagsci.wrappers.rtaph.photometry import *"
   ]
  },
  {
   "cell_type": "code",
   "execution_count": 2,
   "id": "536ef9f3",
   "metadata": {},
   "outputs": [],
   "source": [
    "os.environ[\"CTOOLS\"]=\"/data01/homes/baroncelli/.conda/envs/bphd\""
   ]
  },
  {
   "cell_type": "code",
   "execution_count": 3,
   "id": "88943154",
   "metadata": {},
   "outputs": [],
   "source": [
    "from rtapipe.lib.datasource.Photometry3 import OnlinePhotometry "
   ]
  },
  {
   "cell_type": "code",
   "execution_count": 4,
   "id": "9ac95b32",
   "metadata": {},
   "outputs": [
    {
     "name": "stdout",
     "output_type": "stream",
     "text": [
      "Loaded irf: /data01/homes/baroncelli/.conda/envs/bphd/share/caldb/data/cta/prod5-v0.1/bcf/North_z40_5h_LST/Prod5-North-40deg-AverageAz-4LSTs.18000s-v0.1.fits.gz\n",
      "Source position:  {'ra': 33.057, 'dec': -51.841}\n",
      "Pointing position:  {'ra': 33.057, 'dec': -52.341}\n"
     ]
    }
   ],
   "source": [
    "pht = OnlinePhotometry(\"/data01/homes/baroncelli/phd/rtapipe/scripts/ml/dataset_generation/test/itime_5_a/config.yml\")"
   ]
  },
  {
   "cell_type": "markdown",
   "id": "782cf19d",
   "metadata": {},
   "source": [
    "## Parameters"
   ]
  },
  {
   "cell_type": "code",
   "execution_count": null,
   "id": "37cda1e6",
   "metadata": {},
   "outputs": [],
   "source": [
    "integration_time = 5\n",
    "region_radius = 0.2\n",
    "number_of_energy_bins = 1\n",
    "pht_list = \"/data01/homes/baroncelli/phd/rtapipe/scripts/ml/dataset_generation/single_long_photon_list/training/sim_output/backgrounds/runid_notemplate_trial_0000000002_simtype_bkg_onset_0_delay_0_offset_0.5.fits\""
   ]
  },
  {
   "cell_type": "code",
   "execution_count": null,
   "id": "84d512f9",
   "metadata": {},
   "outputs": [],
   "source": [
    "source_region = pht.create_photometry_configuration(region_radius, 1, configuration=\"source\")\n",
    "source_region"
   ]
  },
  {
   "cell_type": "code",
   "execution_count": null,
   "id": "9c11c978",
   "metadata": {},
   "outputs": [],
   "source": [
    "off_region = pht.create_photometry_configuration(region_radius, 1, configuration=\"off\")\n",
    "off_region"
   ]
  },
  {
   "cell_type": "code",
   "execution_count": null,
   "id": "1ca92439",
   "metadata": {},
   "outputs": [],
   "source": [
    "data, data_err = pht.integrate(pht_list, source_region, region_radius, integration_time, number_of_energy_bins, max_points=None, normalize=False, threads=5)"
   ]
  },
  {
   "cell_type": "code",
   "execution_count": null,
   "id": "c4c2384e",
   "metadata": {
    "scrolled": true
   },
   "outputs": [],
   "source": [
    "data"
   ]
  },
  {
   "cell_type": "code",
   "execution_count": null,
   "id": "7a82c3ac",
   "metadata": {},
   "outputs": [],
   "source": [
    "phm = Photometrics({'events_filename': pht_list})\n",
    "# :O\n",
    "target = {'ra': 33.057, 'dec': -51.841}\n",
    "pointing = {'ra': 33.557, 'dec': -51.841}\n",
    "# configuration\n",
    "erange = [0.03, 1]       # energy in teraelectronvolt (TeV)\n",
    "trange = [0, 5]         # livetime in seconds (s)\n",
    "spectral_index = -2.1     # slope of the power-law spectrum\n",
    "target['rad'] = region_radius\n",
    "off_regions = Photometrics.find_off_regions('cross', target, pointing, target['rad'])\n",
    "on, off, alpha, excess, sigma, err_note = phm.counting(src=target, rad=target['rad'], off_regions=off_regions, e_min=erange[0], e_max=erange[1], t_min=trange[0], t_max=trange[1], draconian=False)"
   ]
  },
  {
   "cell_type": "code",
   "execution_count": null,
   "id": "67ea67d6",
   "metadata": {},
   "outputs": [],
   "source": [
    "on, off, alpha, excess, sigma, err_note"
   ]
  },
  {
   "cell_type": "code",
   "execution_count": null,
   "id": "9bff72ea",
   "metadata": {},
   "outputs": [],
   "source": []
  }
 ],
 "metadata": {
  "kernelspec": {
   "display_name": "phd-tf",
   "language": "python",
   "name": "phd-tf"
  },
  "language_info": {
   "codemirror_mode": {
    "name": "ipython",
    "version": 3
   },
   "file_extension": ".py",
   "mimetype": "text/x-python",
   "name": "python",
   "nbconvert_exporter": "python",
   "pygments_lexer": "ipython3",
   "version": "3.9.13"
  }
 },
 "nbformat": 4,
 "nbformat_minor": 5
}
