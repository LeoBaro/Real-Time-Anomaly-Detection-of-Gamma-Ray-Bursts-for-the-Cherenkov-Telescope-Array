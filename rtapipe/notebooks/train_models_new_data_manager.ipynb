{
 "cells": [
  {
   "cell_type": "code",
   "execution_count": 1,
   "id": "2ca34300",
   "metadata": {},
   "outputs": [],
   "source": [
    "import os\n",
    "os.environ['TF_CPP_MIN_LOG_LEVEL'] = '3'\n",
    "import json\n",
    "import tensorflow as tf\n",
    "import argparse\n",
    "import numpy as np\n",
    "from pathlib import Path\n",
    "from time import strftime\n",
    "from shutil import rmtree\n",
    "import matplotlib.pyplot as plt\n",
    "from tensorflow.keras.callbacks import EarlyStopping"
   ]
  },
  {
   "cell_type": "code",
   "execution_count": 2,
   "id": "8232078c",
   "metadata": {},
   "outputs": [],
   "source": [
    "from rtapipe.lib.dataset.data_manager import DataManager\n",
    "from rtapipe.lib.datasource.Photometry3 import OnlinePhotometry, SimulationParams\n",
    "from rtapipe.lib.models.anomaly_detector_builder import AnomalyDetectorBuilder\n",
    "from rtapipe.scripts.ml.offline.callbacks import CustomLogCallback\n",
    "from rtapipe.lib.evaluation.custom_mse import CustomMSE\n",
    "from rtapipe.lib.plotting.plotting import plot_sequences, loss_plot"
   ]
  },
  {
   "cell_type": "markdown",
   "id": "d8569058",
   "metadata": {},
   "source": [
    "## Configuration"
   ]
  },
  {
   "cell_type": "code",
   "execution_count": 3,
   "id": "c9331a8d",
   "metadata": {},
   "outputs": [],
   "source": [
    "output_dir = \"./logs/train_models_new_data_manager_out/\""
   ]
  },
  {
   "cell_type": "code",
   "execution_count": 4,
   "id": "15c91e4c",
   "metadata": {},
   "outputs": [],
   "source": [
    "dataset_folder = \"/data01/homes/baroncelli/phd/rtapipe/scripts/ml/dataset_generation/train/North_z40_5h_LST/train_set_c/fits_data\""
   ]
  },
  {
   "cell_type": "code",
   "execution_count": 5,
   "id": "2640c4d4",
   "metadata": {},
   "outputs": [],
   "source": [
    "TRAINING_DATA_DROP=80"
   ]
  },
  {
   "cell_type": "code",
   "execution_count": 6,
   "id": "99d6be42",
   "metadata": {},
   "outputs": [],
   "source": [
    "SCALER_TYPE=\"robust\""
   ]
  },
  {
   "cell_type": "code",
   "execution_count": 7,
   "id": "8f92277d",
   "metadata": {},
   "outputs": [],
   "source": [
    "SCALER_TYPE=\"minmax\""
   ]
  },
  {
   "cell_type": "code",
   "execution_count": 8,
   "id": "ad8b8775",
   "metadata": {},
   "outputs": [],
   "source": [
    "features_names = [\"EB_0.04-0.117\",\"EB_2-0.117-0.342\",\"EB_0.342-1\"]"
   ]
  },
  {
   "cell_type": "code",
   "execution_count": 9,
   "id": "88563f32",
   "metadata": {},
   "outputs": [
    {
     "name": "stdout",
     "output_type": "stream",
     "text": [
      "Loaded 1 files\n"
     ]
    }
   ],
   "source": [
    "fits_files = DataManager.load_fits_data(dataset_folder, limit=1)"
   ]
  },
  {
   "cell_type": "code",
   "execution_count": 10,
   "id": "5074aae0",
   "metadata": {},
   "outputs": [],
   "source": [
    "sim_params = SimulationParams(runid=\"run0406_ID000126\", onset=0, emin=0.04, emax=1, tmin=0, tobs=18000, offset=0.5, irf=\"North_z40_5h_LST\", roi=2.5, caldb=\"prod5-v0.1\", simtype=\"bkg\")"
   ]
  },
  {
   "cell_type": "code",
   "execution_count": 11,
   "id": "0b9ec984",
   "metadata": {},
   "outputs": [],
   "source": [
    "dataset_id=\"train_set_c_tsl_5_nbins_3\""
   ]
  },
  {
   "cell_type": "code",
   "execution_count": 12,
   "id": "4edd3fb3",
   "metadata": {},
   "outputs": [
    {
     "name": "stdout",
     "output_type": "stream",
     "text": [
      "[2023-01-26 16:28:25.097603] Loaded data from logs/train_models_new_data_manager_out/data_cache. Loaded 1 templates.\n"
     ]
    }
   ],
   "source": [
    "multiple_templates = False\n",
    "add_target_region = False\n",
    "integration_time = 5\n",
    "number_of_energy_bins = 3\n",
    "tsl = 3600\n",
    "threads = 30\n",
    "normalize = True\n",
    "data_manager = DataManager(output_dir)\n",
    "#data_manager.transform_to_timeseries(fits_files, sim_params, add_target_region, integration_time=integration_time, number_of_energy_bins=number_of_energy_bins, tsl=tsl, normalize=normalize, threads=threads, multiple_templates=multiple_templates)\n",
    "data_manager.load_saved_data(5, 3600) # <--- LOAD ME!"
   ]
  },
  {
   "cell_type": "code",
   "execution_count": 13,
   "id": "02d29527",
   "metadata": {},
   "outputs": [],
   "source": [
    "assert data_manager.data[\"notemplate\"].shape == (85, 3600, 3)"
   ]
  },
  {
   "cell_type": "code",
   "execution_count": 14,
   "id": "28e62034",
   "metadata": {},
   "outputs": [
    {
     "name": "stdout",
     "output_type": "stream",
     "text": [
      "[2023-01-26 16:28:25.105223] Extracting subsequences of 5 points with stride 5 from 85 time series\n",
      "[2023-01-26 16:28:25.281770] Extracted 61200 subsequences\n",
      "[2023-01-26 16:28:25.284774] Train set shape: (48960, 5, 3) - Validation set shape: (12240, 5, 3)\n",
      "[2023-01-26 16:28:25.284809] Data will be scaled to 0-1\n"
     ]
    }
   ],
   "source": [
    "train_x, train_y , val_x, val_y = data_manager.get_train_set(\"notemplate\", sub_window_size=5, stride=5, validation_split=80, scaler_type=SCALER_TYPE)"
   ]
  },
  {
   "cell_type": "code",
   "execution_count": 15,
   "id": "5fff221c",
   "metadata": {},
   "outputs": [
    {
     "name": "stdout",
     "output_type": "stream",
     "text": [
      "(9792, 5, 3) (9792,)\n",
      "(2448, 5, 3) (2448,)\n"
     ]
    }
   ],
   "source": [
    "drop_train = int(train_x.shape[0] - train_x.shape[0]*TRAINING_DATA_DROP / 100)\n",
    "drop_val = int(val_x.shape[0] - val_x.shape[0]*TRAINING_DATA_DROP / 100)\n",
    "\n",
    "train_x = train_x[:drop_train, :, :]\n",
    "train_y = train_y[:drop_train]\n",
    "val_x = val_x[:drop_val, :, :]\n",
    "val_y = val_y[:drop_val]\n",
    "\n",
    "print(train_x.shape, train_y.shape)\n",
    "print(val_x.shape, val_y.shape)"
   ]
  },
  {
   "cell_type": "code",
   "execution_count": 16,
   "id": "447ca24f",
   "metadata": {
    "scrolled": true
   },
   "outputs": [],
   "source": [
    "#import matplotlib\n",
    "#matplotlib.use(\"TKAgg\", force=True)\n",
    "#%matplotlib inline\n",
    "#plot_sequences(train_x[0:5], scaled=True, labels=[\"first sample of validation set\"], features_names=features_names, showFig=True, saveFig=True)"
   ]
  },
  {
   "cell_type": "code",
   "execution_count": 17,
   "id": "19b6ced3",
   "metadata": {},
   "outputs": [],
   "source": [
    "model_names = AnomalyDetectorBuilder.getModelsName()"
   ]
  },
  {
   "cell_type": "code",
   "execution_count": 18,
   "id": "f0b5042b",
   "metadata": {},
   "outputs": [
    {
     "data": {
      "text/plain": [
       "['AnomalyDetector_lstm_l2_u8',\n",
       " 'AnomalyDetector_lstm_l2_u32',\n",
       " 'AnomalyDetector_lstm_l2_u128',\n",
       " 'AnomalyDetector_lstm_l4_u8',\n",
       " 'AnomalyDetector_lstm_l4_u32',\n",
       " 'AnomalyDetector_lstm_l4_u128',\n",
       " 'AnomalyDetector_rnn_l2_u8',\n",
       " 'AnomalyDetector_rnn_l2_u32',\n",
       " 'AnomalyDetector_rnn_l2_u128',\n",
       " 'AnomalyDetector_rnn_l4_u8',\n",
       " 'AnomalyDetector_rnn_l4_u32',\n",
       " 'AnomalyDetector_rnn_l4_u128',\n",
       " 'AnomalyDetector_cnn_l2_u8',\n",
       " 'AnomalyDetector_cnn_l2_u32',\n",
       " 'AnomalyDetector_cnn_l2_u128']"
      ]
     },
     "execution_count": 18,
     "metadata": {},
     "output_type": "execute_result"
    }
   ],
   "source": [
    "model_names"
   ]
  },
  {
   "cell_type": "code",
   "execution_count": 19,
   "id": "55e9259b",
   "metadata": {},
   "outputs": [],
   "source": [
    "model_names = [model_name for model_name in model_names if \"lstm\" in model_name]\n",
    "model_names = [\"AnomalyDetector_cnn_l2_u32\", \"AnomalyDetector_rnn_l2_u32\"]#, \"AnomalyDetector_lstm_l2_u32\"]"
   ]
  },
  {
   "cell_type": "code",
   "execution_count": 20,
   "id": "cb04b140",
   "metadata": {},
   "outputs": [],
   "source": [
    "EARLY_STOPPING_PATIENCE=5\n",
    "EPOCHS=10"
   ]
  },
  {
   "cell_type": "code",
   "execution_count": 21,
   "id": "c02c840e",
   "metadata": {
    "scrolled": false
   },
   "outputs": [
    {
     "name": "stdout",
     "output_type": "stream",
     "text": [
      "\n",
      "\n",
      "\n",
      "********************* AnomalyDetector_cnn_l2_u32 training *********************\n",
      "\n",
      "\n",
      "Storing scaler to /data01/homes/baroncelli/phd/rtapipe/notebooks/run_20230126-162825/model_AnomalyDetector_cnn_l2_u32_dataset_train_set_c_tsl_5_nbins_3_tsl_3600/fitted_scaler_minmax_itime_5_tsl_3600.pickle\n",
      "AnomalyDetector_cnn_l2_u32 - input shape: (5,3)\n",
      "Model: \"sequential\"\n",
      "_________________________________________________________________\n",
      "Layer (type)                 Output Shape              Param #   \n",
      "=================================================================\n",
      "conv1d (Conv1D)              (None, 3, 32)             320       \n",
      "_________________________________________________________________\n",
      "dropout (Dropout)            (None, 3, 32)             0         \n",
      "_________________________________________________________________\n",
      "max_pooling1d (MaxPooling1D) (None, 2, 32)             0         \n",
      "_________________________________________________________________\n",
      "conv1d_transpose (Conv1DTran (None, 5, 3)              291       \n",
      "_________________________________________________________________\n",
      "dropout_1 (Dropout)          (None, 5, 3)              0         \n",
      "=================================================================\n",
      "Total params: 611\n",
      "Trainable params: 611\n",
      "Non-trainable params: 0\n",
      "_________________________________________________________________\n",
      "\n",
      "\n",
      "----------------- Checkpoint! Saving data at epoch 1 (Triggered by Early Stopping=False) -----------------\n",
      "INFO:tensorflow:Assets written to: /data01/homes/baroncelli/phd/rtapipe/notebooks/run_20230126-162825/model_AnomalyDetector_cnn_l2_u32_dataset_train_set_c_tsl_5_nbins_3_tsl_3600/epochs/epoch_1/trained_model/assets\n",
      "77/77 [==============================] - 0s 914us/step\n",
      "\n",
      "\n",
      "----------------- Checkpoint! Saving data at epoch 5 (Triggered by Early Stopping=False) -----------------\n",
      "INFO:tensorflow:Assets written to: /data01/homes/baroncelli/phd/rtapipe/notebooks/run_20230126-162825/model_AnomalyDetector_cnn_l2_u32_dataset_train_set_c_tsl_5_nbins_3_tsl_3600/epochs/epoch_5/trained_model/assets\n",
      "77/77 [==============================] - 0s 1ms/step\n",
      "\n",
      "\n",
      "----------------- Checkpoint! Saving data at epoch 10 (Triggered by Early Stopping=False) -----------------\n",
      "INFO:tensorflow:Assets written to: /data01/homes/baroncelli/phd/rtapipe/notebooks/run_20230126-162825/model_AnomalyDetector_cnn_l2_u32_dataset_train_set_c_tsl_5_nbins_3_tsl_3600/epochs/epoch_10/trained_model/assets\n",
      "77/77 [==============================] - 0s 1ms/step\n",
      "\n",
      "\n",
      "----------------- Checkpoint! Saving data at epoch 11 (Triggered by Early Stopping=True) -----------------\n",
      "INFO:tensorflow:Assets written to: /data01/homes/baroncelli/phd/rtapipe/notebooks/run_20230126-162825/model_AnomalyDetector_cnn_l2_u32_dataset_train_set_c_tsl_5_nbins_3_tsl_3600/epochs/epoch_11/trained_model/assets\n",
      "77/77 [==============================] - 0s 1ms/step\n",
      "Plot /data01/homes/baroncelli/phd/rtapipe/notebooks/run_20230126-162825/model_AnomalyDetector_cnn_l2_u32_dataset_train_set_c_tsl_5_nbins_3_tsl_3600/AnomalyDetector_cnn_l2_u32_train_val_loss.svg created.\n",
      "Plot /data01/homes/baroncelli/phd/rtapipe/notebooks/run_20230126-162825/model_AnomalyDetector_cnn_l2_u32_dataset_train_set_c_tsl_5_nbins_3_tsl_3600/AnomalyDetector_cnn_l2_u32_train_val_loss.svg created.\n",
      "\n",
      "\n",
      "\n",
      "********************* AnomalyDetector_rnn_l2_u32 training *********************\n",
      "\n",
      "\n",
      "Storing scaler to /data01/homes/baroncelli/phd/rtapipe/notebooks/run_20230126-162825/model_AnomalyDetector_rnn_l2_u32_dataset_train_set_c_tsl_5_nbins_3_tsl_3600/fitted_scaler_minmax_itime_5_tsl_3600.pickle\n",
      "AnomalyDetector_rnn_l2_u32 - input shape: (5,3)\n",
      "Model: \"sequential_1\"\n",
      "_________________________________________________________________\n",
      "Layer (type)                 Output Shape              Param #   \n",
      "=================================================================\n",
      "simple_rnn (SimpleRNN)       (None, 32)                1152      \n",
      "_________________________________________________________________\n",
      "dropout_2 (Dropout)          (None, 32)                0         \n",
      "_________________________________________________________________\n",
      "repeat_vector (RepeatVector) (None, 5, 32)             0         \n",
      "_________________________________________________________________\n",
      "simple_rnn_1 (SimpleRNN)     (None, 5, 32)             2080      \n",
      "_________________________________________________________________\n",
      "dropout_3 (Dropout)          (None, 5, 32)             0         \n",
      "_________________________________________________________________\n",
      "time_distributed (TimeDistri (None, 5, 3)              99        \n",
      "=================================================================\n",
      "Total params: 3,331\n",
      "Trainable params: 3,331\n",
      "Non-trainable params: 0\n",
      "_________________________________________________________________\n",
      "\n",
      "\n",
      "----------------- Checkpoint! Saving data at epoch 1 (Triggered by Early Stopping=False) -----------------\n",
      "INFO:tensorflow:Assets written to: /data01/homes/baroncelli/phd/rtapipe/notebooks/run_20230126-162825/model_AnomalyDetector_rnn_l2_u32_dataset_train_set_c_tsl_5_nbins_3_tsl_3600/epochs/epoch_1/trained_model/assets\n",
      "77/77 [==============================] - 1s 3ms/step\n",
      "\n",
      "\n",
      "----------------- Checkpoint! Saving data at epoch 5 (Triggered by Early Stopping=False) -----------------\n",
      "INFO:tensorflow:Assets written to: /data01/homes/baroncelli/phd/rtapipe/notebooks/run_20230126-162825/model_AnomalyDetector_rnn_l2_u32_dataset_train_set_c_tsl_5_nbins_3_tsl_3600/epochs/epoch_5/trained_model/assets\n",
      "77/77 [==============================] - 0s 3ms/step\n",
      "\n",
      "\n",
      "----------------- Checkpoint! Saving data at epoch 10 (Triggered by Early Stopping=False) -----------------\n",
      "INFO:tensorflow:Assets written to: /data01/homes/baroncelli/phd/rtapipe/notebooks/run_20230126-162825/model_AnomalyDetector_rnn_l2_u32_dataset_train_set_c_tsl_5_nbins_3_tsl_3600/epochs/epoch_10/trained_model/assets\n",
      "77/77 [==============================] - 0s 3ms/step\n",
      "\n",
      "\n",
      "----------------- Checkpoint! Saving data at epoch 11 (Triggered by Early Stopping=True) -----------------\n",
      "INFO:tensorflow:Assets written to: /data01/homes/baroncelli/phd/rtapipe/notebooks/run_20230126-162825/model_AnomalyDetector_rnn_l2_u32_dataset_train_set_c_tsl_5_nbins_3_tsl_3600/epochs/epoch_11/trained_model/assets\n",
      "77/77 [==============================] - 0s 3ms/step\n",
      "Plot /data01/homes/baroncelli/phd/rtapipe/notebooks/run_20230126-162825/model_AnomalyDetector_rnn_l2_u32_dataset_train_set_c_tsl_5_nbins_3_tsl_3600/AnomalyDetector_rnn_l2_u32_train_val_loss.svg created.\n",
      "Plot /data01/homes/baroncelli/phd/rtapipe/notebooks/run_20230126-162825/model_AnomalyDetector_rnn_l2_u32_dataset_train_set_c_tsl_5_nbins_3_tsl_3600/AnomalyDetector_rnn_l2_u32_train_val_loss.svg created.\n"
     ]
    }
   ],
   "source": [
    "timesteps = train_x[0].shape[0]\n",
    "nfeatures = train_x[0].shape[1]\n",
    "batch_size = 32\n",
    "\n",
    "outDirRoot = Path(\"./\").parent.resolve().joinpath(f\"run_{strftime('%Y%m%d-%H%M%S')}\")\n",
    "\n",
    "for model_name in model_names:\n",
    "    \n",
    "    print(f\"\\n\\n\\n********************* {model_name} training *********************\\n\\n\")\n",
    "    outDirBase = outDirRoot.joinpath(f\"model_{model_name}_dataset_{dataset_id}_tsl_{tsl}\")\n",
    "    outDirBase.mkdir(parents=True, exist_ok=True)\n",
    "    data_manager.store_scaler(integration_time, tsl, SCALER_TYPE, outDirBase)\n",
    "    with open(outDirBase.joinpath('dataset_params.json'), 'w') as handle:\n",
    "        json.dump({\"id\":dataset_id, \"path\":dataset_folder, \"runid\": \"notemplate\", \"itime\":integration_time, \"tsl\":5, \"normalized\":True, \"delay\":0, \"offset\":0}, handle)\n",
    "\n",
    "    \n",
    "    # Callbacks \n",
    "    clc = CustomLogCallback(\n",
    "            [1, 5, 10, 50, 100 ,200],\n",
    "            validation_data=(val_x, val_y), \n",
    "            out_dir_root=outDirBase, \n",
    "            wandb_run=None, \n",
    "            metadata={\"dataset_id\": dataset_id, \"model\": model_name, \"training\": \"heavy\"}\n",
    "    )\n",
    "    ea = EarlyStopping(monitor=\"val_loss\", patience=EARLY_STOPPING_PATIENCE, mode=\"min\")\n",
    "    callbacks = [\n",
    "        ea, clc\n",
    "    ]\n",
    "    \n",
    "    anomalyDetector = AnomalyDetectorBuilder.getAnomalyDetector(model_name, timesteps, nfeatures)\n",
    "    anomalyDetector.model.compile(optimizer='adam', loss=CustomMSE(nfeatures, output_dir=outDirBase)) # \n",
    "    anomalyDetector.model.summary()\n",
    "    anomalyDetector.store_parameters(outDirBase)\n",
    "\n",
    "    history = anomalyDetector.model.fit(train_x, train_x, verbose=0, epochs=EPOCHS, batch_size=batch_size, validation_data=(val_x, val_x), callbacks=callbacks)\n",
    "    clc.on_epoch_end(None, force=True)\n",
    "    loss_plot(history.history[\"loss\"], history.history[\"val_loss\"], model_name=model_name, title=f\"Training loss\", outputDir=outDirBase, figName=\"train_val_loss.svg\", showFig=False)\n",
    "    loss_plot(history.history[\"loss\"], history.history[\"val_loss\"], model_name=model_name, title=f\"Training loss\", outputDir=outDirBase, figName=\"train_val_loss.svg\", showFig=False)"
   ]
  },
  {
   "cell_type": "code",
   "execution_count": null,
   "id": "511a2fe5",
   "metadata": {},
   "outputs": [],
   "source": []
  }
 ],
 "metadata": {
  "kernelspec": {
   "display_name": "phd-tf",
   "language": "python",
   "name": "phd-tf"
  },
  "language_info": {
   "codemirror_mode": {
    "name": "ipython",
    "version": 3
   },
   "file_extension": ".py",
   "mimetype": "text/x-python",
   "name": "python",
   "nbconvert_exporter": "python",
   "pygments_lexer": "ipython3",
   "version": "3.9.13"
  }
 },
 "nbformat": 4,
 "nbformat_minor": 5
}
