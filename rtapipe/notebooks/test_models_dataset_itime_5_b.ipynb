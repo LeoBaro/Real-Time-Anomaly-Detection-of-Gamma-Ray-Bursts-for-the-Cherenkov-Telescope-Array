{
 "cells": [
  {
   "cell_type": "code",
   "execution_count": 1,
   "id": "a6d9b55e",
   "metadata": {},
   "outputs": [],
   "source": [
    "import os\n",
    "os.environ['TF_CPP_MIN_LOG_LEVEL'] = '3'\n",
    "import yaml\n",
    "import pandas as pd\n",
    "import numpy as np\n",
    "import tensorflow as tf\n",
    "from pathlib import Path\n",
    "from time import strftime\n",
    "from shutil import rmtree\n",
    "import matplotlib.pyplot as plt"
   ]
  },
  {
   "cell_type": "code",
   "execution_count": 2,
   "id": "ebcf3895",
   "metadata": {},
   "outputs": [],
   "source": [
    "from rtapipe.lib.utils.misc import dotdict\n",
    "from rtapipe.lib.dataset.data_manager import DataManager\n",
    "from rtapipe.lib.datasource.Photometry3 import OnlinePhotometry, SimulationParams\n",
    "from rtapipe.lib.plotting.plotting import plot_sequences\n",
    "from rtapipe.lib.models.anomaly_detector_builder import AnomalyDetectorBuilder\n",
    "from rtapipe.lib.evaluation.pval import get_pval_table, get_threshold_for_sigma"
   ]
  },
  {
   "cell_type": "markdown",
   "id": "8b20c643",
   "metadata": {},
   "source": [
    "# Loading the test dataset"
   ]
  },
  {
   "cell_type": "code",
   "execution_count": null,
   "id": "055342a0",
   "metadata": {},
   "outputs": [],
   "source": [
    "output_dir = \"./logs/test_models_dataset_itime_5_b_out\""
   ]
  },
  {
   "cell_type": "code",
   "execution_count": 3,
   "id": "4d0cf546",
   "metadata": {},
   "outputs": [],
   "source": [
    "data_manager = DataManager(output_dir)"
   ]
  },
  {
   "cell_type": "code",
   "execution_count": 4,
   "id": "cb90b493",
   "metadata": {},
   "outputs": [],
   "source": [
    "dataset_id=\"test_itime_5_b_tsl_5_nbins_3\""
   ]
  },
  {
   "cell_type": "code",
   "execution_count": 11,
   "id": "5ea24d28",
   "metadata": {},
   "outputs": [],
   "source": [
    "test_set_size = 10"
   ]
  },
  {
   "cell_type": "code",
   "execution_count": 5,
   "id": "0c4f5161",
   "metadata": {},
   "outputs": [
    {
     "name": "stdout",
     "output_type": "stream",
     "text": [
      "Loaded 10 files\n"
     ]
    }
   ],
   "source": [
    "dataset_folder = \"/data01/homes/baroncelli/phd/rtapipe/scripts/ml/dataset_generation/test/itime_5_b/fits_data\"\n",
    "fits_files = DataManager.load_fits_data(dataset_folder, limit=10)\n",
    "sim_params = SimulationParams(runid=\"run0406_ID000126\", onset=0, emin=0.04, emax=1, tmin=0, tobs=500, offset=0.5, irf=\"North_z40_5h_LST\", roi=2.5, caldb=\"prod5-v0.1\", simtype=\"grb\")"
   ]
  },
  {
   "cell_type": "code",
   "execution_count": 6,
   "id": "d2b3ed55",
   "metadata": {},
   "outputs": [],
   "source": [
    "test_set_size = 10"
   ]
  },
  {
   "cell_type": "code",
   "execution_count": 7,
   "id": "e6625d7f",
   "metadata": {},
   "outputs": [
    {
     "name": "stdout",
     "output_type": "stream",
     "text": [
      "[2022-11-16 12:09:02.707432] Preconfiguring regions. Normalization: True - Template: run0406_ID000126\n",
      "[2022-11-16 12:09:08.111753] Found 85 regions and 1 target regions\n"
     ]
    },
    {
     "name": "stderr",
     "output_type": "stream",
     "text": [
      "100%|███████████████████████████████████████████| 10/10 [01:13<00:00,  7.36s/it]"
     ]
    },
    {
     "name": "stdout",
     "output_type": "stream",
     "text": [
      "[2022-11-16 12:10:21.755672] Saved data to logs/test_models_dataset_itime_5_b_out\n",
      "Pivot index:  50\n",
      "[2022-11-16 12:10:21.764600] Loaded 10 timeseries from template run0406_ID000126.\n",
      "Single file shape before sub-windowing: (100, 3). Single file shape after sub-windowing: (96, 5, 3)\n",
      "[2022-11-16 12:10:21.764682] test_x shape: (960, 5, 3)\n",
      "[2022-11-16 12:10:21.764711] test_y shape: (960,)\n"
     ]
    },
    {
     "name": "stderr",
     "output_type": "stream",
     "text": [
      "\n"
     ]
    }
   ],
   "source": [
    "multiple_templates = False\n",
    "add_target_region = True\n",
    "integration_time = 5\n",
    "number_of_energy_bins = 3\n",
    "tsl = 100\n",
    "threads = 30\n",
    "normalize = True\n",
    "data_manager.transform_to_timeseries(fits_files, sim_params, add_target_region, integration_time=integration_time, number_of_energy_bins=number_of_energy_bins, tsl=tsl, normalize=normalize, threads=threads, multiple_templates=multiple_templates)\n",
    "#data_manager.load_saved_data(\"run0406_ID000126\", 5, 5)\n",
    "data_manager.load_scaler(\"/data01/homes/baroncelli/phd/rtapipe/notebooks/logs/train_models_new_data_manager_out/fitted_scaler.pickle\")\n",
    "test_x, test_y = data_manager.get_test_set(template=\"run0406_ID000126\", onset=250, integration_time=5, sub_window_size=5, stride=1)"
   ]
  },
  {
   "cell_type": "code",
   "execution_count": null,
   "id": "d340b4d3",
   "metadata": {},
   "outputs": [],
   "source": [
    "data_manager.data[\"run0406_ID000126\"].shape"
   ]
  },
  {
   "cell_type": "markdown",
   "id": "c3dfdd48",
   "metadata": {},
   "source": [
    "## Plot some timeseries"
   ]
  },
  {
   "cell_type": "code",
   "execution_count": 8,
   "id": "417a942f",
   "metadata": {},
   "outputs": [],
   "source": [
    "features_names = [\"EB_0.04-0.117\",\"EB_2-0.117-0.342\",\"EB_0.342-1\"]"
   ]
  },
  {
   "cell_type": "code",
   "execution_count": null,
   "id": "b3887bc4",
   "metadata": {},
   "outputs": [],
   "source": [
    "data_manager.plot_timeseries(\"run0406_ID000126\", data_manager.data[\"run0406_ID000126\"], 10, sim_params, \"./logs/test_models_dataset_itime_5_b_out\", labels=features_names)"
   ]
  },
  {
   "cell_type": "markdown",
   "id": "1b0ab357",
   "metadata": {},
   "source": [
    "# Loading the models"
   ]
  },
  {
   "cell_type": "code",
   "execution_count": 23,
   "id": "7c0d874d",
   "metadata": {},
   "outputs": [],
   "source": [
    "with open(\"./trained_models.yaml\", \"r\") as f:\n",
    "    try:\n",
    "        configs = yaml.safe_load(f)\n",
    "    except yaml.YAMLError as exc:\n",
    "        print(exc)\n",
    "configs = [dotdict(c) for c in configs[\"models\"]]"
   ]
  },
  {
   "cell_type": "markdown",
   "id": "5fd9ac0c",
   "metadata": {},
   "source": [
    "# Evaluation metrics"
   ]
  },
  {
   "cell_type": "code",
   "execution_count": 12,
   "id": "1e5b73f6",
   "metadata": {
    "scrolled": false
   },
   "outputs": [
    {
     "name": "stdout",
     "output_type": "stream",
     "text": [
      "\n",
      "\n",
      "************** Evaluating AnomalyDetector_cnn_l2_u32 patience=10 **************\n",
      "AnomalyDetector_cnn_l2_u32 - input shape: (5,3)\n",
      "accuracy 0.859375\n",
      "precision 1.0\n",
      "recall 0.73\n",
      "f1 0.8439306358381503\n",
      "roc_auc 0.865\n",
      "confusion_matrix [[460, 0], [135, 365]]\n",
      "false_positive_rate 0.0\n",
      "detection_delay: 5.5\n",
      "\n",
      "\n",
      "************** Evaluating AnomalyDetector_rnn_l2_u32 patience=10 **************\n",
      "AnomalyDetector_rnn_l2_u32 - input shape: (5,3)\n",
      "accuracy 0.9020833333333333\n",
      "precision 1.0\n",
      "recall 0.812\n",
      "f1 0.8962472406181016\n",
      "roc_auc 0.906\n",
      "confusion_matrix [[460, 0], [94, 406]]\n",
      "false_positive_rate 0.0\n",
      "detection_delay: 4.2\n",
      "\n",
      "\n",
      "************** Evaluating AnomalyDetector_cnn_l2_u32 patience=5 **************\n",
      "AnomalyDetector_cnn_l2_u32 - input shape: (5,3)\n",
      "accuracy 0.8354166666666667\n",
      "precision 1.0\n",
      "recall 0.684\n",
      "f1 0.8123515439429928\n",
      "roc_auc 0.8420000000000001\n",
      "confusion_matrix [[460, 0], [158, 342]]\n",
      "false_positive_rate 0.0\n",
      "detection_delay: 5.5\n",
      "\n",
      "\n",
      "************** Evaluating AnomalyDetector_rnn_l2_u32 patience=5 **************\n",
      "AnomalyDetector_rnn_l2_u32 - input shape: (5,3)\n",
      "accuracy 0.8833333333333333\n",
      "precision 1.0\n",
      "recall 0.776\n",
      "f1 0.8738738738738739\n",
      "roc_auc 0.888\n",
      "confusion_matrix [[460, 0], [112, 388]]\n",
      "false_positive_rate 0.0\n",
      "detection_delay: 4.0\n"
     ]
    }
   ],
   "source": [
    "for config in configs:\n",
    "    print(f\"\\n\\n************** Evaluating {config.name} patience={config.patience} **************\")\n",
    "    ad = AnomalyDetectorBuilder.getAnomalyDetector(name=config.name, timesteps=config.timesteps, nfeatures=config.nfeatures, load_model=\"True\", training_epoch_dir=config.path, training=False)\n",
    "    metrics = ad.evaluate(test_x, test_y)\n",
    "    for k,v in metrics.items():\n",
    "        print(k,v)\n",
    "    print(\"detection_delay:\",ad.detection_delay(test_y, ad.predict(test_x), test_set_size, config.timesteps))"
   ]
  },
  {
   "cell_type": "markdown",
   "id": "bdf655ca",
   "metadata": {},
   "source": [
    "# Predictions"
   ]
  },
  {
   "cell_type": "code",
   "execution_count": 36,
   "id": "bd77e1bc",
   "metadata": {},
   "outputs": [
    {
     "name": "stdout",
     "output_type": "stream",
     "text": [
      "\n",
      "\n",
      "************** Predictions with AnomalyDetector_cnn_l2_u32 patience=5 **************\n",
      "AnomalyDetector_cnn_l2_u32 - input shape: (5,3)\n"
     ]
    },
    {
     "name": "stderr",
     "output_type": "stream",
     "text": [
      "  6%|██▍                                       | 11/192 [00:12<03:18,  1.10s/it]\n"
     ]
    },
    {
     "ename": "KeyboardInterrupt",
     "evalue": "",
     "output_type": "error",
     "traceback": [
      "\u001b[0;31m---------------------------------------------------------------------------\u001b[0m",
      "\u001b[0;31mKeyboardInterrupt\u001b[0m                         Traceback (most recent call last)",
      "Cell \u001b[0;32mIn [36], line 4\u001b[0m\n\u001b[1;32m      2\u001b[0m \u001b[38;5;28mprint\u001b[39m(\u001b[38;5;124mf\u001b[39m\u001b[38;5;124m\"\u001b[39m\u001b[38;5;130;01m\\n\u001b[39;00m\u001b[38;5;130;01m\\n\u001b[39;00m\u001b[38;5;124m************** Predictions with \u001b[39m\u001b[38;5;132;01m{\u001b[39;00mconfig\u001b[38;5;241m.\u001b[39mname\u001b[38;5;132;01m}\u001b[39;00m\u001b[38;5;124m patience=\u001b[39m\u001b[38;5;132;01m{\u001b[39;00mconfig\u001b[38;5;241m.\u001b[39mpatience\u001b[38;5;132;01m}\u001b[39;00m\u001b[38;5;124m **************\u001b[39m\u001b[38;5;124m\"\u001b[39m)\n\u001b[1;32m      3\u001b[0m ad \u001b[38;5;241m=\u001b[39m AnomalyDetectorBuilder\u001b[38;5;241m.\u001b[39mgetAnomalyDetector(name\u001b[38;5;241m=\u001b[39mconfig\u001b[38;5;241m.\u001b[39mname, timesteps\u001b[38;5;241m=\u001b[39mconfig\u001b[38;5;241m.\u001b[39mtimesteps, nfeatures\u001b[38;5;241m=\u001b[39mconfig\u001b[38;5;241m.\u001b[39mnfeatures, load_model\u001b[38;5;241m=\u001b[39m\u001b[38;5;124m\"\u001b[39m\u001b[38;5;124mTrue\u001b[39m\u001b[38;5;124m\"\u001b[39m, training_epoch_dir\u001b[38;5;241m=\u001b[39mconfig\u001b[38;5;241m.\u001b[39mpath, training\u001b[38;5;241m=\u001b[39m\u001b[38;5;28;01mFalse\u001b[39;00m)\n\u001b[0;32m----> 4\u001b[0m \u001b[43mad\u001b[49m\u001b[38;5;241;43m.\u001b[39;49m\u001b[43mplot_predictions\u001b[49m\u001b[43m(\u001b[49m\u001b[43mtest_x\u001b[49m\u001b[43m,\u001b[49m\u001b[43m \u001b[49m\u001b[43mtest_y\u001b[49m\u001b[43m,\u001b[49m\u001b[43m \u001b[49m\u001b[43mmax_plots\u001b[49m\u001b[38;5;241;43m=\u001b[39;49m\u001b[38;5;241;43m999\u001b[39;49m\u001b[43m,\u001b[49m\u001b[43m \u001b[49m\u001b[43mfeatures_names\u001b[49m\u001b[38;5;241;43m=\u001b[39;49m\u001b[43mfeatures_names\u001b[49m\u001b[43m,\u001b[49m\u001b[43m \u001b[49m\u001b[43mepoch\u001b[49m\u001b[38;5;241;43m=\u001b[39;49m\u001b[43mconfig\u001b[49m\u001b[38;5;241;43m.\u001b[39;49m\u001b[43mepoch\u001b[49m\u001b[43m,\u001b[49m\u001b[43m \u001b[49m\u001b[43mfigName\u001b[49m\u001b[38;5;241;43m=\u001b[39;49m\u001b[38;5;124;43mf\u001b[39;49m\u001b[38;5;124;43m\"\u001b[39;49m\u001b[38;5;132;43;01m{\u001b[39;49;00m\u001b[43mconfig\u001b[49m\u001b[38;5;241;43m.\u001b[39;49m\u001b[43mname\u001b[49m\u001b[38;5;132;43;01m}\u001b[39;49;00m\u001b[38;5;124;43m_predictions.png\u001b[39;49m\u001b[38;5;124;43m\"\u001b[39;49m\u001b[43m)\u001b[49m\n",
      "File \u001b[0;32m~/phd/rtapipe/lib/models/anomaly_detector_base.py:28\u001b[0m, in \u001b[0;36mAnomalyDetectorBase.plot_predictions\u001b[0;34m(self, X, y, features_names, max_plots, epoch, showFig, saveFig, outputDir, figName)\u001b[0m\n\u001b[1;32m     26\u001b[0m \u001b[38;5;28;01mif\u001b[39;00m \u001b[38;5;28mself\u001b[39m\u001b[38;5;241m.\u001b[39mloss_f\u001b[38;5;241m.\u001b[39mmse_per_sample \u001b[38;5;129;01mis\u001b[39;00m \u001b[38;5;28;01mNone\u001b[39;00m:\n\u001b[1;32m     27\u001b[0m     \u001b[38;5;28mself\u001b[39m\u001b[38;5;241m.\u001b[39mpredict(X)\n\u001b[0;32m---> 28\u001b[0m \u001b[43mplot_predictions\u001b[49m\u001b[43m(\u001b[49m\u001b[43mX\u001b[49m\u001b[43m,\u001b[49m\u001b[43m \u001b[49m\u001b[43my\u001b[49m\u001b[43m,\u001b[49m\u001b[43m \u001b[49m\u001b[38;5;28;43mself\u001b[39;49m\u001b[38;5;241;43m.\u001b[39;49m\u001b[43mthreshold\u001b[49m\u001b[43m,\u001b[49m\u001b[43m \u001b[49m\u001b[38;5;28;43mself\u001b[39;49m\u001b[38;5;241;43m.\u001b[39;49m\u001b[43mreconstruct\u001b[49m\u001b[43m(\u001b[49m\u001b[43mX\u001b[49m\u001b[43m)\u001b[49m\u001b[43m,\u001b[49m\u001b[43m \u001b[49m\u001b[38;5;28;43mself\u001b[39;49m\u001b[38;5;241;43m.\u001b[39;49m\u001b[43mloss_f\u001b[49m\u001b[38;5;241;43m.\u001b[39;49m\u001b[43mmse_per_sample\u001b[49m\u001b[38;5;241;43m.\u001b[39;49m\u001b[43mnumpy\u001b[49m\u001b[43m(\u001b[49m\u001b[43m)\u001b[49m\u001b[43m,\u001b[49m\u001b[43m \u001b[49m\u001b[38;5;28;43mself\u001b[39;49m\u001b[38;5;241;43m.\u001b[39;49m\u001b[43mloss_f\u001b[49m\u001b[38;5;241;43m.\u001b[39;49m\u001b[43mmse_per_sample_features\u001b[49m\u001b[38;5;241;43m.\u001b[39;49m\u001b[43mnumpy\u001b[49m\u001b[43m(\u001b[49m\u001b[43m)\u001b[49m\u001b[43m,\u001b[49m\u001b[43m \u001b[49m\u001b[43mfeatures_names\u001b[49m\u001b[38;5;241;43m=\u001b[39;49m\u001b[43mfeatures_names\u001b[49m\u001b[43m,\u001b[49m\u001b[43m \u001b[49m\u001b[43mmax_plots\u001b[49m\u001b[38;5;241;43m=\u001b[39;49m\u001b[43mmax_plots\u001b[49m\u001b[43m,\u001b[49m\u001b[43m \u001b[49m\u001b[43mepoch\u001b[49m\u001b[38;5;241;43m=\u001b[39;49m\u001b[43mepoch\u001b[49m\u001b[43m,\u001b[49m\u001b[43m \u001b[49m\u001b[43mshowFig\u001b[49m\u001b[38;5;241;43m=\u001b[39;49m\u001b[43mshowFig\u001b[49m\u001b[43m,\u001b[49m\u001b[43m \u001b[49m\u001b[43msaveFig\u001b[49m\u001b[38;5;241;43m=\u001b[39;49m\u001b[43msaveFig\u001b[49m\u001b[43m,\u001b[49m\u001b[43m \u001b[49m\u001b[43moutputDir\u001b[49m\u001b[38;5;241;43m=\u001b[39;49m\u001b[43moutputDir\u001b[49m\u001b[43m,\u001b[49m\u001b[43m \u001b[49m\u001b[43mfigName\u001b[49m\u001b[38;5;241;43m=\u001b[39;49m\u001b[43mfigName\u001b[49m\u001b[43m)\u001b[49m\n",
      "File \u001b[0;32m~/phd/rtapipe/lib/plotting/plotting.py:210\u001b[0m, in \u001b[0;36mplot_predictions\u001b[0;34m(samples, samplesLabels, c_threshold, recostructions, mse_per_sample, mse_per_sample_features, features_names, epoch, max_plots, showFig, saveFig, outputDir, figName)\u001b[0m\n\u001b[1;32m    207\u001b[0m handles, labels \u001b[38;5;241m=\u001b[39m ax[f, i]\u001b[38;5;241m.\u001b[39mget_legend_handles_labels()\n\u001b[1;32m    208\u001b[0m fig\u001b[38;5;241m.\u001b[39mlegend(handles, labels, loc\u001b[38;5;241m=\u001b[39m\u001b[38;5;124m'\u001b[39m\u001b[38;5;124mupper left\u001b[39m\u001b[38;5;124m'\u001b[39m)\n\u001b[0;32m--> 210\u001b[0m \u001b[43mplt\u001b[49m\u001b[38;5;241;43m.\u001b[39;49m\u001b[43mtight_layout\u001b[49m\u001b[43m(\u001b[49m\u001b[43m)\u001b[49m\n\u001b[1;32m    212\u001b[0m \u001b[38;5;28;01mif\u001b[39;00m showFig:\n\u001b[1;32m    213\u001b[0m     plt\u001b[38;5;241m.\u001b[39mshow()\n",
      "File \u001b[0;32m~/.conda/envs/phd-tf/lib/python3.9/site-packages/matplotlib/pyplot.py:2314\u001b[0m, in \u001b[0;36mtight_layout\u001b[0;34m(pad, h_pad, w_pad, rect)\u001b[0m\n\u001b[1;32m   2312\u001b[0m \u001b[38;5;129m@_copy_docstring_and_deprecators\u001b[39m(Figure\u001b[38;5;241m.\u001b[39mtight_layout)\n\u001b[1;32m   2313\u001b[0m \u001b[38;5;28;01mdef\u001b[39;00m \u001b[38;5;21mtight_layout\u001b[39m(\u001b[38;5;241m*\u001b[39m, pad\u001b[38;5;241m=\u001b[39m\u001b[38;5;241m1.08\u001b[39m, h_pad\u001b[38;5;241m=\u001b[39m\u001b[38;5;28;01mNone\u001b[39;00m, w_pad\u001b[38;5;241m=\u001b[39m\u001b[38;5;28;01mNone\u001b[39;00m, rect\u001b[38;5;241m=\u001b[39m\u001b[38;5;28;01mNone\u001b[39;00m):\n\u001b[0;32m-> 2314\u001b[0m     \u001b[38;5;28;01mreturn\u001b[39;00m \u001b[43mgcf\u001b[49m\u001b[43m(\u001b[49m\u001b[43m)\u001b[49m\u001b[38;5;241;43m.\u001b[39;49m\u001b[43mtight_layout\u001b[49m\u001b[43m(\u001b[49m\u001b[43mpad\u001b[49m\u001b[38;5;241;43m=\u001b[39;49m\u001b[43mpad\u001b[49m\u001b[43m,\u001b[49m\u001b[43m \u001b[49m\u001b[43mh_pad\u001b[49m\u001b[38;5;241;43m=\u001b[39;49m\u001b[43mh_pad\u001b[49m\u001b[43m,\u001b[49m\u001b[43m \u001b[49m\u001b[43mw_pad\u001b[49m\u001b[38;5;241;43m=\u001b[39;49m\u001b[43mw_pad\u001b[49m\u001b[43m,\u001b[49m\u001b[43m \u001b[49m\u001b[43mrect\u001b[49m\u001b[38;5;241;43m=\u001b[39;49m\u001b[43mrect\u001b[49m\u001b[43m)\u001b[49m\n",
      "File \u001b[0;32m~/.conda/envs/phd-tf/lib/python3.9/site-packages/matplotlib/figure.py:3224\u001b[0m, in \u001b[0;36mFigure.tight_layout\u001b[0;34m(self, pad, h_pad, w_pad, rect)\u001b[0m\n\u001b[1;32m   3222\u001b[0m renderer \u001b[38;5;241m=\u001b[39m get_renderer(\u001b[38;5;28mself\u001b[39m)\n\u001b[1;32m   3223\u001b[0m \u001b[38;5;28;01mwith\u001b[39;00m \u001b[38;5;28mgetattr\u001b[39m(renderer, \u001b[38;5;124m\"\u001b[39m\u001b[38;5;124m_draw_disabled\u001b[39m\u001b[38;5;124m\"\u001b[39m, nullcontext)():\n\u001b[0;32m-> 3224\u001b[0m     kwargs \u001b[38;5;241m=\u001b[39m \u001b[43mget_tight_layout_figure\u001b[49m\u001b[43m(\u001b[49m\n\u001b[1;32m   3225\u001b[0m \u001b[43m        \u001b[49m\u001b[38;5;28;43mself\u001b[39;49m\u001b[43m,\u001b[49m\u001b[43m \u001b[49m\u001b[38;5;28;43mself\u001b[39;49m\u001b[38;5;241;43m.\u001b[39;49m\u001b[43maxes\u001b[49m\u001b[43m,\u001b[49m\u001b[43m \u001b[49m\u001b[43msubplotspec_list\u001b[49m\u001b[43m,\u001b[49m\u001b[43m \u001b[49m\u001b[43mrenderer\u001b[49m\u001b[43m,\u001b[49m\n\u001b[1;32m   3226\u001b[0m \u001b[43m        \u001b[49m\u001b[43mpad\u001b[49m\u001b[38;5;241;43m=\u001b[39;49m\u001b[43mpad\u001b[49m\u001b[43m,\u001b[49m\u001b[43m \u001b[49m\u001b[43mh_pad\u001b[49m\u001b[38;5;241;43m=\u001b[39;49m\u001b[43mh_pad\u001b[49m\u001b[43m,\u001b[49m\u001b[43m \u001b[49m\u001b[43mw_pad\u001b[49m\u001b[38;5;241;43m=\u001b[39;49m\u001b[43mw_pad\u001b[49m\u001b[43m,\u001b[49m\u001b[43m \u001b[49m\u001b[43mrect\u001b[49m\u001b[38;5;241;43m=\u001b[39;49m\u001b[43mrect\u001b[49m\u001b[43m)\u001b[49m\n\u001b[1;32m   3227\u001b[0m \u001b[38;5;28;01mif\u001b[39;00m kwargs:\n\u001b[1;32m   3228\u001b[0m     \u001b[38;5;28mself\u001b[39m\u001b[38;5;241m.\u001b[39msubplots_adjust(\u001b[38;5;241m*\u001b[39m\u001b[38;5;241m*\u001b[39mkwargs)\n",
      "File \u001b[0;32m~/.conda/envs/phd-tf/lib/python3.9/site-packages/matplotlib/tight_layout.py:320\u001b[0m, in \u001b[0;36mget_tight_layout_figure\u001b[0;34m(fig, axes_list, subplotspec_list, renderer, pad, h_pad, w_pad, rect)\u001b[0m\n\u001b[1;32m    315\u001b[0m         \u001b[38;5;28;01mreturn\u001b[39;00m {}\n\u001b[1;32m    316\u001b[0m     span_pairs\u001b[38;5;241m.\u001b[39mappend((\n\u001b[1;32m    317\u001b[0m         \u001b[38;5;28mslice\u001b[39m(ss\u001b[38;5;241m.\u001b[39mrowspan\u001b[38;5;241m.\u001b[39mstart \u001b[38;5;241m*\u001b[39m div_row, ss\u001b[38;5;241m.\u001b[39mrowspan\u001b[38;5;241m.\u001b[39mstop \u001b[38;5;241m*\u001b[39m div_row),\n\u001b[1;32m    318\u001b[0m         \u001b[38;5;28mslice\u001b[39m(ss\u001b[38;5;241m.\u001b[39mcolspan\u001b[38;5;241m.\u001b[39mstart \u001b[38;5;241m*\u001b[39m div_col, ss\u001b[38;5;241m.\u001b[39mcolspan\u001b[38;5;241m.\u001b[39mstop \u001b[38;5;241m*\u001b[39m div_col)))\n\u001b[0;32m--> 320\u001b[0m kwargs \u001b[38;5;241m=\u001b[39m \u001b[43m_auto_adjust_subplotpars\u001b[49m\u001b[43m(\u001b[49m\u001b[43mfig\u001b[49m\u001b[43m,\u001b[49m\u001b[43m \u001b[49m\u001b[43mrenderer\u001b[49m\u001b[43m,\u001b[49m\n\u001b[1;32m    321\u001b[0m \u001b[43m                                  \u001b[49m\u001b[43mshape\u001b[49m\u001b[38;5;241;43m=\u001b[39;49m\u001b[43m(\u001b[49m\u001b[43mmax_nrows\u001b[49m\u001b[43m,\u001b[49m\u001b[43m \u001b[49m\u001b[43mmax_ncols\u001b[49m\u001b[43m)\u001b[49m\u001b[43m,\u001b[49m\n\u001b[1;32m    322\u001b[0m \u001b[43m                                  \u001b[49m\u001b[43mspan_pairs\u001b[49m\u001b[38;5;241;43m=\u001b[39;49m\u001b[43mspan_pairs\u001b[49m\u001b[43m,\u001b[49m\n\u001b[1;32m    323\u001b[0m \u001b[43m                                  \u001b[49m\u001b[43msubplot_list\u001b[49m\u001b[38;5;241;43m=\u001b[39;49m\u001b[43msubplot_list\u001b[49m\u001b[43m,\u001b[49m\n\u001b[1;32m    324\u001b[0m \u001b[43m                                  \u001b[49m\u001b[43max_bbox_list\u001b[49m\u001b[38;5;241;43m=\u001b[39;49m\u001b[43max_bbox_list\u001b[49m\u001b[43m,\u001b[49m\n\u001b[1;32m    325\u001b[0m \u001b[43m                                  \u001b[49m\u001b[43mpad\u001b[49m\u001b[38;5;241;43m=\u001b[39;49m\u001b[43mpad\u001b[49m\u001b[43m,\u001b[49m\u001b[43m \u001b[49m\u001b[43mh_pad\u001b[49m\u001b[38;5;241;43m=\u001b[39;49m\u001b[43mh_pad\u001b[49m\u001b[43m,\u001b[49m\u001b[43m \u001b[49m\u001b[43mw_pad\u001b[49m\u001b[38;5;241;43m=\u001b[39;49m\u001b[43mw_pad\u001b[49m\u001b[43m)\u001b[49m\n\u001b[1;32m    327\u001b[0m \u001b[38;5;66;03m# kwargs can be none if tight_layout fails...\u001b[39;00m\n\u001b[1;32m    328\u001b[0m \u001b[38;5;28;01mif\u001b[39;00m rect \u001b[38;5;129;01mis\u001b[39;00m \u001b[38;5;129;01mnot\u001b[39;00m \u001b[38;5;28;01mNone\u001b[39;00m \u001b[38;5;129;01mand\u001b[39;00m kwargs \u001b[38;5;129;01mis\u001b[39;00m \u001b[38;5;129;01mnot\u001b[39;00m \u001b[38;5;28;01mNone\u001b[39;00m:\n\u001b[1;32m    329\u001b[0m     \u001b[38;5;66;03m# if rect is given, the whole subplots area (including\u001b[39;00m\n\u001b[1;32m    330\u001b[0m     \u001b[38;5;66;03m# labels) will fit into the rect instead of the\u001b[39;00m\n\u001b[0;32m   (...)\u001b[0m\n\u001b[1;32m    334\u001b[0m     \u001b[38;5;66;03m# auto_adjust_subplotpars twice, where the second run\u001b[39;00m\n\u001b[1;32m    335\u001b[0m     \u001b[38;5;66;03m# with adjusted rect parameters.\u001b[39;00m\n",
      "File \u001b[0;32m~/.conda/envs/phd-tf/lib/python3.9/site-packages/matplotlib/tight_layout.py:82\u001b[0m, in \u001b[0;36m_auto_adjust_subplotpars\u001b[0;34m(fig, renderer, shape, span_pairs, subplot_list, ax_bbox_list, pad, h_pad, w_pad, rect)\u001b[0m\n\u001b[1;32m     80\u001b[0m \u001b[38;5;28;01mif\u001b[39;00m ax\u001b[38;5;241m.\u001b[39mget_visible():\n\u001b[1;32m     81\u001b[0m     \u001b[38;5;28;01mtry\u001b[39;00m:\n\u001b[0;32m---> 82\u001b[0m         bb \u001b[38;5;241m+\u001b[39m\u001b[38;5;241m=\u001b[39m [\u001b[43max\u001b[49m\u001b[38;5;241;43m.\u001b[39;49m\u001b[43mget_tightbbox\u001b[49m\u001b[43m(\u001b[49m\u001b[43mrenderer\u001b[49m\u001b[43m,\u001b[49m\u001b[43m \u001b[49m\u001b[43mfor_layout_only\u001b[49m\u001b[38;5;241;43m=\u001b[39;49m\u001b[38;5;28;43;01mTrue\u001b[39;49;00m\u001b[43m)\u001b[49m]\n\u001b[1;32m     83\u001b[0m     \u001b[38;5;28;01mexcept\u001b[39;00m \u001b[38;5;167;01mTypeError\u001b[39;00m:\n\u001b[1;32m     84\u001b[0m         bb \u001b[38;5;241m+\u001b[39m\u001b[38;5;241m=\u001b[39m [ax\u001b[38;5;241m.\u001b[39mget_tightbbox(renderer)]\n",
      "File \u001b[0;32m~/.conda/envs/phd-tf/lib/python3.9/site-packages/matplotlib/axes/_base.py:4637\u001b[0m, in \u001b[0;36m_AxesBase.get_tightbbox\u001b[0;34m(self, renderer, call_axes_locator, bbox_extra_artists, for_layout_only)\u001b[0m\n\u001b[1;32m   4635\u001b[0m \u001b[38;5;28;01mif\u001b[39;00m \u001b[38;5;28mself\u001b[39m\u001b[38;5;241m.\u001b[39myaxis\u001b[38;5;241m.\u001b[39mget_visible():\n\u001b[1;32m   4636\u001b[0m     \u001b[38;5;28;01mtry\u001b[39;00m:\n\u001b[0;32m-> 4637\u001b[0m         bb_yaxis \u001b[38;5;241m=\u001b[39m \u001b[38;5;28;43mself\u001b[39;49m\u001b[38;5;241;43m.\u001b[39;49m\u001b[43myaxis\u001b[49m\u001b[38;5;241;43m.\u001b[39;49m\u001b[43mget_tightbbox\u001b[49m\u001b[43m(\u001b[49m\n\u001b[1;32m   4638\u001b[0m \u001b[43m            \u001b[49m\u001b[43mrenderer\u001b[49m\u001b[43m,\u001b[49m\u001b[43m \u001b[49m\u001b[43mfor_layout_only\u001b[49m\u001b[38;5;241;43m=\u001b[39;49m\u001b[43mfor_layout_only\u001b[49m\u001b[43m)\u001b[49m\n\u001b[1;32m   4639\u001b[0m     \u001b[38;5;28;01mexcept\u001b[39;00m \u001b[38;5;167;01mTypeError\u001b[39;00m:\n\u001b[1;32m   4640\u001b[0m         \u001b[38;5;66;03m# in case downstream library has redefined axis:\u001b[39;00m\n\u001b[1;32m   4641\u001b[0m         bb_yaxis \u001b[38;5;241m=\u001b[39m \u001b[38;5;28mself\u001b[39m\u001b[38;5;241m.\u001b[39myaxis\u001b[38;5;241m.\u001b[39mget_tightbbox(renderer)\n",
      "File \u001b[0;32m~/.conda/envs/phd-tf/lib/python3.9/site-packages/matplotlib/axis.py:1103\u001b[0m, in \u001b[0;36mAxis.get_tightbbox\u001b[0;34m(self, renderer, for_layout_only)\u001b[0m\n\u001b[1;32m   1100\u001b[0m \u001b[38;5;28;01mif\u001b[39;00m \u001b[38;5;129;01mnot\u001b[39;00m \u001b[38;5;28mself\u001b[39m\u001b[38;5;241m.\u001b[39mget_visible():\n\u001b[1;32m   1101\u001b[0m     \u001b[38;5;28;01mreturn\u001b[39;00m\n\u001b[0;32m-> 1103\u001b[0m ticks_to_draw \u001b[38;5;241m=\u001b[39m \u001b[38;5;28;43mself\u001b[39;49m\u001b[38;5;241;43m.\u001b[39;49m\u001b[43m_update_ticks\u001b[49m\u001b[43m(\u001b[49m\u001b[43m)\u001b[49m\n\u001b[1;32m   1105\u001b[0m \u001b[38;5;28mself\u001b[39m\u001b[38;5;241m.\u001b[39m_update_label_position(renderer)\n\u001b[1;32m   1107\u001b[0m \u001b[38;5;66;03m# go back to just this axis's tick labels\u001b[39;00m\n",
      "File \u001b[0;32m~/.conda/envs/phd-tf/lib/python3.9/site-packages/matplotlib/axis.py:1047\u001b[0m, in \u001b[0;36mAxis._update_ticks\u001b[0;34m(self)\u001b[0m\n\u001b[1;32m   1045\u001b[0m major_locs \u001b[38;5;241m=\u001b[39m \u001b[38;5;28mself\u001b[39m\u001b[38;5;241m.\u001b[39mget_majorticklocs()\n\u001b[1;32m   1046\u001b[0m major_labels \u001b[38;5;241m=\u001b[39m \u001b[38;5;28mself\u001b[39m\u001b[38;5;241m.\u001b[39mmajor\u001b[38;5;241m.\u001b[39mformatter\u001b[38;5;241m.\u001b[39mformat_ticks(major_locs)\n\u001b[0;32m-> 1047\u001b[0m major_ticks \u001b[38;5;241m=\u001b[39m \u001b[38;5;28;43mself\u001b[39;49m\u001b[38;5;241;43m.\u001b[39;49m\u001b[43mget_major_ticks\u001b[49m\u001b[43m(\u001b[49m\u001b[38;5;28;43mlen\u001b[39;49m\u001b[43m(\u001b[49m\u001b[43mmajor_locs\u001b[49m\u001b[43m)\u001b[49m\u001b[43m)\u001b[49m\n\u001b[1;32m   1048\u001b[0m \u001b[38;5;28mself\u001b[39m\u001b[38;5;241m.\u001b[39mmajor\u001b[38;5;241m.\u001b[39mformatter\u001b[38;5;241m.\u001b[39mset_locs(major_locs)\n\u001b[1;32m   1049\u001b[0m \u001b[38;5;28;01mfor\u001b[39;00m tick, loc, label \u001b[38;5;129;01min\u001b[39;00m \u001b[38;5;28mzip\u001b[39m(major_ticks, major_locs, major_labels):\n",
      "File \u001b[0;32m~/.conda/envs/phd-tf/lib/python3.9/site-packages/matplotlib/axis.py:1375\u001b[0m, in \u001b[0;36mAxis.get_major_ticks\u001b[0;34m(self, numticks)\u001b[0m\n\u001b[1;32m   1371\u001b[0m     numticks \u001b[38;5;241m=\u001b[39m \u001b[38;5;28mlen\u001b[39m(\u001b[38;5;28mself\u001b[39m\u001b[38;5;241m.\u001b[39mget_majorticklocs())\n\u001b[1;32m   1373\u001b[0m \u001b[38;5;28;01mwhile\u001b[39;00m \u001b[38;5;28mlen\u001b[39m(\u001b[38;5;28mself\u001b[39m\u001b[38;5;241m.\u001b[39mmajorTicks) \u001b[38;5;241m<\u001b[39m numticks:\n\u001b[1;32m   1374\u001b[0m     \u001b[38;5;66;03m# Update the new tick label properties from the old.\u001b[39;00m\n\u001b[0;32m-> 1375\u001b[0m     tick \u001b[38;5;241m=\u001b[39m \u001b[38;5;28;43mself\u001b[39;49m\u001b[38;5;241;43m.\u001b[39;49m\u001b[43m_get_tick\u001b[49m\u001b[43m(\u001b[49m\u001b[43mmajor\u001b[49m\u001b[38;5;241;43m=\u001b[39;49m\u001b[38;5;28;43;01mTrue\u001b[39;49;00m\u001b[43m)\u001b[49m\n\u001b[1;32m   1376\u001b[0m     \u001b[38;5;28mself\u001b[39m\u001b[38;5;241m.\u001b[39mmajorTicks\u001b[38;5;241m.\u001b[39mappend(tick)\n\u001b[1;32m   1377\u001b[0m     \u001b[38;5;28mself\u001b[39m\u001b[38;5;241m.\u001b[39m_copy_tick_props(\u001b[38;5;28mself\u001b[39m\u001b[38;5;241m.\u001b[39mmajorTicks[\u001b[38;5;241m0\u001b[39m], tick)\n",
      "File \u001b[0;32m~/.conda/envs/phd-tf/lib/python3.9/site-packages/matplotlib/axis.py:2322\u001b[0m, in \u001b[0;36mYAxis._get_tick\u001b[0;34m(self, major)\u001b[0m\n\u001b[1;32m   2320\u001b[0m \u001b[38;5;28;01melse\u001b[39;00m:\n\u001b[1;32m   2321\u001b[0m     tick_kw \u001b[38;5;241m=\u001b[39m \u001b[38;5;28mself\u001b[39m\u001b[38;5;241m.\u001b[39m_minor_tick_kw\n\u001b[0;32m-> 2322\u001b[0m \u001b[38;5;28;01mreturn\u001b[39;00m \u001b[43mYTick\u001b[49m\u001b[43m(\u001b[49m\u001b[38;5;28;43mself\u001b[39;49m\u001b[38;5;241;43m.\u001b[39;49m\u001b[43maxes\u001b[49m\u001b[43m,\u001b[49m\u001b[43m \u001b[49m\u001b[38;5;241;43m0\u001b[39;49m\u001b[43m,\u001b[49m\u001b[43m \u001b[49m\u001b[43mmajor\u001b[49m\u001b[38;5;241;43m=\u001b[39;49m\u001b[43mmajor\u001b[49m\u001b[43m,\u001b[49m\u001b[43m \u001b[49m\u001b[38;5;241;43m*\u001b[39;49m\u001b[38;5;241;43m*\u001b[39;49m\u001b[43mtick_kw\u001b[49m\u001b[43m)\u001b[49m\n",
      "File \u001b[0;32m~/.conda/envs/phd-tf/lib/python3.9/site-packages/matplotlib/axis.py:476\u001b[0m, in \u001b[0;36mYTick.__init__\u001b[0;34m(self, *args, **kwargs)\u001b[0m\n\u001b[1;32m    475\u001b[0m \u001b[38;5;28;01mdef\u001b[39;00m \u001b[38;5;21m__init__\u001b[39m(\u001b[38;5;28mself\u001b[39m, \u001b[38;5;241m*\u001b[39margs, \u001b[38;5;241m*\u001b[39m\u001b[38;5;241m*\u001b[39mkwargs):\n\u001b[0;32m--> 476\u001b[0m     \u001b[38;5;28;43msuper\u001b[39;49m\u001b[43m(\u001b[49m\u001b[43m)\u001b[49m\u001b[38;5;241;43m.\u001b[39;49m\u001b[38;5;21;43m__init__\u001b[39;49m\u001b[43m(\u001b[49m\u001b[38;5;241;43m*\u001b[39;49m\u001b[43margs\u001b[49m\u001b[43m,\u001b[49m\u001b[43m \u001b[49m\u001b[38;5;241;43m*\u001b[39;49m\u001b[38;5;241;43m*\u001b[39;49m\u001b[43mkwargs\u001b[49m\u001b[43m)\u001b[49m\n\u001b[1;32m    477\u001b[0m     \u001b[38;5;66;03m# x in axes coords, y in data coords\u001b[39;00m\n\u001b[1;32m    478\u001b[0m     ax \u001b[38;5;241m=\u001b[39m \u001b[38;5;28mself\u001b[39m\u001b[38;5;241m.\u001b[39maxes\n",
      "File \u001b[0;32m~/.conda/envs/phd-tf/lib/python3.9/site-packages/matplotlib/axis.py:155\u001b[0m, in \u001b[0;36mTick.__init__\u001b[0;34m(self, axes, loc, size, width, color, tickdir, pad, labelsize, labelcolor, zorder, gridOn, tick1On, tick2On, label1On, label2On, major, labelrotation, grid_color, grid_linestyle, grid_linewidth, grid_alpha, **kw)\u001b[0m\n\u001b[1;32m    148\u001b[0m grid_kw \u001b[38;5;241m=\u001b[39m {k[\u001b[38;5;241m5\u001b[39m:]: v \u001b[38;5;28;01mfor\u001b[39;00m k, v \u001b[38;5;129;01min\u001b[39;00m kw\u001b[38;5;241m.\u001b[39mitems()}\n\u001b[1;32m    150\u001b[0m \u001b[38;5;28mself\u001b[39m\u001b[38;5;241m.\u001b[39mtick1line \u001b[38;5;241m=\u001b[39m mlines\u001b[38;5;241m.\u001b[39mLine2D(\n\u001b[1;32m    151\u001b[0m     [], [],\n\u001b[1;32m    152\u001b[0m     color\u001b[38;5;241m=\u001b[39mcolor, linestyle\u001b[38;5;241m=\u001b[39m\u001b[38;5;124m\"\u001b[39m\u001b[38;5;124mnone\u001b[39m\u001b[38;5;124m\"\u001b[39m, zorder\u001b[38;5;241m=\u001b[39mzorder, visible\u001b[38;5;241m=\u001b[39mtick1On,\n\u001b[1;32m    153\u001b[0m     markeredgecolor\u001b[38;5;241m=\u001b[39mcolor, markersize\u001b[38;5;241m=\u001b[39msize, markeredgewidth\u001b[38;5;241m=\u001b[39mwidth,\n\u001b[1;32m    154\u001b[0m )\n\u001b[0;32m--> 155\u001b[0m \u001b[38;5;28mself\u001b[39m\u001b[38;5;241m.\u001b[39mtick2line \u001b[38;5;241m=\u001b[39m \u001b[43mmlines\u001b[49m\u001b[38;5;241;43m.\u001b[39;49m\u001b[43mLine2D\u001b[49m\u001b[43m(\u001b[49m\n\u001b[1;32m    156\u001b[0m \u001b[43m    \u001b[49m\u001b[43m[\u001b[49m\u001b[43m]\u001b[49m\u001b[43m,\u001b[49m\u001b[43m \u001b[49m\u001b[43m[\u001b[49m\u001b[43m]\u001b[49m\u001b[43m,\u001b[49m\n\u001b[1;32m    157\u001b[0m \u001b[43m    \u001b[49m\u001b[43mcolor\u001b[49m\u001b[38;5;241;43m=\u001b[39;49m\u001b[43mcolor\u001b[49m\u001b[43m,\u001b[49m\u001b[43m \u001b[49m\u001b[43mlinestyle\u001b[49m\u001b[38;5;241;43m=\u001b[39;49m\u001b[38;5;124;43m\"\u001b[39;49m\u001b[38;5;124;43mnone\u001b[39;49m\u001b[38;5;124;43m\"\u001b[39;49m\u001b[43m,\u001b[49m\u001b[43m \u001b[49m\u001b[43mzorder\u001b[49m\u001b[38;5;241;43m=\u001b[39;49m\u001b[43mzorder\u001b[49m\u001b[43m,\u001b[49m\u001b[43m \u001b[49m\u001b[43mvisible\u001b[49m\u001b[38;5;241;43m=\u001b[39;49m\u001b[43mtick2On\u001b[49m\u001b[43m,\u001b[49m\n\u001b[1;32m    158\u001b[0m \u001b[43m    \u001b[49m\u001b[43mmarkeredgecolor\u001b[49m\u001b[38;5;241;43m=\u001b[39;49m\u001b[43mcolor\u001b[49m\u001b[43m,\u001b[49m\u001b[43m \u001b[49m\u001b[43mmarkersize\u001b[49m\u001b[38;5;241;43m=\u001b[39;49m\u001b[43msize\u001b[49m\u001b[43m,\u001b[49m\u001b[43m \u001b[49m\u001b[43mmarkeredgewidth\u001b[49m\u001b[38;5;241;43m=\u001b[39;49m\u001b[43mwidth\u001b[49m\u001b[43m,\u001b[49m\n\u001b[1;32m    159\u001b[0m \u001b[43m\u001b[49m\u001b[43m)\u001b[49m\n\u001b[1;32m    160\u001b[0m \u001b[38;5;28mself\u001b[39m\u001b[38;5;241m.\u001b[39mgridline \u001b[38;5;241m=\u001b[39m mlines\u001b[38;5;241m.\u001b[39mLine2D(\n\u001b[1;32m    161\u001b[0m     [], [],\n\u001b[1;32m    162\u001b[0m     color\u001b[38;5;241m=\u001b[39mgrid_color, alpha\u001b[38;5;241m=\u001b[39mgrid_alpha, visible\u001b[38;5;241m=\u001b[39mgridOn,\n\u001b[1;32m    163\u001b[0m     linestyle\u001b[38;5;241m=\u001b[39mgrid_linestyle, linewidth\u001b[38;5;241m=\u001b[39mgrid_linewidth, marker\u001b[38;5;241m=\u001b[39m\u001b[38;5;124m\"\u001b[39m\u001b[38;5;124m\"\u001b[39m,\n\u001b[1;32m    164\u001b[0m     \u001b[38;5;241m*\u001b[39m\u001b[38;5;241m*\u001b[39mgrid_kw,\n\u001b[1;32m    165\u001b[0m )\n\u001b[1;32m    166\u001b[0m \u001b[38;5;28mself\u001b[39m\u001b[38;5;241m.\u001b[39mgridline\u001b[38;5;241m.\u001b[39mget_path()\u001b[38;5;241m.\u001b[39m_interpolation_steps \u001b[38;5;241m=\u001b[39m \\\n\u001b[1;32m    167\u001b[0m     GRIDLINE_INTERPOLATION_STEPS\n",
      "File \u001b[0;32m~/.conda/envs/phd-tf/lib/python3.9/site-packages/matplotlib/lines.py:393\u001b[0m, in \u001b[0;36mLine2D.__init__\u001b[0;34m(self, xdata, ydata, linewidth, linestyle, color, marker, markersize, markeredgewidth, markeredgecolor, markerfacecolor, markerfacecoloralt, fillstyle, antialiased, dash_capstyle, solid_capstyle, dash_joinstyle, solid_joinstyle, pickradius, drawstyle, markevery, **kwargs)\u001b[0m\n\u001b[1;32m    389\u001b[0m \u001b[38;5;28mself\u001b[39m\u001b[38;5;241m.\u001b[39mset_markeredgewidth(markeredgewidth)\n\u001b[1;32m    391\u001b[0m \u001b[38;5;66;03m# update kwargs before updating data to give the caller a\u001b[39;00m\n\u001b[1;32m    392\u001b[0m \u001b[38;5;66;03m# chance to init axes (and hence unit support)\u001b[39;00m\n\u001b[0;32m--> 393\u001b[0m \u001b[38;5;28;43mself\u001b[39;49m\u001b[38;5;241;43m.\u001b[39;49m\u001b[43mupdate\u001b[49m\u001b[43m(\u001b[49m\u001b[43mkwargs\u001b[49m\u001b[43m)\u001b[49m\n\u001b[1;32m    394\u001b[0m \u001b[38;5;28mself\u001b[39m\u001b[38;5;241m.\u001b[39mpickradius \u001b[38;5;241m=\u001b[39m pickradius\n\u001b[1;32m    395\u001b[0m \u001b[38;5;28mself\u001b[39m\u001b[38;5;241m.\u001b[39mind_offset \u001b[38;5;241m=\u001b[39m \u001b[38;5;241m0\u001b[39m\n",
      "File \u001b[0;32m~/.conda/envs/phd-tf/lib/python3.9/site-packages/matplotlib/artist.py:1066\u001b[0m, in \u001b[0;36mArtist.update\u001b[0;34m(self, props)\u001b[0m\n\u001b[1;32m   1063\u001b[0m             \u001b[38;5;28;01mif\u001b[39;00m \u001b[38;5;129;01mnot\u001b[39;00m callable(func):\n\u001b[1;32m   1064\u001b[0m                 \u001b[38;5;28;01mraise\u001b[39;00m \u001b[38;5;167;01mAttributeError\u001b[39;00m(\u001b[38;5;124mf\u001b[39m\u001b[38;5;124m\"\u001b[39m\u001b[38;5;132;01m{\u001b[39;00m\u001b[38;5;28mtype\u001b[39m(\u001b[38;5;28mself\u001b[39m)\u001b[38;5;241m.\u001b[39m\u001b[38;5;18m__name__\u001b[39m\u001b[38;5;132;01m!r}\u001b[39;00m\u001b[38;5;124m object \u001b[39m\u001b[38;5;124m\"\u001b[39m\n\u001b[1;32m   1065\u001b[0m                                      \u001b[38;5;124mf\u001b[39m\u001b[38;5;124m\"\u001b[39m\u001b[38;5;124mhas no property \u001b[39m\u001b[38;5;132;01m{\u001b[39;00mk\u001b[38;5;132;01m!r}\u001b[39;00m\u001b[38;5;124m\"\u001b[39m)\n\u001b[0;32m-> 1066\u001b[0m             ret\u001b[38;5;241m.\u001b[39mappend(\u001b[43mfunc\u001b[49m\u001b[43m(\u001b[49m\u001b[43mv\u001b[49m\u001b[43m)\u001b[49m)\n\u001b[1;32m   1067\u001b[0m \u001b[38;5;28;01mif\u001b[39;00m ret:\n\u001b[1;32m   1068\u001b[0m     \u001b[38;5;28mself\u001b[39m\u001b[38;5;241m.\u001b[39mpchanged()\n",
      "File \u001b[0;32m~/.conda/envs/phd-tf/lib/python3.9/site-packages/matplotlib/artist.py:1010\u001b[0m, in \u001b[0;36mArtist.set_visible\u001b[0;34m(self, b)\u001b[0m\n\u001b[1;32m   1002\u001b[0m \u001b[38;5;124;03m\"\"\"\u001b[39;00m\n\u001b[1;32m   1003\u001b[0m \u001b[38;5;124;03mSet the artist's visibility.\u001b[39;00m\n\u001b[1;32m   1004\u001b[0m \n\u001b[0;32m   (...)\u001b[0m\n\u001b[1;32m   1007\u001b[0m \u001b[38;5;124;03mb : bool\u001b[39;00m\n\u001b[1;32m   1008\u001b[0m \u001b[38;5;124;03m\"\"\"\u001b[39;00m\n\u001b[1;32m   1009\u001b[0m \u001b[38;5;28mself\u001b[39m\u001b[38;5;241m.\u001b[39m_visible \u001b[38;5;241m=\u001b[39m b\n\u001b[0;32m-> 1010\u001b[0m \u001b[38;5;28;43mself\u001b[39;49m\u001b[38;5;241;43m.\u001b[39;49m\u001b[43mpchanged\u001b[49m\u001b[43m(\u001b[49m\u001b[43m)\u001b[49m\n\u001b[1;32m   1011\u001b[0m \u001b[38;5;28mself\u001b[39m\u001b[38;5;241m.\u001b[39mstale \u001b[38;5;241m=\u001b[39m \u001b[38;5;28;01mTrue\u001b[39;00m\n",
      "File \u001b[0;32m~/.conda/envs/phd-tf/lib/python3.9/site-packages/matplotlib/artist.py:416\u001b[0m, in \u001b[0;36mArtist.pchanged\u001b[0;34m(self)\u001b[0m\n\u001b[1;32m    405\u001b[0m \u001b[38;5;28;01mdef\u001b[39;00m \u001b[38;5;21mpchanged\u001b[39m(\u001b[38;5;28mself\u001b[39m):\n\u001b[1;32m    406\u001b[0m     \u001b[38;5;124;03m\"\"\"\u001b[39;00m\n\u001b[1;32m    407\u001b[0m \u001b[38;5;124;03m    Call all of the registered callbacks.\u001b[39;00m\n\u001b[1;32m    408\u001b[0m \n\u001b[0;32m   (...)\u001b[0m\n\u001b[1;32m    414\u001b[0m \u001b[38;5;124;03m    remove_callback\u001b[39;00m\n\u001b[1;32m    415\u001b[0m \u001b[38;5;124;03m    \"\"\"\u001b[39;00m\n\u001b[0;32m--> 416\u001b[0m     \u001b[38;5;28;43mself\u001b[39;49m\u001b[38;5;241;43m.\u001b[39;49m\u001b[43m_callbacks\u001b[49m\u001b[38;5;241;43m.\u001b[39;49m\u001b[43mprocess\u001b[49m\u001b[43m(\u001b[49m\u001b[38;5;124;43m\"\u001b[39;49m\u001b[38;5;124;43mpchanged\u001b[39;49m\u001b[38;5;124;43m\"\u001b[39;49m\u001b[43m)\u001b[49m\n",
      "File \u001b[0;32m~/.conda/envs/phd-tf/lib/python3.9/site-packages/matplotlib/cbook/__init__.py:283\u001b[0m, in \u001b[0;36mCallbackRegistry.process\u001b[0;34m(self, s, *args, **kwargs)\u001b[0m\n\u001b[1;32m    276\u001b[0m \u001b[38;5;28;01mdef\u001b[39;00m \u001b[38;5;21mprocess\u001b[39m(\u001b[38;5;28mself\u001b[39m, s, \u001b[38;5;241m*\u001b[39margs, \u001b[38;5;241m*\u001b[39m\u001b[38;5;241m*\u001b[39mkwargs):\n\u001b[1;32m    277\u001b[0m     \u001b[38;5;124;03m\"\"\"\u001b[39;00m\n\u001b[1;32m    278\u001b[0m \u001b[38;5;124;03m    Process signal *s*.\u001b[39;00m\n\u001b[1;32m    279\u001b[0m \n\u001b[1;32m    280\u001b[0m \u001b[38;5;124;03m    All of the functions registered to receive callbacks on *s* will be\u001b[39;00m\n\u001b[1;32m    281\u001b[0m \u001b[38;5;124;03m    called with ``*args`` and ``**kwargs``.\u001b[39;00m\n\u001b[1;32m    282\u001b[0m \u001b[38;5;124;03m    \"\"\"\u001b[39;00m\n\u001b[0;32m--> 283\u001b[0m     \u001b[38;5;28;01mfor\u001b[39;00m cid, ref \u001b[38;5;129;01min\u001b[39;00m \u001b[38;5;28;43mlist\u001b[39;49m\u001b[43m(\u001b[49m\u001b[38;5;28;43mself\u001b[39;49m\u001b[38;5;241;43m.\u001b[39;49m\u001b[43mcallbacks\u001b[49m\u001b[38;5;241;43m.\u001b[39;49m\u001b[43mget\u001b[49m\u001b[43m(\u001b[49m\u001b[43ms\u001b[49m\u001b[43m,\u001b[49m\u001b[43m \u001b[49m\u001b[43m{\u001b[49m\u001b[43m}\u001b[49m\u001b[43m)\u001b[49m\u001b[38;5;241;43m.\u001b[39;49m\u001b[43mitems\u001b[49m\u001b[43m(\u001b[49m\u001b[43m)\u001b[49m\u001b[43m)\u001b[49m:\n\u001b[1;32m    284\u001b[0m         func \u001b[38;5;241m=\u001b[39m ref()\n\u001b[1;32m    285\u001b[0m         \u001b[38;5;28;01mif\u001b[39;00m func \u001b[38;5;129;01mis\u001b[39;00m \u001b[38;5;129;01mnot\u001b[39;00m \u001b[38;5;28;01mNone\u001b[39;00m:\n",
      "\u001b[0;31mKeyboardInterrupt\u001b[0m: "
     ]
    }
   ],
   "source": [
    "for config in [c for c in configs if c.patience == 5]:\n",
    "    print(f\"\\n\\n************** Predictions with {config.name} patience={config.patience} **************\")\n",
    "    ad = AnomalyDetectorBuilder.getAnomalyDetector(name=config.name, timesteps=config.timesteps, nfeatures=config.nfeatures, load_model=\"True\", training_epoch_dir=config.path, training=False)\n",
    "    ad.plot_predictions(test_x, test_y, max_plots=999, features_names=features_names, epoch=config.epoch, outputDir=output_dir, figName=f\"{config.name}_patience_{config.patience}\")"
   ]
  },
  {
   "cell_type": "markdown",
   "id": "b61c706a",
   "metadata": {},
   "source": [
    "# P-value treshold"
   ]
  },
  {
   "cell_type": "code",
   "execution_count": 14,
   "id": "d35ea3e0",
   "metadata": {
    "scrolled": false
   },
   "outputs": [
    {
     "name": "stdout",
     "output_type": "stream",
     "text": [
      "\n",
      "\n",
      "************** Predictions with AnomalyDetector_cnn_l2_u32 patience=10 **************\n",
      "AnomalyDetector_cnn_l2_u32 - input shape: (5,3)\n",
      "pval is np.inf, returning 0\n",
      "    threshold  threshold_err        pvalue    pvalue_err  sigma\n",
      "55   0.103781       0.000934  3.121724e-06  3.813793e-07  4.518\n",
      "56   0.105649       0.000934  2.935352e-06  3.698196e-07  4.531\n",
      "57   0.107518       0.000934  2.702388e-06  3.548409e-07  4.548\n",
      "58   0.109387       0.000934  2.283052e-06  3.261503e-07  4.584\n",
      "59   0.111256       0.000934  1.817123e-06  2.909725e-07  4.631\n",
      "60   0.113125       0.000934  1.630751e-06  2.756473e-07  4.654\n",
      "61   0.114993       0.000934  1.304601e-06  2.465464e-07  4.699\n",
      "62   0.116862       0.000934  1.211415e-06  2.375781e-07  4.715\n",
      "63   0.118731       0.000934  1.118229e-06  2.282576e-07  4.731\n",
      "64   0.120600       0.000934  9.784508e-07  2.135155e-07  4.758\n",
      "65   0.122468       0.000934  7.454863e-07  1.863716e-07  4.812\n",
      "66   0.124337       0.000934  6.988934e-07  1.804535e-07  4.825\n",
      "67   0.126206       0.000934  6.523005e-07  1.743346e-07  4.839\n",
      "69   0.129944       0.000934  5.591147e-07  1.614025e-07  4.870\n",
      "70   0.131812       0.000934  4.659289e-07  1.473397e-07  4.906\n",
      "71   0.133681       0.000934  4.193361e-07  1.397787e-07  4.926\n",
      "72   0.135550       0.000934  2.795574e-07  1.141288e-07  5.005\n",
      "73   0.137419       0.000934  2.329645e-07  1.041849e-07  5.040\n",
      "80   0.150500       0.000934  1.863716e-07  9.318579e-08  5.082\n",
      "81   0.152369       0.000934  1.397787e-07  8.070126e-08  5.137\n",
      "83   0.156106       0.000934  9.318579e-08  6.589230e-08  5.212\n",
      "93   0.174794       0.000934  4.659289e-08  4.659289e-08  5.340\n",
      "5sigma threshold= 0.1355498660475\n"
     ]
    },
    {
     "name": "stderr",
     "output_type": "stream",
     "text": [
      "/data01/homes/baroncelli/.conda/envs/phd-tf/lib/python3.9/site-packages/sklearn/metrics/_classification.py:1327: UndefinedMetricWarning: Precision is ill-defined and being set to 0.0 due to no predicted samples. Use `zero_division` parameter to control this behavior.\n",
      "  _warn_prf(average, modifier, msg_start, len(result))\n",
      "/data01/homes/baroncelli/phd/rtapipe/lib/models/anomaly_detector_base.py:106: RuntimeWarning: invalid value encountered in long_scalars\n",
      "  \"false_positive_rate\" : cm[0][1] / (cm[0][1] + cm[1][1]),\n"
     ]
    },
    {
     "name": "stdout",
     "output_type": "stream",
     "text": [
      "accuracy 0.4791666666666667\n",
      "precision 0.0\n",
      "recall 0.0\n",
      "f1 0.0\n",
      "roc_auc 0.5\n",
      "confusion_matrix [[460, 0], [500, 0]]\n",
      "false_positive_rate nan\n",
      "detection_delay: 48.0\n",
      "\n",
      "\n",
      "************** Predictions with AnomalyDetector_rnn_l2_u32 patience=10 **************\n",
      "AnomalyDetector_rnn_l2_u32 - input shape: (5,3)\n",
      "pval is np.inf, returning 0\n",
      "    threshold  threshold_err        pvalue    pvalue_err  sigma\n",
      "53   0.089710       0.000838  2.916949e-06  1.681302e-07  4.532\n",
      "54   0.091387       0.000838  2.490551e-06  1.553563e-07  4.566\n",
      "55   0.093064       0.000838  2.190135e-06  1.456856e-07  4.592\n",
      "56   0.094741       0.000838  1.918791e-06  1.363625e-07  4.620\n",
      "57   0.096418       0.000838  1.686210e-06  1.278312e-07  4.647\n",
      "58   0.098094       0.000838  1.521465e-06  1.214261e-07  4.668\n",
      "59   0.099771       0.000838  1.308266e-06  1.125976e-07  4.699\n",
      "60   0.101448       0.000838  1.172594e-06  1.065995e-07  4.721\n",
      "61   0.103125       0.000838  1.065995e-06  1.016386e-07  4.740\n",
      "62   0.104802       0.000838  9.206318e-07  9.445483e-08  4.770\n",
      "63   0.106478       0.000838  8.334141e-07  8.986935e-08  4.790\n",
      "64   0.108155       0.000838  7.074329e-07  8.279876e-08  4.823\n",
      "65   0.109832       0.000838  6.492877e-07  7.932312e-08  4.840\n",
      "66   0.111509       0.000838  5.814517e-07  7.506509e-08  4.862\n",
      "67   0.113186       0.000838  5.039248e-07  6.988180e-08  4.890\n",
      "68   0.114862       0.000838  4.651614e-07  6.714026e-08  4.906\n",
      "69   0.116539       0.000838  4.263979e-07  6.428190e-08  4.923\n",
      "70   0.118216       0.000838  3.973253e-07  6.205179e-08  4.937\n",
      "71   0.119893       0.000838  3.876345e-07  6.129039e-08  4.941\n",
      "72   0.121569       0.000838  3.488710e-07  5.814517e-08  4.962\n",
      "73   0.123246       0.000838  3.101076e-07  5.481979e-08  4.985\n",
      "74   0.124923       0.000838  2.325807e-07  4.747533e-08  5.040\n",
      "75   0.126600       0.000838  2.228898e-07  4.647574e-08  5.048\n",
      "76   0.128277       0.000838  2.131990e-07  4.545417e-08  5.057\n",
      "77   0.129953       0.000838  1.938172e-07  4.333885e-08  5.075\n",
      "78   0.131630       0.000838  1.647446e-07  3.995645e-08  5.106\n",
      "79   0.133307       0.000838  1.259812e-07  3.494090e-08  5.156\n",
      "80   0.134984       0.000838  1.162903e-07  3.357013e-08  5.171\n",
      "81   0.136661       0.000838  9.690862e-08  3.064519e-08  5.205\n",
      "84   0.141691       0.000838  8.721775e-08  2.907258e-08  5.225\n",
      "85   0.143368       0.000838  6.783603e-08  2.563961e-08  5.271\n",
      "88   0.148398       0.000838  4.845431e-08  2.166943e-08  5.332\n",
      "92   0.155105       0.000838  3.876345e-08  1.938172e-08  5.373\n",
      "94   0.158459       0.000838  1.938172e-08  1.370495e-08  5.496\n",
      "95   0.160136       0.000838  9.690862e-09  9.690862e-09  5.617\n",
      "5sigma threshold= 0.1249230413815\n"
     ]
    },
    {
     "name": "stderr",
     "output_type": "stream",
     "text": [
      "/data01/homes/baroncelli/.conda/envs/phd-tf/lib/python3.9/site-packages/sklearn/metrics/_classification.py:1327: UndefinedMetricWarning: Precision is ill-defined and being set to 0.0 due to no predicted samples. Use `zero_division` parameter to control this behavior.\n",
      "  _warn_prf(average, modifier, msg_start, len(result))\n",
      "/data01/homes/baroncelli/phd/rtapipe/lib/models/anomaly_detector_base.py:106: RuntimeWarning: invalid value encountered in long_scalars\n",
      "  \"false_positive_rate\" : cm[0][1] / (cm[0][1] + cm[1][1]),\n"
     ]
    },
    {
     "name": "stdout",
     "output_type": "stream",
     "text": [
      "accuracy 0.4791666666666667\n",
      "precision 0.0\n",
      "recall 0.0\n",
      "f1 0.0\n",
      "roc_auc 0.5\n",
      "confusion_matrix [[460, 0], [500, 0]]\n",
      "false_positive_rate nan\n",
      "detection_delay: 48.0\n",
      "\n",
      "\n",
      "************** Predictions with AnomalyDetector_cnn_l2_u32 patience=5 **************\n",
      "AnomalyDetector_cnn_l2_u32 - input shape: (5,3)\n",
      "Pvalues not found. Skipping..\n",
      "\n",
      "\n",
      "************** Predictions with AnomalyDetector_rnn_l2_u32 patience=5 **************\n",
      "AnomalyDetector_rnn_l2_u32 - input shape: (5,3)\n",
      "Pvalues not found. Skipping..\n"
     ]
    }
   ],
   "source": [
    "for config in configs:\n",
    "    print(f\"\\n\\n************** Predictions with {config.name} patience={config.patience} **************\")\n",
    "    ad = AnomalyDetectorBuilder.getAnomalyDetector(name=config.name, timesteps=config.timesteps, nfeatures=config.nfeatures, load_model=\"True\", training_epoch_dir=config.path, training=False)\n",
    "    if config.pval_path is None:\n",
    "        print(\"Pvalues not found. Skipping..\")\n",
    "        continue\n",
    "    pval_table = get_pval_table(config.pval_path, 4.5, show=True)\n",
    "    threshold_5s = get_threshold_for_sigma(pval_table, 5)\n",
    "    print(\"5sigma threshold=\",threshold_5s)\n",
    "    ad.threshold = threshold_5s\n",
    "    metrics = ad.evaluate(test_x, test_y)\n",
    "    for k,v in metrics.items():\n",
    "        print(k,v)\n",
    "    print(\"detection_delay:\",ad.detection_delay(test_y, ad.predict(test_x), test_set_size, config.timesteps))    "
   ]
  },
  {
   "cell_type": "markdown",
   "id": "f7a7418d",
   "metadata": {},
   "source": [
    "# Distribution of reco errors on test set"
   ]
  },
  {
   "cell_type": "code",
   "execution_count": null,
   "id": "b92ece3d",
   "metadata": {},
   "outputs": [],
   "source": [
    "from rtapipe.lib.plotting.PlotConfig import PlotConfig\n",
    "pc = PlotConfig()"
   ]
  },
  {
   "cell_type": "code",
   "execution_count": null,
   "id": "c6d7abbc",
   "metadata": {},
   "outputs": [],
   "source": [
    "\"\"\"\n",
    "Refactored in \n",
    "plotting.struction_errors_distribution()\n",
    "\n",
    "\n",
    "\"\"\"\n",
    "fig, ax = plt.subplots(1,1,figsize=pc.fig_size)\n",
    "ax.hist(recostructions, bins=50, **pc.get_histogram_colors())  \n",
    "fig.suptitle(\"Distribution of the reconstruction erros\", fontsize=pc.fig_suptitle_size)\n",
    "ax.set_title(\"Test set\", fontsize=pc.fig_title_size)\n",
    "ax.set_xlabel(\"Recostruction errors\")\n",
    "ax.set_ylabel(\"Counts (log)\")\n",
    "ax.set_yscale('log')\n",
    "fig.savefig(\"./logs/test_models_dataset_itime_5_b_out/reco_distributions.png\")"
   ]
  },
  {
   "cell_type": "code",
   "execution_count": null,
   "id": "af12959b",
   "metadata": {},
   "outputs": [],
   "source": [
    "recostructions.shape"
   ]
  }
 ],
 "metadata": {
  "kernelspec": {
   "display_name": "phd-tf",
   "language": "python",
   "name": "phd-tf"
  },
  "language_info": {
   "codemirror_mode": {
    "name": "ipython",
    "version": 3
   },
   "file_extension": ".py",
   "mimetype": "text/x-python",
   "name": "python",
   "nbconvert_exporter": "python",
   "pygments_lexer": "ipython3",
   "version": "3.9.13"
  }
 },
 "nbformat": 4,
 "nbformat_minor": 5
}
