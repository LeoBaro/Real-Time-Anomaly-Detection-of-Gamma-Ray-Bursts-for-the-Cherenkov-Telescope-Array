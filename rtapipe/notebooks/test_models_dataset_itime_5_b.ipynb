{
 "cells": [
  {
   "cell_type": "code",
   "execution_count": null,
   "id": "a6d9b55e",
   "metadata": {},
   "outputs": [],
   "source": [
    "import os\n",
    "os.environ['TF_CPP_MIN_LOG_LEVEL'] = '3'\n",
    "import yaml\n",
    "import pandas as pd\n",
    "import numpy as np\n",
    "import tensorflow as tf\n",
    "from pathlib import Path\n",
    "from time import strftime\n",
    "from shutil import rmtree\n",
    "import matplotlib.pyplot as plt"
   ]
  },
  {
   "cell_type": "code",
   "execution_count": null,
   "id": "ebcf3895",
   "metadata": {},
   "outputs": [],
   "source": [
    "from rtapipe.lib.utils.misc import dotdict\n",
    "from rtapipe.lib.dataset.data_manager import DataManager\n",
    "from rtapipe.lib.datasource.Photometry3 import OnlinePhotometry, SimulationParams\n",
    "from rtapipe.lib.plotting.plotting import plot_sequences\n",
    "from rtapipe.lib.models.anomaly_detector_builder import AnomalyDetectorBuilder\n",
    "from rtapipe.lib.evaluation.pval import get_pval_table, get_threshold_for_sigma"
   ]
  },
  {
   "cell_type": "markdown",
   "id": "8b20c643",
   "metadata": {},
   "source": [
    "# Loading the test dataset"
   ]
  },
  {
   "cell_type": "code",
   "execution_count": 3,
   "id": "055342a0",
   "metadata": {},
   "outputs": [],
   "source": [
    "output_dir = \"./logs/test_models_dataset_itime_5_b_out\""
   ]
  },
  {
   "cell_type": "code",
   "execution_count": 4,
   "id": "4d0cf546",
   "metadata": {},
   "outputs": [],
   "source": [
    "data_manager = DataManager(output_dir)"
   ]
  },
  {
   "cell_type": "code",
   "execution_count": 5,
   "id": "cb90b493",
   "metadata": {},
   "outputs": [],
   "source": [
    "dataset_id=\"test_itime_5_b_tsl_5_nbins_3\""
   ]
  },
  {
   "cell_type": "code",
   "execution_count": 6,
   "id": "5ea24d28",
   "metadata": {},
   "outputs": [],
   "source": [
    "test_set_size = 10"
   ]
  },
  {
   "cell_type": "code",
   "execution_count": 7,
   "id": "0c4f5161",
   "metadata": {},
   "outputs": [
    {
     "name": "stdout",
     "output_type": "stream",
     "text": [
      "Loaded 10 files\n"
     ]
    }
   ],
   "source": [
    "dataset_folder = \"/data01/homes/baroncelli/phd/rtapipe/scripts/ml/dataset_generation/test/itime_5_b/fits_data\"\n",
    "fits_files = DataManager.load_fits_data(dataset_folder, limit=10)\n",
    "sim_params = SimulationParams(runid=\"run0406_ID000126\", onset=0, emin=0.04, emax=1, tmin=0, tobs=500, offset=0.5, irf=\"North_z40_5h_LST\", roi=2.5, caldb=\"prod5-v0.1\", simtype=\"grb\")"
   ]
  },
  {
   "cell_type": "code",
   "execution_count": 8,
   "id": "d2b3ed55",
   "metadata": {},
   "outputs": [],
   "source": [
    "test_set_size = 10"
   ]
  },
  {
   "cell_type": "code",
   "execution_count": 9,
   "id": "e6625d7f",
   "metadata": {},
   "outputs": [
    {
     "name": "stdout",
     "output_type": "stream",
     "text": [
      "[2022-11-17 15:09:52.709557] Preconfiguring regions. Normalization: True - Template: run0406_ID000126\n",
      "[2022-11-17 15:09:58.796567] Found 85 regions and 1 target regions\n"
     ]
    },
    {
     "name": "stderr",
     "output_type": "stream",
     "text": [
      "100%|███████████████████████████████████████████| 10/10 [01:05<00:00,  6.59s/it]"
     ]
    },
    {
     "name": "stdout",
     "output_type": "stream",
     "text": [
      "[2022-11-17 15:11:04.706172] Saved data to logs/test_models_dataset_itime_5_b_out/data_cache\n",
      "Pivot index:  50\n",
      "windows_before_pivot:  (46, 5, 3)\n",
      "windows_after_pivot:  (50, 5, 3)\n",
      "windows_before_pivot:  (46, 5, 3)\n",
      "windows_after_pivot:  (50, 5, 3)\n",
      "windows_before_pivot:  (46, 5, 3)\n",
      "windows_after_pivot:  (50, 5, 3)\n",
      "windows_before_pivot:  (46, 5, 3)\n",
      "windows_after_pivot:  (50, 5, 3)\n",
      "windows_before_pivot:  (46, 5, 3)\n",
      "windows_after_pivot:  (50, 5, 3)\n",
      "windows_before_pivot:  (46, 5, 3)\n",
      "windows_after_pivot:  (50, 5, 3)\n",
      "windows_before_pivot:  (46, 5, 3)\n",
      "windows_after_pivot:  (50, 5, 3)\n",
      "windows_before_pivot:  (46, 5, 3)\n",
      "windows_after_pivot:  (50, 5, 3)\n",
      "windows_before_pivot:  (46, 5, 3)\n",
      "windows_after_pivot:  (50, 5, 3)\n",
      "windows_before_pivot:  (46, 5, 3)\n",
      "windows_after_pivot:  (50, 5, 3)\n",
      "[2022-11-17 15:11:04.716533] Loaded 10 timeseries from template run0406_ID000126.\n",
      "Single file shape before sub-windowing: (100, 3). Single file shape after sub-windowing: (96, 5, 3)\n",
      "[2022-11-17 15:11:04.716575] test_x shape: (960, 5, 3)\n",
      "[2022-11-17 15:11:04.716598] test_y shape: (960,)\n"
     ]
    },
    {
     "name": "stderr",
     "output_type": "stream",
     "text": [
      "\n"
     ]
    }
   ],
   "source": [
    "multiple_templates = False\n",
    "add_target_region = True\n",
    "integration_time = 5\n",
    "number_of_energy_bins = 3\n",
    "tsl = 100\n",
    "threads = 30\n",
    "normalize = True\n",
    "data_manager.transform_to_timeseries(fits_files, sim_params, add_target_region, integration_time=integration_time, number_of_energy_bins=number_of_energy_bins, tsl=tsl, normalize=normalize, threads=threads, multiple_templates=multiple_templates)\n",
    "#data_manager.load_saved_data(\"run0406_ID000126\", 5, 5)\n",
    "data_manager.load_scaler(\"/data01/homes/baroncelli/phd/rtapipe/notebooks/logs/train_models_new_data_manager_out/fitted_scaler.pickle\")\n",
    "test_x, test_y = data_manager.get_test_set(template=\"run0406_ID000126\", onset=250, integration_time=5, sub_window_size=5, stride=1, verbose=True)"
   ]
  },
  {
   "cell_type": "code",
   "execution_count": null,
   "id": "d340b4d3",
   "metadata": {},
   "outputs": [],
   "source": [
    "data_manager.data[\"run0406_ID000126\"].shape"
   ]
  },
  {
   "cell_type": "markdown",
   "id": "c3dfdd48",
   "metadata": {},
   "source": [
    "## Plot some timeseries"
   ]
  },
  {
   "cell_type": "code",
   "execution_count": null,
   "id": "417a942f",
   "metadata": {},
   "outputs": [],
   "source": [
    "features_names = [\"EB_0.04-0.117\",\"EB_2-0.117-0.342\",\"EB_0.342-1\"]"
   ]
  },
  {
   "cell_type": "code",
   "execution_count": null,
   "id": "b3887bc4",
   "metadata": {},
   "outputs": [],
   "source": [
    "data_manager.plot_timeseries(\"run0406_ID000126\", data_manager.data[\"run0406_ID000126\"], 10, sim_params, \"./logs/test_models_dataset_itime_5_b_out\", labels=features_names)"
   ]
  },
  {
   "cell_type": "markdown",
   "id": "1b0ab357",
   "metadata": {},
   "source": [
    "# Loading the models"
   ]
  },
  {
   "cell_type": "code",
   "execution_count": null,
   "id": "7c0d874d",
   "metadata": {},
   "outputs": [],
   "source": [
    "with open(\"./trained_models.yaml\", \"r\") as f:\n",
    "    try:\n",
    "        configs = yaml.safe_load(f)\n",
    "    except yaml.YAMLError as exc:\n",
    "        print(exc)\n",
    "configs = [dotdict(c) for c in configs[\"models\"]]"
   ]
  },
  {
   "cell_type": "markdown",
   "id": "5fd9ac0c",
   "metadata": {},
   "source": [
    "# Evaluation metrics"
   ]
  },
  {
   "cell_type": "code",
   "execution_count": null,
   "id": "1e5b73f6",
   "metadata": {
    "scrolled": false
   },
   "outputs": [],
   "source": [
    "for config in configs:\n",
    "    print(f\"\\n\\n************** Evaluating {config.name} patience={config.patience} **************\")\n",
    "    ad = AnomalyDetectorBuilder.getAnomalyDetector(name=config.name, timesteps=config.timesteps, nfeatures=config.nfeatures, load_model=\"True\", training_epoch_dir=config.path, training=False)\n",
    "    metrics = ad.evaluate(test_x, test_y)\n",
    "    for k,v in metrics.items():\n",
    "        print(k,v)\n",
    "    print(\"detection_delay:\",ad.detection_delay(test_y, ad.predict(test_x), test_set_size, config.timesteps))"
   ]
  },
  {
   "cell_type": "markdown",
   "id": "bdf655ca",
   "metadata": {},
   "source": [
    "# Predictions"
   ]
  },
  {
   "cell_type": "code",
   "execution_count": null,
   "id": "bd77e1bc",
   "metadata": {},
   "outputs": [],
   "source": [
    "for config in [c for c in configs if c.patience == 5]:\n",
    "    print(f\"\\n\\n************** Predictions with {config.name} patience={config.patience} **************\")\n",
    "    ad = AnomalyDetectorBuilder.getAnomalyDetector(name=config.name, timesteps=config.timesteps, nfeatures=config.nfeatures, load_model=\"True\", training_epoch_dir=config.path, training=False)\n",
    "    ad.plot_predictions(test_x, test_y, max_plots=999, features_names=features_names, epoch=config.epoch, outputDir=output_dir, figName=f\"{config.name}_patience_{config.patience}\")"
   ]
  },
  {
   "cell_type": "markdown",
   "id": "b61c706a",
   "metadata": {},
   "source": [
    "# P-value treshold"
   ]
  },
  {
   "cell_type": "code",
   "execution_count": null,
   "id": "d35ea3e0",
   "metadata": {
    "scrolled": false
   },
   "outputs": [],
   "source": [
    "for config in configs:\n",
    "    print(f\"\\n\\n************** Predictions with {config.name} patience={config.patience} **************\")\n",
    "    ad = AnomalyDetectorBuilder.getAnomalyDetector(name=config.name, timesteps=config.timesteps, nfeatures=config.nfeatures, load_model=\"True\", training_epoch_dir=config.path, training=False)\n",
    "    if not config.pval_path:\n",
    "        print(\"Pvalues not found. Skipping..\")\n",
    "        continue\n",
    "    pval_table = get_pval_table(config.pval_path, 4.5, show=True)\n",
    "    threshold_5s = get_threshold_for_sigma(pval_table, 5)\n",
    "    print(\"5sigma threshold=\",threshold_5s)\n",
    "    ad.threshold = threshold_5s\n",
    "    metrics = ad.evaluate(test_x, test_y)\n",
    "    for k,v in metrics.items():\n",
    "        print(k,v)\n",
    "    print(\"detection_delay:\",ad.detection_delay(test_y, ad.predict(test_x), test_set_size, config.timesteps))    "
   ]
  },
  {
   "cell_type": "markdown",
   "id": "f7a7418d",
   "metadata": {},
   "source": [
    "# Distribution of reco errors on test set"
   ]
  },
  {
   "cell_type": "code",
   "execution_count": null,
   "id": "af12959b",
   "metadata": {},
   "outputs": [],
   "source": [
    "ad"
   ]
  }
 ],
 "metadata": {
  "kernelspec": {
   "display_name": "phd-tf",
   "language": "python",
   "name": "phd-tf"
  },
  "language_info": {
   "codemirror_mode": {
    "name": "ipython",
    "version": 3
   },
   "file_extension": ".py",
   "mimetype": "text/x-python",
   "name": "python",
   "nbconvert_exporter": "python",
   "pygments_lexer": "ipython3",
   "version": "3.9.13"
  }
 },
 "nbformat": 4,
 "nbformat_minor": 5
}
