{
 "cells": [
  {
   "cell_type": "code",
   "execution_count": 1,
   "id": "2ca34300",
   "metadata": {},
   "outputs": [],
   "source": [
    "import os\n",
    "os.environ['TF_CPP_MIN_LOG_LEVEL'] = '3'\n",
    "import json\n",
    "import tensorflow as tf\n",
    "import argparse\n",
    "import numpy as np\n",
    "from pathlib import Path\n",
    "from time import strftime\n",
    "from shutil import rmtree\n",
    "import matplotlib.pyplot as plt\n",
    "from tensorflow.keras.callbacks import EarlyStopping"
   ]
  },
  {
   "cell_type": "code",
   "execution_count": 2,
   "id": "8232078c",
   "metadata": {},
   "outputs": [],
   "source": [
    "from rtapipe.lib.dataset.data_manager import DataManager\n",
    "from rtapipe.lib.datasource.Photometry3 import OnlinePhotometry, SimulationParams\n",
    "from rtapipe.lib.models.anomaly_detector_builder import AnomalyDetectorBuilder\n",
    "from rtapipe.scripts.ml.offline.callbacks import CustomLogCallback\n",
    "from rtapipe.lib.evaluation.custom_mse import CustomMSE\n",
    "from rtapipe.lib.plotting.plotting import plot_sequences, loss_plot"
   ]
  },
  {
   "cell_type": "markdown",
   "id": "d8569058",
   "metadata": {},
   "source": [
    "## Configuration"
   ]
  },
  {
   "cell_type": "code",
   "execution_count": 3,
   "id": "a8f69730",
   "metadata": {},
   "outputs": [],
   "source": [
    "output_dir = \"./logs/train_models_new_data_manager_itime_1\""
   ]
  },
  {
   "cell_type": "code",
   "execution_count": 4,
   "id": "15c91e4c",
   "metadata": {},
   "outputs": [],
   "source": [
    "dataset_folder = \"/data01/homes/baroncelli/phd/rtapipe/scripts/ml/dataset_generation/train/North_z40_5h_LST/train_set_c/fits_data\""
   ]
  },
  {
   "cell_type": "code",
   "execution_count": 5,
   "id": "2eeefb7c",
   "metadata": {},
   "outputs": [],
   "source": [
    "features_names = [\"EB_0.04-0.117\",\"EB_2-0.117-0.342\",\"EB_0.342-1\"]"
   ]
  },
  {
   "cell_type": "code",
   "execution_count": 6,
   "id": "88563f32",
   "metadata": {},
   "outputs": [
    {
     "name": "stdout",
     "output_type": "stream",
     "text": [
      "Loaded 1 files\n"
     ]
    }
   ],
   "source": [
    "fits_files = DataManager.load_fits_data(dataset_folder, limit=1)"
   ]
  },
  {
   "cell_type": "code",
   "execution_count": 7,
   "id": "5074aae0",
   "metadata": {},
   "outputs": [],
   "source": [
    "sim_params = SimulationParams(runid=\"run0406_ID000126\", onset=0, emin=0.04, emax=1, tmin=0, tobs=18000, offset=0.5, irf=\"North_z40_5h_LST\", roi=2.5, caldb=\"prod5-v0.1\", simtype=\"bkg\")"
   ]
  },
  {
   "cell_type": "code",
   "execution_count": 8,
   "id": "0b9ec984",
   "metadata": {},
   "outputs": [],
   "source": [
    "dataset_id=\"train_itime_1_a_tsl_5_nbins_3\""
   ]
  },
  {
   "cell_type": "code",
   "execution_count": 9,
   "id": "4edd3fb3",
   "metadata": {},
   "outputs": [
    {
     "name": "stdout",
     "output_type": "stream",
     "text": [
      "Loading cached data from notemplate_it_1_tsl_3600.npy\n",
      "[2022-11-27 15:54:58.420653] Loaded data from logs/train_models_new_data_manager_itime_1/data_cache\n"
     ]
    }
   ],
   "source": [
    "multiple_templates = False\n",
    "add_target_region = False\n",
    "integration_time = 1\n",
    "number_of_energy_bins = 3\n",
    "tsl = 3600\n",
    "threads = 30\n",
    "normalize = True\n",
    "data_manager = DataManager(output_dir)\n",
    "#data_manager.transform_to_timeseries(fits_files, sim_params, add_target_region, integration_time=integration_time, number_of_energy_bins=number_of_energy_bins, tsl=tsl, normalize=normalize, threads=threads, multiple_templates=multiple_templates)\n",
    "data_manager.load_saved_data(1, 3600) # <--- LOAD ME!"
   ]
  },
  {
   "cell_type": "code",
   "execution_count": 10,
   "id": "02d29527",
   "metadata": {},
   "outputs": [],
   "source": [
    "assert data_manager.data[\"notemplate\"].shape == (85, 3600, 3)"
   ]
  },
  {
   "cell_type": "code",
   "execution_count": 11,
   "id": "28e62034",
   "metadata": {},
   "outputs": [
    {
     "name": "stdout",
     "output_type": "stream",
     "text": [
      "[2022-11-27 15:55:02.157805] Extracting subsequences of 5 points with stride 5 from 85 time series\n",
      "[2022-11-27 15:55:02.406604] Extracted 61200 subsequences\n",
      "[2022-11-27 15:55:02.414531] Train set shape: (48960, 5, 3) - Validation set shape: (12240, 5, 3)\n",
      "[2022-11-27 15:55:02.449387] Data is scaled to 0-1\n"
     ]
    }
   ],
   "source": [
    "train_x, train_y , val_x, val_y = data_manager.get_train_set(\"notemplate\", sub_window_size=5, stride=5, validation_split=80)"
   ]
  },
  {
   "cell_type": "code",
   "execution_count": 12,
   "id": "f76e9ed1",
   "metadata": {},
   "outputs": [
    {
     "data": {
      "text/plain": [
       "(48960, 5, 3)"
      ]
     },
     "execution_count": 12,
     "metadata": {},
     "output_type": "execute_result"
    }
   ],
   "source": [
    "train_x.shape"
   ]
  },
  {
   "cell_type": "code",
   "execution_count": null,
   "id": "447ca24f",
   "metadata": {
    "scrolled": true
   },
   "outputs": [],
   "source": [
    "import matplotlib\n",
    "matplotlib.use(\"TKAgg\", force=True)\n",
    "%matplotlib inline\n",
    "plot_sequences(train_x[0:5], scaled=True, labels=[\"first sample of validation set\"], features_names=features_names, showFig=True, saveFig=True)"
   ]
  },
  {
   "cell_type": "code",
   "execution_count": 13,
   "id": "19b6ced3",
   "metadata": {},
   "outputs": [],
   "source": [
    "model_names = AnomalyDetectorBuilder.getModelsName()"
   ]
  },
  {
   "cell_type": "code",
   "execution_count": 14,
   "id": "55e9259b",
   "metadata": {},
   "outputs": [],
   "source": [
    "model_names = [model_name for model_name in model_names if \"lstm\" in model_name]\n",
    "model_names = [\"AnomalyDetector_cnn_l2_u32\", \"AnomalyDetector_rnn_l2_u32\"]#, \"AnomalyDetector_lstm_l2_u32\"]"
   ]
  },
  {
   "cell_type": "code",
   "execution_count": 15,
   "id": "cb04b140",
   "metadata": {},
   "outputs": [],
   "source": [
    "EARLY_STOPPING_PATIENCE=5"
   ]
  },
  {
   "cell_type": "code",
   "execution_count": 16,
   "id": "c02c840e",
   "metadata": {
    "scrolled": false
   },
   "outputs": [
    {
     "name": "stdout",
     "output_type": "stream",
     "text": [
      "\n",
      "\n",
      "\n",
      "********************* AnomalyDetector_cnn_l2_u32 training *********************\n",
      "\n",
      "\n",
      "AnomalyDetector_cnn_l2_u32 - input shape: (5,3)\n",
      "Model: \"sequential\"\n",
      "_________________________________________________________________\n",
      "Layer (type)                 Output Shape              Param #   \n",
      "=================================================================\n",
      "conv1d (Conv1D)              (None, 3, 32)             320       \n",
      "_________________________________________________________________\n",
      "dropout (Dropout)            (None, 3, 32)             0         \n",
      "_________________________________________________________________\n",
      "max_pooling1d (MaxPooling1D) (None, 2, 32)             0         \n",
      "_________________________________________________________________\n",
      "conv1d_transpose (Conv1DTran (None, 5, 3)              291       \n",
      "_________________________________________________________________\n",
      "dropout_1 (Dropout)          (None, 5, 3)              0         \n",
      "=================================================================\n",
      "Total params: 611\n",
      "Trainable params: 611\n",
      "Non-trainable params: 0\n",
      "_________________________________________________________________\n",
      "\n",
      "\n",
      "----------------- Checkpoint! Saving data at epoch 1 (Triggered by Early Stopping=False) -----------------\n",
      "INFO:tensorflow:Assets written to: /data01/homes/baroncelli/phd/rtapipe/notebooks/run_20221127-155511/model_AnomalyDetector_cnn_l2_u32_dataset_train_itime_1_a_tsl_5_nbins_3_tsl_3600/epochs/epoch_1/trained_model/assets\n",
      "383/383 [==============================] - 1s 1ms/step\n",
      "Plot /data01/homes/baroncelli/phd/rtapipe/notebooks/run_20221127-155511/model_AnomalyDetector_cnn_l2_u32_dataset_train_itime_1_a_tsl_5_nbins_3_tsl_3600/epochs/epoch_1/reco_errors_distr_per_features.png created.\n",
      "Plot /data01/homes/baroncelli/phd/rtapipe/notebooks/run_20221127-155511/model_AnomalyDetector_cnn_l2_u32_dataset_train_itime_1_a_tsl_5_nbins_3_tsl_3600/epochs/epoch_1/reco_errors_distr_per_sample.png created.\n"
     ]
    },
    {
     "name": "stderr",
     "output_type": "stream",
     "text": [
      "  0%|                                                                                              | 1/2448 [00:00<34:17,  1.19it/s]\n"
     ]
    },
    {
     "name": "stdout",
     "output_type": "stream",
     "text": [
      "Max plots reached\n",
      "\n",
      "\n",
      "----------------- Checkpoint! Saving data at epoch 5 (Triggered by Early Stopping=False) -----------------\n",
      "INFO:tensorflow:Assets written to: /data01/homes/baroncelli/phd/rtapipe/notebooks/run_20221127-155511/model_AnomalyDetector_cnn_l2_u32_dataset_train_itime_1_a_tsl_5_nbins_3_tsl_3600/epochs/epoch_5/trained_model/assets\n",
      "383/383 [==============================] - 1s 1ms/step\n",
      "Plot /data01/homes/baroncelli/phd/rtapipe/notebooks/run_20221127-155511/model_AnomalyDetector_cnn_l2_u32_dataset_train_itime_1_a_tsl_5_nbins_3_tsl_3600/epochs/epoch_5/reco_errors_distr_per_features.png created.\n",
      "Plot /data01/homes/baroncelli/phd/rtapipe/notebooks/run_20221127-155511/model_AnomalyDetector_cnn_l2_u32_dataset_train_itime_1_a_tsl_5_nbins_3_tsl_3600/epochs/epoch_5/reco_errors_distr_per_sample.png created.\n"
     ]
    },
    {
     "name": "stderr",
     "output_type": "stream",
     "text": [
      "  0%|                                                                                              | 1/2448 [00:00<29:00,  1.41it/s]\n"
     ]
    },
    {
     "name": "stdout",
     "output_type": "stream",
     "text": [
      "Max plots reached\n",
      "\n",
      "\n",
      "----------------- Checkpoint! Saving data at epoch 10 (Triggered by Early Stopping=False) -----------------\n",
      "INFO:tensorflow:Assets written to: /data01/homes/baroncelli/phd/rtapipe/notebooks/run_20221127-155511/model_AnomalyDetector_cnn_l2_u32_dataset_train_itime_1_a_tsl_5_nbins_3_tsl_3600/epochs/epoch_10/trained_model/assets\n",
      "383/383 [==============================] - 1s 2ms/step\n",
      "Plot /data01/homes/baroncelli/phd/rtapipe/notebooks/run_20221127-155511/model_AnomalyDetector_cnn_l2_u32_dataset_train_itime_1_a_tsl_5_nbins_3_tsl_3600/epochs/epoch_10/reco_errors_distr_per_features.png created.\n",
      "Plot /data01/homes/baroncelli/phd/rtapipe/notebooks/run_20221127-155511/model_AnomalyDetector_cnn_l2_u32_dataset_train_itime_1_a_tsl_5_nbins_3_tsl_3600/epochs/epoch_10/reco_errors_distr_per_sample.png created.\n"
     ]
    },
    {
     "name": "stderr",
     "output_type": "stream",
     "text": [
      "  0%|                                                                                              | 1/2448 [00:00<34:03,  1.20it/s]\n"
     ]
    },
    {
     "name": "stdout",
     "output_type": "stream",
     "text": [
      "Max plots reached\n",
      "\n",
      "\n",
      "----------------- Checkpoint! Saving data at epoch 12 (Triggered by Early Stopping=True) -----------------\n",
      "INFO:tensorflow:Assets written to: /data01/homes/baroncelli/phd/rtapipe/notebooks/run_20221127-155511/model_AnomalyDetector_cnn_l2_u32_dataset_train_itime_1_a_tsl_5_nbins_3_tsl_3600/epochs/epoch_12/trained_model/assets\n",
      "383/383 [==============================] - 0s 1ms/step\n",
      "Plot /data01/homes/baroncelli/phd/rtapipe/notebooks/run_20221127-155511/model_AnomalyDetector_cnn_l2_u32_dataset_train_itime_1_a_tsl_5_nbins_3_tsl_3600/epochs/epoch_12/reco_errors_distr_per_features.png created.\n",
      "Plot /data01/homes/baroncelli/phd/rtapipe/notebooks/run_20221127-155511/model_AnomalyDetector_cnn_l2_u32_dataset_train_itime_1_a_tsl_5_nbins_3_tsl_3600/epochs/epoch_12/reco_errors_distr_per_sample.png created.\n"
     ]
    },
    {
     "name": "stderr",
     "output_type": "stream",
     "text": [
      "  0%|                                                                                              | 1/2448 [00:00<27:35,  1.48it/s]\n"
     ]
    },
    {
     "name": "stdout",
     "output_type": "stream",
     "text": [
      "Max plots reached\n",
      "Plot /data01/homes/baroncelli/phd/rtapipe/notebooks/run_20221127-155511/model_AnomalyDetector_cnn_l2_u32_dataset_train_itime_1_a_tsl_5_nbins_3_tsl_3600/AnomalyDetector_cnn_l2_u32_train_val_loss.png created.\n",
      "\n",
      "\n",
      "\n",
      "********************* AnomalyDetector_rnn_l2_u32 training *********************\n",
      "\n",
      "\n",
      "AnomalyDetector_rnn_l2_u32 - input shape: (5,3)\n",
      "Model: \"sequential_1\"\n",
      "_________________________________________________________________\n",
      "Layer (type)                 Output Shape              Param #   \n",
      "=================================================================\n",
      "simple_rnn (SimpleRNN)       (None, 32)                1152      \n",
      "_________________________________________________________________\n",
      "dropout_2 (Dropout)          (None, 32)                0         \n",
      "_________________________________________________________________\n",
      "repeat_vector (RepeatVector) (None, 5, 32)             0         \n",
      "_________________________________________________________________\n",
      "simple_rnn_1 (SimpleRNN)     (None, 5, 32)             2080      \n",
      "_________________________________________________________________\n",
      "dropout_3 (Dropout)          (None, 5, 32)             0         \n",
      "_________________________________________________________________\n",
      "time_distributed (TimeDistri (None, 5, 3)              99        \n",
      "=================================================================\n",
      "Total params: 3,331\n",
      "Trainable params: 3,331\n",
      "Non-trainable params: 0\n",
      "_________________________________________________________________\n",
      "\n",
      "\n",
      "----------------- Checkpoint! Saving data at epoch 1 (Triggered by Early Stopping=False) -----------------\n",
      "INFO:tensorflow:Assets written to: /data01/homes/baroncelli/phd/rtapipe/notebooks/run_20221127-155511/model_AnomalyDetector_rnn_l2_u32_dataset_train_itime_1_a_tsl_5_nbins_3_tsl_3600/epochs/epoch_1/trained_model/assets\n",
      "383/383 [==============================] - 2s 4ms/step\n",
      "Plot /data01/homes/baroncelli/phd/rtapipe/notebooks/run_20221127-155511/model_AnomalyDetector_rnn_l2_u32_dataset_train_itime_1_a_tsl_5_nbins_3_tsl_3600/epochs/epoch_1/reco_errors_distr_per_features.png created.\n",
      "Plot /data01/homes/baroncelli/phd/rtapipe/notebooks/run_20221127-155511/model_AnomalyDetector_rnn_l2_u32_dataset_train_itime_1_a_tsl_5_nbins_3_tsl_3600/epochs/epoch_1/reco_errors_distr_per_sample.png created.\n"
     ]
    },
    {
     "name": "stderr",
     "output_type": "stream",
     "text": [
      "  0%|                                                                                              | 1/2448 [00:00<28:42,  1.42it/s]\n"
     ]
    },
    {
     "name": "stdout",
     "output_type": "stream",
     "text": [
      "Max plots reached\n",
      "\n",
      "\n",
      "----------------- Checkpoint! Saving data at epoch 5 (Triggered by Early Stopping=False) -----------------\n",
      "INFO:tensorflow:Assets written to: /data01/homes/baroncelli/phd/rtapipe/notebooks/run_20221127-155511/model_AnomalyDetector_rnn_l2_u32_dataset_train_itime_1_a_tsl_5_nbins_3_tsl_3600/epochs/epoch_5/trained_model/assets\n",
      "383/383 [==============================] - 1s 4ms/step\n",
      "Plot /data01/homes/baroncelli/phd/rtapipe/notebooks/run_20221127-155511/model_AnomalyDetector_rnn_l2_u32_dataset_train_itime_1_a_tsl_5_nbins_3_tsl_3600/epochs/epoch_5/reco_errors_distr_per_features.png created.\n",
      "Plot /data01/homes/baroncelli/phd/rtapipe/notebooks/run_20221127-155511/model_AnomalyDetector_rnn_l2_u32_dataset_train_itime_1_a_tsl_5_nbins_3_tsl_3600/epochs/epoch_5/reco_errors_distr_per_sample.png created.\n"
     ]
    },
    {
     "name": "stderr",
     "output_type": "stream",
     "text": [
      "  0%|                                                                                              | 1/2448 [00:00<28:16,  1.44it/s]\n"
     ]
    },
    {
     "name": "stdout",
     "output_type": "stream",
     "text": [
      "Max plots reached\n",
      "\n",
      "\n",
      "----------------- Checkpoint! Saving data at epoch 10 (Triggered by Early Stopping=False) -----------------\n",
      "INFO:tensorflow:Assets written to: /data01/homes/baroncelli/phd/rtapipe/notebooks/run_20221127-155511/model_AnomalyDetector_rnn_l2_u32_dataset_train_itime_1_a_tsl_5_nbins_3_tsl_3600/epochs/epoch_10/trained_model/assets\n",
      "383/383 [==============================] - 1s 3ms/step\n",
      "Plot /data01/homes/baroncelli/phd/rtapipe/notebooks/run_20221127-155511/model_AnomalyDetector_rnn_l2_u32_dataset_train_itime_1_a_tsl_5_nbins_3_tsl_3600/epochs/epoch_10/reco_errors_distr_per_features.png created.\n",
      "Plot /data01/homes/baroncelli/phd/rtapipe/notebooks/run_20221127-155511/model_AnomalyDetector_rnn_l2_u32_dataset_train_itime_1_a_tsl_5_nbins_3_tsl_3600/epochs/epoch_10/reco_errors_distr_per_sample.png created.\n"
     ]
    },
    {
     "name": "stderr",
     "output_type": "stream",
     "text": [
      "  0%|                                                                                              | 1/2448 [00:00<28:43,  1.42it/s]\n"
     ]
    },
    {
     "name": "stdout",
     "output_type": "stream",
     "text": [
      "Max plots reached\n",
      "\n",
      "\n",
      "----------------- Checkpoint! Saving data at epoch 15 (Triggered by Early Stopping=True) -----------------\n",
      "INFO:tensorflow:Assets written to: /data01/homes/baroncelli/phd/rtapipe/notebooks/run_20221127-155511/model_AnomalyDetector_rnn_l2_u32_dataset_train_itime_1_a_tsl_5_nbins_3_tsl_3600/epochs/epoch_15/trained_model/assets\n",
      "383/383 [==============================] - 1s 4ms/step\n",
      "Plot /data01/homes/baroncelli/phd/rtapipe/notebooks/run_20221127-155511/model_AnomalyDetector_rnn_l2_u32_dataset_train_itime_1_a_tsl_5_nbins_3_tsl_3600/epochs/epoch_15/reco_errors_distr_per_features.png created.\n",
      "Plot /data01/homes/baroncelli/phd/rtapipe/notebooks/run_20221127-155511/model_AnomalyDetector_rnn_l2_u32_dataset_train_itime_1_a_tsl_5_nbins_3_tsl_3600/epochs/epoch_15/reco_errors_distr_per_sample.png created.\n"
     ]
    },
    {
     "name": "stderr",
     "output_type": "stream",
     "text": [
      "  0%|                                                                                              | 1/2448 [00:00<28:00,  1.46it/s]\n"
     ]
    },
    {
     "name": "stdout",
     "output_type": "stream",
     "text": [
      "Max plots reached\n",
      "Plot /data01/homes/baroncelli/phd/rtapipe/notebooks/run_20221127-155511/model_AnomalyDetector_rnn_l2_u32_dataset_train_itime_1_a_tsl_5_nbins_3_tsl_3600/AnomalyDetector_rnn_l2_u32_train_val_loss.png created.\n"
     ]
    }
   ],
   "source": [
    "timesteps = train_x[0].shape[0]\n",
    "nfeatures = train_x[0].shape[1]\n",
    "batch_size = 32\n",
    "\n",
    "outDirRoot = Path(\"./\").parent.resolve().joinpath(f\"run_{strftime('%Y%m%d-%H%M%S')}\")\n",
    "\n",
    "for model_name in model_names:\n",
    "    \n",
    "    print(f\"\\n\\n\\n********************* {model_name} training *********************\\n\\n\")\n",
    "    outDirBase = outDirRoot.joinpath(f\"model_{model_name}_dataset_{dataset_id}_tsl_{tsl}\")\n",
    "    outDirBase.mkdir(parents=True, exist_ok=True)\n",
    "    data_manager.store_scaler(integration_time, tsl, outDirBase)\n",
    "    with open(outDirBase.joinpath('dataset_params.json'), 'w') as handle:\n",
    "        json.dump({\"id\":dataset_id, \"path\":dataset_folder, \"runid\": \"notemplate\", \"itime\":5, \"tsl\":5, \"normalized\":True, \"delay\":0, \"offset\":0}, handle)\n",
    "\n",
    "    \n",
    "    # Callbacks \n",
    "    clc = CustomLogCallback(\n",
    "            [1, 5, 10, 50, 100 ,200],\n",
    "            validation_data=(val_x, val_y), \n",
    "            out_dir_root=outDirBase, \n",
    "            wandb_run=None, \n",
    "            metadata={\"dataset_id\": dataset_id, \"model\": model_name, \"training\": \"heavy\"}\n",
    "    )\n",
    "    ea = EarlyStopping(monitor=\"val_loss\", patience=EARLY_STOPPING_PATIENCE, mode=\"min\")\n",
    "    callbacks = [\n",
    "        ea, clc\n",
    "    ]\n",
    "    \n",
    "    anomalyDetector = AnomalyDetectorBuilder.getAnomalyDetector(model_name, timesteps, nfeatures)\n",
    "    anomalyDetector.model.compile(optimizer='adam', loss=CustomMSE(nfeatures, output_dir=outDirBase)) # \n",
    "    anomalyDetector.model.summary()\n",
    "    anomalyDetector.store_parameters(outDirBase)\n",
    "\n",
    "    history = anomalyDetector.model.fit(train_x, train_x, verbose=0, epochs=200, batch_size=batch_size, validation_data=(val_x, val_x), callbacks=callbacks)\n",
    "    clc.on_epoch_end(None, force=True)\n",
    "    loss_plot(history.history[\"loss\"], history.history[\"val_loss\"], model_name=model_name, title=f\"Training loss\", outputDir=outDirBase, figName=\"train_val_loss.png\", showFig=False)"
   ]
  }
 ],
 "metadata": {
  "kernelspec": {
   "display_name": "phd-tf",
   "language": "python",
   "name": "phd-tf"
  },
  "language_info": {
   "codemirror_mode": {
    "name": "ipython",
    "version": 3
   },
   "file_extension": ".py",
   "mimetype": "text/x-python",
   "name": "python",
   "nbconvert_exporter": "python",
   "pygments_lexer": "ipython3",
   "version": "3.9.13"
  }
 },
 "nbformat": 4,
 "nbformat_minor": 5
}
