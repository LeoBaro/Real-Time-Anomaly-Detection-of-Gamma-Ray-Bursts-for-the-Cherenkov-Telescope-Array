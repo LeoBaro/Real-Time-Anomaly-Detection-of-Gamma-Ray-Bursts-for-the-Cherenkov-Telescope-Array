{
 "cells": [
  {
   "cell_type": "code",
   "execution_count": 1,
   "id": "2ca34300",
   "metadata": {},
   "outputs": [],
   "source": [
    "import os\n",
    "os.environ['TF_CPP_MIN_LOG_LEVEL'] = '3'\n",
    "import json\n",
    "import tensorflow as tf\n",
    "import argparse\n",
    "import numpy as np\n",
    "from pathlib import Path\n",
    "from time import strftime\n",
    "from shutil import rmtree\n",
    "import matplotlib.pyplot as plt\n",
    "from tensorflow.keras.callbacks import EarlyStopping\n",
    "import wandb\n",
    "from wandb.keras import WandbCallback"
   ]
  },
  {
   "cell_type": "code",
   "execution_count": 2,
   "id": "8232078c",
   "metadata": {},
   "outputs": [],
   "source": [
    "from rtapipe.lib.dataset.data_manager import DataManager\n",
    "from rtapipe.lib.datasource.Photometry3 import OnlinePhotometry, SimulationParams\n",
    "from rtapipe.lib.models.anomaly_detector_builder import AnomalyDetectorBuilder\n",
    "from rtapipe.scripts.ml.offline.callbacks import CustomLogCallback\n",
    "from rtapipe.lib.evaluation.custom_mse import CustomMSE\n",
    "from rtapipe.lib.plotting.plotting import plot_sequences, loss_plot"
   ]
  },
  {
   "cell_type": "markdown",
   "id": "d8569058",
   "metadata": {},
   "source": [
    "## Configuration"
   ]
  },
  {
   "cell_type": "code",
   "execution_count": 3,
   "id": "a8f69730",
   "metadata": {},
   "outputs": [],
   "source": [
    "output_dir = \"./logs/train_models_new_data_manager_itime_1\""
   ]
  },
  {
   "cell_type": "code",
   "execution_count": 4,
   "id": "15c91e4c",
   "metadata": {},
   "outputs": [],
   "source": [
    "dataset_folder = \"/data01/homes/baroncelli/phd/rtapipe/scripts/ml/dataset_generation/train/North_z40_5h_LST/itime_5_b/fits_data\""
   ]
  },
  {
   "cell_type": "code",
   "execution_count": 5,
   "id": "4f4a7064",
   "metadata": {},
   "outputs": [],
   "source": [
    "SCALER_TYPE=\"minmax\""
   ]
  },
  {
   "cell_type": "code",
   "execution_count": 6,
   "id": "2eeefb7c",
   "metadata": {},
   "outputs": [],
   "source": [
    "features_names = [\"EB_0.04-0.117\",\"EB_2-0.117-0.342\",\"EB_0.342-1\"]"
   ]
  },
  {
   "cell_type": "code",
   "execution_count": 7,
   "id": "88563f32",
   "metadata": {},
   "outputs": [
    {
     "name": "stdout",
     "output_type": "stream",
     "text": [
      "Loaded 10 files\n"
     ]
    }
   ],
   "source": [
    "fits_files = DataManager.load_fits_data(dataset_folder, limit=10)"
   ]
  },
  {
   "cell_type": "code",
   "execution_count": 8,
   "id": "5074aae0",
   "metadata": {},
   "outputs": [],
   "source": [
    "sim_params = SimulationParams(runid=\"run0406_ID000126\", onset=0, emin=0.04, emax=1, tmin=0, tobs=500, offset=0.5, irf=\"North_z40_5h_LST\", roi=2.5, caldb=\"prod5-v0.1\", simtype=\"bkg\")"
   ]
  },
  {
   "cell_type": "code",
   "execution_count": 9,
   "id": "0b9ec984",
   "metadata": {},
   "outputs": [],
   "source": [
    "dataset_id=\"train_itime_1_a_tsl_5_nbins_3\""
   ]
  },
  {
   "cell_type": "code",
   "execution_count": 10,
   "id": "4edd3fb3",
   "metadata": {},
   "outputs": [
    {
     "name": "stdout",
     "output_type": "stream",
     "text": [
      "[2023-01-26 16:45:18.805667] Loaded data from logs/train_models_new_data_manager_itime_1/data_cache. Loaded 1 templates.\n"
     ]
    }
   ],
   "source": [
    "multiple_templates = False\n",
    "add_target_region = False\n",
    "integration_time = 1\n",
    "number_of_energy_bins = 3\n",
    "tsl = 500\n",
    "threads = 30\n",
    "normalize = True\n",
    "data_manager = DataManager(output_dir)\n",
    "#data_manager.transform_to_timeseries(fits_files, sim_params, add_target_region, integration_time=integration_time, number_of_energy_bins=number_of_energy_bins, tsl=tsl, normalize=normalize, threads=threads, multiple_templates=multiple_templates)\n",
    "data_manager.load_saved_data(1, 500) # <--- LOAD ME"
   ]
  },
  {
   "cell_type": "code",
   "execution_count": 11,
   "id": "02d29527",
   "metadata": {},
   "outputs": [],
   "source": [
    "assert data_manager.data[\"notemplate\"].shape == (850, 500, 3)"
   ]
  },
  {
   "cell_type": "code",
   "execution_count": 12,
   "id": "28e62034",
   "metadata": {},
   "outputs": [
    {
     "name": "stdout",
     "output_type": "stream",
     "text": [
      "[2023-01-26 16:45:18.820605] Extracting subsequences of 5 points with stride 5 from 850 time series\n",
      "[2023-01-26 16:45:21.564163] Extracted 85000 subsequences\n",
      "[2023-01-26 16:45:21.568192] Train set shape: (68000, 5, 3) - Validation set shape: (17000, 5, 3)\n",
      "[2023-01-26 16:45:21.568218] Data will be scaled to 0-1\n"
     ]
    }
   ],
   "source": [
    "train_x, train_y , val_x, val_y = data_manager.get_train_set(\"notemplate\", sub_window_size=5, stride=5, validation_split=80)"
   ]
  },
  {
   "cell_type": "code",
   "execution_count": 13,
   "id": "b9b070ef",
   "metadata": {},
   "outputs": [],
   "source": [
    "TRAINING_DATA_DROP=80"
   ]
  },
  {
   "cell_type": "code",
   "execution_count": 14,
   "id": "3bf5436b",
   "metadata": {},
   "outputs": [
    {
     "name": "stdout",
     "output_type": "stream",
     "text": [
      "(13600, 5, 3) (13600,)\n",
      "(3400, 5, 3) (3400,)\n"
     ]
    }
   ],
   "source": [
    "drop_train = int(train_x.shape[0] - train_x.shape[0]*TRAINING_DATA_DROP / 100)\n",
    "drop_val = int(val_x.shape[0] - val_x.shape[0]*TRAINING_DATA_DROP / 100)\n",
    "\n",
    "train_x = train_x[:drop_train, :, :]\n",
    "train_y = train_y[:drop_train]\n",
    "val_x = val_x[:drop_val, :, :]\n",
    "val_y = val_y[:drop_val]\n",
    "\n",
    "print(train_x.shape, train_y.shape)\n",
    "print(val_x.shape, val_y.shape)"
   ]
  },
  {
   "cell_type": "code",
   "execution_count": 15,
   "id": "1a3084a2",
   "metadata": {},
   "outputs": [
    {
     "data": {
      "text/plain": [
       "(13600, 5, 3)"
      ]
     },
     "execution_count": 15,
     "metadata": {},
     "output_type": "execute_result"
    }
   ],
   "source": [
    "train_x.shape"
   ]
  },
  {
   "cell_type": "code",
   "execution_count": 16,
   "id": "af6bb378",
   "metadata": {},
   "outputs": [
    {
     "data": {
      "text/plain": [
       "(3400, 5, 3)"
      ]
     },
     "execution_count": 16,
     "metadata": {},
     "output_type": "execute_result"
    }
   ],
   "source": [
    "val_x.shape"
   ]
  },
  {
   "cell_type": "code",
   "execution_count": 17,
   "id": "447ca24f",
   "metadata": {
    "scrolled": true
   },
   "outputs": [],
   "source": [
    "#import matplotlib\n",
    "#matplotlib.use(\"TKAgg\", force=True)\n",
    "#%matplotlib inline\n",
    "#plot_sequences(train_x[0:5], scaled=True, labels=[\"first sample of validation set\"], features_names=features_names, showFig=True, saveFig=True)"
   ]
  },
  {
   "cell_type": "code",
   "execution_count": 18,
   "id": "19b6ced3",
   "metadata": {},
   "outputs": [],
   "source": [
    "model_names = AnomalyDetectorBuilder.getModelsName()"
   ]
  },
  {
   "cell_type": "code",
   "execution_count": 19,
   "id": "55e9259b",
   "metadata": {},
   "outputs": [],
   "source": [
    "model_names = [model_name for model_name in model_names if \"lstm\" in model_name]\n",
    "model_names = [\"AnomalyDetector_cnn_l2_u32\", \"AnomalyDetector_rnn_l2_u32\"]#, \"AnomalyDetector_lstm_l2_u32\"]"
   ]
  },
  {
   "cell_type": "code",
   "execution_count": 20,
   "id": "cb04b140",
   "metadata": {},
   "outputs": [],
   "source": [
    "EARLY_STOPPING_PATIENCE=5\n",
    "EPOCHS=10"
   ]
  },
  {
   "cell_type": "code",
   "execution_count": 21,
   "id": "b685ed62",
   "metadata": {},
   "outputs": [],
   "source": [
    "callbacks = []"
   ]
  },
  {
   "cell_type": "code",
   "execution_count": 22,
   "id": "c02c840e",
   "metadata": {
    "scrolled": false
   },
   "outputs": [
    {
     "name": "stdout",
     "output_type": "stream",
     "text": [
      "\n",
      "\n",
      "\n",
      "********************* AnomalyDetector_cnn_l2_u32 training *********************\n",
      "\n",
      "\n",
      "Storing scaler to /data01/homes/baroncelli/phd/rtapipe/notebooks/run_20230126-164521/model_AnomalyDetector_cnn_l2_u32_dataset_train_itime_1_a_tsl_5_nbins_3_tsl_500/fitted_scaler_minmax_itime_1_tsl_500.pickle\n"
     ]
    },
    {
     "name": "stderr",
     "output_type": "stream",
     "text": [
      "\u001b[34m\u001b[1mwandb\u001b[0m: Currently logged in as: \u001b[33mleobaro_\u001b[0m. Use \u001b[1m`wandb login --relogin`\u001b[0m to force relogin\n"
     ]
    },
    {
     "data": {
      "text/html": [
       "wandb version 0.13.9 is available!  To upgrade, please run:\n",
       " $ pip install wandb --upgrade"
      ],
      "text/plain": [
       "<IPython.core.display.HTML object>"
      ]
     },
     "metadata": {},
     "output_type": "display_data"
    },
    {
     "data": {
      "text/html": [
       "Tracking run with wandb version 0.13.7"
      ],
      "text/plain": [
       "<IPython.core.display.HTML object>"
      ]
     },
     "metadata": {},
     "output_type": "display_data"
    },
    {
     "data": {
      "text/html": [
       "Run data is saved locally in <code>/data01/homes/baroncelli/phd/rtapipe/notebooks/wandb/run-20230126_164523-2vu469x1</code>"
      ],
      "text/plain": [
       "<IPython.core.display.HTML object>"
      ]
     },
     "metadata": {},
     "output_type": "display_data"
    },
    {
     "data": {
      "text/html": [
       "Syncing run <strong><a href=\"https://wandb.ai/leobaro_/phd-prod5-29-december-2022-run-20230126-164521/runs/2vu469x1\" target=\"_blank\">glowing-dragon-1</a></strong> to <a href=\"https://wandb.ai/leobaro_/phd-prod5-29-december-2022-run-20230126-164521\" target=\"_blank\">Weights & Biases</a> (<a href=\"https://wandb.me/run\" target=\"_blank\">docs</a>)<br/>"
      ],
      "text/plain": [
       "<IPython.core.display.HTML object>"
      ]
     },
     "metadata": {},
     "output_type": "display_data"
    },
    {
     "name": "stderr",
     "output_type": "stream",
     "text": [
      "\u001b[34m\u001b[1mwandb\u001b[0m: \u001b[33mWARNING\u001b[0m The save_model argument by default saves the model in the HDF5 format that cannot save custom objects like subclassed models and custom layers. This behavior will be deprecated in a future release in favor of the SavedModel format. Meanwhile, the HDF5 model is saved as W&B files and the SavedModel as W&B Artifacts.\n"
     ]
    },
    {
     "name": "stdout",
     "output_type": "stream",
     "text": [
      "AnomalyDetector_cnn_l2_u32 - input shape: (5,3)\n",
      "Model: \"sequential\"\n",
      "_________________________________________________________________\n",
      "Layer (type)                 Output Shape              Param #   \n",
      "=================================================================\n",
      "conv1d (Conv1D)              (None, 3, 32)             320       \n",
      "_________________________________________________________________\n",
      "dropout (Dropout)            (None, 3, 32)             0         \n",
      "_________________________________________________________________\n",
      "max_pooling1d (MaxPooling1D) (None, 2, 32)             0         \n",
      "_________________________________________________________________\n",
      "conv1d_transpose (Conv1DTran (None, 5, 3)              291       \n",
      "_________________________________________________________________\n",
      "dropout_1 (Dropout)          (None, 5, 3)              0         \n",
      "=================================================================\n",
      "Total params: 611\n",
      "Trainable params: 611\n",
      "Non-trainable params: 0\n",
      "_________________________________________________________________\n",
      "INFO:tensorflow:Assets written to: /data01/homes/baroncelli/phd/rtapipe/notebooks/wandb/run-20230126_164523-2vu469x1/files/model-best/assets\n"
     ]
    },
    {
     "name": "stderr",
     "output_type": "stream",
     "text": [
      "\u001b[34m\u001b[1mwandb\u001b[0m: Adding directory to artifact (/data01/homes/baroncelli/phd/rtapipe/notebooks/wandb/run-20230126_164523-2vu469x1/files/model-best)... Done. 0.1s\n"
     ]
    },
    {
     "name": "stdout",
     "output_type": "stream",
     "text": [
      "\n",
      "\n",
      "----------------- Checkpoint! Saving data at epoch 1 (Triggered by Early Stopping=False) -----------------\n",
      "INFO:tensorflow:Assets written to: /data01/homes/baroncelli/phd/rtapipe/notebooks/run_20230126-164521/model_AnomalyDetector_cnn_l2_u32_dataset_train_itime_1_a_tsl_5_nbins_3_tsl_500/epochs/epoch_1/trained_model/assets\n",
      "107/107 [==============================] - 0s 2ms/step\n",
      "INFO:tensorflow:Assets written to: /data01/homes/baroncelli/phd/rtapipe/notebooks/wandb/run-20230126_164523-2vu469x1/files/model-best/assets\n"
     ]
    },
    {
     "name": "stderr",
     "output_type": "stream",
     "text": [
      "\u001b[34m\u001b[1mwandb\u001b[0m: Adding directory to artifact (/data01/homes/baroncelli/phd/rtapipe/notebooks/wandb/run-20230126_164523-2vu469x1/files/model-best)... Done. 0.0s\n"
     ]
    },
    {
     "name": "stdout",
     "output_type": "stream",
     "text": [
      "INFO:tensorflow:Assets written to: /data01/homes/baroncelli/phd/rtapipe/notebooks/wandb/run-20230126_164523-2vu469x1/files/model-best/assets\n"
     ]
    },
    {
     "name": "stderr",
     "output_type": "stream",
     "text": [
      "\u001b[34m\u001b[1mwandb\u001b[0m: Adding directory to artifact (/data01/homes/baroncelli/phd/rtapipe/notebooks/wandb/run-20230126_164523-2vu469x1/files/model-best)... Done. 0.0s\n"
     ]
    },
    {
     "name": "stdout",
     "output_type": "stream",
     "text": [
      "INFO:tensorflow:Assets written to: /data01/homes/baroncelli/phd/rtapipe/notebooks/wandb/run-20230126_164523-2vu469x1/files/model-best/assets\n"
     ]
    },
    {
     "name": "stderr",
     "output_type": "stream",
     "text": [
      "\u001b[34m\u001b[1mwandb\u001b[0m: Adding directory to artifact (/data01/homes/baroncelli/phd/rtapipe/notebooks/wandb/run-20230126_164523-2vu469x1/files/model-best)... Done. 0.0s\n"
     ]
    },
    {
     "name": "stdout",
     "output_type": "stream",
     "text": [
      "\n",
      "\n",
      "----------------- Checkpoint! Saving data at epoch 5 (Triggered by Early Stopping=False) -----------------\n",
      "INFO:tensorflow:Assets written to: /data01/homes/baroncelli/phd/rtapipe/notebooks/run_20230126-164521/model_AnomalyDetector_cnn_l2_u32_dataset_train_itime_1_a_tsl_5_nbins_3_tsl_500/epochs/epoch_5/trained_model/assets\n",
      "107/107 [==============================] - 0s 1ms/step\n",
      "INFO:tensorflow:Assets written to: /data01/homes/baroncelli/phd/rtapipe/notebooks/wandb/run-20230126_164523-2vu469x1/files/model-best/assets\n"
     ]
    },
    {
     "name": "stderr",
     "output_type": "stream",
     "text": [
      "\u001b[34m\u001b[1mwandb\u001b[0m: Adding directory to artifact (/data01/homes/baroncelli/phd/rtapipe/notebooks/wandb/run-20230126_164523-2vu469x1/files/model-best)... Done. 0.0s\n"
     ]
    },
    {
     "name": "stdout",
     "output_type": "stream",
     "text": [
      "INFO:tensorflow:Assets written to: /data01/homes/baroncelli/phd/rtapipe/notebooks/wandb/run-20230126_164523-2vu469x1/files/model-best/assets\n"
     ]
    },
    {
     "name": "stderr",
     "output_type": "stream",
     "text": [
      "\u001b[34m\u001b[1mwandb\u001b[0m: Adding directory to artifact (/data01/homes/baroncelli/phd/rtapipe/notebooks/wandb/run-20230126_164523-2vu469x1/files/model-best)... Done. 0.0s\n"
     ]
    },
    {
     "name": "stdout",
     "output_type": "stream",
     "text": [
      "INFO:tensorflow:Assets written to: /data01/homes/baroncelli/phd/rtapipe/notebooks/wandb/run-20230126_164523-2vu469x1/files/model-best/assets\n"
     ]
    },
    {
     "name": "stderr",
     "output_type": "stream",
     "text": [
      "\u001b[34m\u001b[1mwandb\u001b[0m: Adding directory to artifact (/data01/homes/baroncelli/phd/rtapipe/notebooks/wandb/run-20230126_164523-2vu469x1/files/model-best)... Done. 0.0s\n"
     ]
    },
    {
     "name": "stdout",
     "output_type": "stream",
     "text": [
      "\n",
      "\n",
      "----------------- Checkpoint! Saving data at epoch 10 (Triggered by Early Stopping=False) -----------------\n",
      "INFO:tensorflow:Assets written to: /data01/homes/baroncelli/phd/rtapipe/notebooks/run_20230126-164521/model_AnomalyDetector_cnn_l2_u32_dataset_train_itime_1_a_tsl_5_nbins_3_tsl_500/epochs/epoch_10/trained_model/assets\n",
      "107/107 [==============================] - 0s 1ms/step\n",
      "\n",
      "\n",
      "----------------- Checkpoint! Saving data at epoch 11 (Triggered by Early Stopping=True) -----------------\n",
      "INFO:tensorflow:Assets written to: /data01/homes/baroncelli/phd/rtapipe/notebooks/run_20230126-164521/model_AnomalyDetector_cnn_l2_u32_dataset_train_itime_1_a_tsl_5_nbins_3_tsl_500/epochs/epoch_11/trained_model/assets\n",
      "107/107 [==============================] - 0s 1ms/step\n",
      "Plot /data01/homes/baroncelli/phd/rtapipe/notebooks/run_20230126-164521/model_AnomalyDetector_cnn_l2_u32_dataset_train_itime_1_a_tsl_5_nbins_3_tsl_500/AnomalyDetector_cnn_l2_u32_train_val_loss.png created.\n",
      "\n",
      "\n",
      "\n",
      "********************* AnomalyDetector_rnn_l2_u32 training *********************\n",
      "\n",
      "\n",
      "Storing scaler to /data01/homes/baroncelli/phd/rtapipe/notebooks/run_20230126-164521/model_AnomalyDetector_rnn_l2_u32_dataset_train_itime_1_a_tsl_5_nbins_3_tsl_500/fitted_scaler_minmax_itime_1_tsl_500.pickle\n"
     ]
    },
    {
     "data": {
      "text/html": [
       "Finishing last run (ID:2vu469x1) before initializing another..."
      ],
      "text/plain": [
       "<IPython.core.display.HTML object>"
      ]
     },
     "metadata": {},
     "output_type": "display_data"
    },
    {
     "data": {
      "text/html": [
       "Waiting for W&B process to finish... <strong style=\"color:green\">(success).</strong>"
      ],
      "text/plain": [
       "<IPython.core.display.HTML object>"
      ]
     },
     "metadata": {},
     "output_type": "display_data"
    },
    {
     "data": {
      "text/html": [
       "<style>\n",
       "    table.wandb td:nth-child(1) { padding: 0 10px; text-align: left ; width: auto;} td:nth-child(2) {text-align: left ; width: 100%}\n",
       "    .wandb-row { display: flex; flex-direction: row; flex-wrap: wrap; justify-content: flex-start; width: 100% }\n",
       "    .wandb-col { display: flex; flex-direction: column; flex-basis: 100%; flex: 1; padding: 10px; }\n",
       "    </style>\n",
       "<div class=\"wandb-row\"><div class=\"wandb-col\"><h3>Run history:</h3><br/><table class=\"wandb\"><tr><td>epoch</td><td>▁▂▃▃▄▅▆▆▇█</td></tr><tr><td>loss</td><td>█▃▂▂▁▁▁▂▁▁</td></tr><tr><td>val_loss</td><td>█▅▃▅▂▂▃▂▂▁</td></tr></table><br/></div><div class=\"wandb-col\"><h3>Run summary:</h3><br/><table class=\"wandb\"><tr><td>best_epoch</td><td>9</td></tr><tr><td>best_val_loss</td><td>0.00064</td></tr><tr><td>epoch</td><td>9</td></tr><tr><td>loss</td><td>0.00211</td></tr><tr><td>val_loss</td><td>0.00064</td></tr></table><br/></div></div>"
      ],
      "text/plain": [
       "<IPython.core.display.HTML object>"
      ]
     },
     "metadata": {},
     "output_type": "display_data"
    },
    {
     "data": {
      "text/html": [
       "Synced <strong style=\"color:#cdcd00\">glowing-dragon-1</strong>: <a href=\"https://wandb.ai/leobaro_/phd-prod5-29-december-2022-run-20230126-164521/runs/2vu469x1\" target=\"_blank\">https://wandb.ai/leobaro_/phd-prod5-29-december-2022-run-20230126-164521/runs/2vu469x1</a><br/>Synced 6 W&B file(s), 0 media file(s), 21 artifact file(s) and 1 other file(s)"
      ],
      "text/plain": [
       "<IPython.core.display.HTML object>"
      ]
     },
     "metadata": {},
     "output_type": "display_data"
    },
    {
     "data": {
      "text/html": [
       "Find logs at: <code>./wandb/run-20230126_164523-2vu469x1/logs</code>"
      ],
      "text/plain": [
       "<IPython.core.display.HTML object>"
      ]
     },
     "metadata": {},
     "output_type": "display_data"
    },
    {
     "data": {
      "text/html": [
       "Successfully finished last run (ID:2vu469x1). Initializing new run:<br/>"
      ],
      "text/plain": [
       "<IPython.core.display.HTML object>"
      ]
     },
     "metadata": {},
     "output_type": "display_data"
    },
    {
     "data": {
      "application/vnd.jupyter.widget-view+json": {
       "model_id": "a61cd428674f4195bb5e1117eba8e3f6",
       "version_major": 2,
       "version_minor": 0
      },
      "text/plain": [
       "VBox(children=(Label(value='Waiting for wandb.init()...\\r'), FloatProgress(value=0.016670500766485928, max=1.0…"
      ]
     },
     "metadata": {},
     "output_type": "display_data"
    },
    {
     "data": {
      "text/html": [
       "wandb version 0.13.9 is available!  To upgrade, please run:\n",
       " $ pip install wandb --upgrade"
      ],
      "text/plain": [
       "<IPython.core.display.HTML object>"
      ]
     },
     "metadata": {},
     "output_type": "display_data"
    },
    {
     "data": {
      "text/html": [
       "Tracking run with wandb version 0.13.7"
      ],
      "text/plain": [
       "<IPython.core.display.HTML object>"
      ]
     },
     "metadata": {},
     "output_type": "display_data"
    },
    {
     "data": {
      "text/html": [
       "Run data is saved locally in <code>/data01/homes/baroncelli/phd/rtapipe/notebooks/wandb/run-20230126_164559-s3upibng</code>"
      ],
      "text/plain": [
       "<IPython.core.display.HTML object>"
      ]
     },
     "metadata": {},
     "output_type": "display_data"
    },
    {
     "data": {
      "text/html": [
       "Syncing run <strong><a href=\"https://wandb.ai/leobaro_/phd-prod5-29-december-2022-run-20230126-164559/runs/s3upibng\" target=\"_blank\">enchanting-mandu-1</a></strong> to <a href=\"https://wandb.ai/leobaro_/phd-prod5-29-december-2022-run-20230126-164559\" target=\"_blank\">Weights & Biases</a> (<a href=\"https://wandb.me/run\" target=\"_blank\">docs</a>)<br/>"
      ],
      "text/plain": [
       "<IPython.core.display.HTML object>"
      ]
     },
     "metadata": {},
     "output_type": "display_data"
    },
    {
     "name": "stdout",
     "output_type": "stream",
     "text": [
      "AnomalyDetector_rnn_l2_u32 - input shape: (5,3)\n",
      "Model: \"sequential_1\"\n",
      "_________________________________________________________________\n",
      "Layer (type)                 Output Shape              Param #   \n",
      "=================================================================\n",
      "simple_rnn (SimpleRNN)       (None, 32)                1152      \n",
      "_________________________________________________________________\n",
      "dropout_2 (Dropout)          (None, 32)                0         \n",
      "_________________________________________________________________\n",
      "repeat_vector (RepeatVector) (None, 5, 32)             0         \n",
      "_________________________________________________________________\n",
      "simple_rnn_1 (SimpleRNN)     (None, 5, 32)             2080      \n",
      "_________________________________________________________________\n",
      "dropout_3 (Dropout)          (None, 5, 32)             0         \n",
      "_________________________________________________________________\n",
      "time_distributed (TimeDistri (None, 5, 3)              99        \n",
      "=================================================================\n",
      "Total params: 3,331\n",
      "Trainable params: 3,331\n",
      "Non-trainable params: 0\n",
      "_________________________________________________________________\n",
      "INFO:tensorflow:Assets written to: /data01/homes/baroncelli/phd/rtapipe/notebooks/wandb/run-20230126_164523-2vu469x1/files/model-best/assets\n"
     ]
    },
    {
     "name": "stderr",
     "output_type": "stream",
     "text": [
      "\u001b[34m\u001b[1mwandb\u001b[0m: Adding directory to artifact (/data01/homes/baroncelli/phd/rtapipe/notebooks/wandb/run-20230126_164523-2vu469x1/files/model-best)... Done. 0.0s\n"
     ]
    },
    {
     "name": "stdout",
     "output_type": "stream",
     "text": [
      "INFO:tensorflow:Assets written to: /data01/homes/baroncelli/phd/rtapipe/notebooks/wandb/run-20230126_164559-s3upibng/files/model-best/assets\n"
     ]
    },
    {
     "name": "stderr",
     "output_type": "stream",
     "text": [
      "\u001b[34m\u001b[1mwandb\u001b[0m: Adding directory to artifact (/data01/homes/baroncelli/phd/rtapipe/notebooks/wandb/run-20230126_164559-s3upibng/files/model-best)... Done. 0.0s\n"
     ]
    },
    {
     "name": "stdout",
     "output_type": "stream",
     "text": [
      "\n",
      "\n",
      "----------------- Checkpoint! Saving data at epoch 1 (Triggered by Early Stopping=False) -----------------\n",
      "INFO:tensorflow:Assets written to: /data01/homes/baroncelli/phd/rtapipe/notebooks/run_20230126-164521/model_AnomalyDetector_rnn_l2_u32_dataset_train_itime_1_a_tsl_5_nbins_3_tsl_500/epochs/epoch_1/trained_model/assets\n",
      "107/107 [==============================] - 1s 3ms/step\n",
      "INFO:tensorflow:Assets written to: /data01/homes/baroncelli/phd/rtapipe/notebooks/wandb/run-20230126_164523-2vu469x1/files/model-best/assets\n"
     ]
    },
    {
     "name": "stderr",
     "output_type": "stream",
     "text": [
      "\u001b[34m\u001b[1mwandb\u001b[0m: Adding directory to artifact (/data01/homes/baroncelli/phd/rtapipe/notebooks/wandb/run-20230126_164523-2vu469x1/files/model-best)... Done. 0.0s\n"
     ]
    },
    {
     "name": "stdout",
     "output_type": "stream",
     "text": [
      "INFO:tensorflow:Assets written to: /data01/homes/baroncelli/phd/rtapipe/notebooks/wandb/run-20230126_164559-s3upibng/files/model-best/assets\n"
     ]
    },
    {
     "name": "stderr",
     "output_type": "stream",
     "text": [
      "\u001b[34m\u001b[1mwandb\u001b[0m: Adding directory to artifact (/data01/homes/baroncelli/phd/rtapipe/notebooks/wandb/run-20230126_164559-s3upibng/files/model-best)... Done. 0.0s\n"
     ]
    },
    {
     "name": "stdout",
     "output_type": "stream",
     "text": [
      "INFO:tensorflow:Assets written to: /data01/homes/baroncelli/phd/rtapipe/notebooks/wandb/run-20230126_164523-2vu469x1/files/model-best/assets\n"
     ]
    },
    {
     "name": "stderr",
     "output_type": "stream",
     "text": [
      "\u001b[34m\u001b[1mwandb\u001b[0m: Adding directory to artifact (/data01/homes/baroncelli/phd/rtapipe/notebooks/wandb/run-20230126_164523-2vu469x1/files/model-best)... Done. 0.0s\n"
     ]
    },
    {
     "name": "stdout",
     "output_type": "stream",
     "text": [
      "INFO:tensorflow:Assets written to: /data01/homes/baroncelli/phd/rtapipe/notebooks/wandb/run-20230126_164559-s3upibng/files/model-best/assets\n"
     ]
    },
    {
     "name": "stderr",
     "output_type": "stream",
     "text": [
      "\u001b[34m\u001b[1mwandb\u001b[0m: Adding directory to artifact (/data01/homes/baroncelli/phd/rtapipe/notebooks/wandb/run-20230126_164559-s3upibng/files/model-best)... Done. 0.0s\n"
     ]
    },
    {
     "name": "stdout",
     "output_type": "stream",
     "text": [
      "INFO:tensorflow:Assets written to: /data01/homes/baroncelli/phd/rtapipe/notebooks/wandb/run-20230126_164523-2vu469x1/files/model-best/assets\n"
     ]
    },
    {
     "name": "stderr",
     "output_type": "stream",
     "text": [
      "\u001b[34m\u001b[1mwandb\u001b[0m: Adding directory to artifact (/data01/homes/baroncelli/phd/rtapipe/notebooks/wandb/run-20230126_164523-2vu469x1/files/model-best)... Done. 0.0s\n"
     ]
    },
    {
     "name": "stdout",
     "output_type": "stream",
     "text": [
      "INFO:tensorflow:Assets written to: /data01/homes/baroncelli/phd/rtapipe/notebooks/wandb/run-20230126_164559-s3upibng/files/model-best/assets\n"
     ]
    },
    {
     "name": "stderr",
     "output_type": "stream",
     "text": [
      "\u001b[34m\u001b[1mwandb\u001b[0m: Adding directory to artifact (/data01/homes/baroncelli/phd/rtapipe/notebooks/wandb/run-20230126_164559-s3upibng/files/model-best)... Done. 0.0s\n"
     ]
    },
    {
     "name": "stdout",
     "output_type": "stream",
     "text": [
      "INFO:tensorflow:Assets written to: /data01/homes/baroncelli/phd/rtapipe/notebooks/wandb/run-20230126_164523-2vu469x1/files/model-best/assets\n"
     ]
    },
    {
     "name": "stderr",
     "output_type": "stream",
     "text": [
      "\u001b[34m\u001b[1mwandb\u001b[0m: Adding directory to artifact (/data01/homes/baroncelli/phd/rtapipe/notebooks/wandb/run-20230126_164523-2vu469x1/files/model-best)... Done. 0.0s\n"
     ]
    },
    {
     "name": "stdout",
     "output_type": "stream",
     "text": [
      "INFO:tensorflow:Assets written to: /data01/homes/baroncelli/phd/rtapipe/notebooks/wandb/run-20230126_164559-s3upibng/files/model-best/assets\n"
     ]
    },
    {
     "name": "stderr",
     "output_type": "stream",
     "text": [
      "\u001b[34m\u001b[1mwandb\u001b[0m: Adding directory to artifact (/data01/homes/baroncelli/phd/rtapipe/notebooks/wandb/run-20230126_164559-s3upibng/files/model-best)... Done. 0.0s\n"
     ]
    },
    {
     "name": "stdout",
     "output_type": "stream",
     "text": [
      "\n",
      "\n",
      "----------------- Checkpoint! Saving data at epoch 5 (Triggered by Early Stopping=False) -----------------\n",
      "INFO:tensorflow:Assets written to: /data01/homes/baroncelli/phd/rtapipe/notebooks/run_20230126-164521/model_AnomalyDetector_rnn_l2_u32_dataset_train_itime_1_a_tsl_5_nbins_3_tsl_500/epochs/epoch_5/trained_model/assets\n",
      "107/107 [==============================] - 0s 4ms/step\n",
      "INFO:tensorflow:Assets written to: /data01/homes/baroncelli/phd/rtapipe/notebooks/wandb/run-20230126_164523-2vu469x1/files/model-best/assets\n"
     ]
    },
    {
     "name": "stderr",
     "output_type": "stream",
     "text": [
      "\u001b[34m\u001b[1mwandb\u001b[0m: Adding directory to artifact (/data01/homes/baroncelli/phd/rtapipe/notebooks/wandb/run-20230126_164523-2vu469x1/files/model-best)... Done. 0.0s\n"
     ]
    },
    {
     "name": "stdout",
     "output_type": "stream",
     "text": [
      "INFO:tensorflow:Assets written to: /data01/homes/baroncelli/phd/rtapipe/notebooks/wandb/run-20230126_164559-s3upibng/files/model-best/assets\n"
     ]
    },
    {
     "name": "stderr",
     "output_type": "stream",
     "text": [
      "\u001b[34m\u001b[1mwandb\u001b[0m: Adding directory to artifact (/data01/homes/baroncelli/phd/rtapipe/notebooks/wandb/run-20230126_164559-s3upibng/files/model-best)... Done. 0.0s\n"
     ]
    },
    {
     "name": "stdout",
     "output_type": "stream",
     "text": [
      "INFO:tensorflow:Assets written to: /data01/homes/baroncelli/phd/rtapipe/notebooks/wandb/run-20230126_164523-2vu469x1/files/model-best/assets\n"
     ]
    },
    {
     "name": "stderr",
     "output_type": "stream",
     "text": [
      "\u001b[34m\u001b[1mwandb\u001b[0m: Adding directory to artifact (/data01/homes/baroncelli/phd/rtapipe/notebooks/wandb/run-20230126_164523-2vu469x1/files/model-best)... Done. 0.0s\n"
     ]
    },
    {
     "name": "stdout",
     "output_type": "stream",
     "text": [
      "INFO:tensorflow:Assets written to: /data01/homes/baroncelli/phd/rtapipe/notebooks/wandb/run-20230126_164559-s3upibng/files/model-best/assets\n"
     ]
    },
    {
     "name": "stderr",
     "output_type": "stream",
     "text": [
      "\u001b[34m\u001b[1mwandb\u001b[0m: Adding directory to artifact (/data01/homes/baroncelli/phd/rtapipe/notebooks/wandb/run-20230126_164559-s3upibng/files/model-best)... Done. 0.0s\n"
     ]
    },
    {
     "name": "stdout",
     "output_type": "stream",
     "text": [
      "INFO:tensorflow:Assets written to: /data01/homes/baroncelli/phd/rtapipe/notebooks/wandb/run-20230126_164523-2vu469x1/files/model-best/assets\n"
     ]
    },
    {
     "name": "stderr",
     "output_type": "stream",
     "text": [
      "\u001b[34m\u001b[1mwandb\u001b[0m: Adding directory to artifact (/data01/homes/baroncelli/phd/rtapipe/notebooks/wandb/run-20230126_164523-2vu469x1/files/model-best)... Done. 0.0s\n"
     ]
    },
    {
     "name": "stdout",
     "output_type": "stream",
     "text": [
      "INFO:tensorflow:Assets written to: /data01/homes/baroncelli/phd/rtapipe/notebooks/wandb/run-20230126_164559-s3upibng/files/model-best/assets\n"
     ]
    },
    {
     "name": "stderr",
     "output_type": "stream",
     "text": [
      "\u001b[34m\u001b[1mwandb\u001b[0m: Adding directory to artifact (/data01/homes/baroncelli/phd/rtapipe/notebooks/wandb/run-20230126_164559-s3upibng/files/model-best)... Done. 0.0s\n"
     ]
    },
    {
     "name": "stdout",
     "output_type": "stream",
     "text": [
      "\n",
      "\n",
      "----------------- Checkpoint! Saving data at epoch 20 (Triggered by Early Stopping=False) -----------------\n",
      "INFO:tensorflow:Assets written to: /data01/homes/baroncelli/phd/rtapipe/notebooks/run_20230126-164521/model_AnomalyDetector_cnn_l2_u32_dataset_train_itime_1_a_tsl_5_nbins_3_tsl_500/epochs/epoch_20/trained_model/assets\n",
      "107/107 [==============================] - 0s 3ms/step\n",
      "\n",
      "\n",
      "----------------- Checkpoint! Saving data at epoch 10 (Triggered by Early Stopping=False) -----------------\n",
      "INFO:tensorflow:Assets written to: /data01/homes/baroncelli/phd/rtapipe/notebooks/run_20230126-164521/model_AnomalyDetector_rnn_l2_u32_dataset_train_itime_1_a_tsl_5_nbins_3_tsl_500/epochs/epoch_10/trained_model/assets\n",
      "107/107 [==============================] - 0s 3ms/step\n",
      "\n",
      "\n",
      "----------------- Checkpoint! Saving data at epoch 11 (Triggered by Early Stopping=True) -----------------\n",
      "INFO:tensorflow:Assets written to: /data01/homes/baroncelli/phd/rtapipe/notebooks/run_20230126-164521/model_AnomalyDetector_rnn_l2_u32_dataset_train_itime_1_a_tsl_5_nbins_3_tsl_500/epochs/epoch_11/trained_model/assets\n",
      "107/107 [==============================] - 0s 4ms/step\n",
      "Plot /data01/homes/baroncelli/phd/rtapipe/notebooks/run_20230126-164521/model_AnomalyDetector_rnn_l2_u32_dataset_train_itime_1_a_tsl_5_nbins_3_tsl_500/AnomalyDetector_rnn_l2_u32_train_val_loss.png created.\n"
     ]
    }
   ],
   "source": [
    "timesteps = train_x[0].shape[0]\n",
    "nfeatures = train_x[0].shape[1]\n",
    "batch_size = 32\n",
    "\n",
    "outDirRoot = Path(\"./\").parent.resolve().joinpath(f\"run_{strftime('%Y%m%d-%H%M%S')}\")\n",
    "\n",
    "for model_name in model_names:\n",
    "    \n",
    "    print(f\"\\n\\n\\n********************* {model_name} training *********************\\n\\n\")\n",
    "    outDirBase = outDirRoot.joinpath(f\"model_{model_name}_dataset_{dataset_id}_tsl_{tsl}\")\n",
    "\n",
    "    outDirBase.mkdir(parents=True, exist_ok=True)\n",
    "    data_manager.store_scaler(integration_time, tsl, SCALER_TYPE, outDirBase)\n",
    "    with open(outDirBase.joinpath('dataset_params.json'), 'w') as handle:\n",
    "        json.dump({\"id\":dataset_id, \"path\":dataset_folder, \"runid\": \"notemplate\", \"itime\":5, \"tsl\":5, \"normalized\":True, \"delay\":0, \"offset\":0}, handle)\n",
    "\n",
    "    # Callbacks \n",
    "    wandb_config = dict (\n",
    "        entity=\"leobaro_\",\n",
    "        dataset_id = dataset_id,\n",
    "        machine = \"agilehost3\",\n",
    "        job_type=\"train\",\n",
    "        batch_size = batch_size,\n",
    "        model = model_name\n",
    "    )\n",
    "    run = wandb.init(\n",
    "    project=f\"phd-prod5-29-december-2022-run-{strftime('%Y%m%d-%H%M%S')}\", config=wandb_config)\n",
    "\n",
    "    callbacks.append(WandbCallback())\n",
    "\n",
    "    clc = CustomLogCallback(\n",
    "            [1, 5, 10, 20],\n",
    "            validation_data=(val_x, val_y), \n",
    "            out_dir_root=outDirBase, \n",
    "            wandb_run=None, \n",
    "            metadata={\"dataset_id\": dataset_id, \"model\": model_name, \"training\": \"heavy\"}\n",
    "    )    \n",
    "    callbacks.append(clc)\n",
    "\n",
    "\n",
    "    ea = EarlyStopping(monitor=\"val_loss\", patience=EARLY_STOPPING_PATIENCE, mode=\"min\")\n",
    "    callbacks.append(ea)\n",
    "\n",
    "    anomalyDetector = AnomalyDetectorBuilder.getAnomalyDetector(model_name, timesteps, nfeatures)\n",
    "    anomalyDetector.model.compile(optimizer='adam', loss=CustomMSE(nfeatures, output_dir=outDirBase)) # \n",
    "    anomalyDetector.model.summary()\n",
    "    anomalyDetector.store_parameters(outDirBase)\n",
    "\n",
    "    history = anomalyDetector.model.fit(train_x, train_x, verbose=0, epochs=EPOCHS, batch_size=batch_size, validation_data=(val_x, val_x), callbacks=callbacks)\n",
    "    clc.on_epoch_end(None, force=True)\n",
    "    loss_plot(history.history[\"loss\"], history.history[\"val_loss\"], model_name=model_name, title=f\"Training loss\", outputDir=outDirBase, figName=\"train_val_loss.png\", showFig=False)"
   ]
  },
  {
   "cell_type": "code",
   "execution_count": null,
   "id": "90e9d6b8",
   "metadata": {},
   "outputs": [],
   "source": []
  }
 ],
 "metadata": {
  "kernelspec": {
   "display_name": "phd-tf",
   "language": "python",
   "name": "phd-tf"
  },
  "language_info": {
   "codemirror_mode": {
    "name": "ipython",
    "version": 3
   },
   "file_extension": ".py",
   "mimetype": "text/x-python",
   "name": "python",
   "nbconvert_exporter": "python",
   "pygments_lexer": "ipython3",
   "version": "3.9.13"
  }
 },
 "nbformat": 4,
 "nbformat_minor": 5
}
