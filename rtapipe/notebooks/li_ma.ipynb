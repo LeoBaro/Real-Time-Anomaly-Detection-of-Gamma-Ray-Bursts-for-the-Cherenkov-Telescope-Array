{
 "cells": [
  {
   "cell_type": "code",
   "execution_count": 1,
   "id": "a113ad6b",
   "metadata": {},
   "outputs": [],
   "source": [
    "import os\n",
    "from os.path import isfile\n",
    "from pathlib import Path\n",
    "from sagsci.tools.utils import *\n",
    "from sagsci.wrappers.rtaph.photometry import *"
   ]
  },
  {
   "cell_type": "code",
   "execution_count": 6,
   "id": "88943154",
   "metadata": {},
   "outputs": [],
   "source": [
    "from rtapipe.lib.standardanalysis.li_ma import LiMa"
   ]
  },
  {
   "cell_type": "code",
   "execution_count": 3,
   "id": "37cda1e6",
   "metadata": {},
   "outputs": [],
   "source": [
    "integration_time = 5\n",
    "pht_list = \"/data01/homes/baroncelli/phd/rtapipe/scripts/ml/dataset_generation/test/itime_5_a/fits_data/runid_run0406_ID000126_trial_0000000002_simtype_grb_onset_250_delay_0_offset_0.5.fits\""
   ]
  },
  {
   "cell_type": "code",
   "execution_count": 4,
   "id": "e91040ae",
   "metadata": {},
   "outputs": [
    {
     "data": {
      "text/plain": [
       "tmin              405\n",
       "tmax              410\n",
       "on                 24\n",
       "off                11\n",
       "alpha        0.333333\n",
       "excess      20.333333\n",
       "sigma        5.412675\n",
       "err_note         None\n",
       "Name: 81, dtype: object"
      ]
     },
     "execution_count": 4,
     "metadata": {},
     "output_type": "execute_result"
    }
   ],
   "source": [
    "LiMa.detect(\"binned\", pht_list, integration_time=5, tobs=500, sigma_gt=5, get_first=True)"
   ]
  },
  {
   "cell_type": "code",
   "execution_count": 5,
   "id": "dc261f69",
   "metadata": {},
   "outputs": [
    {
     "data": {
      "text/plain": [
       "tmin                0\n",
       "tmax              290\n",
       "on                264\n",
       "off               517\n",
       "alpha        0.333333\n",
       "excess      91.666667\n",
       "sigma        5.494157\n",
       "err_note         None\n",
       "Name: 58, dtype: object"
      ]
     },
     "execution_count": 5,
     "metadata": {},
     "output_type": "execute_result"
    }
   ],
   "source": [
    "LiMa.detect(\"cumulative\", pht_list, integration_time=5, tobs=500, sigma_gt=5, get_first=True)"
   ]
  },
  {
   "cell_type": "code",
   "execution_count": null,
   "id": "050af7a6",
   "metadata": {},
   "outputs": [],
   "source": []
  }
 ],
 "metadata": {
  "kernelspec": {
   "display_name": "phd-tf",
   "language": "python",
   "name": "phd-tf"
  },
  "language_info": {
   "codemirror_mode": {
    "name": "ipython",
    "version": 3
   },
   "file_extension": ".py",
   "mimetype": "text/x-python",
   "name": "python",
   "nbconvert_exporter": "python",
   "pygments_lexer": "ipython3",
   "version": "3.9.13"
  }
 },
 "nbformat": 4,
 "nbformat_minor": 5
}
