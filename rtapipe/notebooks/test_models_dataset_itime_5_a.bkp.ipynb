{
 "cells": [
  {
   "cell_type": "code",
   "execution_count": null,
   "id": "040c3dce",
   "metadata": {},
   "outputs": [],
   "source": [
    "import os\n",
    "os.environ['TF_CPP_MIN_LOG_LEVEL'] = '3'\n",
    "import yaml\n",
    "import pandas as pd\n",
    "import numpy as np\n",
    "import tensorflow as tf\n",
    "from pathlib import Path\n",
    "from time import strftime\n",
    "from shutil import rmtree\n",
    "from tqdm import tqdm\n",
    "import matplotlib.pyplot as plt\n",
    "import matplotlib\n",
    "matplotlib.use(\"TKAgg\", force=True)\n",
    "%matplotlib inline\n",
    "pd.set_option('display.max_rows', None)\n",
    "pd.set_option('display.max_columns', None)"
   ]
  },
  {
   "cell_type": "code",
   "execution_count": null,
   "id": "850edd92",
   "metadata": {},
   "outputs": [],
   "source": [
    "from rtapipe.lib.utils.misc import dotdict\n",
    "from rtapipe.lib.dataset.data_manager import DataManager\n",
    "from rtapipe.lib.datasource.Photometry3 import OnlinePhotometry, SimulationParams\n",
    "from rtapipe.lib.plotting.plotting import plot_sequences\n",
    "from rtapipe.lib.standardanalysis.li_ma import LiMa\n",
    "from rtapipe.lib.models.anomaly_detector_builder import AnomalyDetectorBuilder\n",
    "from rtapipe.lib.evaluation.pval import get_pval_table, get_threshold_for_sigma, get_sigma_from_pvalue, get_sigma_for_ts_array"
   ]
  },
  {
   "cell_type": "markdown",
   "id": "20627ec2",
   "metadata": {},
   "source": [
    "## Loading the test dataset"
   ]
  },
  {
   "cell_type": "code",
   "execution_count": null,
   "id": "e31d64fc",
   "metadata": {},
   "outputs": [],
   "source": [
    "output_dir = \"./logs/test_models_dataset_itime_5_a_out\""
   ]
  },
  {
   "cell_type": "code",
   "execution_count": null,
   "id": "ac9a565f",
   "metadata": {},
   "outputs": [],
   "source": [
    "data_manager = DataManager(\"./logs/test_models_dataset_itime_5_a_out\")"
   ]
  },
  {
   "cell_type": "code",
   "execution_count": null,
   "id": "d6777a41",
   "metadata": {},
   "outputs": [],
   "source": [
    "dataset_id=\"test_itime_5_a_tsl_5_nbins_3\""
   ]
  },
  {
   "cell_type": "code",
   "execution_count": null,
   "id": "de69fad3",
   "metadata": {},
   "outputs": [],
   "source": [
    "features_names = [\"EB_0.04-0.117\",\"EB_2-0.117-0.342\",\"EB_0.342-1\"]"
   ]
  },
  {
   "cell_type": "code",
   "execution_count": null,
   "id": "a028fabf",
   "metadata": {},
   "outputs": [],
   "source": [
    "test_set_size = 1"
   ]
  },
  {
   "cell_type": "code",
   "execution_count": null,
   "id": "8efd29a5",
   "metadata": {},
   "outputs": [],
   "source": [
    "dataset_folder = \"/data01/homes/baroncelli/phd/rtapipe/scripts/ml/dataset_generation/test/itime_5_a/fits_data\"\n",
    "fits_files = DataManager.load_fits_data(dataset_folder, limit=5)\n",
    "sim_params = SimulationParams(runid=\"run0406_ID000126\", onset=0, emin=0.04, emax=1, tmin=0, tobs=500, offset=0.5, irf=\"North_z40_5h_LST\", roi=2.5, caldb=\"prod5-v0.1\", simtype=\"grb\")"
   ]
  },
  {
   "cell_type": "code",
   "execution_count": null,
   "id": "c53fce86",
   "metadata": {},
   "outputs": [],
   "source": [
    "multiple_templates = False\n",
    "add_target_region = True\n",
    "integration_time = 5\n",
    "number_of_energy_bins = 3\n",
    "tsl = 100\n",
    "threads = 30\n",
    "normalize = True\n",
    "#data_manager.transform_to_timeseries(fits_files, sim_params, add_target_region, integration_time=integration_time, number_of_energy_bins=number_of_energy_bins, tsl=tsl, normalize=normalize, threads=threads, multiple_templates=multiple_templates)\n",
    "data_manager.load_saved_data(integration_time, tsl)\n",
    "data_manager.load_scaler(\"/data01/homes/baroncelli/phd/rtapipe/notebooks/logs/train_models_new_data_manager_out/fitted_scaler.pickle\")\n",
    "test_x, test_y = data_manager.get_test_set(verbose=True, template=\"run0406_ID000126\", onset=250, integration_time=5, sub_window_size=5, stride=1)"
   ]
  },
  {
   "cell_type": "code",
   "execution_count": null,
   "id": "0b968d92",
   "metadata": {},
   "outputs": [],
   "source": [
    "data_manager.data[\"run0406_ID000126\"].shape"
   ]
  },
  {
   "cell_type": "markdown",
   "id": "985f0d0a",
   "metadata": {},
   "source": [
    "## Plot the timeseries"
   ]
  },
  {
   "cell_type": "code",
   "execution_count": null,
   "id": "703f0087",
   "metadata": {},
   "outputs": [],
   "source": [
    "data_manager.plot_timeseries(\"run0406_ID000126\", data_manager.data[\"run0406_ID000126\"], 1, sim_params, output_dir, labels=features_names)"
   ]
  },
  {
   "cell_type": "markdown",
   "id": "00950624",
   "metadata": {},
   "source": [
    "## Plot some sub-sequences"
   ]
  },
  {
   "cell_type": "code",
   "execution_count": null,
   "id": "fa2f2ff8",
   "metadata": {},
   "outputs": [],
   "source": [
    "fig= plt.figure()\n",
    "for i in range(3):\n",
    "    plt.plot(data_manager.data[\"run0406_ID000126\"][0,:,i])\n",
    "    fig.savefig(\"./logs/test_models_dataset_itime_5_a_out/save_file_name.png\")\n",
    "plt.close()"
   ]
  },
  {
   "cell_type": "code",
   "execution_count": null,
   "id": "06434dd0",
   "metadata": {},
   "outputs": [],
   "source": [
    "for j in range(40,60):\n",
    "    fig,ax = plt.subplots(1,1)\n",
    "    ax.plot(test_x[j,:,0])\n",
    "    ax.plot(test_x[j,:,1])\n",
    "    ax.plot(test_x[j,:,2])\n",
    "    ax.set_ylim(0, 0.5)\n",
    "    fig.savefig(f\"./logs/test_models_dataset_itime_5_a_out/save_file_name_{j}.png\")\n",
    "    plt.close()"
   ]
  },
  {
   "cell_type": "markdown",
   "id": "1d884f00",
   "metadata": {},
   "source": [
    "\n",
    "# Loading the models"
   ]
  },
  {
   "cell_type": "code",
   "execution_count": null,
   "id": "a3b72d42",
   "metadata": {},
   "outputs": [],
   "source": [
    "with open(\"./trained_models.yaml\", \"r\") as f:\n",
    "    try:\n",
    "        configs = yaml.safe_load(f)\n",
    "    except yaml.YAMLError as exc:\n",
    "        print(exc)\n",
    "configs = [dotdict(c) for c in configs[\"models\"]]"
   ]
  },
  {
   "cell_type": "markdown",
   "id": "1949e8af",
   "metadata": {},
   "source": [
    "# Evaluation metrics"
   ]
  },
  {
   "cell_type": "code",
   "execution_count": null,
   "id": "b3afd5aa",
   "metadata": {
    "scrolled": false
   },
   "outputs": [],
   "source": [
    "for config in configs:\n",
    "    print(f\"\\n\\n************** Evaluating {config.name} patience={config.patience} **************\")\n",
    "    config.ad = AnomalyDetectorBuilder.getAnomalyDetector(name=config.name, timesteps=config.timesteps, nfeatures=config.nfeatures, load_model=\"True\", training_epoch_dir=config.path, training=False)\n",
    "    metrics = config.ad.evaluate(test_x, test_y)\n",
    "    for k,v in metrics.items():\n",
    "        print(k,v)\n",
    "    print(\"detection_delay:\",config.ad.detection_delay(test_y, config.ad.predict(test_x), test_set_size, config.timesteps))      "
   ]
  },
  {
   "cell_type": "code",
   "execution_count": null,
   "id": "489ef09c",
   "metadata": {
    "scrolled": true
   },
   "outputs": [],
   "source": [
    "for config in [c for c in configs if c.patience == 5]:\n",
    "    print(f\"\\n\\n************** Predictions with {config.name} patience={config.patience} **************\")\n",
    "    ad = AnomalyDetectorBuilder.getAnomalyDetector(name=config.name, timesteps=config.timesteps, nfeatures=config.nfeatures, load_model=\"True\", training_epoch_dir=config.path, training=False)\n",
    "    ad.plot_predictions(test_x, test_y, max_plots=999, features_names=features_names, epoch=config.epoch, outputDir=output_dir, figName=f\"{config.name}_patience_{config.patience}\")"
   ]
  },
  {
   "cell_type": "markdown",
   "id": "d04f3e9e",
   "metadata": {},
   "source": [
    "# Evaluation metrics with sigma=5 threshold"
   ]
  },
  {
   "cell_type": "code",
   "execution_count": null,
   "id": "c3b50fae",
   "metadata": {},
   "outputs": [],
   "source": [
    "SIGMA_THRESHOLD=5"
   ]
  },
  {
   "cell_type": "code",
   "execution_count": null,
   "id": "cf979fd7",
   "metadata": {},
   "outputs": [],
   "source": [
    "for config in configs:\n",
    "    print(f\"\\n\\n************** Predictions with {config.name} patience={config.patience} **************\")\n",
    "    config.ad = AnomalyDetectorBuilder.getAnomalyDetector(name=config.name, timesteps=config.timesteps, nfeatures=config.nfeatures, load_model=\"True\", training_epoch_dir=config.path, training=False)\n",
    "    if not config.pval_path:\n",
    "        print(\"Pvalues not found. Skipping..\")\n",
    "        config.ad.threshold = None\n",
    "        continue\n",
    "    pval_table = get_pval_table(config.pval_path, SIGMA_THRESHOLD, show=True)\n",
    "    sigma_threshold = get_threshold_for_sigma(pval_table, SIGMA_THRESHOLD)\n",
    "    config.ad.threshold = sigma_threshold\n",
    "    metrics = config.ad.evaluate(test_x, test_y)\n",
    "    for k,v in metrics.items():\n",
    "        print(k,v)\n",
    "    print(\"detection_delay:\",config.ad.detection_delay(test_y, config.ad.predict(test_x), test_set_size, config.timesteps)) "
   ]
  },
  {
   "cell_type": "code",
   "execution_count": null,
   "id": "37eefa22",
   "metadata": {},
   "outputs": [],
   "source": [
    "for config in [c for c in configs if c.patience == 5]:\n",
    "    print(f\"\\n\\n************** Predictions with {config.name} patience={config.patience} **************\")\n",
    "    ad = AnomalyDetectorBuilder.getAnomalyDetector(name=config.name, timesteps=config.timesteps, nfeatures=config.nfeatures, load_model=\"True\", training_epoch_dir=config.path, training=False)\n",
    "    ad.plot_predictions(test_x, test_y, max_plots=999, features_names=features_names, epoch=config.epoch, outputDir=output_dir, figName=f\"{config.name}_patience_{config.patience}\")"
   ]
  },
  {
   "cell_type": "markdown",
   "id": "8244c18e",
   "metadata": {},
   "source": [
    "# Significance table"
   ]
  },
  {
   "cell_type": "code",
   "execution_count": null,
   "id": "c15cee59",
   "metadata": {},
   "outputs": [],
   "source": [
    "model_config = None\n",
    "for i, config in enumerate(configs):\n",
    "    if config.name == \"AnomalyDetector_cnn_l2_u32\" and config.patience == 5:\n",
    "        break\n",
    "model_config = configs[i]"
   ]
  },
  {
   "cell_type": "code",
   "execution_count": null,
   "id": "f911be42",
   "metadata": {},
   "outputs": [],
   "source": [
    "pvalues_table = get_pval_table(model_config.pval_path)"
   ]
  },
  {
   "cell_type": "code",
   "execution_count": null,
   "id": "47d00f3b",
   "metadata": {},
   "outputs": [],
   "source": [
    "pvalues_table"
   ]
  },
  {
   "cell_type": "code",
   "execution_count": null,
   "id": "cce57994",
   "metadata": {},
   "outputs": [],
   "source": [
    "fig,ax=plt.subplots(1,1)\n",
    "from scipy import interpolate\n",
    "f = interpolate.interp1d(pvalues_table[\"threshold\"], pvalues_table[\"pvalue\"])\n",
    "_=ax.plot(pvalues_table[\"pvalue\"].sort_values(ascending=True), pvalues_table[\"sigma\"])\n",
    "_=ax.scatter(pvalues_table[\"pvalue\"].sort_values(ascending=True), get_sigma_from_pvalue(f(pvalues_table[\"threshold\"])), color=\"y\")\n",
    "ax.set_xscale(\"log\")\n",
    "plt.show()"
   ]
  },
  {
   "cell_type": "code",
   "execution_count": null,
   "id": "4ca8f061",
   "metadata": {},
   "outputs": [],
   "source": [
    "data = {}\n",
    "templates = [\"run0406_ID000126\"]\n",
    "\n",
    "for template in templates:\n",
    "    test_x, test_y = data_manager.get_test_set(template=template, onset=250, integration_time=5, sub_window_size=5, stride=1)\n",
    "    model_config.ad.predict(test_x)\n",
    "    reconstruction_errors = model_config.ad.get_reconstruction_errors()\n",
    "    pvalues_table = get_pval_table(model_config.pval_path)\n",
    "    significances = get_sigma_for_ts_array(pvalues_table, reconstruction_errors, verbose=False)\n",
    "    data[template] = significances\n",
    "\n",
    "sigma_table = pd.DataFrame(data, index=DataManager.get_tbin_of_sequences(96, 5, 5, 1))\n",
    "sigma_table"
   ]
  },
  {
   "cell_type": "code",
   "execution_count": null,
   "id": "ac4ebaed",
   "metadata": {},
   "outputs": [],
   "source": [
    "type(sigma_table.index.values)"
   ]
  },
  {
   "cell_type": "code",
   "execution_count": null,
   "id": "176813da",
   "metadata": {},
   "outputs": [],
   "source": [
    "sigma_table.index.values"
   ]
  },
  {
   "cell_type": "code",
   "execution_count": null,
   "id": "cb1dce4b",
   "metadata": {},
   "outputs": [],
   "source": [
    "li_ma_data = {}\n",
    "for template in tqdm(templates):\n",
    "    lima_df = LiMa.detect(\"binned\", DataManager.get_fits_from_template(fits_files, template), temporal_bins=sigma_table.index.values, tobs=500, sigma_gt=0)\n",
    "    li_ma_data[template] = lima_df[\"sigma\"].values"
   ]
  },
  {
   "cell_type": "code",
   "execution_count": null,
   "id": "cf8cbe38",
   "metadata": {},
   "outputs": [],
   "source": [
    "li_ma_data[\"run0406_ID000126\"]"
   ]
  },
  {
   "cell_type": "code",
   "execution_count": null,
   "id": "96322cf0",
   "metadata": {},
   "outputs": [],
   "source": [
    "matplotlib.use(\"TKAgg\", force=True)\n",
    "%matplotlib inline\n",
    "from rtapipe.lib.plotting.PlotConfig import PlotConfig\n",
    "pc = PlotConfig()\n",
    "fig, ax = plt.subplots(1,1, figsize=pc.fig_size)\n",
    "ax.plot(sigma_table.index.values, sigma_table[\"run0406_ID000126\"], marker='o', linestyle='--', label=\"Anomaly Detection\")\n",
    "ax.scatter(sigma_table.index.values, li_ma_data[\"run0406_ID000126\"], marker='x', label=\"Li&Ma\")\n",
    "ax.tick_params(axis='y', labelsize=15, width=2, grid_alpha=0.5)\n",
    "ax.tick_params(axis='x', which='major', labelsize=10)\n",
    "fig.suptitle(\"Detection plot\")\n",
    "ax.set_title(\"Template run0406_ID000126\")\n",
    "ax.set_ylabel(\"Sigma\")\n",
    "ax.set_xlabel(\"Timeseries\")\n",
    "plt.axvline(x = 45, color = 'grey', linestyle=\"-.\")\n",
    "plt.axhline(y = 5, color = 'red', linestyle=\"-.\")\n",
    "mask = [True if i%2==0 else False for i in range(len(sigma_table.index.values))]\n",
    "ax.set_xticks(range(0, len(sigma_table.index.values), 2), sigma_table.index.values[mask], rotation=45)\n",
    "ax.legend()\n",
    "fig.savefig(Path(output_dir).joinpath(\"detection_plot.png\"), dpi=pc.dpi)\n",
    "plt.show()"
   ]
  },
  {
   "cell_type": "code",
   "execution_count": null,
   "id": "fc5be6f4",
   "metadata": {},
   "outputs": [],
   "source": []
  }
 ],
 "metadata": {
  "kernelspec": {
   "display_name": "phd-tf",
   "language": "python",
   "name": "phd-tf"
  },
  "language_info": {
   "codemirror_mode": {
    "name": "ipython",
    "version": 3
   },
   "file_extension": ".py",
   "mimetype": "text/x-python",
   "name": "python",
   "nbconvert_exporter": "python",
   "pygments_lexer": "ipython3",
   "version": "3.9.13"
  }
 },
 "nbformat": 4,
 "nbformat_minor": 5
}
