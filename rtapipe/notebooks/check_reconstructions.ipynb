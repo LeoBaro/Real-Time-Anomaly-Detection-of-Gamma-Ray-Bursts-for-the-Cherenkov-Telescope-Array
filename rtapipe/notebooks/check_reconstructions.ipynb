{
 "cells": [
  {
   "cell_type": "code",
   "execution_count": 3,
   "id": "c3734d39",
   "metadata": {},
   "outputs": [],
   "source": [
    "import os\n",
    "os.environ['TF_CPP_MIN_LOG_LEVEL'] = '3'\n",
    "import yaml\n",
    "import pandas as pd\n",
    "import numpy as np\n",
    "from functools import partial\n",
    "import multiprocessing\n",
    "import tensorflow as tf\n",
    "from pathlib import Path\n",
    "from time import strftime\n",
    "from shutil import rmtree\n",
    "import matplotlib.pyplot as plt\n",
    "from tqdm import tqdm"
   ]
  },
  {
   "cell_type": "code",
   "execution_count": 4,
   "id": "de685c35",
   "metadata": {},
   "outputs": [],
   "source": [
    "from rtapipe.lib.utils.misc import dotdict\n",
    "from rtapipe.lib.dataset.data_manager import DataManager\n",
    "from rtapipe.lib.datasource.Photometry3 import OnlinePhotometry, SimulationParams\n",
    "from rtapipe.lib.plotting.plotting import plot_sequences\n",
    "from rtapipe.lib.models.anomaly_detector_builder import AnomalyDetectorBuilder\n",
    "from rtapipe.lib.evaluation.pval import get_pval_table, get_threshold_for_sigma\n",
    "from rtapipe.lib.standardanalysis.li_ma import LiMa"
   ]
  },
  {
   "cell_type": "code",
   "execution_count": 5,
   "id": "9dc9b493",
   "metadata": {},
   "outputs": [],
   "source": [
    "output_dir = \"./logs/check_reconstructions\""
   ]
  },
  {
   "cell_type": "code",
   "execution_count": 6,
   "id": "787c6203",
   "metadata": {},
   "outputs": [],
   "source": [
    "data_manager = DataManager(output_dir)"
   ]
  },
  {
   "cell_type": "code",
   "execution_count": 22,
   "id": "8e7de9a7",
   "metadata": {},
   "outputs": [],
   "source": [
    "dataset_id=\"test_itime_5_c_tsl_5_nbins_3\"\n",
    "sim_params = SimulationParams(runid=\"run0406_ID000126\", onset=0, emin=0.04, emax=1, tmin=0, tobs=500, offset=0.5, irf=\"North_z40_5h_LST\", roi=2.5, caldb=\"prod5-v0.1\", simtype=\"grb\")"
   ]
  },
  {
   "cell_type": "code",
   "execution_count": 16,
   "id": "cf1184a8",
   "metadata": {},
   "outputs": [],
   "source": [
    "dataset_folder = \"/data01/homes/baroncelli/phd/rtapipe/scripts/ml/dataset_generation/test/itime_5_d/fits_data\""
   ]
  },
  {
   "cell_type": "code",
   "execution_count": 17,
   "id": "48a1c0cb",
   "metadata": {},
   "outputs": [],
   "source": [
    "templates = [\"run0111_ID000118\",\"run0122_ID000021\",\"run0126_ID000344\",\"run0132_ID000380\",\"run0245_ID000470\",\"run0280_ID000101\",\"run0421_ID000208\",\"run0434_ID000189\"]"
   ]
  },
  {
   "cell_type": "code",
   "execution_count": 18,
   "id": "59cf96dc",
   "metadata": {},
   "outputs": [],
   "source": [
    "def selected(fits_file_name):\n",
    "    for t in templates:\n",
    "        if t in fits_file_name:\n",
    "            return True\n",
    "    return False"
   ]
  },
  {
   "cell_type": "code",
   "execution_count": 21,
   "id": "498ab539",
   "metadata": {},
   "outputs": [
    {
     "name": "stdout",
     "output_type": "stream",
     "text": [
      "Loaded 210 files\n",
      "Selected 7 files\n"
     ]
    }
   ],
   "source": [
    "fits_files = [ff for ff in DataManager.load_fits_data(dataset_folder, limit=210) if selected(ff)]\n",
    "print(f\"Selected {len(fits_files)} files\")"
   ]
  },
  {
   "cell_type": "code",
   "execution_count": null,
   "id": "e0773eef",
   "metadata": {},
   "outputs": [],
   "source": []
  }
 ],
 "metadata": {
  "kernelspec": {
   "display_name": "Python 3 (ipykernel)",
   "language": "python",
   "name": "python3"
  },
  "language_info": {
   "codemirror_mode": {
    "name": "ipython",
    "version": 3
   },
   "file_extension": ".py",
   "mimetype": "text/x-python",
   "name": "python",
   "nbconvert_exporter": "python",
   "pygments_lexer": "ipython3",
   "version": "3.9.13"
  }
 },
 "nbformat": 4,
 "nbformat_minor": 5
}
