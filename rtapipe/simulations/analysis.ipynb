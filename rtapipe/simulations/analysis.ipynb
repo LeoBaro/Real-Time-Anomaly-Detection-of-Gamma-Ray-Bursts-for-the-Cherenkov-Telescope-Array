{
 "cells": [
  {
   "cell_type": "markdown",
   "metadata": {},
   "source": [
    "## Photons list"
   ]
  },
  {
   "cell_type": "code",
   "execution_count": 1,
   "metadata": {},
   "outputs": [],
   "source": [
    "from pathlib import Path\n",
    "from astropy.io import fits\n",
    "import pandas as pd\n",
    "import numpy as np"
   ]
  },
  {
   "cell_type": "code",
   "execution_count": 2,
   "metadata": {},
   "outputs": [],
   "source": [
    "from RTAscience.cfg.Config import Config"
   ]
  },
  {
   "cell_type": "code",
   "execution_count": 3,
   "metadata": {},
   "outputs": [],
   "source": [
    "datapath = Path(\"/data01/home/baroncelli/phd/DATA\")\n",
    "simFolder = datapath.joinpath(\"obs/obs_st_grb_tr_1_os_1800_emin_0.03_emax_0.15_roi_2.5\")\n",
    "cfg = Config(simFolder.joinpath(\"config.yaml\"))\n",
    "runid = cfg.get('runid')"
   ]
  },
  {
   "cell_type": "code",
   "execution_count": 4,
   "metadata": {},
   "outputs": [],
   "source": [
    "if cfg.get(\"simtype\") == 'bkg':\n",
    "    inputFitsFile = simFolder.joinpath(\"backgrounds\",\"bkg000001.fits\")\n",
    "else:\n",
    "    inputFitsFile = simFolder.joinpath(runid,\"ebl000001.fits\")    "
   ]
  },
  {
   "cell_type": "code",
   "execution_count": 5,
   "metadata": {},
   "outputs": [
    {
     "name": "stdout",
     "output_type": "stream",
     "text": [
      "Filename: /data01/home/baroncelli/phd/DATA/obs/obs_st_grb_tr_1_os_1800_emin_0.03_emax_0.15_roi_2.5/run0406_ID000126/ebl000001.fits\n",
      "No.    Name      Ver    Type      Cards   Dimensions   Format\n",
      "  0  PRIMARY       1 PrimaryHDU       4   ()      \n",
      "  1  EVENTS        1 BinTableHDU     78   420610R x 8C   [J, D, E, E, E, E, E, J]   \n",
      "  2  GTI           1 BinTableHDU     18   1R x 2C   [1D, 1D]   \n"
     ]
    }
   ],
   "source": [
    "hdul = fits.open(inputFitsFile)\n",
    "hdul.info()"
   ]
  },
  {
   "cell_type": "code",
   "execution_count": 6,
   "metadata": {},
   "outputs": [
    {
     "data": {
      "text/plain": [
       "['EVENT_ID', 'TIME', 'RA', 'DEC', 'ENERGY', 'DETX', 'DETY', 'MC_ID']"
      ]
     },
     "execution_count": 6,
     "metadata": {},
     "output_type": "execute_result"
    }
   ],
   "source": [
    "hdul[1].columns.names"
   ]
  },
  {
   "cell_type": "code",
   "execution_count": 7,
   "metadata": {},
   "outputs": [
    {
     "data": {
      "text/plain": [
       "FITS_rec([(     1, 1.63668394e-03, 30.086067, -51.93107 , 0.03273834, -0.12742558, -1.8313961 , 1),\n",
       "          (     2, 3.73130441e-02, 34.29773 , -51.75047 , 0.08917169,  0.08399371,  0.76808393, 1),\n",
       "          (     3, 4.39919233e-02, 34.149433, -53.5197  , 0.04224574, -1.683607  ,  0.6495694 , 1),\n",
       "          ...,\n",
       "          (420608, 4.31183973e+03, 32.780113, -52.625797, 0.03150018, -0.78511804, -0.16807964, 2),\n",
       "          (420609, 4.31184896e+03, 33.884956, -50.571167, 0.03887009,  1.2668632 ,  0.5258819 , 2),\n",
       "          (420610, 4.31187380e+03, 34.925415, -50.823273, 0.04525762,  1.0026634 ,  1.1802391 , 2)],\n",
       "         dtype=(numpy.record, [('EVENT_ID', '>i4'), ('TIME', '>f8'), ('RA', '>f4'), ('DEC', '>f4'), ('ENERGY', '>f4'), ('DETX', '>f4'), ('DETY', '>f4'), ('MC_ID', '>i4')]))"
      ]
     },
     "execution_count": 7,
     "metadata": {},
     "output_type": "execute_result"
    }
   ],
   "source": [
    "hdul[1].data"
   ]
  },
  {
   "cell_type": "markdown",
   "metadata": {},
   "source": [
    "## From Fits to Dataframe\n",
    "Byte-ordering issues: https://pandas.pydata.org/pandas-docs/stable/user_guide/gotchas.html#byte-ordering-issues"
   ]
  },
  {
   "cell_type": "code",
   "execution_count": 8,
   "metadata": {},
   "outputs": [],
   "source": [
    "events = pd.DataFrame(columns=hdul[1].columns.names)"
   ]
  },
  {
   "cell_type": "code",
   "execution_count": 9,
   "metadata": {},
   "outputs": [],
   "source": [
    "for colname in events.columns:\n",
    "    events[colname] = hdul[1].data[colname].byteswap().newbyteorder()"
   ]
  },
  {
   "cell_type": "code",
   "execution_count": 10,
   "metadata": {},
   "outputs": [],
   "source": [
    "del events['MC_ID']\n",
    "del events['EVENT_ID']"
   ]
  },
  {
   "cell_type": "code",
   "execution_count": 11,
   "metadata": {},
   "outputs": [
    {
     "data": {
      "text/html": [
       "<div>\n",
       "<style scoped>\n",
       "    .dataframe tbody tr th:only-of-type {\n",
       "        vertical-align: middle;\n",
       "    }\n",
       "\n",
       "    .dataframe tbody tr th {\n",
       "        vertical-align: top;\n",
       "    }\n",
       "\n",
       "    .dataframe thead th {\n",
       "        text-align: right;\n",
       "    }\n",
       "</style>\n",
       "<table border=\"1\" class=\"dataframe\">\n",
       "  <thead>\n",
       "    <tr style=\"text-align: right;\">\n",
       "      <th></th>\n",
       "      <th>TIME</th>\n",
       "      <th>RA</th>\n",
       "      <th>DEC</th>\n",
       "      <th>ENERGY</th>\n",
       "      <th>DETX</th>\n",
       "      <th>DETY</th>\n",
       "    </tr>\n",
       "  </thead>\n",
       "  <tbody>\n",
       "    <tr>\n",
       "      <th>0</th>\n",
       "      <td>0.001637</td>\n",
       "      <td>30.086067</td>\n",
       "      <td>-51.931068</td>\n",
       "      <td>0.032738</td>\n",
       "      <td>-0.127426</td>\n",
       "      <td>-1.831396</td>\n",
       "    </tr>\n",
       "    <tr>\n",
       "      <th>1</th>\n",
       "      <td>0.037313</td>\n",
       "      <td>34.297729</td>\n",
       "      <td>-51.750469</td>\n",
       "      <td>0.089172</td>\n",
       "      <td>0.083994</td>\n",
       "      <td>0.768084</td>\n",
       "    </tr>\n",
       "    <tr>\n",
       "      <th>2</th>\n",
       "      <td>0.043992</td>\n",
       "      <td>34.149433</td>\n",
       "      <td>-53.519699</td>\n",
       "      <td>0.042246</td>\n",
       "      <td>-1.683607</td>\n",
       "      <td>0.649569</td>\n",
       "    </tr>\n",
       "    <tr>\n",
       "      <th>3</th>\n",
       "      <td>0.050771</td>\n",
       "      <td>31.518621</td>\n",
       "      <td>-49.880756</td>\n",
       "      <td>0.040274</td>\n",
       "      <td>1.949870</td>\n",
       "      <td>-0.991423</td>\n",
       "    </tr>\n",
       "    <tr>\n",
       "      <th>4</th>\n",
       "      <td>0.055986</td>\n",
       "      <td>35.283028</td>\n",
       "      <td>-51.828136</td>\n",
       "      <td>0.032093</td>\n",
       "      <td>-0.008148</td>\n",
       "      <td>1.375520</td>\n",
       "    </tr>\n",
       "  </tbody>\n",
       "</table>\n",
       "</div>"
      ],
      "text/plain": [
       "       TIME         RA        DEC    ENERGY      DETX      DETY\n",
       "0  0.001637  30.086067 -51.931068  0.032738 -0.127426 -1.831396\n",
       "1  0.037313  34.297729 -51.750469  0.089172  0.083994  0.768084\n",
       "2  0.043992  34.149433 -53.519699  0.042246 -1.683607  0.649569\n",
       "3  0.050771  31.518621 -49.880756  0.040274  1.949870 -0.991423\n",
       "4  0.055986  35.283028 -51.828136  0.032093 -0.008148  1.375520"
      ]
     },
     "execution_count": 11,
     "metadata": {},
     "output_type": "execute_result"
    }
   ],
   "source": [
    "events.head()"
   ]
  },
  {
   "cell_type": "code",
   "execution_count": null,
   "metadata": {},
   "outputs": [],
   "source": []
  },
  {
   "cell_type": "markdown",
   "metadata": {},
   "source": [
    "## Feature engineering\n",
    "\n",
    "TD (time difference): each sample has the td feature: the number of seconds before the last event "
   ]
  },
  {
   "cell_type": "code",
   "execution_count": 12,
   "metadata": {},
   "outputs": [],
   "source": [
    "import IPython\n",
    "import IPython.display\n",
    "import matplotlib as mpl\n",
    "import matplotlib.pyplot as plt"
   ]
  },
  {
   "cell_type": "code",
   "execution_count": 13,
   "metadata": {},
   "outputs": [
    {
     "data": {
      "text/html": [
       "<div>\n",
       "<style scoped>\n",
       "    .dataframe tbody tr th:only-of-type {\n",
       "        vertical-align: middle;\n",
       "    }\n",
       "\n",
       "    .dataframe tbody tr th {\n",
       "        vertical-align: top;\n",
       "    }\n",
       "\n",
       "    .dataframe thead th {\n",
       "        text-align: right;\n",
       "    }\n",
       "</style>\n",
       "<table border=\"1\" class=\"dataframe\">\n",
       "  <thead>\n",
       "    <tr style=\"text-align: right;\">\n",
       "      <th></th>\n",
       "      <th>TIME</th>\n",
       "      <th>RA</th>\n",
       "      <th>DEC</th>\n",
       "      <th>ENERGY</th>\n",
       "      <th>DETX</th>\n",
       "      <th>DETY</th>\n",
       "      <th>TD</th>\n",
       "    </tr>\n",
       "  </thead>\n",
       "  <tbody>\n",
       "    <tr>\n",
       "      <th>0</th>\n",
       "      <td>0.001637</td>\n",
       "      <td>30.086067</td>\n",
       "      <td>-51.931068</td>\n",
       "      <td>0.032738</td>\n",
       "      <td>-0.127426</td>\n",
       "      <td>-1.831396</td>\n",
       "      <td>0.000000</td>\n",
       "    </tr>\n",
       "    <tr>\n",
       "      <th>1</th>\n",
       "      <td>0.037313</td>\n",
       "      <td>34.297729</td>\n",
       "      <td>-51.750469</td>\n",
       "      <td>0.089172</td>\n",
       "      <td>0.083994</td>\n",
       "      <td>0.768084</td>\n",
       "      <td>0.035676</td>\n",
       "    </tr>\n",
       "    <tr>\n",
       "      <th>2</th>\n",
       "      <td>0.043992</td>\n",
       "      <td>34.149433</td>\n",
       "      <td>-53.519699</td>\n",
       "      <td>0.042246</td>\n",
       "      <td>-1.683607</td>\n",
       "      <td>0.649569</td>\n",
       "      <td>0.006679</td>\n",
       "    </tr>\n",
       "    <tr>\n",
       "      <th>3</th>\n",
       "      <td>0.050771</td>\n",
       "      <td>31.518621</td>\n",
       "      <td>-49.880756</td>\n",
       "      <td>0.040274</td>\n",
       "      <td>1.949870</td>\n",
       "      <td>-0.991423</td>\n",
       "      <td>0.006779</td>\n",
       "    </tr>\n",
       "    <tr>\n",
       "      <th>4</th>\n",
       "      <td>0.055986</td>\n",
       "      <td>35.283028</td>\n",
       "      <td>-51.828136</td>\n",
       "      <td>0.032093</td>\n",
       "      <td>-0.008148</td>\n",
       "      <td>1.375520</td>\n",
       "      <td>0.005216</td>\n",
       "    </tr>\n",
       "  </tbody>\n",
       "</table>\n",
       "</div>"
      ],
      "text/plain": [
       "       TIME         RA        DEC    ENERGY      DETX      DETY        TD\n",
       "0  0.001637  30.086067 -51.931068  0.032738 -0.127426 -1.831396  0.000000\n",
       "1  0.037313  34.297729 -51.750469  0.089172  0.083994  0.768084  0.035676\n",
       "2  0.043992  34.149433 -53.519699  0.042246 -1.683607  0.649569  0.006679\n",
       "3  0.050771  31.518621 -49.880756  0.040274  1.949870 -0.991423  0.006779\n",
       "4  0.055986  35.283028 -51.828136  0.032093 -0.008148  1.375520  0.005216"
      ]
     },
     "execution_count": 13,
     "metadata": {},
     "output_type": "execute_result"
    }
   ],
   "source": [
    "events[\"TD\"] = events[\"TIME\"][0:] - events[\"TIME\"][0:].shift()\n",
    "events.iloc[0, 6] = 0 # TD value of first sample is 0\n",
    "events.head(5)"
   ]
  },
  {
   "cell_type": "code",
   "execution_count": 14,
   "metadata": {},
   "outputs": [
    {
     "data": {
      "text/plain": [
       "<AxesSubplot:>"
      ]
     },
     "execution_count": 14,
     "metadata": {},
     "output_type": "execute_result"
    },
    {
     "data": {
      "image/png": "[encoded data removed]",
      "text/plain": [
       "<Figure size 432x288 with 1 Axes>"
      ]
     },
     "metadata": {
      "needs_background": "light"
     },
     "output_type": "display_data"
    }
   ],
   "source": [
    "events[\"TD\"][0:].hist()"
   ]
  },
  {
   "cell_type": "markdown",
   "metadata": {},
   "source": [
    "### No integration"
   ]
  },
  {
   "cell_type": "code",
   "execution_count": 15,
   "metadata": {},
   "outputs": [
    {
     "data": {
      "image/png": "[encoded data removed]",
      "text/plain": [
       "<Figure size 432x288 with 1 Axes>"
      ]
     },
     "metadata": {
      "needs_background": "light"
     },
     "output_type": "display_data"
    }
   ],
   "source": [
    "_ = plt.hist2d(x=events[\"DETX\"], y=events[\"DETY\"], bins=100)"
   ]
  },
  {
   "cell_type": "code",
   "execution_count": 16,
   "metadata": {},
   "outputs": [
    {
     "data": {
      "text/plain": [
       "<AxesSubplot:>"
      ]
     },
     "execution_count": 16,
     "metadata": {},
     "output_type": "execute_result"
    },
    {
     "data": {
      "image/png": "[encoded data removed]",
      "text/plain": [
       "<Figure size 432x288 with 1 Axes>"
      ]
     },
     "metadata": {
      "needs_background": "light"
     },
     "output_type": "display_data"
    }
   ],
   "source": [
    "events[\"DETX\"][0:500].hist()"
   ]
  },
  {
   "cell_type": "code",
   "execution_count": null,
   "metadata": {},
   "outputs": [],
   "source": []
  },
  {
   "cell_type": "code",
   "execution_count": 17,
   "metadata": {},
   "outputs": [
    {
     "data": {
      "text/plain": [
       "<AxesSubplot:>"
      ]
     },
     "execution_count": 17,
     "metadata": {},
     "output_type": "execute_result"
    },
    {
     "data": {
      "image/png": "[encoded data removed]",
      "text/plain": [
       "<Figure size 432x288 with 1 Axes>"
      ]
     },
     "metadata": {
      "needs_background": "light"
     },
     "output_type": "display_data"
    }
   ],
   "source": [
    "events[\"ENERGY\"][0:500].hist()"
   ]
  },
  {
   "cell_type": "code",
   "execution_count": 18,
   "metadata": {},
   "outputs": [
    {
     "data": {
      "text/html": [
       "<div>\n",
       "<style scoped>\n",
       "    .dataframe tbody tr th:only-of-type {\n",
       "        vertical-align: middle;\n",
       "    }\n",
       "\n",
       "    .dataframe tbody tr th {\n",
       "        vertical-align: top;\n",
       "    }\n",
       "\n",
       "    .dataframe thead th {\n",
       "        text-align: right;\n",
       "    }\n",
       "</style>\n",
       "<table border=\"1\" class=\"dataframe\">\n",
       "  <thead>\n",
       "    <tr style=\"text-align: right;\">\n",
       "      <th></th>\n",
       "      <th>count</th>\n",
       "      <th>mean</th>\n",
       "      <th>std</th>\n",
       "      <th>min</th>\n",
       "      <th>25%</th>\n",
       "      <th>50%</th>\n",
       "      <th>75%</th>\n",
       "      <th>max</th>\n",
       "    </tr>\n",
       "  </thead>\n",
       "  <tbody>\n",
       "    <tr>\n",
       "      <th>TIME</th>\n",
       "      <td>420610.0</td>\n",
       "      <td>2157.427934</td>\n",
       "      <td>1243.004209</td>\n",
       "      <td>0.001637</td>\n",
       "      <td>1081.466516</td>\n",
       "      <td>2156.788145</td>\n",
       "      <td>3229.625779</td>\n",
       "      <td>4311.873805</td>\n",
       "    </tr>\n",
       "    <tr>\n",
       "      <th>RA</th>\n",
       "      <td>420610.0</td>\n",
       "      <td>33.049988</td>\n",
       "      <td>1.743688</td>\n",
       "      <td>29.011778</td>\n",
       "      <td>31.737967</td>\n",
       "      <td>33.048470</td>\n",
       "      <td>34.360649</td>\n",
       "      <td>37.104603</td>\n",
       "    </tr>\n",
       "    <tr>\n",
       "      <th>DEC</th>\n",
       "      <td>420610.0</td>\n",
       "      <td>-51.830757</td>\n",
       "      <td>1.071412</td>\n",
       "      <td>-54.337841</td>\n",
       "      <td>-52.636833</td>\n",
       "      <td>-51.831451</td>\n",
       "      <td>-51.023758</td>\n",
       "      <td>-49.341675</td>\n",
       "    </tr>\n",
       "    <tr>\n",
       "      <th>ENERGY</th>\n",
       "      <td>420610.0</td>\n",
       "      <td>0.056758</td>\n",
       "      <td>0.025306</td>\n",
       "      <td>0.030000</td>\n",
       "      <td>0.038734</td>\n",
       "      <td>0.047820</td>\n",
       "      <td>0.066513</td>\n",
       "      <td>0.149990</td>\n",
       "    </tr>\n",
       "    <tr>\n",
       "      <th>DETX</th>\n",
       "      <td>420610.0</td>\n",
       "      <td>-0.002644</td>\n",
       "      <td>1.071571</td>\n",
       "      <td>-2.496886</td>\n",
       "      <td>-0.810347</td>\n",
       "      <td>-0.004458</td>\n",
       "      <td>0.803622</td>\n",
       "      <td>2.499305</td>\n",
       "    </tr>\n",
       "    <tr>\n",
       "      <th>DETY</th>\n",
       "      <td>420610.0</td>\n",
       "      <td>-0.004163</td>\n",
       "      <td>1.076991</td>\n",
       "      <td>-2.496602</td>\n",
       "      <td>-0.815921</td>\n",
       "      <td>-0.005300</td>\n",
       "      <td>0.806049</td>\n",
       "      <td>2.497838</td>\n",
       "    </tr>\n",
       "    <tr>\n",
       "      <th>TD</th>\n",
       "      <td>420610.0</td>\n",
       "      <td>0.010251</td>\n",
       "      <td>0.010226</td>\n",
       "      <td>0.000000</td>\n",
       "      <td>0.002961</td>\n",
       "      <td>0.007119</td>\n",
       "      <td>0.014218</td>\n",
       "      <td>0.116450</td>\n",
       "    </tr>\n",
       "  </tbody>\n",
       "</table>\n",
       "</div>"
      ],
      "text/plain": [
       "           count         mean          std        min          25%  \\\n",
       "TIME    420610.0  2157.427934  1243.004209   0.001637  1081.466516   \n",
       "RA      420610.0    33.049988     1.743688  29.011778    31.737967   \n",
       "DEC     420610.0   -51.830757     1.071412 -54.337841   -52.636833   \n",
       "ENERGY  420610.0     0.056758     0.025306   0.030000     0.038734   \n",
       "DETX    420610.0    -0.002644     1.071571  -2.496886    -0.810347   \n",
       "DETY    420610.0    -0.004163     1.076991  -2.496602    -0.815921   \n",
       "TD      420610.0     0.010251     0.010226   0.000000     0.002961   \n",
       "\n",
       "                50%          75%          max  \n",
       "TIME    2156.788145  3229.625779  4311.873805  \n",
       "RA        33.048470    34.360649    37.104603  \n",
       "DEC      -51.831451   -51.023758   -49.341675  \n",
       "ENERGY     0.047820     0.066513     0.149990  \n",
       "DETX      -0.004458     0.803622     2.499305  \n",
       "DETY      -0.005300     0.806049     2.497838  \n",
       "TD         0.007119     0.014218     0.116450  "
      ]
     },
     "execution_count": 18,
     "metadata": {},
     "output_type": "execute_result"
    }
   ],
   "source": [
    "events.describe().transpose()"
   ]
  },
  {
   "cell_type": "markdown",
   "metadata": {},
   "source": [
    "### Space/Time/Energy integration\n"
   ]
  },
  {
   "cell_type": "code",
   "execution_count": 19,
   "metadata": {},
   "outputs": [],
   "source": [
    "from astro.lib.photometry import Photometrics\n",
    "from RTAscience.lib.RTAUtils import get_pointing"
   ]
  },
  {
   "cell_type": "code",
   "execution_count": 20,
   "metadata": {},
   "outputs": [],
   "source": [
    "events = pd.DataFrame()"
   ]
  },
  {
   "cell_type": "markdown",
   "metadata": {},
   "source": [
    "#### Space"
   ]
  },
  {
   "cell_type": "code",
   "execution_count": 21,
   "metadata": {},
   "outputs": [],
   "source": [
    "radius = 0.5"
   ]
  },
  {
   "cell_type": "markdown",
   "metadata": {},
   "source": [
    "#### Time"
   ]
  },
  {
   "cell_type": "code",
   "execution_count": 22,
   "metadata": {},
   "outputs": [],
   "source": [
    "t_bin_size = 10\n",
    "t_shift = 10"
   ]
  },
  {
   "cell_type": "markdown",
   "metadata": {},
   "source": [
    "#### Energy"
   ]
  },
  {
   "cell_type": "code",
   "execution_count": 23,
   "metadata": {},
   "outputs": [
    {
     "name": "stdout",
     "output_type": "stream",
     "text": [
      "Number of windows: 0. Examples: []\n"
     ]
    }
   ],
   "source": [
    "energy_bins = []\n",
    "print(f\"Number of windows: {len(energy_bins)}. Examples: {energy_bins}\")"
   ]
  },
  {
   "cell_type": "code",
   "execution_count": 24,
   "metadata": {},
   "outputs": [],
   "source": [
    "def get_bins(start, stop, binsize, shift):\n",
    "    time_windows = []\n",
    "    t_start = start\n",
    "    t_stop = stop\n",
    "    w_start = start\n",
    "    while w_start + binsize < t_stop:\n",
    "        time_windows.append( (round(w_start, 3), round(w_start + binsize, 3))  )\n",
    "        w_start += shift\n",
    "    return time_windows"
   ]
  },
  {
   "cell_type": "code",
   "execution_count": 25,
   "metadata": {},
   "outputs": [
    {
     "name": "stdout",
     "output_type": "stream",
     "text": [
      "Number of windows: 359 Example: [(0, 10), (10, 20), (20, 30), (30, 40), (40, 50)]\n"
     ]
    }
   ],
   "source": [
    "time_bins = get_bins(0, cfg.get('tobs'), t_bin_size, t_shift)\n",
    "print(f\"Number of windows: {len(time_bins)} Example: {time_bins[0:5]}\")"
   ]
  },
  {
   "cell_type": "code",
   "execution_count": null,
   "metadata": {},
   "outputs": [],
   "source": []
  },
  {
   "cell_type": "code",
   "execution_count": null,
   "metadata": {},
   "outputs": [],
   "source": []
  },
  {
   "cell_type": "code",
   "execution_count": 26,
   "metadata": {},
   "outputs": [],
   "source": [
    "phm = Photometrics({ 'events_filename': inputFitsFile })\n",
    "region = {\n",
    "    'ra': get_pointing(datapath.joinpath(f'templates/{runid}.fits'))[0],\n",
    "    'dec': get_pointing(datapath.joinpath(f'templates/{runid}.fits'))[1],\n",
    "}\n",
    "\n",
    "for energy_bin in energy_bins:\n",
    "    region_counts = []\n",
    "    for time_bin in time_bins:\n",
    "        region_counts.append(phm.region_counter(region, radius, tmin=time_bin[0], tmax=time_bin[1], emin=energy_bin[0], emax=energy_bin[1]))\n",
    "        #print(f\"{time_bin} - {energy_bin}: {region_counts[-1]}\")\n",
    "    #events[energy_bins] = region_counts\n",
    "    print(region_counts)\n"
   ]
  },
  {
   "cell_type": "code",
   "execution_count": 27,
   "metadata": {},
   "outputs": [
    {
     "data": {
      "text/html": [
       "<div>\n",
       "<style scoped>\n",
       "    .dataframe tbody tr th:only-of-type {\n",
       "        vertical-align: middle;\n",
       "    }\n",
       "\n",
       "    .dataframe tbody tr th {\n",
       "        vertical-align: top;\n",
       "    }\n",
       "\n",
       "    .dataframe thead th {\n",
       "        text-align: right;\n",
       "    }\n",
       "</style>\n",
       "<table border=\"1\" class=\"dataframe\">\n",
       "  <thead>\n",
       "    <tr style=\"text-align: right;\">\n",
       "      <th></th>\n",
       "    </tr>\n",
       "  </thead>\n",
       "  <tbody>\n",
       "  </tbody>\n",
       "</table>\n",
       "</div>"
      ],
      "text/plain": [
       "Empty DataFrame\n",
       "Columns: []\n",
       "Index: []"
      ]
     },
     "execution_count": 27,
     "metadata": {},
     "output_type": "execute_result"
    }
   ],
   "source": [
    "events.head()"
   ]
  },
  {
   "cell_type": "code",
   "execution_count": null,
   "metadata": {},
   "outputs": [],
   "source": []
  },
  {
   "cell_type": "code",
   "execution_count": null,
   "metadata": {},
   "outputs": [],
   "source": []
  },
  {
   "cell_type": "code",
   "execution_count": null,
   "metadata": {},
   "outputs": [],
   "source": []
  },
  {
   "cell_type": "code",
   "execution_count": null,
   "metadata": {},
   "outputs": [],
   "source": []
  },
  {
   "cell_type": "code",
   "execution_count": null,
   "metadata": {},
   "outputs": [],
   "source": []
  },
  {
   "cell_type": "code",
   "execution_count": null,
   "metadata": {},
   "outputs": [],
   "source": []
  },
  {
   "cell_type": "code",
   "execution_count": null,
   "metadata": {},
   "outputs": [],
   "source": []
  },
  {
   "cell_type": "code",
   "execution_count": null,
   "metadata": {},
   "outputs": [],
   "source": []
  },
  {
   "cell_type": "code",
   "execution_count": null,
   "metadata": {},
   "outputs": [],
   "source": []
  },
  {
   "cell_type": "code",
   "execution_count": null,
   "metadata": {},
   "outputs": [],
   "source": []
  },
  {
   "cell_type": "code",
   "execution_count": null,
   "metadata": {},
   "outputs": [],
   "source": []
  },
  {
   "cell_type": "code",
   "execution_count": null,
   "metadata": {},
   "outputs": [],
   "source": []
  }
 ],
 "metadata": {
  "kernelspec": {
   "display_name": "Python 3",
   "language": "python",
   "name": "python3"
  },
  "language_info": {
   "codemirror_mode": {
    "name": "ipython",
    "version": 3
   },
   "file_extension": ".py",
   "mimetype": "text/x-python",
   "name": "python",
   "nbconvert_exporter": "python",
   "pygments_lexer": "ipython3",
   "version": "3.7.3"
  }
 },
 "nbformat": 4,
 "nbformat_minor": 2
}
