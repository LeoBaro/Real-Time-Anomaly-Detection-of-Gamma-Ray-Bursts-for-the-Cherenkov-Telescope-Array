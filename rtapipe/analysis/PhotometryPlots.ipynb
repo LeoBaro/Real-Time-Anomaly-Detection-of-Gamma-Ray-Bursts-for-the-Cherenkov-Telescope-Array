{
 "cells": [
  {
   "cell_type": "markdown",
   "id": "pharmaceutical-cigarette",
   "metadata": {},
   "source": [
    "# PhotometryLib"
   ]
  },
  {
   "cell_type": "markdown",
   "id": "conceptual-calendar",
   "metadata": {},
   "source": [
    "## Output directories"
   ]
  },
  {
   "cell_type": "code",
   "execution_count": 1,
   "id": "increased-schema",
   "metadata": {},
   "outputs": [
    {
     "name": "stdout",
     "output_type": "stream",
     "text": [
      "csv  png\r\n"
     ]
    }
   ],
   "source": [
    "import os\n",
    "outdir = os.path.join(os.environ[\"HOME\"], \"notebook_output\")\n",
    "csvdir = os.path.join(outdir, \"csv\")\n",
    "pngdir = os.path.join(outdir, \"png\")\n",
    "! mkdir -p $csvdir                          \n",
    "! mkdir -p $pngdir                          \n",
    "! ls $outdir"
   ]
  },
  {
   "cell_type": "markdown",
   "id": "integrated-avatar",
   "metadata": {},
   "source": [
    "## Importing dependencies"
   ]
  },
  {
   "cell_type": "code",
   "execution_count": 2,
   "id": "obvious-discipline",
   "metadata": {},
   "outputs": [
    {
     "name": "stderr",
     "output_type": "stream",
     "text": [
      "\n",
      "Bad key \"text.kerning_factor\" on line 4 in\n",
      "/data01/home/baroncelli/.conda/envs/bphd/lib/python3.7/site-packages/matplotlib/mpl-data/stylelib/_classic_test_patch.mplstyle.\n",
      "You probably need to get an updated matplotlibrc file from\n",
      "https://github.com/matplotlib/matplotlib/blob/v3.1.2/matplotlibrc.template\n",
      "or from the matplotlib source distribution\n"
     ]
    }
   ],
   "source": [
    "from pathlib import Path\n",
    "from astropy.io import fits\n",
    "import pandas as pd\n",
    "import numpy as np\n",
    "import collections\n",
    "import matplotlib.pyplot as plt\n",
    "%matplotlib widget\n",
    "\n",
    "datapath = Path(\"/data01/home/baroncelli/phd/DATA\")\n",
    "os.environ[\"DATA\"] = str(datapath)\n",
    "from RTAscience.cfg.Config import Config\n",
    "from RTAscience.lib.RTAUtils import get_pointing\n",
    "from rtapipe.lib.datasource.photometry import Photometry\n",
    "from rtapipe.lib.plotting.photometryplot import PhotometrySinglePlot, PhotometrySubPlots"
   ]
  },
  {
   "cell_type": "markdown",
   "id": "united-action",
   "metadata": {},
   "source": [
    "## Utility function"
   ]
  },
  {
   "cell_type": "code",
   "execution_count": 3,
   "id": "encouraging-optics",
   "metadata": {},
   "outputs": [],
   "source": [
    "def getInput(dataDir, index):\n",
    "    if index == 0:\n",
    "        index = 1\n",
    "    simFolder = datapath.joinpath(\"obs\",dataDir)\n",
    "    cfg = Config(simFolder.joinpath(\"config.yaml\"))\n",
    "    runid = cfg.get('runid')\n",
    "    template =  os.path.join(datapath, f'templates/{runid}.fits')\n",
    "    pointing = get_pointing(template)\n",
    "    if cfg.get(\"simtype\") == 'bkg':\n",
    "        inputFitsFile = str(simFolder.joinpath(\"backgrounds\",f\"bkg{str(index).zfill(6)}.fits\"))\n",
    "    else:\n",
    "        inputFitsFile = str(simFolder.joinpath(runid,f\"ebl{str(index).zfill(6)}.fits\"))\n",
    "    \n",
    "    \n",
    "    conf = {\n",
    "        'input_file': inputFitsFile,\n",
    "        'output_dir': outdir,\n",
    "        'simtype' : cfg.get('simtype'),\n",
    "        'runid' : cfg.get('runid'),\n",
    "        't_window_start': 0,\n",
    "        't_window_stop': cfg.get('tobs'),\n",
    "        'e_window_start': cfg.get('emin'),\n",
    "        'e_window_stop': cfg.get('emax'),\n",
    "        'onset' : cfg.get('onset')\n",
    "    }\n",
    "    \n",
    "    print(f\"File: {inputFitsFile}, pointing: {pointing}\")\n",
    "\n",
    "    return inputFitsFile, conf, pointing"
   ]
  },
  {
   "cell_type": "markdown",
   "id": "catholic-curtis",
   "metadata": {},
   "source": [
    "## Data folders (simulations)\n",
    "    folder/\n",
    "        config.yaml\n",
    "        backgrounds/\n",
    "            bkg000001.fits         => simulation background only\n",
    "            ..\n",
    "            bkg00000<N>.fits\n",
    "        <runId>/\n",
    "            ebl000001.fits         => simulation background + source\n",
    "            ..\n",
    "            ebl000001<N>.fits\n",
    "            "
   ]
  },
  {
   "cell_type": "markdown",
   "id": "nearby-supervision",
   "metadata": {},
   "source": [
    "## How to get data\n",
    "\n",
    "### Data directories\n",
    "Simulations from template: run0406_ID000126"
   ]
  },
  {
   "cell_type": "code",
   "execution_count": 4,
   "id": "binding-caribbean",
   "metadata": {},
   "outputs": [],
   "source": [
    "bkgsrc      = \"simtype_grb_os_1800_tobs_3600_irf_South_z40_average_LST_30m_emin_0.03_emax_0.15_roi_2.5\"\n",
    "bkgonly     = \"simtype_bkg_os_0_tobs_3600_irf_South_z40_average_LST_30m_emin_0.03_emax_0.15_roi_2.5\""
   ]
  },
  {
   "cell_type": "markdown",
   "id": "portuguese-stranger",
   "metadata": {},
   "source": [
    "### Get csv input, simulation parameters and pointing (from template)"
   ]
  },
  {
   "cell_type": "code",
   "execution_count": 5,
   "id": "marine-johnson",
   "metadata": {},
   "outputs": [
    {
     "name": "stdout",
     "output_type": "stream",
     "text": [
      "File: /data01/home/baroncelli/phd/DATA/obs/simtype_grb_os_1800_tobs_3600_irf_South_z40_average_LST_30m_emin_0.03_emax_0.15_roi_2.5/run0406_ID000126/ebl000001.fits, pointing: (33.057, -51.841)\n"
     ]
    }
   ],
   "source": [
    "inputFile_srcbkg_0, sim_params_bkgsrc, pointing_srcbkg_0 = getInput(bkgsrc, 1)"
   ]
  },
  {
   "cell_type": "code",
   "execution_count": 6,
   "id": "considerable-guess",
   "metadata": {},
   "outputs": [
    {
     "name": "stdout",
     "output_type": "stream",
     "text": [
      "File: /data01/home/baroncelli/phd/DATA/obs/simtype_bkg_os_0_tobs_3600_irf_South_z40_average_LST_30m_emin_0.03_emax_0.15_roi_2.5/backgrounds/bkg000001.fits, pointing: (33.057, -51.841)\n"
     ]
    }
   ],
   "source": [
    "inputFile_onlybkg_0, sim_params_bkgonly, pointing_onlybkg_0 = getInput(bkgonly, 1)"
   ]
  },
  {
   "cell_type": "markdown",
   "id": "effective-european",
   "metadata": {},
   "source": [
    "### Differences between configuration dictionaries"
   ]
  },
  {
   "cell_type": "code",
   "execution_count": 7,
   "id": "incredible-burns",
   "metadata": {},
   "outputs": [
    {
     "name": "stdout",
     "output_type": "stream",
     "text": [
      "input_file:\n",
      "\t/data01/home/baroncelli/phd/DATA/obs/simtype_grb_os_1800_tobs_3600_irf_South_z40_average_LST_30m_emin_0.03_emax_0.15_roi_2.5/run0406_ID000126/ebl000001.fits\n",
      "\t/data01/home/baroncelli/phd/DATA/obs/simtype_bkg_os_0_tobs_3600_irf_South_z40_average_LST_30m_emin_0.03_emax_0.15_roi_2.5/backgrounds/bkg000001.fits\n",
      "simtype:\n",
      "\tgrb\n",
      "\tbkg\n",
      "onset:\n",
      "\t1800\n",
      "\t0\n"
     ]
    }
   ],
   "source": [
    "assert pointing_srcbkg_0 == pointing_onlybkg_0\n",
    "assert inputFile_srcbkg_0 != inputFile_onlybkg_0\n",
    "for key, val in sim_params_bkgsrc.items():\n",
    "    if val!=sim_params_bkgonly[key]:\n",
    "        print(f\"{key}:\\n\\t{val}\\n\\t{sim_params_bkgonly[key]}\")"
   ]
  },
  {
   "cell_type": "markdown",
   "id": "serial-colors",
   "metadata": {},
   "source": [
    "## The photometry class"
   ]
  },
  {
   "cell_type": "code",
   "execution_count": 8,
   "id": "agreed-chuck",
   "metadata": {},
   "outputs": [],
   "source": [
    "photometry = Photometry()"
   ]
  },
  {
   "cell_type": "markdown",
   "id": "played-mattress",
   "metadata": {},
   "source": [
    "## Photometry parameters"
   ]
  },
  {
   "cell_type": "code",
   "execution_count": 9,
   "id": "square-fetish",
   "metadata": {},
   "outputs": [],
   "source": [
    "photometry_params = {\n",
    "    \n",
    "    # integration parameters for time\n",
    "    't_window_size': 25,\n",
    "    't_window_step': 25,\n",
    "    \n",
    "    # integration parameters for energy    \n",
    "    'e_window_size': 0.001,\n",
    "    'e_window_step': 0.001,    \n",
    "\n",
    "    # Parameters that can change too    \n",
    "    'pointing' : pointing_srcbkg_0,\n",
    "    'region_radius': 0.5,\n",
    "    \n",
    "    # Other settings\n",
    "    'plot' : 1,\n",
    "    'override': 1\n",
    "}"
   ]
  },
  {
   "cell_type": "markdown",
   "id": "military-uniform",
   "metadata": {},
   "source": [
    "## Generating some data"
   ]
  },
  {
   "cell_type": "markdown",
   "id": "institutional-corrections",
   "metadata": {},
   "source": [
    "### Integrate on time "
   ]
  },
  {
   "cell_type": "code",
   "execution_count": 10,
   "id": "appointed-finding",
   "metadata": {},
   "outputs": [
    {
     "name": "stderr",
     "output_type": "stream",
     "text": [
      "100%|██████████| 144/144 [00:01<00:00, 74.32it/s]\n"
     ]
    },
    {
     "name": "stdout",
     "output_type": "stream",
     "text": [
      "Total counts = 27613, Produced: /data01/home/baroncelli/notebook_output/csv/ebl000001_simtype_grb_t.csv\n"
     ]
    },
    {
     "data": {
      "text/html": [
       "<div>\n",
       "<style scoped>\n",
       "    .dataframe tbody tr th:only-of-type {\n",
       "        vertical-align: middle;\n",
       "    }\n",
       "\n",
       "    .dataframe tbody tr th {\n",
       "        vertical-align: top;\n",
       "    }\n",
       "\n",
       "    .dataframe thead th {\n",
       "        text-align: right;\n",
       "    }\n",
       "</style>\n",
       "<table border=\"1\" class=\"dataframe\">\n",
       "  <thead>\n",
       "    <tr style=\"text-align: right;\">\n",
       "      <th></th>\n",
       "      <th>VALMIN</th>\n",
       "      <th>VALMAX</th>\n",
       "      <th>VALCENTER</th>\n",
       "      <th>COUNTS</th>\n",
       "      <th>ERROR</th>\n",
       "    </tr>\n",
       "  </thead>\n",
       "  <tbody>\n",
       "    <tr>\n",
       "      <th>0</th>\n",
       "      <td>0</td>\n",
       "      <td>25</td>\n",
       "      <td>12.5</td>\n",
       "      <td>168</td>\n",
       "      <td>12.9615</td>\n",
       "    </tr>\n",
       "    <tr>\n",
       "      <th>1</th>\n",
       "      <td>25</td>\n",
       "      <td>50</td>\n",
       "      <td>37.5</td>\n",
       "      <td>177</td>\n",
       "      <td>13.3041</td>\n",
       "    </tr>\n",
       "    <tr>\n",
       "      <th>2</th>\n",
       "      <td>50</td>\n",
       "      <td>75</td>\n",
       "      <td>62.5</td>\n",
       "      <td>165</td>\n",
       "      <td>12.8452</td>\n",
       "    </tr>\n",
       "  </tbody>\n",
       "</table>\n",
       "</div>"
      ],
      "text/plain": [
       "   VALMIN  VALMAX  VALCENTER  COUNTS    ERROR\n",
       "0       0      25       12.5     168  12.9615\n",
       "1      25      50       37.5     177  13.3041\n",
       "2      50      75       62.5     165  12.8452"
      ]
     },
     "execution_count": 10,
     "metadata": {},
     "output_type": "execute_result"
    }
   ],
   "source": [
    "csv_data_t_bkg_src = photometry.integrate(photometry_params, sim_params_bkgsrc, integration=\"t\").pop(0)\n",
    "#csv_data_t_bkg_src = \"/data01/home/baroncelli/phd/DATA/obs/obs_st_bkg_tr_10_os_0_emin_0.03_emax_0.15_roi_2.5/backgrounds/bkg000001.fits\"\n",
    "pd.read_csv(csv_data_t_bkg_src).head(3)"
   ]
  },
  {
   "cell_type": "code",
   "execution_count": 11,
   "id": "basic-basic",
   "metadata": {},
   "outputs": [
    {
     "name": "stderr",
     "output_type": "stream",
     "text": [
      "100%|██████████| 144/144 [00:01<00:00, 99.15it/s] "
     ]
    },
    {
     "name": "stdout",
     "output_type": "stream",
     "text": [
      "Total counts = 25287, Produced: /data01/home/baroncelli/notebook_output/csv/bkg000001_simtype_bkg_t.csv\n",
      "     VALMIN  VALMAX  VALCENTER  COUNTS    ERROR\n",
      "0         0      25       12.5     180  13.4164\n",
      "1        25      50       37.5     168  12.9615\n",
      "2        50      75       62.5     171  13.0767\n",
      "3        75     100       87.5     176  13.2665\n",
      "4       100     125      112.5     189  13.7477\n",
      "..      ...     ...        ...     ...      ...\n",
      "139    3475    3500     3487.5     165  12.8452\n",
      "140    3500    3525     3512.5     187  13.6748\n",
      "141    3525    3550     3537.5     184  13.5647\n",
      "142    3550    3575     3562.5     184  13.5647\n",
      "143    3575    3600     3587.5     161  12.6886\n",
      "\n",
      "[144 rows x 5 columns]\n"
     ]
    },
    {
     "name": "stderr",
     "output_type": "stream",
     "text": [
      "\n"
     ]
    }
   ],
   "source": [
    "csv_data_t_bkg_only = photometry.integrate(photometry_params, sim_params_bkgonly, integration=\"t\").pop(0)\n",
    "# csv_data_t_bkg_only = \"/data01/home/baroncelli/phd/DATA/obs/obs_st_grb_tr_10_os_1800_emin_0.03_emax_0.15_roi_2.5/run0406_ID000126/ebl000001.fits\"\n",
    "print(pd.read_csv(csv_data_t_bkg_only))"
   ]
  },
  {
   "cell_type": "markdown",
   "id": "subtle-laser",
   "metadata": {},
   "source": [
    "### Integrate on energy"
   ]
  },
  {
   "cell_type": "code",
   "execution_count": 12,
   "id": "negative-penalty",
   "metadata": {},
   "outputs": [
    {
     "name": "stderr",
     "output_type": "stream",
     "text": [
      "100%|██████████| 119/119 [00:01<00:00, 81.02it/s]"
     ]
    },
    {
     "name": "stdout",
     "output_type": "stream",
     "text": [
      "Total counts = 27580, Produced: /data01/home/baroncelli/notebook_output/csv/ebl000001_simtype_grb_e.csv\n"
     ]
    },
    {
     "name": "stderr",
     "output_type": "stream",
     "text": [
      "\n"
     ]
    }
   ],
   "source": [
    "csv_data_e_bkg_src = photometry.integrate(photometry_params, sim_params_bkgsrc, integration=\"e\").pop(0)"
   ]
  },
  {
   "cell_type": "code",
   "execution_count": 13,
   "id": "twenty-possible",
   "metadata": {},
   "outputs": [
    {
     "name": "stderr",
     "output_type": "stream",
     "text": [
      "100%|██████████| 119/119 [00:01<00:00, 94.47it/s]"
     ]
    },
    {
     "name": "stdout",
     "output_type": "stream",
     "text": [
      "Total counts = 25262, Produced: /data01/home/baroncelli/notebook_output/csv/bkg000001_simtype_bkg_e.csv\n"
     ]
    },
    {
     "name": "stderr",
     "output_type": "stream",
     "text": [
      "\n"
     ]
    }
   ],
   "source": [
    "csv_data_e_bkg_only = photometry.integrate(photometry_params, sim_params_bkgonly, integration=\"e\").pop(0)"
   ]
  },
  {
   "cell_type": "markdown",
   "id": "alleged-ethics",
   "metadata": {},
   "source": [
    "## Plotting the data"
   ]
  },
  {
   "cell_type": "markdown",
   "id": "occupied-florida",
   "metadata": {},
   "source": [
    "### Time integration"
   ]
  },
  {
   "cell_type": "code",
   "execution_count": 14,
   "id": "hundred-bumper",
   "metadata": {
    "scrolled": false
   },
   "outputs": [
    {
     "data": {
      "application/vnd.jupyter.widget-view+json": {
       "model_id": "c8a91aac057148d0819abeac21f83222",
       "version_major": 2,
       "version_minor": 0
      },
      "text/plain": [
       "Canvas(toolbar=Toolbar(toolitems=[('Home', 'Reset original view', 'home', 'home'), ('Back', 'Back to previous …"
      ]
     },
     "metadata": {},
     "output_type": "display_data"
    }
   ],
   "source": [
    "singleplot_t = PhotometrySinglePlot(title = \"Time integration\")\n",
    "_ = singleplot_t.addData(csv_data_t_bkg_src, photometry_params, sim_params_bkgsrc, [\"bkg+src\"], \"t\")\n",
    "_ = singleplot_t.addData(csv_data_t_bkg_only, photometry_params, sim_params_bkgonly, [\"bkg only\"], \"t\")"
   ]
  },
  {
   "cell_type": "code",
   "execution_count": null,
   "id": "brave-montgomery",
   "metadata": {},
   "outputs": [],
   "source": [
    "multiplot_t = PhotometrySubPlots(title = \"Time integration\")\n",
    "_ = multiplot_t.addData(csv_data_t_bkg_src, photometry_params, sim_params_bkgsrc, [\"bkg+src\"], \"t\")\n",
    "_ = multiplot_t.addData(csv_data_t_bkg_only, photometry_params, sim_params_bkgonly, [\"bkg only\"], \"t\")"
   ]
  },
  {
   "cell_type": "markdown",
   "id": "collective-michigan",
   "metadata": {},
   "source": [
    "## Energy integration"
   ]
  },
  {
   "cell_type": "code",
   "execution_count": null,
   "id": "dried-disco",
   "metadata": {},
   "outputs": [],
   "source": [
    "singleplot_e = PhotometrySinglePlot(title = \"Energy integration\")\n",
    "singleplot_e.addData(csv_data_e_bkg_src, photometry_params, sim_params_bkgsrc, [\"bkg+src\"], \"e\")\n",
    "singleplot_e.addData(csv_data_e_bkg_only, photometry_params, sim_params_bkgonly, [\"bkg only\"], \"e\")"
   ]
  },
  {
   "cell_type": "code",
   "execution_count": null,
   "id": "alpha-redhead",
   "metadata": {},
   "outputs": [],
   "source": [
    "multiplot_e = PhotometrySubPlots(title = \"Energy integration\")\n",
    "_ = multiplot_e.addData(csv_data_e_bkg_src, photometry_params, sim_params_bkgsrc, [\"bkg+src\"], \"e\")\n",
    "_ = multiplot_e.addData(csv_data_e_bkg_only, photometry_params, sim_params_bkgonly, [\"bkg only\"], \"e\")"
   ]
  },
  {
   "cell_type": "markdown",
   "id": "compound-former",
   "metadata": {},
   "source": [
    "## Integration on time with multiple window sizes and background baseline"
   ]
  },
  {
   "cell_type": "code",
   "execution_count": null,
   "id": "graduate-effort",
   "metadata": {
    "scrolled": true
   },
   "outputs": [],
   "source": [
    "# first plot: background + source on multiple window sizes\n",
    "singleplot_bgksrc = PhotometrySinglePlot(title=\"Integration on time with multiple window sizes\")\n",
    "\n",
    "# second plot: background only on multiple window sizes\n",
    "singleplot_bgk = PhotometrySinglePlot(title=\"Integration on time with multiple window sizes\")\n",
    "\n",
    "# third plot: background + source on multiple window sizes (separate subplots with background baseline)\n",
    "multiplot_bgksrc = PhotometrySubPlots(title=\"Integration on time with multiple window sizes and background baseline\")\n",
    "\n",
    "photometry_params_tmp = photometry_params.copy()\n",
    "\n",
    "for ws in [10, 25, 50, 75]:\n",
    "\n",
    "    # source+background\n",
    "    photometry_params_tmp[\"t_window_size\"] = ws\n",
    "    photometry_params_tmp[\"t_window_step\"] = ws \n",
    "    csv_data_t_bkg_src = photometry.integrate(photometry_params_tmp, sim_params_bkgsrc, integration=\"t\").pop(0)\n",
    "    \n",
    "    \n",
    "    # background only baseline\n",
    "    photometry_params_tmp[\"t_window_size\"] = ws\n",
    "    photometry_params_tmp[\"t_window_step\"] = ws\n",
    "    csv_data_t_bkg = photometry.integrate(photometry_params_tmp, sim_params_bkgonly, integration=\"t\").pop(0)\n",
    "    \n",
    "\n",
    "    _ = singleplot_bgksrc.addData(csv_data_t_bkg_src, photometry_params_tmp, sim_params_bkgsrc, [\"t_window_size\",\"t_window_step\"], \"t\")\n",
    "\n",
    "    _ = singleplot_bgk.addData(csv_data_t_bkg, photometry_params_tmp, sim_params_bkgonly, [\"t_window_size\",\"t_window_step\"], \"t\")\n",
    "    \n",
    "    \n",
    "    _ = multiplot_bgksrc.addData(csv_data_t_bkg_src, photometry_params_tmp, sim_params_bkgsrc, [\"t_window_size\",\"t_window_step\"], \"t\")\n",
    "    _ = multiplot_bgksrc.addData(csv_data_t_bkg, photometry_params_tmp, sim_params_bkgonly, [\"baseline (only background)\"], \"t\", as_baseline=True)\n",
    "    "
   ]
  },
  {
   "cell_type": "code",
   "execution_count": null,
   "id": "organic-mexico",
   "metadata": {},
   "outputs": [],
   "source": [
    "singleplot_bgksrc.save(os.path.join(outdir, \"png/singleplot_t_ws_bgksrc\"))\n",
    "singleplot_bgksrc.destroy()\n",
    "singleplot_bgk.save(os.path.join(outdir, \"png/singleplot_t_ws_bgkonly\"))\n",
    "singleplot_bgk.destroy()\n",
    "multiplot_bgksrc.save(os.path.join(outdir, \"png/multiplot_t_ws_bgksrc\"))\n",
    "multiplot_bgksrc.destroy()"
   ]
  },
  {
   "cell_type": "markdown",
   "id": "enhanced-movie",
   "metadata": {},
   "source": [
    "## Integration on energy with multiple window sizes and background baseline"
   ]
  },
  {
   "cell_type": "code",
   "execution_count": 15,
   "id": "objective-river",
   "metadata": {
    "scrolled": false
   },
   "outputs": [
    {
     "data": {
      "application/vnd.jupyter.widget-view+json": {
       "model_id": "cfaf76cb2ca244128f8083ab34f0d3a0",
       "version_major": 2,
       "version_minor": 0
      },
      "text/plain": [
       "Canvas(toolbar=Toolbar(toolitems=[('Home', 'Reset original view', 'home', 'home'), ('Back', 'Back to previous …"
      ]
     },
     "metadata": {},
     "output_type": "display_data"
    },
    {
     "data": {
      "application/vnd.jupyter.widget-view+json": {
       "model_id": "e2919baa9b134f358f78f8a5193fc434",
       "version_major": 2,
       "version_minor": 0
      },
      "text/plain": [
       "Canvas(toolbar=Toolbar(toolitems=[('Home', 'Reset original view', 'home', 'home'), ('Back', 'Back to previous …"
      ]
     },
     "metadata": {},
     "output_type": "display_data"
    },
    {
     "data": {
      "application/vnd.jupyter.widget-view+json": {
       "model_id": "0c5ace365b094d74bca29de9b1b86cc8",
       "version_major": 2,
       "version_minor": 0
      },
      "text/plain": [
       "Canvas(toolbar=Toolbar(toolitems=[('Home', 'Reset original view', 'home', 'home'), ('Back', 'Back to previous …"
      ]
     },
     "metadata": {},
     "output_type": "display_data"
    },
    {
     "name": "stderr",
     "output_type": "stream",
     "text": [
      "100%|██████████| 119/119 [00:01<00:00, 80.79it/s]\n",
      "  4%|▍         | 5/119 [00:00<00:02, 49.55it/s]"
     ]
    },
    {
     "name": "stdout",
     "output_type": "stream",
     "text": [
      "Total counts = 27580, Produced: /data01/home/baroncelli/notebook_output/csv/ebl000001_simtype_grb_e.csv\n"
     ]
    },
    {
     "name": "stderr",
     "output_type": "stream",
     "text": [
      "100%|██████████| 119/119 [00:01<00:00, 86.18it/s] \n"
     ]
    },
    {
     "name": "stdout",
     "output_type": "stream",
     "text": [
      "Total counts = 25262, Produced: /data01/home/baroncelli/notebook_output/csv/bkg000001_simtype_bkg_e.csv\n"
     ]
    },
    {
     "name": "stderr",
     "output_type": "stream",
     "text": [
      "100%|██████████| 12/12 [00:00<00:00, 64.36it/s]\n",
      "100%|██████████| 12/12 [00:00<00:00, 74.34it/s]\n"
     ]
    },
    {
     "name": "stdout",
     "output_type": "stream",
     "text": [
      "Total counts = 27613, Produced: /data01/home/baroncelli/notebook_output/csv/ebl000001_simtype_grb_e.csv\n",
      "Total counts = 25287, Produced: /data01/home/baroncelli/notebook_output/csv/bkg000001_simtype_bkg_e.csv\n"
     ]
    },
    {
     "name": "stderr",
     "output_type": "stream",
     "text": [
      "100%|██████████| 6/6 [00:00<00:00, 38.58it/s]\n",
      "100%|██████████| 6/6 [00:00<00:00, 46.60it/s]\n",
      "  0%|          | 0/4 [00:00<?, ?it/s]"
     ]
    },
    {
     "name": "stdout",
     "output_type": "stream",
     "text": [
      "Total counts = 27613, Produced: /data01/home/baroncelli/notebook_output/csv/ebl000001_simtype_grb_e.csv\n",
      "Total counts = 25287, Produced: /data01/home/baroncelli/notebook_output/csv/bkg000001_simtype_bkg_e.csv\n"
     ]
    },
    {
     "name": "stderr",
     "output_type": "stream",
     "text": [
      "100%|██████████| 4/4 [00:00<00:00, 39.03it/s]\n",
      "100%|██████████| 4/4 [00:00<00:00, 28.89it/s]\n"
     ]
    },
    {
     "name": "stdout",
     "output_type": "stream",
     "text": [
      "Total counts = 27613, Produced: /data01/home/baroncelli/notebook_output/csv/ebl000001_simtype_grb_e.csv\n",
      "Total counts = 25287, Produced: /data01/home/baroncelli/notebook_output/csv/bkg000001_simtype_bkg_e.csv\n"
     ]
    }
   ],
   "source": [
    "# first plot: background + source on multiple window sizes\n",
    "singleplot_bgksrc = PhotometrySinglePlot(title = \"Integration on energy with multiple window sizes\")\n",
    "\n",
    "# second plot: background only on multiple window sizes\n",
    "singleplot_bgk = PhotometrySinglePlot(title = \"Integration on energy with multiple window sizes\")\n",
    "\n",
    "# third plot: background + source on multiple window sizes (separate subplots with background baseline)\n",
    "multiplot_bgksrc = PhotometrySubPlots(title = \"Integration on energy with multiple window sizes and background baseline\")\n",
    "\n",
    "photometry_params_tmp = photometry_params.copy()\n",
    "\n",
    "for ee in [0.001, 0.01, 0.02, 0.03]:\n",
    "\n",
    "    # source+background\n",
    "    photometry_params_tmp[\"e_window_size\"] = ee\n",
    "    photometry_params_tmp[\"e_window_step\"] = ee \n",
    "    csv_data_t_bkg_src = photometry.integrate(photometry_params_tmp, sim_params_bkgsrc, integration=\"e\").pop(0)\n",
    "    \n",
    "    \n",
    "    # background only baseline\n",
    "    photometry_params_tmp[\"e_window_size\"] = ee\n",
    "    photometry_params_tmp[\"e_window_step\"] = ee\n",
    "    csv_data_t_bkg = photometry.integrate(photometry_params_tmp, sim_params_bkgonly, integration=\"e\").pop(0)\n",
    "    \n",
    "\n",
    "    _ = singleplot_bgksrc.addData(csv_data_t_bkg_src, photometry_params_tmp, sim_params_bkgsrc, [\"e_window_size\",\"e_window_step\"], \"e\")\n",
    "\n",
    "    _ = singleplot_bgk.addData(csv_data_t_bkg, photometry_params_tmp, sim_params_bkgonly, [\"e_window_size\",\"e_window_step\"], \"e\")\n",
    "    \n",
    "    \n",
    "    _ = multiplot_bgksrc.addData(csv_data_t_bkg_src, photometry_params_tmp, sim_params_bkgsrc, [\"t_window_size\",\"t_window_step\"], \"e\")\n",
    "    _ = multiplot_bgksrc.addData(csv_data_t_bkg, photometry_params_tmp, sim_params_bkgonly, [\"t_window_size\",\"t_window_step\"], \"e\", as_baseline=True)\n",
    "    "
   ]
  },
  {
   "cell_type": "code",
   "execution_count": null,
   "id": "committed-updating",
   "metadata": {},
   "outputs": [],
   "source": [
    "singleplot_bgksrc.save(os.path.join(outdir, \"png/singleplot_e_ws_bgksrc\"))\n",
    "singleplot_bgksrc.destroy()\n",
    "singleplot_bgk.save(os.path.join(outdir, \"png/singleplot_e_ws_bgkonly\"))\n",
    "singleplot_bgk.destroy()\n",
    "multiplot_bgksrc.save(os.path.join(outdir, \"png/multiplot_e_ws_bgksrc\"))\n",
    "multiplot_bgksrc.destroy()"
   ]
  },
  {
   "cell_type": "markdown",
   "id": "rough-flooring",
   "metadata": {},
   "source": [
    "## Integration on time with multiple region radius values and background baseline"
   ]
  },
  {
   "cell_type": "code",
   "execution_count": null,
   "id": "asian-peace",
   "metadata": {
    "scrolled": false
   },
   "outputs": [],
   "source": [
    "# first plot: background + source on multiple window sizes\n",
    "singleplot_bgksrc = PhotometrySinglePlot(title=\"Integration on time with multiple region radius values\")\n",
    "\n",
    "# second plot: background only on multiple window sizes\n",
    "singleplot_bgk = PhotometrySinglePlot(title=\"Integration on time with multiple region radius values\")\n",
    "\n",
    "# third plot: background + source on multiple window sizes (separate subplots with background baseline)\n",
    "multiplot_bgksrc = PhotometrySubPlots(title=\"Integration on time with multiple region radius values and background baseline\")\n",
    "\n",
    "photometry_params_tmp = photometry_params.copy()\n",
    "\n",
    "for rr in [0.1, 1.0, 2.0, 3.0]:\n",
    "\n",
    "    # source+background\n",
    "    photometry_params_tmp[\"region_radius\"] = rr\n",
    "    photometry_params_tmp[\"region_radius\"] = rr \n",
    "    csv_data_t_bkg_src = photometry.integrate(photometry_params_tmp, sim_params_bkgsrc, integration=\"t\").pop(0)\n",
    "    \n",
    "    \n",
    "    # background only baseline\n",
    "    photometry_params_tmp[\"region_radius\"] = rr\n",
    "    photometry_params_tmp[\"region_radius\"] = rr\n",
    "    csv_data_t_bkg = photometry.integrate(photometry_params_tmp, sim_params_bkgonly, integration=\"t\").pop(0)\n",
    "    \n",
    "\n",
    "    _ = singleplot_bgksrc.addData(csv_data_t_bkg_src, photometry_params_tmp, sim_params_bkgsrc, [\"region_radius\"], \"t\")\n",
    "\n",
    "    _ = singleplot_bgk.addData(csv_data_t_bkg, photometry_params_tmp, sim_params_bkgonly, [\"region_radius\"], \"t\")\n",
    "    \n",
    "    \n",
    "    _ = multiplot_bgksrc.addData(csv_data_t_bkg_src, photometry_params_tmp, sim_params_bkgsrc, [\"region_radius\"], \"t\")\n",
    "    _ = multiplot_bgksrc.addData(csv_data_t_bkg, photometry_params_tmp, sim_params_bkgonly, [\"region_radius\"], \"t\", as_baseline=True)\n",
    "    "
   ]
  },
  {
   "cell_type": "code",
   "execution_count": null,
   "id": "suffering-bearing",
   "metadata": {},
   "outputs": [],
   "source": [
    "singleplot_bgksrc.save(os.path.join(outdir, \"png/singleplot_t_rr_bgksrc\"))\n",
    "singleplot_bgksrc.destroy()\n",
    "singleplot_bgk.save(os.path.join(outdir, \"png/singleplot_t_rr_bgkonly\"))\n",
    "singleplot_bgk.destroy()\n",
    "multiplot_bgksrc.save(os.path.join(outdir, \"png/multiplot_t_rr_bgksrc\"))\n",
    "multiplot_bgksrc.destroy()"
   ]
  },
  {
   "cell_type": "markdown",
   "id": "direct-chosen",
   "metadata": {},
   "source": [
    "## Integration on time with multiple pointing values and baseline on original pointing"
   ]
  },
  {
   "cell_type": "code",
   "execution_count": null,
   "id": "unnecessary-cosmetic",
   "metadata": {
    "scrolled": false
   },
   "outputs": [],
   "source": [
    "# first plot: background + source on multiple window sizes\n",
    "singleplot_bgksrc = PhotometrySinglePlot(title=\"Integration on time with multiple pointing values\")\n",
    "\n",
    "# second plot: background only on multiple window sizes\n",
    "singleplot_bgk = PhotometrySinglePlot(title=\"Integration on time with multiple pointing values\")\n",
    "\n",
    "# third plot: background + source on multiple window sizes (separate subplots with background baseline)\n",
    "multiplot_bgksrc_1 = PhotometrySubPlots(title=\"Integration on time with multiple pointing values and baseline on background\")\n",
    "\n",
    "# fouth plot: background + source on multiple window sizes (separate subplots with original pointing baseline)\n",
    "multiplot_bgksrc_2 = PhotometrySubPlots(title=\"Integration on time with multiple pointing values and baseline on original pointing\")\n",
    "\n",
    "\n",
    "photometry_params_tmp = photometry_params.copy()\n",
    "pointing=pointing_srcbkg_0\n",
    "pointing_offset = 0.5\n",
    "pointings = [\n",
    "    (pointing_srcbkg_0[0]+pointing_offset,pointing[1]), \n",
    "    (pointing[0],pointing[1]+pointing_offset), \n",
    "    (pointing[0]-pointing_offset,pointing[1]), \n",
    "    (pointing[0],pointing[1]-pointing_offset)\n",
    "] \n",
    "\n",
    "photometry_params_tmp2 = photometry_params.copy()\n",
    "csv_data_t_orig_point = photometry.integrate(photometry_params_tmp2, sim_params_bkgsrc, integration=\"t\").pop(0)\n",
    "\n",
    "for pp in pointings:\n",
    "\n",
    "    # source+background\n",
    "    photometry_params_tmp[\"pointing\"] = pp\n",
    "    photometry_params_tmp[\"pointing\"] = pp \n",
    "    csv_data_t_bkg_src = photometry.integrate(photometry_params_tmp, sim_params_bkgsrc, integration=\"t\").pop(0)\n",
    "    _ = singleplot_bgksrc.addData(csv_data_t_bkg_src, photometry_params_tmp, sim_params_bkgsrc, [\"pointing\"], \"t\")\n",
    "\n",
    "    # background only\n",
    "    photometry_params_tmp[\"pointing\"] = pp\n",
    "    photometry_params_tmp[\"pointing\"] = pp\n",
    "    csv_data_t_bkg = photometry.integrate(photometry_params_tmp, sim_params_bkgonly, integration=\"t\").pop(0)\n",
    "    _ = singleplot_bgk.addData(csv_data_t_bkg, photometry_params_tmp, sim_params_bkgonly, [\"pointing\"], \"t\")\n",
    "    \n",
    "    # source+background + baseline background only\n",
    "    _ = multiplot_bgksrc_1.addData(csv_data_t_bkg_src, photometry_params_tmp, sim_params_bkgsrc, [\"pointing\"], \"t\")\n",
    "    _ = multiplot_bgksrc_1.addData(csv_data_t_bkg, photometry_params_tmp, sim_params_bkgonly, [f\"baseline (background only)\"], \"t\", as_baseline=True)    \n",
    "    \n",
    "    \"\"\"\n",
    "        @FIXME !!!\n",
    "    \"\"\"\n",
    "    # source+background + baseline original pointing\n",
    "    _ = multiplot_bgksrc_2.addData(csv_data_t_bkg_src, photometry_params_tmp, sim_params_bkgsrc, [\"pointing\"], \"t\")\n",
    "    _ = multiplot_bgksrc_2.addData(csv_data_t_orig_point, photometry_params_tmp2, sim_params_bkgsrc, [f\"baseline {pointing}\"], \"t\", as_baseline=True)\n",
    "\n",
    "print(f\"Original pointing: {pointing_srcbkg_0}\")\n"
   ]
  },
  {
   "cell_type": "code",
   "execution_count": null,
   "id": "ordinary-burlington",
   "metadata": {},
   "outputs": [],
   "source": [
    "singleplot_bgksrc.save(os.path.join(outdir, \"png/singleplot_t_p_bgksrc\"))\n",
    "singleplot_bgksrc.destroy()\n",
    "singleplot_bgk.save(os.path.join(outdir, \"png/singleplot_t_p_bgkonly\"))\n",
    "singleplot_bgk.destroy()\n",
    "multiplot_bgksrc.save(os.path.join(outdir, \"png/multiplot_t_p_bgksrc\"))\n",
    "multiplot_bgksrc.destroy()"
   ]
  },
  {
   "cell_type": "markdown",
   "id": "completed-aspect",
   "metadata": {},
   "source": [
    "## Plotting different trials"
   ]
  },
  {
   "cell_type": "markdown",
   "id": "forty-payroll",
   "metadata": {},
   "source": [
    "### bkg + src"
   ]
  },
  {
   "cell_type": "code",
   "execution_count": null,
   "id": "associate-copyright",
   "metadata": {},
   "outputs": [],
   "source": [
    "bkg_src_files = []\n",
    "for i in range(4):\n",
    "    bkg_src_files.append(getInput(bkgsrc, i))"
   ]
  },
  {
   "cell_type": "code",
   "execution_count": null,
   "id": "streaming-aviation",
   "metadata": {
    "scrolled": false
   },
   "outputs": [],
   "source": [
    "singleplot = PhotometrySinglePlot(title=\"Multiple trials\")\n",
    "multiplot = PhotometrySubPlots(title=\"Multiple trials\")\n",
    "\n",
    "for i in range(4):\n",
    "    conf = bkg_src_files[i][1]\n",
    "    csv_data_t = photometry.integrate(photometry_params, conf, integration=\"t\").pop(0)\n",
    "    _ = singleplot.addData(csv_data_t, photometry_params, conf, [\"pointing\"], \"t\")\n",
    "    _ = multiplot.addData(csv_data_t, photometry_params, conf, [\"pointing\"], \"t\")\n",
    "    "
   ]
  },
  {
   "cell_type": "markdown",
   "id": "tender-regression",
   "metadata": {},
   "source": [
    "### Bkg only"
   ]
  },
  {
   "cell_type": "code",
   "execution_count": null,
   "id": "cultural-conspiracy",
   "metadata": {},
   "outputs": [],
   "source": [
    "bkg_only_files = []\n",
    "for i in range(4):\n",
    "    bkg_only_files.append(getInput(bkgonly, i))"
   ]
  },
  {
   "cell_type": "code",
   "execution_count": null,
   "id": "fallen-happening",
   "metadata": {
    "scrolled": false
   },
   "outputs": [],
   "source": [
    "singleplot = PhotometrySinglePlot(title=\"Multiple trials\")\n",
    "multiplot = PhotometrySubPlots(title=\"Multiple trials\")\n",
    "\n",
    "for i in range(4):\n",
    "    conf = bkg_only_files[i][1]\n",
    "    csv_data_t = photometry.integrate(photometry_params, conf, integration=\"t\").pop(0)\n",
    "    _ = singleplot.addData(csv_data_t, photometry_params, conf, [\"pointing\"], \"t\")\n",
    "    _ = multiplot.addData(csv_data_t, photometry_params, conf, [\"pointing\"], \"t\")"
   ]
  },
  {
   "cell_type": "markdown",
   "id": "thrown-description",
   "metadata": {},
   "source": [
    "## Integrate on time and on energy"
   ]
  },
  {
   "cell_type": "code",
   "execution_count": 16,
   "id": "approved-payroll",
   "metadata": {},
   "outputs": [],
   "source": [
    "sim_params_bkgsrc_tmp = sim_params_bkgsrc.copy()\n",
    "sim_params_bkgsrc_tmp[\"t_window_start\"] = 1000 \n",
    "\n",
    "photometry_params_tmp = photometry_params.copy()\n",
    "photometry_params_tmp[\"t_window_size\"] = 50\n",
    "photometry_params_tmp[\"t_window_step\"] = 50\n",
    "photometry_params_tmp[\"e_window_size\"] = 0.01\n",
    "photometry_params_tmp[\"e_window_step\"] = 0.01"
   ]
  },
  {
   "cell_type": "code",
   "execution_count": 35,
   "id": "imported-slovak",
   "metadata": {},
   "outputs": [
    {
     "name": "stderr",
     "output_type": "stream",
     "text": [
      "0it [00:00, ?it/s]\n",
      "  0%|          | 0/52 [00:00<?, ?it/s]\u001b[A\n",
      " 10%|▉         | 5/52 [00:00<00:01, 44.54it/s]\u001b[A\n",
      " 23%|██▎       | 12/52 [00:00<00:00, 55.37it/s]\u001b[A\n",
      " 37%|███▋      | 19/52 [00:00<00:00, 58.74it/s]\u001b[A\n",
      " 50%|█████     | 26/52 [00:00<00:00, 60.67it/s]\u001b[A\n",
      " 63%|██████▎   | 33/52 [00:00<00:00, 62.61it/s]\u001b[A\n",
      " 77%|███████▋  | 40/52 [00:00<00:00, 57.07it/s]\u001b[A\n",
      "100%|██████████| 52/52 [00:00<00:00, 58.54it/s]\u001b[A\n",
      "1it [00:00,  1.12it/s]\n",
      "  0%|          | 0/52 [00:00<?, ?it/s]\u001b[A\n",
      " 13%|█▎        | 7/52 [00:00<00:00, 62.36it/s]\u001b[A"
     ]
    },
    {
     "name": "stdout",
     "output_type": "stream",
     "text": [
      "Total counts = 5933, Produced: /data01/home/baroncelli/notebook_output/csv/ebl000001_simtype_grb_f_energy_window_0.03_0.04.csv\n"
     ]
    },
    {
     "name": "stderr",
     "output_type": "stream",
     "text": [
      "\n",
      " 27%|██▋       | 14/52 [00:00<00:00, 59.15it/s]\u001b[A\n",
      " 42%|████▏     | 22/52 [00:00<00:00, 65.46it/s]\u001b[A\n",
      " 60%|█████▉    | 31/52 [00:00<00:00, 71.65it/s]\u001b[A\n",
      " 77%|███████▋  | 40/52 [00:00<00:00, 75.77it/s]\u001b[A\n",
      "100%|██████████| 52/52 [00:00<00:00, 73.55it/s]\u001b[A\n",
      "2it [00:01,  1.27it/s]\n",
      "  0%|          | 0/52 [00:00<?, ?it/s]\u001b[A\n",
      " 17%|█▋        | 9/52 [00:00<00:00, 82.97it/s]\u001b[A"
     ]
    },
    {
     "name": "stdout",
     "output_type": "stream",
     "text": [
      "Total counts = 5006, Produced: /data01/home/baroncelli/notebook_output/csv/ebl000001_simtype_grb_f_energy_window_0.04_0.05.csv\n"
     ]
    },
    {
     "name": "stderr",
     "output_type": "stream",
     "text": [
      "\n",
      " 35%|███▍      | 18/52 [00:00<00:00, 82.30it/s]\u001b[A\n",
      " 52%|█████▏    | 27/52 [00:00<00:00, 82.16it/s]\u001b[A\n",
      " 69%|██████▉   | 36/52 [00:00<00:00, 82.81it/s]\u001b[A\n",
      "100%|██████████| 52/52 [00:00<00:00, 83.53it/s]\u001b[A\n",
      "3it [00:02,  1.40it/s]\n",
      "  0%|          | 0/52 [00:00<?, ?it/s]\u001b[A\n",
      " 17%|█▋        | 9/52 [00:00<00:00, 88.22it/s]\u001b[A"
     ]
    },
    {
     "name": "stdout",
     "output_type": "stream",
     "text": [
      "Total counts = 2801, Produced: /data01/home/baroncelli/notebook_output/csv/ebl000001_simtype_grb_f_energy_window_0.05_0.06.csv\n"
     ]
    },
    {
     "name": "stderr",
     "output_type": "stream",
     "text": [
      "\n",
      " 35%|███▍      | 18/52 [00:00<00:00, 83.36it/s]\u001b[A\n",
      " 52%|█████▏    | 27/52 [00:00<00:00, 82.76it/s]\u001b[A\n",
      " 69%|██████▉   | 36/52 [00:00<00:00, 81.55it/s]\u001b[A\n",
      "100%|██████████| 52/52 [00:00<00:00, 80.59it/s]\u001b[A\n",
      "4it [00:02,  1.45it/s]\n",
      "  0%|          | 0/52 [00:00<?, ?it/s]\u001b[A\n",
      " 17%|█▋        | 9/52 [00:00<00:00, 83.52it/s]\u001b[A"
     ]
    },
    {
     "name": "stdout",
     "output_type": "stream",
     "text": [
      "Total counts = 1705, Produced: /data01/home/baroncelli/notebook_output/csv/ebl000001_simtype_grb_f_energy_window_0.06_0.07.csv\n"
     ]
    },
    {
     "name": "stderr",
     "output_type": "stream",
     "text": [
      "\n",
      " 35%|███▍      | 18/52 [00:00<00:00, 84.34it/s]\u001b[A\n",
      " 52%|█████▏    | 27/52 [00:00<00:00, 83.02it/s]\u001b[A\n",
      " 69%|██████▉   | 36/52 [00:00<00:00, 82.65it/s]\u001b[A\n",
      "100%|██████████| 52/52 [00:00<00:00, 82.28it/s]\u001b[A\n",
      "5it [00:03,  1.49it/s]\n",
      "  0%|          | 0/52 [00:00<?, ?it/s]\u001b[A\n",
      " 17%|█▋        | 9/52 [00:00<00:00, 83.35it/s]\u001b[A"
     ]
    },
    {
     "name": "stdout",
     "output_type": "stream",
     "text": [
      "Total counts = 1130, Produced: /data01/home/baroncelli/notebook_output/csv/ebl000001_simtype_grb_f_energy_window_0.07_0.08.csv\n"
     ]
    },
    {
     "name": "stderr",
     "output_type": "stream",
     "text": [
      "\n",
      " 35%|███▍      | 18/52 [00:00<00:00, 82.20it/s]\u001b[A\n",
      " 52%|█████▏    | 27/52 [00:00<00:00, 83.90it/s]\u001b[A\n",
      " 69%|██████▉   | 36/52 [00:00<00:00, 83.40it/s]\u001b[A\n",
      "100%|██████████| 52/52 [00:00<00:00, 83.50it/s]\u001b[A\n",
      "6it [00:04,  1.53it/s]\n",
      "  0%|          | 0/52 [00:00<?, ?it/s]\u001b[A\n",
      " 13%|█▎        | 7/52 [00:00<00:00, 68.30it/s]\u001b[A"
     ]
    },
    {
     "name": "stdout",
     "output_type": "stream",
     "text": [
      "Total counts = 1053, Produced: /data01/home/baroncelli/notebook_output/csv/ebl000001_simtype_grb_f_energy_window_0.08_0.09.csv\n"
     ]
    },
    {
     "name": "stderr",
     "output_type": "stream",
     "text": [
      "\n",
      " 31%|███       | 16/52 [00:00<00:00, 77.23it/s]\u001b[A\n",
      " 48%|████▊     | 25/52 [00:00<00:00, 79.88it/s]\u001b[A\n",
      " 65%|██████▌   | 34/52 [00:00<00:00, 80.46it/s]\u001b[A\n",
      " 83%|████████▎ | 43/52 [00:00<00:00, 82.87it/s]\u001b[A\n",
      "100%|██████████| 52/52 [00:00<00:00, 81.60it/s]\u001b[A\n",
      "7it [00:04,  1.54it/s]\n",
      "  0%|          | 0/52 [00:00<?, ?it/s]\u001b[A\n",
      " 17%|█▋        | 9/52 [00:00<00:00, 84.06it/s]\u001b[A"
     ]
    },
    {
     "name": "stdout",
     "output_type": "stream",
     "text": [
      "Total counts = 785, Produced: /data01/home/baroncelli/notebook_output/csv/ebl000001_simtype_grb_f_energy_window_0.09_0.1.csv\n"
     ]
    },
    {
     "name": "stderr",
     "output_type": "stream",
     "text": [
      "\n",
      " 35%|███▍      | 18/52 [00:00<00:00, 83.07it/s]\u001b[A\n",
      " 52%|█████▏    | 27/52 [00:00<00:00, 83.66it/s]\u001b[A\n",
      " 69%|██████▉   | 36/52 [00:00<00:00, 83.85it/s]\u001b[A\n",
      "100%|██████████| 52/52 [00:00<00:00, 83.80it/s]\u001b[A\n",
      "8it [00:05,  1.56it/s]\n",
      "  0%|          | 0/52 [00:00<?, ?it/s]\u001b[A\n",
      " 17%|█▋        | 9/52 [00:00<00:00, 89.87it/s]\u001b[A"
     ]
    },
    {
     "name": "stdout",
     "output_type": "stream",
     "text": [
      "Total counts = 621, Produced: /data01/home/baroncelli/notebook_output/csv/ebl000001_simtype_grb_f_energy_window_0.1_0.11.csv\n"
     ]
    },
    {
     "name": "stderr",
     "output_type": "stream",
     "text": [
      "\n",
      " 35%|███▍      | 18/52 [00:00<00:00, 86.38it/s]\u001b[A\n",
      " 52%|█████▏    | 27/52 [00:00<00:00, 87.12it/s]\u001b[A\n",
      " 69%|██████▉   | 36/52 [00:00<00:00, 87.50it/s]\u001b[A\n",
      "100%|██████████| 52/52 [00:00<00:00, 87.76it/s]\u001b[A\n",
      "9it [00:06,  1.59it/s]\n",
      "  0%|          | 0/52 [00:00<?, ?it/s]\u001b[A\n",
      " 13%|█▎        | 7/52 [00:00<00:00, 58.89it/s]\u001b[A"
     ]
    },
    {
     "name": "stdout",
     "output_type": "stream",
     "text": [
      "Total counts = 522, Produced: /data01/home/baroncelli/notebook_output/csv/ebl000001_simtype_grb_f_energy_window_0.11_0.12.csv\n"
     ]
    },
    {
     "name": "stderr",
     "output_type": "stream",
     "text": [
      "\n",
      " 25%|██▌       | 13/52 [00:00<00:00, 59.44it/s]\u001b[A\n",
      " 38%|███▊      | 20/52 [00:00<00:00, 61.26it/s]\u001b[A\n",
      " 52%|█████▏    | 27/52 [00:00<00:00, 62.12it/s]\u001b[A\n",
      " 65%|██████▌   | 34/52 [00:00<00:00, 62.40it/s]\u001b[A\n",
      " 79%|███████▉  | 41/52 [00:00<00:00, 61.56it/s]\u001b[A\n",
      "100%|██████████| 52/52 [00:00<00:00, 63.46it/s]\u001b[A\n",
      "10it [00:06,  1.45it/s]\n",
      "  0%|          | 0/52 [00:00<?, ?it/s]\u001b[A\n",
      " 17%|█▋        | 9/52 [00:00<00:00, 87.23it/s]\u001b[A"
     ]
    },
    {
     "name": "stdout",
     "output_type": "stream",
     "text": [
      "Total counts = 382, Produced: /data01/home/baroncelli/notebook_output/csv/ebl000001_simtype_grb_f_energy_window_0.12_0.13.csv\n"
     ]
    },
    {
     "name": "stderr",
     "output_type": "stream",
     "text": [
      "\n",
      " 35%|███▍      | 18/52 [00:00<00:00, 86.30it/s]\u001b[A\n",
      " 52%|█████▏    | 27/52 [00:00<00:00, 86.54it/s]\u001b[A\n",
      " 69%|██████▉   | 36/52 [00:00<00:00, 86.45it/s]\u001b[A\n",
      "100%|██████████| 52/52 [00:00<00:00, 87.34it/s]\u001b[A\n",
      "11it [00:07,  1.51it/s]\n",
      "  0%|          | 0/52 [00:00<?, ?it/s]\u001b[A\n",
      " 17%|█▋        | 9/52 [00:00<00:00, 89.63it/s]\u001b[A"
     ]
    },
    {
     "name": "stdout",
     "output_type": "stream",
     "text": [
      "Total counts = 310, Produced: /data01/home/baroncelli/notebook_output/csv/ebl000001_simtype_grb_f_energy_window_0.13_0.14.csv\n"
     ]
    },
    {
     "name": "stderr",
     "output_type": "stream",
     "text": [
      "\n",
      " 35%|███▍      | 18/52 [00:00<00:00, 88.42it/s]\u001b[A\n",
      " 52%|█████▏    | 27/52 [00:00<00:00, 85.44it/s]\u001b[A\n",
      " 69%|██████▉   | 36/52 [00:00<00:00, 84.42it/s]\u001b[A\n",
      "100%|██████████| 52/52 [00:00<00:00, 86.21it/s]\u001b[A\n",
      "12it [00:08,  1.49it/s]"
     ]
    },
    {
     "name": "stdout",
     "output_type": "stream",
     "text": [
      "Total counts = 285, Produced: /data01/home/baroncelli/notebook_output/csv/ebl000001_simtype_grb_f_energy_window_0.14_0.15.csv\n"
     ]
    },
    {
     "name": "stderr",
     "output_type": "stream",
     "text": [
      "\n"
     ]
    }
   ],
   "source": [
    "csv_files = photometry.integrate(photometry_params_tmp, sim_params_bkgsrc_tmp, integration=\"et\")"
   ]
  },
  {
   "cell_type": "code",
   "execution_count": 36,
   "id": "earned-winner",
   "metadata": {},
   "outputs": [
    {
     "data": {
      "text/plain": [
       "['/data01/home/baroncelli/notebook_output/csv/ebl000001_simtype_grb_f_energy_window_0.03_0.04.csv',\n",
       " '/data01/home/baroncelli/notebook_output/csv/ebl000001_simtype_grb_f_energy_window_0.06_0.07.csv',\n",
       " '/data01/home/baroncelli/notebook_output/csv/ebl000001_simtype_grb_f_energy_window_0.11_0.12.csv',\n",
       " '/data01/home/baroncelli/notebook_output/csv/ebl000001_simtype_grb_f_energy_window_0.14_0.15.csv']"
      ]
     },
     "execution_count": 36,
     "metadata": {},
     "output_type": "execute_result"
    }
   ],
   "source": [
    "csv_files_to_plot = [csv_files[0], csv_files[3], csv_files[-4], csv_files[-1]]\n",
    "csv_files_to_plot"
   ]
  },
  {
   "cell_type": "code",
   "execution_count": 30,
   "id": "sixth-kenya",
   "metadata": {},
   "outputs": [],
   "source": [
    "def exctractInterval(f):\n",
    "    emin,emax = f.split(\"energy_window_\")[1].split(\".csv\")[0].split(\"_\")\n",
    "    return emin,emax"
   ]
  },
  {
   "cell_type": "code",
   "execution_count": 37,
   "id": "received-transcript",
   "metadata": {},
   "outputs": [
    {
     "data": {
      "application/vnd.jupyter.widget-view+json": {
       "model_id": "1e9e40634af441338947226a6a88a43a",
       "version_major": 2,
       "version_minor": 0
      },
      "text/plain": [
       "Canvas(toolbar=Toolbar(toolitems=[('Home', 'Reset original view', 'home', 'home'), ('Back', 'Back to previous …"
      ]
     },
     "metadata": {},
     "output_type": "display_data"
    }
   ],
   "source": [
    "singleplot_t = PhotometrySinglePlot(title = \"Energy/Time integration\")\n",
    "for f in csv_files_to_plot:\n",
    "    emin, emax = exctractInterval(f)\n",
    "    _ = singleplot_t.addData(f, photometry_params_tmp, sim_params_bkgsrc_tmp, [f\"emin: {emin} emax: {emax}\"], \"t\")"
   ]
  },
  {
   "cell_type": "markdown",
   "id": "brutal-soccer",
   "metadata": {},
   "source": [
    "# TODO\n",
    "\n",
    "* fix simulation outdir name (it should include other params) (done)\n",
    "* onset moved into template params (done)\n",
    "* Geneare background più corti (done)\n",
    "* custom titles (done)\n",
    "* refactoring: own classes, getTitle() and getLabel() in base class (done)\n",
    "* plottare differenti trials (done)\n",
    "* refactoring photometry (done)\n",
    "* round a 4 decimali (done)\n",
    "* et, te integrations (done)\n",
    "* plottare et (done)\n",
    "\n",
    "* bug pointing as baseline\n",
    "* plottare differenti runid"
   ]
  },
  {
   "cell_type": "code",
   "execution_count": null,
   "id": "documented-branch",
   "metadata": {},
   "outputs": [],
   "source": []
  }
 ],
 "metadata": {
  "kernelspec": {
   "display_name": "Python 3",
   "language": "python",
   "name": "python3"
  },
  "language_info": {
   "codemirror_mode": {
    "name": "ipython",
    "version": 3
   },
   "file_extension": ".py",
   "mimetype": "text/x-python",
   "name": "python",
   "nbconvert_exporter": "python",
   "pygments_lexer": "ipython3",
   "version": "3.7.3"
  }
 },
 "nbformat": 4,
 "nbformat_minor": 5
}
