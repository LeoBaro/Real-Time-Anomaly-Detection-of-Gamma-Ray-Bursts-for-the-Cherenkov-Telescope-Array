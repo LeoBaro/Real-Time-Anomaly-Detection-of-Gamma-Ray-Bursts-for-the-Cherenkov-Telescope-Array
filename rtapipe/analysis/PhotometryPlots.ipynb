{
 "cells": [
  {
   "cell_type": "code",
   "execution_count": 1,
   "id": "headed-education",
   "metadata": {},
   "outputs": [
    {
     "name": "stderr",
     "output_type": "stream",
     "text": [
      "\n",
      "Bad key \"text.kerning_factor\" on line 4 in\n",
      "/data01/home/baroncelli/.conda/envs/bphd/lib/python3.7/site-packages/matplotlib/mpl-data/stylelib/_classic_test_patch.mplstyle.\n",
      "You probably need to get an updated matplotlibrc file from\n",
      "https://github.com/matplotlib/matplotlib/blob/v3.1.2/matplotlibrc.template\n",
      "or from the matplotlib source distribution\n"
     ]
    }
   ],
   "source": [
    "from pathlib import Path\n",
    "from astropy.io import fits\n",
    "import pandas as pd\n",
    "import numpy as np\n",
    "import collections\n",
    "import os\n",
    "import matplotlib.pyplot as plt\n",
    "%matplotlib widget\n",
    "\n",
    "datapath = Path(\"/data01/home/baroncelli/phd/DATA\")\n",
    "os.environ[\"DATA\"] = str(datapath)\n",
    "\n",
    "from RTAscience.cfg.Config import Config\n",
    "from RTAscience.lib.RTAUtils import get_pointing\n",
    "from rtapipe.pyscripts.phlists_to_photometry_plot import Photometry, PhotometrySinglePlot, PhotometrySubPlots"
   ]
  },
  {
   "cell_type": "code",
   "execution_count": 2,
   "id": "original-science",
   "metadata": {},
   "outputs": [],
   "source": [
    "def getInput(dataDir, index):\n",
    "    if index == 0:\n",
    "        index = 1\n",
    "    simFolder = datapath.joinpath(\"obs\",dataDir)\n",
    "    cfg = Config(simFolder.joinpath(\"config.yaml\"))\n",
    "    print(cfg.get(\"emin\"))\n",
    "    print(cfg.get(\"emax\"))\n",
    "    runid = cfg.get('runid')\n",
    "    template =  os.path.join(datapath, f'templates/{runid}.fits')\n",
    "    pointing = get_pointing(template)\n",
    "    if cfg.get(\"simtype\") == 'bkg':\n",
    "        inputFitsFile = simFolder.joinpath(\"backgrounds\",f\"bkg{str(index).zfill(6)}.fits\")\n",
    "    else:\n",
    "        inputFitsFile = simFolder.joinpath(runid,f\"ebl{str(index).zfill(6)}.fits\")    \n",
    "    return inputFitsFile, cfg, pointing"
   ]
  },
  {
   "cell_type": "code",
   "execution_count": 3,
   "id": "christian-uruguay",
   "metadata": {},
   "outputs": [],
   "source": [
    "bkgsrc      = \"obs_st_grb_tr_10_os_1800_emin_0.03_emax_0.15_roi_2.5\"\n",
    "bkgonly     = \"obs_st_bkg_tr_10_os_0_emin_0.03_emax_0.15_roi_2.5\""
   ]
  },
  {
   "cell_type": "code",
   "execution_count": 4,
   "id": "technical-journal",
   "metadata": {},
   "outputs": [
    {
     "name": "stdout",
     "output_type": "stream",
     "text": [
      "0.03\n",
      "0.15\n",
      "inputFile_srcbkg_0:  /data01/home/baroncelli/phd/DATA/obs/obs_st_grb_tr_10_os_1800_emin_0.03_emax_0.15_roi_2.5/run0406_ID000126/ebl000001.fits\n"
     ]
    }
   ],
   "source": [
    "inputFile_srcbkg_0, cfg_srcbkg_0, pointing_srcbkg_0 = getInput(bkgsrc, 1)\n",
    "print(\"inputFile_srcbkg_0: \",inputFile_srcbkg_0)"
   ]
  },
  {
   "cell_type": "code",
   "execution_count": 5,
   "id": "round-adapter",
   "metadata": {},
   "outputs": [
    {
     "name": "stdout",
     "output_type": "stream",
     "text": [
      "0.03\n",
      "0.15\n",
      "inputFile_onlybkg_0:  /data01/home/baroncelli/phd/DATA/obs/obs_st_bkg_tr_10_os_0_emin_0.03_emax_0.15_roi_2.5/backgrounds/bkg000001.fits\n"
     ]
    }
   ],
   "source": [
    "inputFile_onlybkg_0, cfg_onlybkg_0, pointing_onlybkg_0 = getInput(bkgonly, 1)\n",
    "print(\"inputFile_onlybkg_0: \",inputFile_onlybkg_0)"
   ]
  },
  {
   "cell_type": "code",
   "execution_count": 6,
   "id": "composite-phrase",
   "metadata": {},
   "outputs": [
    {
     "name": "stdout",
     "output_type": "stream",
     "text": [
      "setup simtype grb bkg\n",
      "simulation tobs 3600 86400\n",
      "simulation onset 1800 0\n"
     ]
    }
   ],
   "source": [
    "assert pointing_srcbkg_0 == pointing_onlybkg_0\n",
    "assert inputFile_srcbkg_0 != inputFile_onlybkg_0\n",
    "for key, val in cfg_srcbkg_0.cfg.items():\n",
    "    for subkey, subval in val.items():\n",
    "        if subval!=cfg_onlybkg_0.cfg[key][subkey]:\n",
    "            print(key,subkey,subval,cfg_onlybkg_0.cfg[key][subkey])\n"
   ]
  },
  {
   "cell_type": "markdown",
   "id": "revised-upper",
   "metadata": {},
   "source": [
    "## The photometry class"
   ]
  },
  {
   "cell_type": "code",
   "execution_count": 7,
   "id": "unable-hardware",
   "metadata": {},
   "outputs": [],
   "source": [
    "photometry = Photometry()"
   ]
  },
  {
   "cell_type": "markdown",
   "id": "answering-merchant",
   "metadata": {},
   "source": [
    "## Input parameters"
   ]
  },
  {
   "cell_type": "markdown",
   "id": "killing-mechanism",
   "metadata": {},
   "source": [
    "### Two simulation files: bkg only and bkg + source\n",
    "\n",
    "\n",
    "#### Template: run0406_ID000126\n",
    " Same template ==> same parameters, except:\n",
    "* input file\n",
    "* simtype\n",
    "* onset\n",
    "* obs_dir"
   ]
  },
  {
   "cell_type": "code",
   "execution_count": 13,
   "id": "double-andorra",
   "metadata": {},
   "outputs": [
    {
     "name": "stdout",
     "output_type": "stream",
     "text": [
      "csv  png\r\n"
     ]
    }
   ],
   "source": [
    "outdir = os.path.join(os.environ[\"HOME\"], \"notebook_output\")\n",
    "csvdir = os.path.join(outdir, \"csv\")\n",
    "pngdir = os.path.join(outdir, \"png\")\n",
    "! mkdir -p $csvdir                          \n",
    "! mkdir -p $pngdir                          \n",
    "! ls $outdir"
   ]
  },
  {
   "cell_type": "code",
   "execution_count": 14,
   "id": "military-dream",
   "metadata": {},
   "outputs": [],
   "source": [
    "# background + source \n",
    "bkg_src_conf = {\n",
    "    'input_file': inputFile_srcbkg_0,\n",
    "    'output_dir': outdir,\n",
    "    'simtype' : cfg_srcbkg_0.get('simtype'),\n",
    "    'runid' : cfg_srcbkg_0.get('runid'),\n",
    "    't_window_start': 0,\n",
    "    't_window_stop': cfg_srcbkg_0.get('tobs'),\n",
    "    'e_window_start': cfg_srcbkg_0.get('emin'),\n",
    "    'e_window_stop': cfg_srcbkg_0.get('emax')\n",
    "}\n",
    "\n",
    "# background only\n",
    "bkg_only_conf = {\n",
    "    'input_file': inputFile_onlybkg_0,\n",
    "    'output_dir': outdir,\n",
    "    'simtype' : cfg_onlybkg_0.get('simtype'),\n",
    "    'runid' : cfg_onlybkg_0.get('runid'),\n",
    "    't_window_start': 0,\n",
    "    't_window_stop': 3600, # cfg_onlybkg_0.get('tobs'),\n",
    "    'e_window_start': cfg_onlybkg_0.get('emin'),\n",
    "    'e_window_stop': cfg_onlybkg_0.get('emax'),\n",
    "}"
   ]
  },
  {
   "cell_type": "markdown",
   "id": "continental-egypt",
   "metadata": {},
   "source": [
    "## Photometry parameters"
   ]
  },
  {
   "cell_type": "code",
   "execution_count": 15,
   "id": "blond-reward",
   "metadata": {},
   "outputs": [],
   "source": [
    "photometry_params = {\n",
    "    \n",
    "    # integration parameters for time\n",
    "    't_window_size': 25,\n",
    "    't_window_step': 25,\n",
    "    \n",
    "    # integration parameters for energy    \n",
    "    'e_window_size': 0.001,\n",
    "    'e_window_step': 0.001,    \n",
    "\n",
    "    # Parameters that can change too    \n",
    "    'pointing' : pointing_srcbkg_0,\n",
    "    'region_radius': 0.5,\n",
    "    \n",
    "    # Other settings\n",
    "    'plot' : 1,\n",
    "    'onset' : 1800,\n",
    "    'override': 1\n",
    "}"
   ]
  },
  {
   "cell_type": "markdown",
   "id": "handed-gather",
   "metadata": {},
   "source": [
    "## Generating some data"
   ]
  },
  {
   "cell_type": "markdown",
   "id": "loved-ceramic",
   "metadata": {},
   "source": [
    "### Integrate on time "
   ]
  },
  {
   "cell_type": "code",
   "execution_count": 16,
   "id": "attempted-fight",
   "metadata": {},
   "outputs": [
    {
     "name": "stderr",
     "output_type": "stream",
     "text": [
      "100%|██████████| 144/144 [00:01<00:00, 80.32it/s]"
     ]
    },
    {
     "name": "stdout",
     "output_type": "stream",
     "text": [
      "Produced:  /data01/home/baroncelli/notebook_output/csv/ebl000001_grb_bxutsoksipdmyoj.csv\n"
     ]
    },
    {
     "name": "stderr",
     "output_type": "stream",
     "text": [
      "\n"
     ]
    },
    {
     "data": {
      "text/html": [
       "<div>\n",
       "<style scoped>\n",
       "    .dataframe tbody tr th:only-of-type {\n",
       "        vertical-align: middle;\n",
       "    }\n",
       "\n",
       "    .dataframe tbody tr th {\n",
       "        vertical-align: top;\n",
       "    }\n",
       "\n",
       "    .dataframe thead th {\n",
       "        text-align: right;\n",
       "    }\n",
       "</style>\n",
       "<table border=\"1\" class=\"dataframe\">\n",
       "  <thead>\n",
       "    <tr style=\"text-align: right;\">\n",
       "      <th></th>\n",
       "      <th>VALMIN</th>\n",
       "      <th>VALMAX</th>\n",
       "      <th>VALCENTER</th>\n",
       "      <th>COUNTS</th>\n",
       "      <th>ERROR</th>\n",
       "    </tr>\n",
       "  </thead>\n",
       "  <tbody>\n",
       "    <tr>\n",
       "      <th>0</th>\n",
       "      <td>0</td>\n",
       "      <td>25</td>\n",
       "      <td>12.5</td>\n",
       "      <td>168</td>\n",
       "      <td>12.961481</td>\n",
       "    </tr>\n",
       "    <tr>\n",
       "      <th>1</th>\n",
       "      <td>25</td>\n",
       "      <td>50</td>\n",
       "      <td>37.5</td>\n",
       "      <td>177</td>\n",
       "      <td>13.304135</td>\n",
       "    </tr>\n",
       "    <tr>\n",
       "      <th>2</th>\n",
       "      <td>50</td>\n",
       "      <td>75</td>\n",
       "      <td>62.5</td>\n",
       "      <td>165</td>\n",
       "      <td>12.845233</td>\n",
       "    </tr>\n",
       "  </tbody>\n",
       "</table>\n",
       "</div>"
      ],
      "text/plain": [
       "   VALMIN  VALMAX  VALCENTER  COUNTS      ERROR\n",
       "0       0      25       12.5     168  12.961481\n",
       "1      25      50       37.5     177  13.304135\n",
       "2      50      75       62.5     165  12.845233"
      ]
     },
     "execution_count": 16,
     "metadata": {},
     "output_type": "execute_result"
    }
   ],
   "source": [
    "csv_data_t_bkg_src = photometry.integrate(photometry_params, bkg_src_conf, integration=\"t\")\n",
    "#csv_data_t_bkg_src = \"/data01/home/baroncelli/phd/DATA/obs/obs_st_bkg_tr_10_os_0_emin_0.03_emax_0.15_roi_2.5/backgrounds/bkg000001.fits\"\n",
    "pd.read_csv(csv_data_t_bkg_src).head(3)"
   ]
  },
  {
   "cell_type": "code",
   "execution_count": 17,
   "id": "promising-bristol",
   "metadata": {},
   "outputs": [
    {
     "name": "stderr",
     "output_type": "stream",
     "text": [
      "100%|██████████| 144/144 [00:49<00:00,  2.91it/s]"
     ]
    },
    {
     "name": "stdout",
     "output_type": "stream",
     "text": [
      "Produced:  /data01/home/baroncelli/notebook_output/csv/bkg000001_bkg_useedjivjkhxzbe.csv\n",
      "     VALMIN  VALMAX  VALCENTER  COUNTS      ERROR\n",
      "0         0      25       12.5     155  12.449900\n",
      "1        25      50       37.5     184  13.564660\n",
      "2        50      75       62.5     181  13.453624\n",
      "3        75     100       87.5     160  12.649111\n",
      "4       100     125      112.5     183  13.527749\n",
      "..      ...     ...        ...     ...        ...\n",
      "139    3475    3500     3487.5     144  12.000000\n",
      "140    3500    3525     3512.5     158  12.569805\n",
      "141    3525    3550     3537.5     156  12.489996\n",
      "142    3550    3575     3562.5     159  12.609520\n",
      "143    3575    3600     3587.5     166  12.884099\n",
      "\n",
      "[144 rows x 5 columns]\n"
     ]
    },
    {
     "name": "stderr",
     "output_type": "stream",
     "text": [
      "\n"
     ]
    }
   ],
   "source": [
    "csv_data_t_bkg_only = photometry.integrate(photometry_params, bkg_only_conf, integration=\"t\")\n",
    "# csv_data_t_bkg_only = \"/data01/home/baroncelli/phd/DATA/obs/obs_st_grb_tr_10_os_1800_emin_0.03_emax_0.15_roi_2.5/run0406_ID000126/ebl000001.fits\"\n",
    "print(pd.read_csv(csv_data_t_bkg_only))"
   ]
  },
  {
   "cell_type": "markdown",
   "id": "expressed-classroom",
   "metadata": {},
   "source": [
    "### Integrate on energy"
   ]
  },
  {
   "cell_type": "code",
   "execution_count": 18,
   "id": "marked-joyce",
   "metadata": {},
   "outputs": [
    {
     "name": "stderr",
     "output_type": "stream",
     "text": [
      "100%|██████████| 119/119 [00:01<00:00, 76.53it/s]"
     ]
    },
    {
     "name": "stdout",
     "output_type": "stream",
     "text": [
      "Produced:  /data01/home/baroncelli/notebook_output/csv/ebl000001_grb_dwygsguxveurpac.csv\n"
     ]
    },
    {
     "name": "stderr",
     "output_type": "stream",
     "text": [
      "\n"
     ]
    }
   ],
   "source": [
    "csv_data_e_bkg_src = photometry.integrate(photometry_params, bkg_src_conf, integration=\"e\")"
   ]
  },
  {
   "cell_type": "code",
   "execution_count": 19,
   "id": "cosmetic-prophet",
   "metadata": {},
   "outputs": [
    {
     "name": "stderr",
     "output_type": "stream",
     "text": [
      "100%|██████████| 119/119 [00:40<00:00,  2.95it/s]"
     ]
    },
    {
     "name": "stdout",
     "output_type": "stream",
     "text": [
      "Produced:  /data01/home/baroncelli/notebook_output/csv/bkg000001_bkg_cpuskqeeifbcrkh.csv\n"
     ]
    },
    {
     "name": "stderr",
     "output_type": "stream",
     "text": [
      "\n"
     ]
    }
   ],
   "source": [
    "csv_data_e_bkg_only = photometry.integrate(photometry_params, bkg_only_conf, integration=\"e\")"
   ]
  },
  {
   "cell_type": "markdown",
   "id": "enhanced-world",
   "metadata": {},
   "source": [
    "## Plotting the data"
   ]
  },
  {
   "cell_type": "markdown",
   "id": "indoor-university",
   "metadata": {},
   "source": [
    "### Time integration"
   ]
  },
  {
   "cell_type": "code",
   "execution_count": 20,
   "id": "sunset-determination",
   "metadata": {
    "scrolled": true
   },
   "outputs": [
    {
     "data": {
      "application/vnd.jupyter.widget-view+json": {
       "model_id": "3977a656e4f54cd28a78750c101cde87",
       "version_major": 2,
       "version_minor": 0
      },
      "text/plain": [
       "Canvas(toolbar=Toolbar(toolitems=[('Home', 'Reset original view', 'home', 'home'), ('Back', 'Back to previous …"
      ]
     },
     "metadata": {},
     "output_type": "display_data"
    }
   ],
   "source": [
    "singleplot_t = PhotometrySinglePlot()\n",
    "_ = singleplot_t.addData(csv_data_t_bkg_src, photometry_params, [\"bkg+src\"], \"t\")\n",
    "_ = singleplot_t.addData(csv_data_t_bkg_only, photometry_params, [\"bkg only\"], \"t\")"
   ]
  },
  {
   "cell_type": "code",
   "execution_count": 21,
   "id": "rotary-aggregate",
   "metadata": {},
   "outputs": [
    {
     "data": {
      "application/vnd.jupyter.widget-view+json": {
       "model_id": "50a1baf27cca493696e4adcbf5c878fc",
       "version_major": 2,
       "version_minor": 0
      },
      "text/plain": [
       "Canvas(toolbar=Toolbar(toolitems=[('Home', 'Reset original view', 'home', 'home'), ('Back', 'Back to previous …"
      ]
     },
     "metadata": {},
     "output_type": "display_data"
    }
   ],
   "source": [
    "multiplot_t = PhotometrySubPlots()\n",
    "_ = multiplot_t.addData(csv_data_t_bkg_src, photometry_params, [\"bkg+src\"], \"t\")\n",
    "_ = multiplot_t.addData(csv_data_t_bkg_only, photometry_params, [\"bkg only\"], \"t\")"
   ]
  },
  {
   "cell_type": "markdown",
   "id": "illegal-comparison",
   "metadata": {},
   "source": [
    "## Energy integration"
   ]
  },
  {
   "cell_type": "code",
   "execution_count": 22,
   "id": "extraordinary-toyota",
   "metadata": {},
   "outputs": [
    {
     "data": {
      "application/vnd.jupyter.widget-view+json": {
       "model_id": "344b93c8e8eb4b2a9bb359af73e5d3ed",
       "version_major": 2,
       "version_minor": 0
      },
      "text/plain": [
       "Canvas(toolbar=Toolbar(toolitems=[('Home', 'Reset original view', 'home', 'home'), ('Back', 'Back to previous …"
      ]
     },
     "metadata": {},
     "output_type": "display_data"
    }
   ],
   "source": [
    "singleplot_e = PhotometrySinglePlot()\n",
    "singleplot_e.addData(csv_data_e_bkg_src, photometry_params, [\"bkg+src\"], \"e\")\n",
    "singleplot_e.addData(csv_data_e_bkg_only, photometry_params, [\"bkg only\"], \"e\")"
   ]
  },
  {
   "cell_type": "code",
   "execution_count": 23,
   "id": "compliant-earth",
   "metadata": {},
   "outputs": [
    {
     "data": {
      "application/vnd.jupyter.widget-view+json": {
       "model_id": "8220462e3620456bb7a33e9e428c38f7",
       "version_major": 2,
       "version_minor": 0
      },
      "text/plain": [
       "Canvas(toolbar=Toolbar(toolitems=[('Home', 'Reset original view', 'home', 'home'), ('Back', 'Back to previous …"
      ]
     },
     "metadata": {},
     "output_type": "display_data"
    }
   ],
   "source": [
    "multiplot_e = PhotometrySubPlots()\n",
    "_ = multiplot_e.addData(csv_data_e_bkg_src, photometry_params, [\"bkg+src\"], \"e\")\n",
    "_ = multiplot_e.addData(csv_data_e_bkg_only, photometry_params, [\"bkg only\"], \"e\")"
   ]
  },
  {
   "cell_type": "markdown",
   "id": "amazing-rings",
   "metadata": {},
   "source": [
    "## Integration on time with multiple window sizes and background baseline"
   ]
  },
  {
   "cell_type": "code",
   "execution_count": 24,
   "id": "funded-trouble",
   "metadata": {
    "scrolled": false
   },
   "outputs": [
    {
     "data": {
      "application/vnd.jupyter.widget-view+json": {
       "model_id": "2f52b48f5d7040f6b266a92a3b79c089",
       "version_major": 2,
       "version_minor": 0
      },
      "text/plain": [
       "Canvas(toolbar=Toolbar(toolitems=[('Home', 'Reset original view', 'home', 'home'), ('Back', 'Back to previous …"
      ]
     },
     "metadata": {},
     "output_type": "display_data"
    },
    {
     "data": {
      "application/vnd.jupyter.widget-view+json": {
       "model_id": "04c4c844e0f14197809aa17223ad61c6",
       "version_major": 2,
       "version_minor": 0
      },
      "text/plain": [
       "Canvas(toolbar=Toolbar(toolitems=[('Home', 'Reset original view', 'home', 'home'), ('Back', 'Back to previous …"
      ]
     },
     "metadata": {},
     "output_type": "display_data"
    },
    {
     "data": {
      "application/vnd.jupyter.widget-view+json": {
       "model_id": "ce2e075d2eb24d81856d602822feb09a",
       "version_major": 2,
       "version_minor": 0
      },
      "text/plain": [
       "Canvas(toolbar=Toolbar(toolitems=[('Home', 'Reset original view', 'home', 'home'), ('Back', 'Back to previous …"
      ]
     },
     "metadata": {},
     "output_type": "display_data"
    },
    {
     "name": "stderr",
     "output_type": "stream",
     "text": [
      "100%|██████████| 360/360 [00:04<00:00, 85.19it/s]\n",
      "  0%|          | 0/360 [00:00<?, ?it/s]"
     ]
    },
    {
     "name": "stdout",
     "output_type": "stream",
     "text": [
      "Produced:  /data01/home/baroncelli/notebook_output/csv/ebl000001_grb_gvltlhxdaykmuyq.csv\n"
     ]
    },
    {
     "name": "stderr",
     "output_type": "stream",
     "text": [
      "100%|██████████| 360/360 [01:55<00:00,  3.11it/s]\n"
     ]
    },
    {
     "name": "stdout",
     "output_type": "stream",
     "text": [
      "Produced:  /data01/home/baroncelli/notebook_output/csv/bkg000001_bkg_rpuytzefaliuulx.csv\n"
     ]
    },
    {
     "name": "stderr",
     "output_type": "stream",
     "text": [
      "100%|██████████| 144/144 [00:02<00:00, 71.04it/s]\n",
      "  0%|          | 0/144 [00:00<?, ?it/s]"
     ]
    },
    {
     "name": "stdout",
     "output_type": "stream",
     "text": [
      "Produced:  /data01/home/baroncelli/notebook_output/csv/ebl000001_grb_fgwdmgureibgwul.csv\n"
     ]
    },
    {
     "name": "stderr",
     "output_type": "stream",
     "text": [
      "100%|██████████| 144/144 [00:46<00:00,  3.07it/s]\n",
      " 11%|█         | 8/72 [00:00<00:00, 77.28it/s]"
     ]
    },
    {
     "name": "stdout",
     "output_type": "stream",
     "text": [
      "Produced:  /data01/home/baroncelli/notebook_output/csv/bkg000001_bkg_uebxknpvrlqfaab.csv\n"
     ]
    },
    {
     "name": "stderr",
     "output_type": "stream",
     "text": [
      "100%|██████████| 72/72 [00:00<00:00, 86.32it/s]\n",
      "  0%|          | 0/72 [00:00<?, ?it/s]"
     ]
    },
    {
     "name": "stdout",
     "output_type": "stream",
     "text": [
      "Produced:  /data01/home/baroncelli/notebook_output/csv/ebl000001_grb_cxlytkkclwbmybm.csv\n"
     ]
    },
    {
     "name": "stderr",
     "output_type": "stream",
     "text": [
      "100%|██████████| 72/72 [00:22<00:00,  3.14it/s]\n",
      " 17%|█▋        | 8/48 [00:00<00:00, 78.25it/s]"
     ]
    },
    {
     "name": "stdout",
     "output_type": "stream",
     "text": [
      "Produced:  /data01/home/baroncelli/notebook_output/csv/bkg000001_bkg_isrwhtomvpeytps.csv\n"
     ]
    },
    {
     "name": "stderr",
     "output_type": "stream",
     "text": [
      "100%|██████████| 48/48 [00:00<00:00, 85.38it/s]\n",
      "  0%|          | 0/48 [00:00<?, ?it/s]"
     ]
    },
    {
     "name": "stdout",
     "output_type": "stream",
     "text": [
      "Produced:  /data01/home/baroncelli/notebook_output/csv/ebl000001_grb_teslmjwkmxfjrhn.csv\n"
     ]
    },
    {
     "name": "stderr",
     "output_type": "stream",
     "text": [
      "100%|██████████| 48/48 [00:15<00:00,  3.09it/s]"
     ]
    },
    {
     "name": "stdout",
     "output_type": "stream",
     "text": [
      "Produced:  /data01/home/baroncelli/notebook_output/csv/bkg000001_bkg_gigbytvpmparrnp.csv\n"
     ]
    },
    {
     "name": "stderr",
     "output_type": "stream",
     "text": [
      "\n"
     ]
    }
   ],
   "source": [
    "# first plot: background + source on multiple window sizes\n",
    "singleplot_bgksrc = PhotometrySinglePlot()\n",
    "\n",
    "# second plot: background only on multiple window sizes\n",
    "singleplot_bgk = PhotometrySinglePlot()\n",
    "\n",
    "# third plot: background + source on multiple window sizes (separate subplots with background baseline)\n",
    "multiplot_bgksrc = PhotometrySubPlots()\n",
    "\n",
    "photometry_params_tmp = photometry_params.copy()\n",
    "\n",
    "for ws in [10, 25, 50, 75]:\n",
    "\n",
    "    # source+background\n",
    "    photometry_params_tmp[\"t_window_size\"] = ws\n",
    "    photometry_params_tmp[\"t_window_step\"] = ws \n",
    "    csv_data_t_bkg_src = photometry.integrate(photometry_params_tmp, bkg_src_conf, integration=\"t\")\n",
    "    \n",
    "    \n",
    "    # background only baseline\n",
    "    photometry_params_tmp[\"t_window_size\"] = ws\n",
    "    photometry_params_tmp[\"t_window_step\"] = ws\n",
    "    csv_data_t_bkg = photometry.integrate(photometry_params_tmp, bkg_only_conf, integration=\"t\")\n",
    "    \n",
    "\n",
    "    _ = singleplot_bgksrc.addData(csv_data_t_bkg_src, photometry_params_tmp, [\"t_window_size\",\"t_window_step\"], \"t\")\n",
    "\n",
    "    _ = singleplot_bgk.addData(csv_data_t_bkg, photometry_params_tmp, [\"t_window_size\",\"t_window_step\"], \"t\")\n",
    "    \n",
    "    \n",
    "    _ = multiplot_bgksrc.addData(csv_data_t_bkg_src, photometry_params_tmp, [\"t_window_size\",\"t_window_step\"], \"t\")\n",
    "    _ = multiplot_bgksrc.addData(csv_data_t_bkg, photometry_params_tmp, [\"t_window_size\",\"t_window_step\"], \"t\", as_baseline=True)\n",
    "    "
   ]
  },
  {
   "cell_type": "code",
   "execution_count": 25,
   "id": "numeric-ownership",
   "metadata": {},
   "outputs": [
    {
     "name": "stdout",
     "output_type": "stream",
     "text": [
      "Produced:  /data01/home/baroncelli/notebook_output/png/singleplot_t_ws_bgksrc.png\n",
      "Produced:  /data01/home/baroncelli/notebook_output/png/singleplot_t_ws_bgkonly.png\n",
      "Produced:  /data01/home/baroncelli/notebook_output/png/multiplot_t_ws_bgksrc.png\n"
     ]
    }
   ],
   "source": [
    "singleplot_bgksrc.save(os.path.join(outdir, \"png/singleplot_t_ws_bgksrc\"))\n",
    "singleplot_bgksrc.destroy()\n",
    "singleplot_bgk.save(os.path.join(outdir, \"png/singleplot_t_ws_bgkonly\"))\n",
    "singleplot_bgk.destroy()\n",
    "multiplot_bgksrc.save(os.path.join(outdir, \"png/multiplot_t_ws_bgksrc\"))\n",
    "multiplot_bgksrc.destroy()"
   ]
  },
  {
   "cell_type": "markdown",
   "id": "assured-drink",
   "metadata": {},
   "source": [
    "## Integration on energy with multiple window sizes and background baseline"
   ]
  },
  {
   "cell_type": "code",
   "execution_count": 26,
   "id": "liked-vacation",
   "metadata": {
    "scrolled": false
   },
   "outputs": [
    {
     "data": {
      "application/vnd.jupyter.widget-view+json": {
       "model_id": "750ad9e66ece490586399dc281fa434f",
       "version_major": 2,
       "version_minor": 0
      },
      "text/plain": [
       "Canvas(toolbar=Toolbar(toolitems=[('Home', 'Reset original view', 'home', 'home'), ('Back', 'Back to previous …"
      ]
     },
     "metadata": {},
     "output_type": "display_data"
    },
    {
     "data": {
      "application/vnd.jupyter.widget-view+json": {
       "model_id": "6a98897a25a04b348ca0c0dc39c3f756",
       "version_major": 2,
       "version_minor": 0
      },
      "text/plain": [
       "Canvas(toolbar=Toolbar(toolitems=[('Home', 'Reset original view', 'home', 'home'), ('Back', 'Back to previous …"
      ]
     },
     "metadata": {},
     "output_type": "display_data"
    },
    {
     "data": {
      "application/vnd.jupyter.widget-view+json": {
       "model_id": "f4cad77386924e33bd47c7c9bf6e75cf",
       "version_major": 2,
       "version_minor": 0
      },
      "text/plain": [
       "Canvas(toolbar=Toolbar(toolitems=[('Home', 'Reset original view', 'home', 'home'), ('Back', 'Back to previous …"
      ]
     },
     "metadata": {},
     "output_type": "display_data"
    },
    {
     "name": "stderr",
     "output_type": "stream",
     "text": [
      "100%|██████████| 119/119 [00:01<00:00, 78.50it/s]\n",
      "  0%|          | 0/119 [00:00<?, ?it/s]"
     ]
    },
    {
     "name": "stdout",
     "output_type": "stream",
     "text": [
      "Produced:  /data01/home/baroncelli/notebook_output/csv/ebl000001_grb_ymvgrxsltjnqjlo.csv\n"
     ]
    },
    {
     "name": "stderr",
     "output_type": "stream",
     "text": [
      "100%|██████████| 119/119 [00:38<00:00,  3.12it/s]\n"
     ]
    },
    {
     "name": "stdout",
     "output_type": "stream",
     "text": [
      "Produced:  /data01/home/baroncelli/notebook_output/csv/bkg000001_bkg_ughlwcnhfyvxvke.csv\n"
     ]
    },
    {
     "name": "stderr",
     "output_type": "stream",
     "text": [
      "100%|██████████| 12/12 [00:00<00:00, 71.31it/s]\n",
      "  0%|          | 0/12 [00:00<?, ?it/s]"
     ]
    },
    {
     "name": "stdout",
     "output_type": "stream",
     "text": [
      "Produced:  /data01/home/baroncelli/notebook_output/csv/ebl000001_grb_iudouixlcqlcvse.csv\n"
     ]
    },
    {
     "name": "stderr",
     "output_type": "stream",
     "text": [
      "100%|██████████| 12/12 [00:04<00:00,  2.98it/s]\n",
      "  0%|          | 0/6 [00:00<?, ?it/s]"
     ]
    },
    {
     "name": "stdout",
     "output_type": "stream",
     "text": [
      "Produced:  /data01/home/baroncelli/notebook_output/csv/bkg000001_bkg_sjkbvpxzqjmejmc.csv\n"
     ]
    },
    {
     "name": "stderr",
     "output_type": "stream",
     "text": [
      "100%|██████████| 6/6 [00:00<00:00, 56.75it/s]\n",
      "  0%|          | 0/6 [00:00<?, ?it/s]"
     ]
    },
    {
     "name": "stdout",
     "output_type": "stream",
     "text": [
      "Produced:  /data01/home/baroncelli/notebook_output/csv/ebl000001_grb_jjrkrdqmlhvtffn.csv\n"
     ]
    },
    {
     "name": "stderr",
     "output_type": "stream",
     "text": [
      "100%|██████████| 6/6 [00:02<00:00,  2.71it/s]\n",
      "100%|██████████| 4/4 [00:00<00:00, 47.46it/s]\n",
      "  0%|          | 0/4 [00:00<?, ?it/s]"
     ]
    },
    {
     "name": "stdout",
     "output_type": "stream",
     "text": [
      "Produced:  /data01/home/baroncelli/notebook_output/csv/bkg000001_bkg_lzhcmasbmyzqdot.csv\n",
      "Produced:  /data01/home/baroncelli/notebook_output/csv/ebl000001_grb_oweukrjnycuqmsp.csv\n"
     ]
    },
    {
     "name": "stderr",
     "output_type": "stream",
     "text": [
      "100%|██████████| 4/4 [00:01<00:00,  2.51it/s]"
     ]
    },
    {
     "name": "stdout",
     "output_type": "stream",
     "text": [
      "Produced:  /data01/home/baroncelli/notebook_output/csv/bkg000001_bkg_jsmwjyojroxfudh.csv\n"
     ]
    },
    {
     "name": "stderr",
     "output_type": "stream",
     "text": [
      "\n"
     ]
    }
   ],
   "source": [
    "# first plot: background + source on multiple window sizes\n",
    "singleplot_bgksrc = PhotometrySinglePlot()\n",
    "\n",
    "# second plot: background only on multiple window sizes\n",
    "singleplot_bgk = PhotometrySinglePlot()\n",
    "\n",
    "# third plot: background + source on multiple window sizes (separate subplots with background baseline)\n",
    "multiplot_bgksrc = PhotometrySubPlots()\n",
    "\n",
    "photometry_params_tmp = photometry_params.copy()\n",
    "\n",
    "for ee in [0.001, 0.01, 0.02, 0.03]:\n",
    "\n",
    "    # source+background\n",
    "    photometry_params_tmp[\"e_window_size\"] = ee\n",
    "    photometry_params_tmp[\"e_window_step\"] = ee \n",
    "    csv_data_t_bkg_src = photometry.integrate(photometry_params_tmp, bkg_src_conf, integration=\"e\")\n",
    "    \n",
    "    \n",
    "    # background only baseline\n",
    "    photometry_params_tmp[\"e_window_size\"] = ee\n",
    "    photometry_params_tmp[\"e_window_step\"] = ee\n",
    "    csv_data_t_bkg = photometry.integrate(photometry_params_tmp, bkg_only_conf, integration=\"e\")\n",
    "    \n",
    "\n",
    "    _ = singleplot_bgksrc.addData(csv_data_t_bkg_src, photometry_params_tmp, [\"e_window_size\",\"e_window_step\"], \"e\")\n",
    "\n",
    "    _ = singleplot_bgk.addData(csv_data_t_bkg, photometry_params_tmp, [\"e_window_size\",\"e_window_step\"], \"e\")\n",
    "    \n",
    "    \n",
    "    _ = multiplot_bgksrc.addData(csv_data_t_bkg_src, photometry_params_tmp, [\"t_window_size\",\"t_window_step\"], \"e\")\n",
    "    _ = multiplot_bgksrc.addData(csv_data_t_bkg, photometry_params_tmp, [\"t_window_size\",\"t_window_step\"], \"e\", as_baseline=True)\n",
    "    "
   ]
  },
  {
   "cell_type": "code",
   "execution_count": 27,
   "id": "acquired-process",
   "metadata": {},
   "outputs": [
    {
     "name": "stdout",
     "output_type": "stream",
     "text": [
      "Produced:  /data01/home/baroncelli/notebook_output/png/singleplot_e_ws_bgksrc.png\n",
      "Produced:  /data01/home/baroncelli/notebook_output/png/singleplot_e_ws_bgkonly.png\n",
      "Produced:  /data01/home/baroncelli/notebook_output/png/multiplot_e_ws_bgksrc.png\n"
     ]
    }
   ],
   "source": [
    "singleplot_bgksrc.save(os.path.join(outdir, \"png/singleplot_e_ws_bgksrc\"))\n",
    "singleplot_bgksrc.destroy()\n",
    "singleplot_bgk.save(os.path.join(outdir, \"png/singleplot_e_ws_bgkonly\"))\n",
    "singleplot_bgk.destroy()\n",
    "multiplot_bgksrc.save(os.path.join(outdir, \"png/multiplot_e_ws_bgksrc\"))\n",
    "multiplot_bgksrc.destroy()"
   ]
  },
  {
   "cell_type": "markdown",
   "id": "loving-sailing",
   "metadata": {},
   "source": [
    "## Integration on time with multiple region radius values and background baseline\n",
    " "
   ]
  },
  {
   "cell_type": "code",
   "execution_count": 28,
   "id": "neutral-honey",
   "metadata": {
    "scrolled": false
   },
   "outputs": [
    {
     "data": {
      "application/vnd.jupyter.widget-view+json": {
       "model_id": "89780a713e4e43b8a57c738340808daa",
       "version_major": 2,
       "version_minor": 0
      },
      "text/plain": [
       "Canvas(toolbar=Toolbar(toolitems=[('Home', 'Reset original view', 'home', 'home'), ('Back', 'Back to previous …"
      ]
     },
     "metadata": {},
     "output_type": "display_data"
    },
    {
     "data": {
      "application/vnd.jupyter.widget-view+json": {
       "model_id": "2dc8321c01bd4a64ac31b86697b88059",
       "version_major": 2,
       "version_minor": 0
      },
      "text/plain": [
       "Canvas(toolbar=Toolbar(toolitems=[('Home', 'Reset original view', 'home', 'home'), ('Back', 'Back to previous …"
      ]
     },
     "metadata": {},
     "output_type": "display_data"
    },
    {
     "data": {
      "application/vnd.jupyter.widget-view+json": {
       "model_id": "99d27025e6874053a8c41ae68cf06a28",
       "version_major": 2,
       "version_minor": 0
      },
      "text/plain": [
       "Canvas(toolbar=Toolbar(toolitems=[('Home', 'Reset original view', 'home', 'home'), ('Back', 'Back to previous …"
      ]
     },
     "metadata": {},
     "output_type": "display_data"
    },
    {
     "name": "stderr",
     "output_type": "stream",
     "text": [
      "100%|██████████| 144/144 [00:01<00:00, 93.76it/s]\n",
      "  0%|          | 0/144 [00:00<?, ?it/s]"
     ]
    },
    {
     "name": "stdout",
     "output_type": "stream",
     "text": [
      "Produced:  /data01/home/baroncelli/notebook_output/csv/ebl000001_grb_ibihpifpoejmedr.csv\n"
     ]
    },
    {
     "name": "stderr",
     "output_type": "stream",
     "text": [
      "100%|██████████| 144/144 [00:45<00:00,  3.18it/s]\n",
      "  6%|▋         | 9/144 [00:00<00:01, 82.10it/s]"
     ]
    },
    {
     "name": "stdout",
     "output_type": "stream",
     "text": [
      "Produced:  /data01/home/baroncelli/notebook_output/csv/bkg000001_bkg_dhkkmtymwpvucij.csv\n"
     ]
    },
    {
     "name": "stderr",
     "output_type": "stream",
     "text": [
      "100%|██████████| 144/144 [00:01<00:00, 92.91it/s]\n",
      "  0%|          | 0/144 [00:00<?, ?it/s]"
     ]
    },
    {
     "name": "stdout",
     "output_type": "stream",
     "text": [
      "Produced:  /data01/home/baroncelli/notebook_output/csv/ebl000001_grb_nkbhvqwacphwbcr.csv\n"
     ]
    },
    {
     "name": "stderr",
     "output_type": "stream",
     "text": [
      "100%|██████████| 144/144 [00:48<00:00,  3.00it/s]\n",
      "  5%|▍         | 7/144 [00:00<00:01, 69.53it/s]"
     ]
    },
    {
     "name": "stdout",
     "output_type": "stream",
     "text": [
      "Produced:  /data01/home/baroncelli/notebook_output/csv/bkg000001_bkg_mahzsthwbjexquq.csv\n"
     ]
    },
    {
     "name": "stderr",
     "output_type": "stream",
     "text": [
      "100%|██████████| 144/144 [00:01<00:00, 83.42it/s]\n",
      "  0%|          | 0/144 [00:00<?, ?it/s]"
     ]
    },
    {
     "name": "stdout",
     "output_type": "stream",
     "text": [
      "Produced:  /data01/home/baroncelli/notebook_output/csv/ebl000001_grb_tsetxzyhkbfdrwu.csv\n"
     ]
    },
    {
     "name": "stderr",
     "output_type": "stream",
     "text": [
      "100%|██████████| 144/144 [00:46<00:00,  3.11it/s]\n",
      "  6%|▌         | 8/144 [00:00<00:01, 77.60it/s]"
     ]
    },
    {
     "name": "stdout",
     "output_type": "stream",
     "text": [
      "Produced:  /data01/home/baroncelli/notebook_output/csv/bkg000001_bkg_pofdiprsfktvpfp.csv\n"
     ]
    },
    {
     "name": "stderr",
     "output_type": "stream",
     "text": [
      "100%|██████████| 144/144 [00:01<00:00, 87.04it/s]\n",
      "  0%|          | 0/144 [00:00<?, ?it/s]"
     ]
    },
    {
     "name": "stdout",
     "output_type": "stream",
     "text": [
      "Produced:  /data01/home/baroncelli/notebook_output/csv/ebl000001_grb_lsqhbqynxbopavk.csv\n"
     ]
    },
    {
     "name": "stderr",
     "output_type": "stream",
     "text": [
      "100%|██████████| 144/144 [00:47<00:00,  3.02it/s]"
     ]
    },
    {
     "name": "stdout",
     "output_type": "stream",
     "text": [
      "Produced:  /data01/home/baroncelli/notebook_output/csv/bkg000001_bkg_wwbxsbjyvaiboes.csv\n"
     ]
    },
    {
     "name": "stderr",
     "output_type": "stream",
     "text": [
      "\n"
     ]
    }
   ],
   "source": [
    "# first plot: background + source on multiple window sizes\n",
    "singleplot_bgksrc = PhotometrySinglePlot()\n",
    "\n",
    "# second plot: background only on multiple window sizes\n",
    "singleplot_bgk = PhotometrySinglePlot()\n",
    "\n",
    "# third plot: background + source on multiple window sizes (separate subplots with background baseline)\n",
    "multiplot_bgksrc = PhotometrySubPlots()\n",
    "\n",
    "photometry_params_tmp = photometry_params.copy()\n",
    "\n",
    "for rr in [0.1, 1.0, 2.0, 3.0]:\n",
    "\n",
    "    # source+background\n",
    "    photometry_params_tmp[\"region_radius\"] = rr\n",
    "    photometry_params_tmp[\"region_radius\"] = rr \n",
    "    csv_data_t_bkg_src = photometry.integrate(photometry_params_tmp, bkg_src_conf, integration=\"t\")\n",
    "    \n",
    "    \n",
    "    # background only baseline\n",
    "    photometry_params_tmp[\"region_radius\"] = rr\n",
    "    photometry_params_tmp[\"region_radius\"] = rr\n",
    "    csv_data_t_bkg = photometry.integrate(photometry_params_tmp, bkg_only_conf, integration=\"t\")\n",
    "    \n",
    "\n",
    "    _ = singleplot_bgksrc.addData(csv_data_t_bkg_src, photometry_params_tmp, [\"region_radius\"], \"t\")\n",
    "\n",
    "    _ = singleplot_bgk.addData(csv_data_t_bkg, photometry_params_tmp, [\"region_radius\"], \"t\")\n",
    "    \n",
    "    \n",
    "    _ = multiplot_bgksrc.addData(csv_data_t_bkg_src, photometry_params_tmp, [\"region_radius\"], \"t\")\n",
    "    _ = multiplot_bgksrc.addData(csv_data_t_bkg, photometry_params_tmp, [\"region_radius\"], \"t\", as_baseline=True)\n",
    "    "
   ]
  },
  {
   "cell_type": "code",
   "execution_count": 29,
   "id": "medium-alabama",
   "metadata": {},
   "outputs": [
    {
     "name": "stdout",
     "output_type": "stream",
     "text": [
      "Produced:  /data01/home/baroncelli/notebook_output/png/singleplot_t_rr_bgksrc.png\n",
      "Produced:  /data01/home/baroncelli/notebook_output/png/singleplot_t_rr_bgkonly.png\n",
      "Produced:  /data01/home/baroncelli/notebook_output/png/multiplot_t_rr_bgksrc.png\n"
     ]
    }
   ],
   "source": [
    "singleplot_bgksrc.save(os.path.join(outdir, \"png/singleplot_t_rr_bgksrc\"))\n",
    "singleplot_bgksrc.destroy()\n",
    "singleplot_bgk.save(os.path.join(outdir, \"png/singleplot_t_rr_bgkonly\"))\n",
    "singleplot_bgk.destroy()\n",
    "multiplot_bgksrc.save(os.path.join(outdir, \"png/multiplot_t_rr_bgksrc\"))\n",
    "multiplot_bgksrc.destroy()"
   ]
  },
  {
   "cell_type": "markdown",
   "id": "devoted-moderator",
   "metadata": {},
   "source": [
    "## Integration on time with multiple pointing values and baseline on original pointing\n"
   ]
  },
  {
   "cell_type": "code",
   "execution_count": 31,
   "id": "labeled-france",
   "metadata": {
    "scrolled": false
   },
   "outputs": [
    {
     "data": {
      "application/vnd.jupyter.widget-view+json": {
       "model_id": "4a65d47fec794f20aedb11d38fb11819",
       "version_major": 2,
       "version_minor": 0
      },
      "text/plain": [
       "Canvas(toolbar=Toolbar(toolitems=[('Home', 'Reset original view', 'home', 'home'), ('Back', 'Back to previous …"
      ]
     },
     "metadata": {},
     "output_type": "display_data"
    },
    {
     "data": {
      "application/vnd.jupyter.widget-view+json": {
       "model_id": "1c250d956d014cceb3eb0400d60f315a",
       "version_major": 2,
       "version_minor": 0
      },
      "text/plain": [
       "Canvas(toolbar=Toolbar(toolitems=[('Home', 'Reset original view', 'home', 'home'), ('Back', 'Back to previous …"
      ]
     },
     "metadata": {},
     "output_type": "display_data"
    },
    {
     "data": {
      "application/vnd.jupyter.widget-view+json": {
       "model_id": "240018b8da734a4eae9185ef3c19d433",
       "version_major": 2,
       "version_minor": 0
      },
      "text/plain": [
       "Canvas(toolbar=Toolbar(toolitems=[('Home', 'Reset original view', 'home', 'home'), ('Back', 'Back to previous …"
      ]
     },
     "metadata": {},
     "output_type": "display_data"
    },
    {
     "name": "stderr",
     "output_type": "stream",
     "text": [
      "100%|██████████| 144/144 [00:01<00:00, 78.20it/s]\n",
      "  6%|▋         | 9/144 [00:00<00:01, 83.92it/s]"
     ]
    },
    {
     "name": "stdout",
     "output_type": "stream",
     "text": [
      "Produced:  /data01/home/baroncelli/notebook_output/csv/ebl000001_grb_hvtzfhdeyjgivab.csv\n"
     ]
    },
    {
     "name": "stderr",
     "output_type": "stream",
     "text": [
      "100%|██████████| 144/144 [00:01<00:00, 90.86it/s]\n",
      "  0%|          | 0/144 [00:00<?, ?it/s]"
     ]
    },
    {
     "name": "stdout",
     "output_type": "stream",
     "text": [
      "Produced:  /data01/home/baroncelli/notebook_output/csv/ebl000001_grb_lusyewhtpdsftut.csv\n"
     ]
    },
    {
     "name": "stderr",
     "output_type": "stream",
     "text": [
      "100%|██████████| 144/144 [00:46<00:00,  3.09it/s]\n",
      "  6%|▌         | 8/144 [00:00<00:01, 75.18it/s]"
     ]
    },
    {
     "name": "stdout",
     "output_type": "stream",
     "text": [
      "Produced:  /data01/home/baroncelli/notebook_output/csv/bkg000001_bkg_ycabwjebtzshghm.csv\n"
     ]
    },
    {
     "name": "stderr",
     "output_type": "stream",
     "text": [
      "100%|██████████| 144/144 [00:01<00:00, 89.53it/s]\n",
      "  0%|          | 0/144 [00:00<?, ?it/s]"
     ]
    },
    {
     "name": "stdout",
     "output_type": "stream",
     "text": [
      "Produced:  /data01/home/baroncelli/notebook_output/csv/ebl000001_grb_cqmwdbikiatxgwg.csv\n"
     ]
    },
    {
     "name": "stderr",
     "output_type": "stream",
     "text": [
      "100%|██████████| 144/144 [00:46<00:00,  3.08it/s]\n",
      "  6%|▋         | 9/144 [00:00<00:01, 88.02it/s]"
     ]
    },
    {
     "name": "stdout",
     "output_type": "stream",
     "text": [
      "Produced:  /data01/home/baroncelli/notebook_output/csv/bkg000001_bkg_diggkxwmaptemce.csv\n"
     ]
    },
    {
     "name": "stderr",
     "output_type": "stream",
     "text": [
      "100%|██████████| 144/144 [00:01<00:00, 90.49it/s]\n",
      "  0%|          | 0/144 [00:00<?, ?it/s]"
     ]
    },
    {
     "name": "stdout",
     "output_type": "stream",
     "text": [
      "Produced:  /data01/home/baroncelli/notebook_output/csv/ebl000001_grb_dipvzoipepdzaep.csv\n"
     ]
    },
    {
     "name": "stderr",
     "output_type": "stream",
     "text": [
      "100%|██████████| 144/144 [00:50<00:00,  2.83it/s]\n",
      "  6%|▌         | 8/144 [00:00<00:01, 76.29it/s]"
     ]
    },
    {
     "name": "stdout",
     "output_type": "stream",
     "text": [
      "Produced:  /data01/home/baroncelli/notebook_output/csv/bkg000001_bkg_azlwvpqkplegmch.csv\n"
     ]
    },
    {
     "name": "stderr",
     "output_type": "stream",
     "text": [
      "100%|██████████| 144/144 [00:02<00:00, 71.16it/s]\n",
      "  0%|          | 0/144 [00:00<?, ?it/s]"
     ]
    },
    {
     "name": "stdout",
     "output_type": "stream",
     "text": [
      "Produced:  /data01/home/baroncelli/notebook_output/csv/ebl000001_grb_qhlqablqgwajshl.csv\n"
     ]
    },
    {
     "name": "stderr",
     "output_type": "stream",
     "text": [
      "100%|██████████| 144/144 [00:49<00:00,  2.90it/s]"
     ]
    },
    {
     "name": "stdout",
     "output_type": "stream",
     "text": [
      "Produced:  /data01/home/baroncelli/notebook_output/csv/bkg000001_bkg_slgwmxrzorgmbmj.csv\n"
     ]
    },
    {
     "name": "stderr",
     "output_type": "stream",
     "text": [
      "\n"
     ]
    }
   ],
   "source": [
    "# first plot: background + source on multiple window sizes\n",
    "singleplot_bgksrc = PhotometrySinglePlot()\n",
    "\n",
    "# second plot: background only on multiple window sizes\n",
    "singleplot_bgk = PhotometrySinglePlot()\n",
    "\n",
    "# third plot: background + source on multiple window sizes (separate subplots with background baseline)\n",
    "multiplot_bgksrc = PhotometrySubPlots()\n",
    "\n",
    "photometry_params_tmp = photometry_params.copy()\n",
    "pointing=pointing_srcbkg_0\n",
    "pointing_offset = 0.5\n",
    "pointings = [\n",
    "    (pointing_srcbkg_0[0]+pointing_offset,pointing[1]), \n",
    "    (pointing[0],pointing[1]+pointing_offset), \n",
    "    (pointing[0]-pointing_offset,pointing[1]), \n",
    "    (pointing[0],pointing[1]-pointing_offset)\n",
    "] \n",
    "\n",
    "csv_data_t_orig_point = photometry.integrate(photometry_params_tmp, bkg_src_conf, integration=\"t\")\n",
    "\n",
    "for pp in pointings:\n",
    "\n",
    "    # source+background\n",
    "    photometry_params_tmp[\"pointing\"] = pp\n",
    "    photometry_params_tmp[\"pointing\"] = pp \n",
    "    csv_data_t_bkg_src = photometry.integrate(photometry_params_tmp, bkg_src_conf, integration=\"t\")\n",
    "    \n",
    "    \n",
    "    # background only baseline\n",
    "    photometry_params_tmp[\"pointing\"] = pp\n",
    "    photometry_params_tmp[\"pointing\"] = pp\n",
    "    csv_data_t_bkg = photometry.integrate(photometry_params_tmp, bkg_only_conf, integration=\"t\")\n",
    "    \n",
    "\n",
    "    _ = singleplot_bgksrc.addData(csv_data_t_bkg_src, photometry_params_tmp, [\"pointing\"], \"t\")\n",
    "\n",
    "    _ = singleplot_bgk.addData(csv_data_t_bkg, photometry_params_tmp, [\"pointing\"], \"t\")\n",
    "    \n",
    "    \n",
    "    _ = multiplot_bgksrc.addData(csv_data_t_bkg_src, photometry_params_tmp, [\"pointing\"], \"t\")\n",
    "    _ = multiplot_bgksrc.addData(csv_data_t_orig_point, photometry_params, [\"pointing\"], \"t\", as_baseline=True)"
   ]
  },
  {
   "cell_type": "code",
   "execution_count": null,
   "id": "protecting-medicaid",
   "metadata": {},
   "outputs": [],
   "source": [
    "singleplot_bgksrc.save(os.path.join(outdir, \"png/singleplot_t_p_bgksrc\"))\n",
    "singleplot_bgksrc.destroy()\n",
    "singleplot_bgk.save(os.path.join(outdir, \"png/singleplot_t_p_bgkonly\"))\n",
    "singleplot_bgk.destroy()\n",
    "multiplot_bgksrc.save(os.path.join(outdir, \"png/multiplot_t_p_bgksrc\"))\n",
    "multiplot_bgksrc.destroy()"
   ]
  }
 ],
 "metadata": {
  "kernelspec": {
   "display_name": "Python 3",
   "language": "python",
   "name": "python3"
  },
  "language_info": {
   "codemirror_mode": {
    "name": "ipython",
    "version": 3
   },
   "file_extension": ".py",
   "mimetype": "text/x-python",
   "name": "python",
   "nbconvert_exporter": "python",
   "pygments_lexer": "ipython3",
   "version": "3.7.3"
  }
 },
 "nbformat": 4,
 "nbformat_minor": 5
}
