{
 "cells": [
  {
   "cell_type": "code",
   "execution_count": 34,
   "id": "ambient-deputy",
   "metadata": {},
   "outputs": [],
   "source": [
    "from pathlib import Path\n",
    "from astropy.io import fits\n",
    "import pandas as pd\n",
    "import numpy as np\n",
    "import collections\n",
    "import os\n",
    "import matplotlib.pyplot as plt\n",
    "%matplotlib widget\n",
    "\n",
    "datapath = Path(\"/data01/home/baroncelli/phd/DATA\")\n",
    "os.environ[\"DATA\"] = str(datapath)\n",
    "\n",
    "from RTAscience.cfg.Config import Config\n",
    "from RTAscience.lib.RTAUtils import get_pointing\n",
    "from rtapipe.pyscripts.phlists_to_photometry_plot import Photometry, PhotometrySinglePlot, PhotometrySubPlots"
   ]
  },
  {
   "cell_type": "code",
   "execution_count": 35,
   "id": "adjacent-probe",
   "metadata": {},
   "outputs": [],
   "source": [
    "def getInput(dataDir):\n",
    "    simFolder = datapath.joinpath(\"obs\",dataDir)\n",
    "    cfg = Config(simFolder.joinpath(\"config.yaml\"))\n",
    "    print(cfg.get(\"emin\"))\n",
    "    print(cfg.get(\"emax\"))\n",
    "    runid = cfg.get('runid')\n",
    "    template =  os.path.join(datapath, f'templates/{runid}.fits')\n",
    "    pointing = get_pointing(template)\n",
    "    if cfg.get(\"simtype\") == 'bkg':\n",
    "        inputFitsFile = simFolder.joinpath(\"backgrounds\",\"bkg000001.fits\")\n",
    "    else:\n",
    "        inputFitsFile = simFolder.joinpath(runid,\"ebl000001.fits\")    \n",
    "    return inputFitsFile, cfg, pointing"
   ]
  },
  {
   "cell_type": "code",
   "execution_count": 36,
   "id": "swiss-malta",
   "metadata": {},
   "outputs": [],
   "source": [
    "inputFiles = [\"obs_st_grb_tr_1_os_1800_emin_0.03_emax_0.15_roi_2.5\"]"
   ]
  },
  {
   "cell_type": "code",
   "execution_count": 37,
   "id": "placed-drinking",
   "metadata": {},
   "outputs": [
    {
     "name": "stdout",
     "output_type": "stream",
     "text": [
      "0.03\n",
      "0.15\n"
     ]
    }
   ],
   "source": [
    "inputFile, cfg, pointing = getInput(inputFiles[-1]);"
   ]
  },
  {
   "cell_type": "code",
   "execution_count": 38,
   "id": "listed-resource",
   "metadata": {},
   "outputs": [],
   "source": [
    "p = Photometry()\n",
    "\n",
    "args = {\n",
    "    'simtype' : cfg.get('simtype'),\n",
    "    'runid' : cfg.get('runid'),\n",
    "    'obs_dir': str(datapath.joinpath(\"obs\",inputFiles[-1])),\n",
    "    'pointing' : pointing,\n",
    "    'region_radius': 0.5,\n",
    "    \n",
    "    't_window_start': 0,\n",
    "    't_window_stop': cfg.get('tobs'),\n",
    "    't_window_size': 25,\n",
    "    't_window_step': 25,\n",
    "\n",
    "    'e_window_start': 0.03,\n",
    "    'e_window_stop': 0.15,\n",
    "    'e_window_size': 0.03,\n",
    "    'e_window_step': 0.03,\n",
    "    \n",
    "    'plot' : 1,\n",
    "    'onset' : 1800,\n",
    "    'override': 1\n",
    "}"
   ]
  },
  {
   "cell_type": "markdown",
   "id": "useful-doubt",
   "metadata": {},
   "source": [
    "## region_radius "
   ]
  },
  {
   "cell_type": "code",
   "execution_count": 39,
   "id": "noted-handy",
   "metadata": {
    "scrolled": false
   },
   "outputs": [
    {
     "data": {
      "application/vnd.jupyter.widget-view+json": {
       "model_id": "502444f3d8f8426a991edb5d14d989c5",
       "version_major": 2,
       "version_minor": 0
      },
      "text/plain": [
       "Canvas(toolbar=Toolbar(toolitems=[('Home', 'Reset original view', 'home', 'home'), ('Back', 'Back to previous …"
      ]
     },
     "metadata": {},
     "output_type": "display_data"
    },
    {
     "data": {
      "application/vnd.jupyter.widget-view+json": {
       "model_id": "f49afa61c36b4077bd92057b01c68f78",
       "version_major": 2,
       "version_minor": 0
      },
      "text/plain": [
       "Canvas(toolbar=Toolbar(toolitems=[('Home', 'Reset original view', 'home', 'home'), ('Back', 'Back to previous …"
      ]
     },
     "metadata": {},
     "output_type": "display_data"
    },
    {
     "name": "stdout",
     "output_type": "stream",
     "text": [
      "window_start 0, window_stop 3600, window_size 25, window_step 25\n",
      "window_start 0.03, window_stop 0.15, window_size 0.03, window_step 0.03\n",
      "energy_windows: [(0, 0.03), (0.03, 0.06), (0.06, 0.09), (0.09, 0.12), (0.12, 0.15)]\n",
      "\n",
      "Region center  {'ra': 33.057, 'dec': -51.841} with radius 0.1 deg\n",
      "Produced:  /data01/home/baroncelli/phd/DATA/obs/obs_st_grb_tr_1_os_1800_emin_0.03_emax_0.15_roi_2.5/run0406_ID000126/ap/ebl000001_ap_mode_windowed-mode_integration_t_slmbtizyfuhaymz.csv\n",
      "FMi: 0 FMj: 0\n",
      "FMi: 1 FMj: 0\n",
      "window_start 0, window_stop 3600, window_size 25, window_step 25\n",
      "window_start 0.03, window_stop 0.15, window_size 0.03, window_step 0.03\n",
      "energy_windows: [(0, 0.03), (0.03, 0.06), (0.06, 0.09), (0.09, 0.12), (0.12, 0.15)]\n",
      "\n",
      "Region center  {'ra': 33.057, 'dec': -51.841} with radius 1.0 deg\n",
      "Produced:  /data01/home/baroncelli/phd/DATA/obs/obs_st_grb_tr_1_os_1800_emin_0.03_emax_0.15_roi_2.5/run0406_ID000126/ap/ebl000001_ap_mode_windowed-mode_integration_t_yxpqlmuxfkccjgd.csv\n",
      "FMi: 1 FMj: 0\n",
      "FMi: 1 FMj: 1\n",
      "window_start 0, window_stop 3600, window_size 25, window_step 25\n",
      "window_start 0.03, window_stop 0.15, window_size 0.03, window_step 0.03\n",
      "energy_windows: [(0, 0.03), (0.03, 0.06), (0.06, 0.09), (0.09, 0.12), (0.12, 0.15)]\n",
      "\n",
      "Region center  {'ra': 33.057, 'dec': -51.841} with radius 2.0 deg\n",
      "Produced:  /data01/home/baroncelli/phd/DATA/obs/obs_st_grb_tr_1_os_1800_emin_0.03_emax_0.15_roi_2.5/run0406_ID000126/ap/ebl000001_ap_mode_windowed-mode_integration_t_kjfmjbbtrpsqmcs.csv\n",
      "FMi: 1 FMj: 1\n",
      "FMi: 0 FMj: 1\n",
      "window_start 0, window_stop 3600, window_size 25, window_step 25\n",
      "window_start 0.03, window_stop 0.15, window_size 0.03, window_step 0.03\n",
      "energy_windows: [(0, 0.03), (0.03, 0.06), (0.06, 0.09), (0.09, 0.12), (0.12, 0.15)]\n",
      "\n",
      "Region center  {'ra': 33.057, 'dec': -51.841} with radius 3.0 deg\n",
      "Produced:  /data01/home/baroncelli/phd/DATA/obs/obs_st_grb_tr_1_os_1800_emin_0.03_emax_0.15_roi_2.5/run0406_ID000126/ap/ebl000001_ap_mode_windowed-mode_integration_t_jrqwmetrmjpicrk.csv\n",
      "FMi: 0 FMj: 1\n",
      "FMi: 0 FMj: 0\n"
     ]
    }
   ],
   "source": [
    "psp_t = PhotometrySinglePlot()\n",
    "pmp_t = PhotometrySubPlots()\n",
    "\n",
    "args_tmp = args.copy()\n",
    "\n",
    "for rr in [0.1, 1.0, 2.0, 3.0]:\n",
    "    \n",
    "    args_tmp[\"region_radius\"] = rr\n",
    "    \n",
    "    csv_data_t = p.generate(args_tmp, integration=\"t\")\n",
    "    _ = psp_t.addData(csv_data_t, args_tmp, \"region_radius\", \"t\")\n",
    "    _ = pmp_t.addData(csv_data_t, args_tmp, \"region_radius\", \"t\")\n"
   ]
  },
  {
   "cell_type": "code",
   "execution_count": 33,
   "id": "talented-makeup",
   "metadata": {},
   "outputs": [],
   "source": [
    "psp_t.show()"
   ]
  },
  {
   "cell_type": "code",
   "execution_count": 9,
   "id": "rental-entrepreneur",
   "metadata": {},
   "outputs": [
    {
     "name": "stdout",
     "output_type": "stream",
     "text": [
      "Produced:  ./test1.png\n",
      "Produced:  ./test2.png\n"
     ]
    }
   ],
   "source": [
    "psp_t.save(\"./test1\")\n",
    "psp_t.destroy()\n",
    "pmp_t.save(\"./test2\")\n",
    "pmp_t.destroy()"
   ]
  },
  {
   "cell_type": "code",
   "execution_count": null,
   "id": "adolescent-leonard",
   "metadata": {},
   "outputs": [],
   "source": [
    " \"\"\"\n",
    "psp_e = PhotometrySinglePlot()\n",
    "pmp_e = PhotometrySubPlots()\n",
    "\n",
    "csv_data_e = p.generate(args, integration=\"e\")\n",
    " _ = psp_e.addData(csv_data_e, args, \"region_radius\", \"e\")\n",
    " _ = pmp_e.addData(csv_data_e, args, \"region_radius\", \"e\")\n",
    "\n",
    "psp_e.destroy()\n",
    "pmp_e.destroy()\n",
    "\"\"\"\n",
    " "
   ]
  },
  {
   "cell_type": "markdown",
   "id": "ordered-scope",
   "metadata": {},
   "source": [
    "## glon and glat"
   ]
  },
  {
   "cell_type": "code",
   "execution_count": 22,
   "id": "available-latter",
   "metadata": {
    "scrolled": false
   },
   "outputs": [
    {
     "data": {
      "application/vnd.jupyter.widget-view+json": {
       "model_id": "1e7fb8d9b2df47aa834c85620b17ed54",
       "version_major": 2,
       "version_minor": 0
      },
      "text/plain": [
       "Canvas(toolbar=Toolbar(toolitems=[('Home', 'Reset original view', 'home', 'home'), ('Back', 'Back to previous …"
      ]
     },
     "metadata": {},
     "output_type": "display_data"
    },
    {
     "data": {
      "application/vnd.jupyter.widget-view+json": {
       "model_id": "9f393c9d611d4eb7a59474054e682a2d",
       "version_major": 2,
       "version_minor": 0
      },
      "text/plain": [
       "Canvas(toolbar=Toolbar(toolitems=[('Home', 'Reset original view', 'home', 'home'), ('Back', 'Back to previous …"
      ]
     },
     "metadata": {},
     "output_type": "display_data"
    },
    {
     "name": "stdout",
     "output_type": "stream",
     "text": [
      "(33.057, -51.841)\n",
      "[(33.557, -51.841), (33.057, -51.341), (32.557, -51.841), (33.057, -52.341)]\n",
      "window_start 0, window_stop 3600, window_size 25, window_step 25\n",
      "window_start 0.03, window_stop 0.15, window_size 0.03, window_step 0.03\n",
      "energy_windows: [(0, 0.03), (0.03, 0.06), (0.06, 0.09), (0.09, 0.12), (0.12, 0.15)]\n",
      "\n",
      "Region center  {'ra': 33.557, 'dec': -51.841} with radius 0.5 deg\n",
      "Produced:  /data01/home/baroncelli/phd/DATA/obs/obs_st_grb_tr_1_os_1800_emin_0.03_emax_0.15_roi_2.5/run0406_ID000126/ap/ebl000001_ap_mode_windowed-mode_integration_t_qapndarhohsamib.csv\n",
      "FMi: 0 FMj: 0\n",
      "FMi: 1 FMj: 0\n",
      "window_start 0, window_stop 3600, window_size 25, window_step 25\n",
      "window_start 0.03, window_stop 0.15, window_size 0.03, window_step 0.03\n",
      "energy_windows: [(0, 0.03), (0.03, 0.06), (0.06, 0.09), (0.09, 0.12), (0.12, 0.15)]\n",
      "\n",
      "Region center  {'ra': 33.057, 'dec': -51.341} with radius 0.5 deg\n",
      "Produced:  /data01/home/baroncelli/phd/DATA/obs/obs_st_grb_tr_1_os_1800_emin_0.03_emax_0.15_roi_2.5/run0406_ID000126/ap/ebl000001_ap_mode_windowed-mode_integration_t_ymloybganhmitlt.csv\n",
      "FMi: 1 FMj: 0\n",
      "FMi: 1 FMj: 1\n",
      "window_start 0, window_stop 3600, window_size 25, window_step 25\n",
      "window_start 0.03, window_stop 0.15, window_size 0.03, window_step 0.03\n",
      "energy_windows: [(0, 0.03), (0.03, 0.06), (0.06, 0.09), (0.09, 0.12), (0.12, 0.15)]\n",
      "\n",
      "Region center  {'ra': 32.557, 'dec': -51.841} with radius 0.5 deg\n",
      "Produced:  /data01/home/baroncelli/phd/DATA/obs/obs_st_grb_tr_1_os_1800_emin_0.03_emax_0.15_roi_2.5/run0406_ID000126/ap/ebl000001_ap_mode_windowed-mode_integration_t_djgzcdnlekkykng.csv\n",
      "FMi: 1 FMj: 1\n",
      "FMi: 0 FMj: 1\n",
      "window_start 0, window_stop 3600, window_size 25, window_step 25\n",
      "window_start 0.03, window_stop 0.15, window_size 0.03, window_step 0.03\n",
      "energy_windows: [(0, 0.03), (0.03, 0.06), (0.06, 0.09), (0.09, 0.12), (0.12, 0.15)]\n",
      "\n",
      "Region center  {'ra': 33.057, 'dec': -52.341} with radius 0.5 deg\n",
      "Produced:  /data01/home/baroncelli/phd/DATA/obs/obs_st_grb_tr_1_os_1800_emin_0.03_emax_0.15_roi_2.5/run0406_ID000126/ap/ebl000001_ap_mode_windowed-mode_integration_t_zcrclkxgdcdmgia.csv\n",
      "FMi: 0 FMj: 1\n",
      "FMi: 0 FMj: 0\n"
     ]
    }
   ],
   "source": [
    "psp = PhotometrySinglePlot()\n",
    "pmp = PhotometrySubPlots()\n",
    "\n",
    "pointings = [(pointing[0]+0.5,pointing[1]), (pointing[0],pointing[1]+0.5), (pointing[0]-0.5,pointing[1]), (pointing[0],pointing[1]-0.5)] \n",
    "print(pointing)\n",
    "print(pointings)\n",
    "\n",
    "args_tmp = args.copy()\n",
    "args_tmp[\"orig_pointing\"] = pointing\n",
    "\n",
    "for point in pointings:\n",
    "\n",
    "    args_tmp[\"pointing\"] = point\n",
    "        \n",
    "    csv_data = p.generate(args_tmp, integration=\"t\")\n",
    "    _ = psp.addData(csv_data, args_tmp, \"pointing\", \"t\")\n",
    "    _ = pmp.addData(csv_data, args_tmp, \"pointing\", \"t\")\n",
    "\n"
   ]
  },
  {
   "cell_type": "code",
   "execution_count": 25,
   "id": "offshore-allowance",
   "metadata": {},
   "outputs": [],
   "source": [
    "psp.show()\n",
    "pmp.show()"
   ]
  },
  {
   "cell_type": "code",
   "execution_count": 26,
   "id": "placed-disclaimer",
   "metadata": {},
   "outputs": [
    {
     "name": "stdout",
     "output_type": "stream",
     "text": [
      "Produced:  ./test3.png\n",
      "Produced:  ./test4.png\n"
     ]
    }
   ],
   "source": [
    "psp.save(\"./test3\")\n",
    "pmp.save(\"./test4\")"
   ]
  },
  {
   "cell_type": "code",
   "execution_count": null,
   "id": "continent-sunglasses",
   "metadata": {},
   "outputs": [],
   "source": []
  },
  {
   "cell_type": "code",
   "execution_count": null,
   "id": "metallic-wisconsin",
   "metadata": {},
   "outputs": [],
   "source": [
    "psp.destroy()\n",
    "pmp.destroy()"
   ]
  },
  {
   "cell_type": "markdown",
   "id": "invisible-filling",
   "metadata": {},
   "source": [
    "## Energy"
   ]
  },
  {
   "cell_type": "code",
   "execution_count": null,
   "id": "velvet-boost",
   "metadata": {},
   "outputs": [],
   "source": []
  }
 ],
 "metadata": {
  "kernelspec": {
   "display_name": "Python 3",
   "language": "python",
   "name": "python3"
  },
  "language_info": {
   "codemirror_mode": {
    "name": "ipython",
    "version": 3
   },
   "file_extension": ".py",
   "mimetype": "text/x-python",
   "name": "python",
   "nbconvert_exporter": "python",
   "pygments_lexer": "ipython3",
   "version": "3.7.3"
  }
 },
 "nbformat": 4,
 "nbformat_minor": 5
}
