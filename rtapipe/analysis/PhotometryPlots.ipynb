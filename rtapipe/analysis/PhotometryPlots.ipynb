{
 "cells": [
  {
   "cell_type": "markdown",
   "id": "honey-smith",
   "metadata": {},
   "source": [
    "# PhotometryLib"
   ]
  },
  {
   "cell_type": "markdown",
   "id": "formal-blind",
   "metadata": {},
   "source": [
    "## Output directories"
   ]
  },
  {
   "cell_type": "code",
   "execution_count": null,
   "id": "magnetic-school",
   "metadata": {},
   "outputs": [],
   "source": [
    "import os\n",
    "outdir = os.path.join(os.environ[\"HOME\"], \"notebook_output\")\n",
    "csvdir = os.path.join(outdir, \"csv\")\n",
    "pngdir = os.path.join(outdir, \"png\")\n",
    "! mkdir -p $csvdir                          \n",
    "! mkdir -p $pngdir                          \n",
    "! ls $outdir"
   ]
  },
  {
   "cell_type": "markdown",
   "id": "entitled-paper",
   "metadata": {},
   "source": [
    "## Importing dependencies"
   ]
  },
  {
   "cell_type": "code",
   "execution_count": null,
   "id": "certified-insight",
   "metadata": {},
   "outputs": [],
   "source": [
    "from pathlib import Path\n",
    "from astropy.io import fits\n",
    "import pandas as pd\n",
    "import numpy as np\n",
    "import collections\n",
    "import matplotlib.pyplot as plt\n",
    "%matplotlib widget\n",
    "\n",
    "datapath = Path(\"/data01/home/baroncelli/phd/DATA\")\n",
    "os.environ[\"DATA\"] = str(datapath)\n",
    "from RTAscience.cfg.Config import Config\n",
    "from RTAscience.lib.RTAUtils import get_pointing\n",
    "from rtapipe.lib.datasource.photometry import Photometry\n",
    "from rtapipe.lib.plotting.photometryplot import PhotometrySinglePlot, PhotometrySubPlots"
   ]
  },
  {
   "cell_type": "markdown",
   "id": "unique-gospel",
   "metadata": {},
   "source": [
    "## Utility function"
   ]
  },
  {
   "cell_type": "code",
   "execution_count": null,
   "id": "protective-apparel",
   "metadata": {},
   "outputs": [],
   "source": [
    "from os import listdir\n",
    "from os.path import isfile, join\n",
    "\n",
    "def getInput(dataDir, index):\n",
    "    \n",
    "    if index == 0:\n",
    "        index = 1\n",
    "\n",
    "    simFolder = datapath.joinpath(\"obs\",dataDir)\n",
    "    cfg = Config(simFolder.joinpath(\"config.yaml\"))\n",
    "    runid = cfg.get('runid')\n",
    "    template =  os.path.join(datapath, f'templates/{runid}.fits')\n",
    "    pointing = get_pointing(template)\n",
    "    \n",
    "    \n",
    "    if cfg.get(\"simtype\") == 'bkg':\n",
    "        dir = simFolder.joinpath(\"backgrounds\")\n",
    "    else:\n",
    "        dir = simFolder.joinpath(runid)\n",
    "                                                        \n",
    "    data_files = [join(dir, f) for f in listdir(dir) if isfile(join(dir, f))]  \n",
    "\n",
    "    output = []\n",
    "    for data_file in data_files:\n",
    "        print(\"datafile: \", data_file)\n",
    "        conf = {\n",
    "            'input_file': data_file,\n",
    "            'output_dir': outdir,\n",
    "            'simtype' : cfg.get('simtype'),\n",
    "            'runid' : cfg.get('runid'),\n",
    "            't_window_start': 0,\n",
    "            't_window_stop': cfg.get('tobs'),\n",
    "            'e_window_start': cfg.get('emin'),\n",
    "            'e_window_stop': cfg.get('emax'),\n",
    "            'onset' : cfg.get('onset')\n",
    "        }\n",
    "        \n",
    "        output.append((data_file, conf, pointing))\n",
    "        #inputFitsFile = str(f\"ebl{str(index).zfill(6)}.fits\"))\n",
    "        #inputFitsFile = str(,f\"bkg{str(index).zfill(6)}.fits\"))\n",
    "\n",
    "    print(f\"Found: {len(output)} files, pointing is: {pointing}\")\n",
    "    return output\n"
   ]
  },
  {
   "cell_type": "markdown",
   "id": "unnecessary-excellence",
   "metadata": {},
   "source": [
    "## Data folders (simulations)\n",
    "    folder/\n",
    "        config.yaml\n",
    "        backgrounds/\n",
    "            bkg000001.fits         => simulation background only\n",
    "            ..\n",
    "            bkg00000<N>.fits\n",
    "        <runId>/\n",
    "            ebl000001.fits         => simulation background + source\n",
    "            ..\n",
    "            ebl000001<N>.fits\n",
    "            "
   ]
  },
  {
   "cell_type": "markdown",
   "id": "informal-antenna",
   "metadata": {},
   "source": [
    "## How to get data\n",
    "\n",
    "### Data directories\n",
    "Simulations from template: run0406_ID000126"
   ]
  },
  {
   "cell_type": "code",
   "execution_count": null,
   "id": "assured-warner",
   "metadata": {},
   "outputs": [],
   "source": [
    "bkgsrc      = \"simtype_grb_os_1800_tobs_3600_irf_South_z40_average_LST_30m_emin_0.03_emax_0.15_roi_2.5\"\n",
    "bkgonly     = \"simtype_bkg_os_0_tobs_3600_irf_South_z40_average_LST_30m_emin_0.03_emax_0.15_roi_2.5\""
   ]
  },
  {
   "cell_type": "markdown",
   "id": "extraordinary-kingdom",
   "metadata": {},
   "source": [
    "### Get csv input, simulation parameters and pointing (from template)"
   ]
  },
  {
   "cell_type": "code",
   "execution_count": null,
   "id": "aboriginal-ordinary",
   "metadata": {},
   "outputs": [],
   "source": [
    "inputFile_srcbkg_0, sim_params_bkgsrc, pointing_srcbkg_0 = getInput(bkgsrc, 1)"
   ]
  },
  {
   "cell_type": "code",
   "execution_count": null,
   "id": "contrary-letters",
   "metadata": {},
   "outputs": [],
   "source": [
    "inputFile_onlybkg_0, sim_params_bkgonly, pointing_onlybkg_0 = getInput(bkgonly, 1)"
   ]
  },
  {
   "cell_type": "markdown",
   "id": "illegal-democrat",
   "metadata": {},
   "source": [
    "### Differences between configuration dictionaries"
   ]
  },
  {
   "cell_type": "code",
   "execution_count": null,
   "id": "governing-renaissance",
   "metadata": {},
   "outputs": [],
   "source": [
    "assert pointing_srcbkg_0 == pointing_onlybkg_0\n",
    "assert inputFile_srcbkg_0 != inputFile_onlybkg_0\n",
    "for key, val in sim_params_bkgsrc.items():\n",
    "    if val!=sim_params_bkgonly[key]:\n",
    "        print(f\"{key}:\\n\\t{val}\\n\\t{sim_params_bkgonly[key]}\")"
   ]
  },
  {
   "cell_type": "markdown",
   "id": "daily-trailer",
   "metadata": {},
   "source": [
    "## The photometry class"
   ]
  },
  {
   "cell_type": "code",
   "execution_count": null,
   "id": "young-thailand",
   "metadata": {},
   "outputs": [],
   "source": [
    "photometry = Photometry()"
   ]
  },
  {
   "cell_type": "markdown",
   "id": "ahead-report",
   "metadata": {},
   "source": [
    "## Photometry parameters"
   ]
  },
  {
   "cell_type": "code",
   "execution_count": null,
   "id": "cooked-novel",
   "metadata": {},
   "outputs": [],
   "source": [
    "photometry_params = {\n",
    "    \n",
    "    # integration parameters for time\n",
    "    't_window_size': 25,\n",
    "    't_window_step': 25,\n",
    "    \n",
    "    # integration parameters for energy    \n",
    "    'e_window_size': 0.001,\n",
    "    'e_window_step': 0.001,    \n",
    "\n",
    "    # Parameters that can change too    \n",
    "    'pointing' : pointing_srcbkg_0,\n",
    "    'region_radius': 0.5,\n",
    "    \n",
    "    # Other settings\n",
    "    'plot' : 1,\n",
    "    'override': 1\n",
    "}"
   ]
  },
  {
   "cell_type": "markdown",
   "id": "following-application",
   "metadata": {},
   "source": [
    "## Generating some data"
   ]
  },
  {
   "cell_type": "markdown",
   "id": "minor-indonesia",
   "metadata": {},
   "source": [
    "### Integrate on time "
   ]
  },
  {
   "cell_type": "code",
   "execution_count": null,
   "id": "excited-capitol",
   "metadata": {},
   "outputs": [],
   "source": [
    "csv_data_t_bkg_src = photometry.integrate(photometry_params, sim_params_bkgsrc, integration=\"t\").pop(0)\n",
    "#csv_data_t_bkg_src = \"/data01/home/baroncelli/phd/DATA/obs/obs_st_bkg_tr_10_os_0_emin_0.03_emax_0.15_roi_2.5/backgrounds/bkg000001.fits\"\n",
    "pd.read_csv(csv_data_t_bkg_src).head(3)"
   ]
  },
  {
   "cell_type": "code",
   "execution_count": null,
   "id": "plain-expert",
   "metadata": {},
   "outputs": [],
   "source": [
    "csv_data_t_bkg_only = photometry.integrate(photometry_params, sim_params_bkgonly, integration=\"t\").pop(0)\n",
    "# csv_data_t_bkg_only = \"/data01/home/baroncelli/phd/DATA/obs/obs_st_grb_tr_10_os_1800_emin_0.03_emax_0.15_roi_2.5/run0406_ID000126/ebl000001.fits\"\n",
    "print(pd.read_csv(csv_data_t_bkg_only).head(3))"
   ]
  },
  {
   "cell_type": "markdown",
   "id": "fitting-fifty",
   "metadata": {},
   "source": [
    "### Integrate on energy"
   ]
  },
  {
   "cell_type": "code",
   "execution_count": null,
   "id": "linear-gasoline",
   "metadata": {},
   "outputs": [],
   "source": [
    "csv_data_e_bkg_src = photometry.integrate(photometry_params, sim_params_bkgsrc, integration=\"e\").pop(0)"
   ]
  },
  {
   "cell_type": "code",
   "execution_count": null,
   "id": "brown-sheep",
   "metadata": {},
   "outputs": [],
   "source": [
    "csv_data_e_bkg_only = photometry.integrate(photometry_params, sim_params_bkgonly, integration=\"e\").pop(0)"
   ]
  },
  {
   "cell_type": "markdown",
   "id": "sporting-share",
   "metadata": {},
   "source": [
    "## Plotting the data"
   ]
  },
  {
   "cell_type": "markdown",
   "id": "conceptual-round",
   "metadata": {},
   "source": [
    "### Time integration"
   ]
  },
  {
   "cell_type": "code",
   "execution_count": null,
   "id": "written-sullivan",
   "metadata": {
    "scrolled": false
   },
   "outputs": [],
   "source": [
    "singleplot_t = PhotometrySinglePlot(title = \"Time integration\")\n",
    "_ = singleplot_t.addData(csv_data_t_bkg_src, photometry_params, sim_params_bkgsrc, [\"bkg+src\"], \"t\")\n",
    "_ = singleplot_t.addData(csv_data_t_bkg_only, photometry_params, sim_params_bkgonly, [\"bkg only\"], \"t\")"
   ]
  },
  {
   "cell_type": "code",
   "execution_count": null,
   "id": "cellular-theme",
   "metadata": {},
   "outputs": [],
   "source": [
    "multiplot_t = PhotometrySubPlots(title = \"Time integration\")\n",
    "_ = multiplot_t.addData(csv_data_t_bkg_src, photometry_params, sim_params_bkgsrc, [\"bkg+src\"], \"t\")\n",
    "_ = multiplot_t.addData(csv_data_t_bkg_only, photometry_params, sim_params_bkgonly, [\"bkg only\"], \"t\")"
   ]
  },
  {
   "cell_type": "markdown",
   "id": "legitimate-socket",
   "metadata": {},
   "source": [
    "## Energy integration"
   ]
  },
  {
   "cell_type": "code",
   "execution_count": null,
   "id": "outside-voltage",
   "metadata": {},
   "outputs": [],
   "source": [
    "singleplot_e = PhotometrySinglePlot(title = \"Energy integration\")\n",
    "singleplot_e.addData(csv_data_e_bkg_src, photometry_params, sim_params_bkgsrc, [\"bkg+src\"], \"e\")\n",
    "singleplot_e.addData(csv_data_e_bkg_only, photometry_params, sim_params_bkgonly, [\"bkg only\"], \"e\")"
   ]
  },
  {
   "cell_type": "code",
   "execution_count": null,
   "id": "streaming-delhi",
   "metadata": {},
   "outputs": [],
   "source": [
    "multiplot_e = PhotometrySubPlots(title = \"Energy integration\")\n",
    "_ = multiplot_e.addData(csv_data_e_bkg_src, photometry_params, sim_params_bkgsrc, [\"bkg+src\"], \"e\")\n",
    "_ = multiplot_e.addData(csv_data_e_bkg_only, photometry_params, sim_params_bkgonly, [\"bkg only\"], \"e\")"
   ]
  },
  {
   "cell_type": "markdown",
   "id": "standing-intelligence",
   "metadata": {},
   "source": [
    "## Integration on time with multiple window sizes and background baseline"
   ]
  },
  {
   "cell_type": "code",
   "execution_count": null,
   "id": "passing-holder",
   "metadata": {
    "scrolled": false
   },
   "outputs": [],
   "source": [
    "# first plot: background + source on multiple window sizes\n",
    "singleplot_bgksrc = PhotometrySinglePlot(title=\"Integration on time with multiple window sizes\")\n",
    "\n",
    "# second plot: background only on multiple window sizes\n",
    "singleplot_bgk = PhotometrySinglePlot(title=\"Integration on time with multiple window sizes\")\n",
    "\n",
    "# third plot: background + source on multiple window sizes (separate subplots with background baseline)\n",
    "multiplot_bgksrc = PhotometrySubPlots(title=\"Integration on time with multiple window sizes and background baseline\")\n",
    "\n",
    "photometry_params_tmp = photometry_params.copy()\n",
    "\n",
    "for ws in [10, 25, 50, 75]:\n",
    "\n",
    "    # source+background\n",
    "    photometry_params_tmp[\"t_window_size\"] = ws\n",
    "    photometry_params_tmp[\"t_window_step\"] = ws \n",
    "    csv_data_t_bkg_src = photometry.integrate(photometry_params_tmp, sim_params_bkgsrc, integration=\"t\").pop(0)\n",
    "    \n",
    "    \n",
    "    # background only baseline\n",
    "    photometry_params_tmp[\"t_window_size\"] = ws\n",
    "    photometry_params_tmp[\"t_window_step\"] = ws\n",
    "    csv_data_t_bkg = photometry.integrate(photometry_params_tmp, sim_params_bkgonly, integration=\"t\").pop(0)\n",
    "    \n",
    "\n",
    "    _ = singleplot_bgksrc.addData(csv_data_t_bkg_src, photometry_params_tmp, sim_params_bkgsrc, [\"t_window_size\",\"t_window_step\"], \"t\")\n",
    "\n",
    "    _ = singleplot_bgk.addData(csv_data_t_bkg, photometry_params_tmp, sim_params_bkgonly, [\"t_window_size\",\"t_window_step\"], \"t\")\n",
    "    \n",
    "    \n",
    "    _ = multiplot_bgksrc.addData(csv_data_t_bkg_src, photometry_params_tmp, sim_params_bkgsrc, [\"t_window_size\",\"t_window_step\"], \"t\")\n",
    "    _ = multiplot_bgksrc.addData(csv_data_t_bkg, photometry_params_tmp, sim_params_bkgonly, [\"baseline (only background)\"], \"t\", as_baseline=True)\n",
    "    "
   ]
  },
  {
   "cell_type": "code",
   "execution_count": null,
   "id": "academic-portrait",
   "metadata": {},
   "outputs": [],
   "source": [
    "singleplot_bgksrc.save(os.path.join(outdir, \"png/singleplot_t_ws_bgksrc\"))\n",
    "singleplot_bgksrc.destroy()\n",
    "singleplot_bgk.save(os.path.join(outdir, \"png/singleplot_t_ws_bgkonly\"))\n",
    "singleplot_bgk.destroy()\n",
    "multiplot_bgksrc.save(os.path.join(outdir, \"png/multiplot_t_ws_bgksrc\"))\n",
    "multiplot_bgksrc.destroy()"
   ]
  },
  {
   "cell_type": "markdown",
   "id": "eligible-rouge",
   "metadata": {},
   "source": [
    "## Integration on energy with multiple window sizes and background baseline"
   ]
  },
  {
   "cell_type": "code",
   "execution_count": null,
   "id": "obvious-minimum",
   "metadata": {
    "scrolled": false
   },
   "outputs": [],
   "source": [
    "# first plot: background + source on multiple window sizes\n",
    "singleplot_bgksrc = PhotometrySinglePlot(title = \"Integration on energy with multiple window sizes\")\n",
    "\n",
    "# second plot: background only on multiple window sizes\n",
    "singleplot_bgk = PhotometrySinglePlot(title = \"Integration on energy with multiple window sizes\")\n",
    "\n",
    "# third plot: background + source on multiple window sizes (separate subplots with background baseline)\n",
    "multiplot_bgksrc = PhotometrySubPlots(title = \"Integration on energy with multiple window sizes and background baseline\")\n",
    "\n",
    "photometry_params_tmp = photometry_params.copy()\n",
    "\n",
    "for ee in [0.001, 0.01, 0.02, 0.03]:\n",
    "\n",
    "    # source+background\n",
    "    photometry_params_tmp[\"e_window_size\"] = ee\n",
    "    photometry_params_tmp[\"e_window_step\"] = ee \n",
    "    csv_data_t_bkg_src = photometry.integrate(photometry_params_tmp, sim_params_bkgsrc, integration=\"e\").pop(0)\n",
    "    \n",
    "    \n",
    "    # background only baseline\n",
    "    photometry_params_tmp[\"e_window_size\"] = ee\n",
    "    photometry_params_tmp[\"e_window_step\"] = ee\n",
    "    csv_data_t_bkg = photometry.integrate(photometry_params_tmp, sim_params_bkgonly, integration=\"e\").pop(0)\n",
    "    \n",
    "\n",
    "    _ = singleplot_bgksrc.addData(csv_data_t_bkg_src, photometry_params_tmp, sim_params_bkgsrc, [\"e_window_size\",\"e_window_step\"], \"e\")\n",
    "\n",
    "    _ = singleplot_bgk.addData(csv_data_t_bkg, photometry_params_tmp, sim_params_bkgonly, [\"e_window_size\",\"e_window_step\"], \"e\")\n",
    "    \n",
    "    \n",
    "    _ = multiplot_bgksrc.addData(csv_data_t_bkg_src, photometry_params_tmp, sim_params_bkgsrc, [\"t_window_size\",\"t_window_step\"], \"e\")\n",
    "    _ = multiplot_bgksrc.addData(csv_data_t_bkg, photometry_params_tmp, sim_params_bkgonly, [\"t_window_size\",\"t_window_step\"], \"e\", as_baseline=True)\n",
    "    "
   ]
  },
  {
   "cell_type": "code",
   "execution_count": null,
   "id": "separate-project",
   "metadata": {},
   "outputs": [],
   "source": [
    "singleplot_bgksrc.save(os.path.join(outdir, \"png/singleplot_e_ws_bgksrc\"))\n",
    "singleplot_bgksrc.destroy()\n",
    "singleplot_bgk.save(os.path.join(outdir, \"png/singleplot_e_ws_bgkonly\"))\n",
    "singleplot_bgk.destroy()\n",
    "multiplot_bgksrc.save(os.path.join(outdir, \"png/multiplot_e_ws_bgksrc\"))\n",
    "multiplot_bgksrc.destroy()"
   ]
  },
  {
   "cell_type": "markdown",
   "id": "answering-marking",
   "metadata": {},
   "source": [
    "## Integration on time with multiple region radius values and background baseline"
   ]
  },
  {
   "cell_type": "code",
   "execution_count": null,
   "id": "sufficient-google",
   "metadata": {
    "scrolled": false
   },
   "outputs": [],
   "source": [
    "# first plot: background + source on multiple window sizes\n",
    "singleplot_bgksrc = PhotometrySinglePlot(title=\"Integration on time with multiple region radius values\")\n",
    "\n",
    "# second plot: background only on multiple window sizes\n",
    "singleplot_bgk = PhotometrySinglePlot(title=\"Integration on time with multiple region radius values\")\n",
    "\n",
    "# third plot: background + source on multiple window sizes (separate subplots with background baseline)\n",
    "multiplot_bgksrc = PhotometrySubPlots(title=\"Integration on time with multiple region radius values and background baseline\")\n",
    "\n",
    "photometry_params_tmp = photometry_params.copy()\n",
    "\n",
    "for rr in [0.1, 1.0, 2.0, 3.0]:\n",
    "\n",
    "    # source+background\n",
    "    photometry_params_tmp[\"region_radius\"] = rr\n",
    "    photometry_params_tmp[\"region_radius\"] = rr \n",
    "    csv_data_t_bkg_src = photometry.integrate(photometry_params_tmp, sim_params_bkgsrc, integration=\"t\").pop(0)\n",
    "    \n",
    "    \n",
    "    # background only baseline\n",
    "    photometry_params_tmp[\"region_radius\"] = rr\n",
    "    photometry_params_tmp[\"region_radius\"] = rr\n",
    "    csv_data_t_bkg = photometry.integrate(photometry_params_tmp, sim_params_bkgonly, integration=\"t\").pop(0)\n",
    "    \n",
    "\n",
    "    _ = singleplot_bgksrc.addData(csv_data_t_bkg_src, photometry_params_tmp, sim_params_bkgsrc, [\"region_radius\"], \"t\")\n",
    "\n",
    "    _ = singleplot_bgk.addData(csv_data_t_bkg, photometry_params_tmp, sim_params_bkgonly, [\"region_radius\"], \"t\")\n",
    "    \n",
    "    \n",
    "    _ = multiplot_bgksrc.addData(csv_data_t_bkg_src, photometry_params_tmp, sim_params_bkgsrc, [\"region_radius\"], \"t\")\n",
    "    _ = multiplot_bgksrc.addData(csv_data_t_bkg, photometry_params_tmp, sim_params_bkgonly, [\"region_radius\"], \"t\", as_baseline=True)\n",
    "    "
   ]
  },
  {
   "cell_type": "code",
   "execution_count": null,
   "id": "awful-payment",
   "metadata": {},
   "outputs": [],
   "source": [
    "singleplot_bgksrc.save(os.path.join(outdir, \"png/singleplot_t_rr_bgksrc\"))\n",
    "singleplot_bgksrc.destroy()\n",
    "singleplot_bgk.save(os.path.join(outdir, \"png/singleplot_t_rr_bgkonly\"))\n",
    "singleplot_bgk.destroy()\n",
    "multiplot_bgksrc.save(os.path.join(outdir, \"png/multiplot_t_rr_bgksrc\"))\n",
    "multiplot_bgksrc.destroy()"
   ]
  },
  {
   "cell_type": "markdown",
   "id": "guilty-beads",
   "metadata": {},
   "source": [
    "## Integration on time with multiple pointing values and baseline on original pointing"
   ]
  },
  {
   "cell_type": "code",
   "execution_count": null,
   "id": "significant-essex",
   "metadata": {
    "scrolled": false
   },
   "outputs": [],
   "source": [
    "# first plot: background + source on multiple window sizes\n",
    "singleplot_bgksrc = PhotometrySinglePlot(title=\"Integration on time with multiple pointing values\")\n",
    "\n",
    "# second plot: background only on multiple window sizes\n",
    "singleplot_bgk = PhotometrySinglePlot(title=\"Integration on time with multiple pointing values\")\n",
    "\n",
    "# third plot: background + source on multiple window sizes (separate subplots with background baseline)\n",
    "multiplot_bgksrc_1 = PhotometrySubPlots(title=\"Integration on time with multiple pointing values and baseline on background\")\n",
    "\n",
    "# fouth plot: background + source on multiple window sizes (separate subplots with original pointing baseline)\n",
    "multiplot_bgksrc_2 = PhotometrySubPlots(title=\"Integration on time with multiple pointing values and baseline on original pointing\")\n",
    "\n",
    "\n",
    "photometry_params_tmp = photometry_params.copy()\n",
    "pointing=pointing_srcbkg_0\n",
    "pointing_offset = 0.5\n",
    "pointings = [\n",
    "    (pointing_srcbkg_0[0]+pointing_offset,pointing[1]), \n",
    "    (pointing[0],pointing[1]+pointing_offset), \n",
    "    (pointing[0]-pointing_offset,pointing[1]), \n",
    "    (pointing[0],pointing[1]-pointing_offset)\n",
    "] \n",
    "\n",
    "photometry_params_tmp2 = photometry_params.copy()\n",
    "csv_data_t_orig_point = photometry.integrate(photometry_params_tmp2, sim_params_bkgsrc, integration=\"t\").pop(0)\n",
    "\n",
    "for pp in pointings:\n",
    "\n",
    "    # source+background\n",
    "    photometry_params_tmp[\"pointing\"] = pp\n",
    "    photometry_params_tmp[\"pointing\"] = pp \n",
    "    csv_data_t_bkg_src = photometry.integrate(photometry_params_tmp, sim_params_bkgsrc, integration=\"t\").pop(0)\n",
    "    _ = singleplot_bgksrc.addData(csv_data_t_bkg_src, photometry_params_tmp, sim_params_bkgsrc, [\"pointing\"], \"t\")\n",
    "\n",
    "    # background only\n",
    "    photometry_params_tmp[\"pointing\"] = pp\n",
    "    photometry_params_tmp[\"pointing\"] = pp\n",
    "    csv_data_t_bkg = photometry.integrate(photometry_params_tmp, sim_params_bkgonly, integration=\"t\").pop(0)\n",
    "    _ = singleplot_bgk.addData(csv_data_t_bkg, photometry_params_tmp, sim_params_bkgonly, [\"pointing\"], \"t\")\n",
    "    \n",
    "    # source+background + baseline background only\n",
    "    _ = multiplot_bgksrc_1.addData(csv_data_t_bkg_src, photometry_params_tmp, sim_params_bkgsrc, [\"pointing\"], \"t\")\n",
    "    _ = multiplot_bgksrc_1.addData(csv_data_t_bkg, photometry_params_tmp, sim_params_bkgonly, [f\"baseline (background only)\"], \"t\", as_baseline=True)    \n",
    "    \n",
    "    \"\"\"\n",
    "        @FIXME !!!\n",
    "    \"\"\"\n",
    "    # source+background + baseline original pointing\n",
    "    _ = multiplot_bgksrc_2.addData(csv_data_t_bkg_src, photometry_params_tmp, sim_params_bkgsrc, [\"pointing\"], \"t\")\n",
    "    _ = multiplot_bgksrc_2.addData(csv_data_t_orig_point, photometry_params_tmp2, sim_params_bkgsrc, [f\"baseline {pointing}\"], \"t\", as_baseline=True)\n",
    "\n",
    "print(f\"Original pointing: {pointing_srcbkg_0}\")\n"
   ]
  },
  {
   "cell_type": "code",
   "execution_count": null,
   "id": "photographic-representative",
   "metadata": {},
   "outputs": [],
   "source": [
    "singleplot_bgksrc.save(os.path.join(outdir, \"png/singleplot_t_p_bgksrc\"))\n",
    "singleplot_bgksrc.destroy()\n",
    "singleplot_bgk.save(os.path.join(outdir, \"png/singleplot_t_p_bgkonly\"))\n",
    "singleplot_bgk.destroy()\n",
    "multiplot_bgksrc.save(os.path.join(outdir, \"png/multiplot_t_p_bgksrc\"))\n",
    "multiplot_bgksrc.destroy()"
   ]
  },
  {
   "cell_type": "markdown",
   "id": "loving-product",
   "metadata": {},
   "source": [
    "## Plotting different trials"
   ]
  },
  {
   "cell_type": "markdown",
   "id": "pressing-pension",
   "metadata": {},
   "source": [
    "### bkg + src"
   ]
  },
  {
   "cell_type": "code",
   "execution_count": null,
   "id": "infinite-stuff",
   "metadata": {},
   "outputs": [],
   "source": [
    "bkg_src_files = []\n",
    "for i in range(4):\n",
    "    bkg_src_files.append(getInput(bkgsrc, i))"
   ]
  },
  {
   "cell_type": "code",
   "execution_count": null,
   "id": "likely-array",
   "metadata": {
    "scrolled": false
   },
   "outputs": [],
   "source": [
    "singleplot = PhotometrySinglePlot(title=\"Multiple trials\")\n",
    "multiplot = PhotometrySubPlots(title=\"Multiple trials\")\n",
    "\n",
    "for i in range(4):\n",
    "    conf = bkg_src_files[i][1]\n",
    "    csv_data_t = photometry.integrate(photometry_params, conf, integration=\"t\").pop(0)\n",
    "    _ = singleplot.addData(csv_data_t, photometry_params, conf, [\"pointing\"], \"t\")\n",
    "    _ = multiplot.addData(csv_data_t, photometry_params, conf, [\"pointing\"], \"t\")\n",
    "    "
   ]
  },
  {
   "cell_type": "markdown",
   "id": "ecological-quarter",
   "metadata": {},
   "source": [
    "### Bkg only"
   ]
  },
  {
   "cell_type": "code",
   "execution_count": null,
   "id": "subjective-method",
   "metadata": {},
   "outputs": [],
   "source": [
    "bkg_only_files = []\n",
    "for i in range(4):\n",
    "    bkg_only_files.append(getInput(bkgonly, i))"
   ]
  },
  {
   "cell_type": "code",
   "execution_count": null,
   "id": "structured-encoding",
   "metadata": {
    "scrolled": false
   },
   "outputs": [],
   "source": [
    "singleplot = PhotometrySinglePlot(title=\"Multiple trials\")\n",
    "multiplot = PhotometrySubPlots(title=\"Multiple trials\")\n",
    "\n",
    "for i in range(4):\n",
    "    conf = bkg_only_files[i][1]\n",
    "    csv_data_t = photometry.integrate(photometry_params, conf, integration=\"t\").pop(0)\n",
    "    _ = singleplot.addData(csv_data_t, photometry_params, conf, [\"pointing\"], \"t\")\n",
    "    _ = multiplot.addData(csv_data_t, photometry_params, conf, [\"pointing\"], \"t\")"
   ]
  },
  {
   "cell_type": "markdown",
   "id": "colored-boating",
   "metadata": {},
   "source": [
    "## Integrate on time and on energy"
   ]
  },
  {
   "cell_type": "code",
   "execution_count": null,
   "id": "seventh-documentation",
   "metadata": {},
   "outputs": [],
   "source": [
    "sim_params_bkgsrc_tmp = sim_params_bkgsrc.copy()\n",
    "sim_params_bkgsrc_tmp[\"t_window_start\"] = 1000 \n",
    "\n",
    "photometry_params_tmp = photometry_params.copy()\n",
    "photometry_params_tmp[\"t_window_size\"] = 50\n",
    "photometry_params_tmp[\"t_window_step\"] = 50\n",
    "photometry_params_tmp[\"e_window_size\"] = 0.01\n",
    "photometry_params_tmp[\"e_window_step\"] = 0.01"
   ]
  },
  {
   "cell_type": "code",
   "execution_count": null,
   "id": "rotary-attempt",
   "metadata": {},
   "outputs": [],
   "source": [
    "csv_files = photometry.integrate(photometry_params_tmp, sim_params_bkgsrc_tmp, integration=\"et\")"
   ]
  },
  {
   "cell_type": "code",
   "execution_count": null,
   "id": "given-essay",
   "metadata": {},
   "outputs": [],
   "source": [
    "csv_files_to_plot = [csv_files[0], csv_files[3], csv_files[-4], csv_files[-1]]\n",
    "csv_files_to_plot"
   ]
  },
  {
   "cell_type": "code",
   "execution_count": null,
   "id": "initial-interest",
   "metadata": {},
   "outputs": [],
   "source": [
    "def exctractInterval(f):\n",
    "    emin,emax = f.split(\"energy_window_\")[1].split(\".csv\")[0].split(\"_\")\n",
    "    return emin,emax"
   ]
  },
  {
   "cell_type": "code",
   "execution_count": null,
   "id": "adjusted-syria",
   "metadata": {},
   "outputs": [],
   "source": [
    "singleplot_t = PhotometrySinglePlot(title = \"Energy/Time integration\")\n",
    "for f in csv_files_to_plot:\n",
    "    emin, emax = exctractInterval(f)\n",
    "    _ = singleplot_t.addData(f, photometry_params_tmp, sim_params_bkgsrc_tmp, [f\"emin: {emin} emax: {emax}\"], \"t\")"
   ]
  },
  {
   "cell_type": "markdown",
   "id": "dietary-origin",
   "metadata": {},
   "source": [
    "## Generate data for an Encoder/Decoder LSTM"
   ]
  },
  {
   "cell_type": "code",
   "execution_count": 1,
   "id": "adaptive-harbor",
   "metadata": {},
   "outputs": [
    {
     "name": "stdout",
     "output_type": "stream",
     "text": [
      "csv  png\r\n"
     ]
    },
    {
     "name": "stderr",
     "output_type": "stream",
     "text": [
      "\n",
      "Bad key \"text.kerning_factor\" on line 4 in\n",
      "/data01/home/baroncelli/.conda/envs/bphd/lib/python3.7/site-packages/matplotlib/mpl-data/stylelib/_classic_test_patch.mplstyle.\n",
      "You probably need to get an updated matplotlibrc file from\n",
      "https://github.com/matplotlib/matplotlib/blob/v3.1.2/matplotlibrc.template\n",
      "or from the matplotlib source distribution\n"
     ]
    }
   ],
   "source": [
    "import os\n",
    "outdir = os.path.join(os.environ[\"HOME\"], \"notebook_output\")\n",
    "csvdir = os.path.join(outdir, \"csv\")\n",
    "pngdir = os.path.join(outdir, \"png\")\n",
    "! mkdir -p $csvdir                          \n",
    "! mkdir -p $pngdir                          \n",
    "! ls $outdir\n",
    "\n",
    "from pathlib import Path\n",
    "from astropy.io import fits\n",
    "import pandas as pd\n",
    "import numpy as np\n",
    "import collections\n",
    "import matplotlib.pyplot as plt\n",
    "%matplotlib widget\n",
    "\n",
    "datapath = Path(\"/data01/home/baroncelli/phd/DATA\")\n",
    "os.environ[\"DATA\"] = str(datapath)\n",
    "from RTAscience.cfg.Config import Config\n",
    "from RTAscience.lib.RTAUtils import get_pointing\n",
    "from rtapipe.lib.datasource.photometry import Photometry\n",
    "from rtapipe.lib.plotting.photometryplot import PhotometrySinglePlot, PhotometrySubPlots"
   ]
  },
  {
   "cell_type": "code",
   "execution_count": 2,
   "id": "bizarre-resource",
   "metadata": {},
   "outputs": [],
   "source": [
    "photometry = Photometry()\n",
    "\n",
    "photometry_params = {\n",
    "    \n",
    "    # integration parameters for time\n",
    "    't_window_size': 25,\n",
    "    't_window_step': 25,\n",
    "    \n",
    "    # integration parameters for energy    \n",
    "    'e_window_size': 0.001,\n",
    "    'e_window_step': 0.001,    \n",
    "\n",
    "    # Parameters that can change too    \n",
    "    'pointing' : None,\n",
    "    'region_radius': 0.5,\n",
    "    \n",
    "    # Other settings\n",
    "    'plot' : 1,\n",
    "    'override': 1\n",
    "}\n",
    "\n",
    "from os import listdir\n",
    "from os.path import isfile, join\n",
    "\n",
    "def getInput(dataDir, index):\n",
    "    \n",
    "    if index == 0:\n",
    "        index = 1\n",
    "\n",
    "    simFolder = datapath.joinpath(\"obs\",dataDir)\n",
    "    cfg = Config(simFolder.joinpath(\"config.yaml\"))\n",
    "    runid = cfg.get('runid')\n",
    "    template =  os.path.join(datapath, f'templates/{runid}.fits')\n",
    "    pointing = get_pointing(template)\n",
    "    \n",
    "    \n",
    "    if cfg.get(\"simtype\") == 'bkg':\n",
    "        dir = simFolder.joinpath(\"backgrounds\")\n",
    "    else:\n",
    "        dir = simFolder.joinpath(runid)\n",
    "                                                        \n",
    "    data_files = [join(dir, f) for f in listdir(dir) if isfile(join(dir, f))]  \n",
    "\n",
    "    output = []\n",
    "    for data_file in data_files:\n",
    "        print(\"datafile: \", data_file)\n",
    "        conf = {\n",
    "            'input_file': data_file,\n",
    "            'output_dir': outdir,\n",
    "            'simtype' : cfg.get('simtype'),\n",
    "            'runid' : cfg.get('runid'),\n",
    "            't_window_start': 0,\n",
    "            't_window_stop': cfg.get('tobs'),\n",
    "            'e_window_start': cfg.get('emin'),\n",
    "            'e_window_stop': cfg.get('emax'),\n",
    "            'onset' : cfg.get('onset')\n",
    "        }\n",
    "        \n",
    "        output.append((data_file, conf, pointing))\n",
    "        #inputFitsFile = str(f\"ebl{str(index).zfill(6)}.fits\"))\n",
    "        #inputFitsFile = str(,f\"bkg{str(index).zfill(6)}.fits\"))\n",
    "\n",
    "    print(f\"Found: {len(output)} files, pointing is: {pointing}\")\n",
    "    return output\n"
   ]
  },
  {
   "cell_type": "markdown",
   "id": "genuine-monday",
   "metadata": {},
   "source": [
    "## Background only "
   ]
  },
  {
   "cell_type": "code",
   "execution_count": null,
   "id": "thorough-witch",
   "metadata": {},
   "outputs": [],
   "source": [
    "bkgonly_long = \"simtype_bkg_os_0_tobs_18000_irf_South_z40_average_LST_5h_emin_0.03_emax_0.15_roi_2.5\""
   ]
  },
  {
   "cell_type": "code",
   "execution_count": null,
   "id": "ruled-representative",
   "metadata": {},
   "outputs": [],
   "source": [
    "bkgonly_long_files = []\n",
    "for i in range(1,11):\n",
    "    bkgonly_long_files = bkgonly_long_files + getInput(bkgonly_long, i)"
   ]
  },
  {
   "cell_type": "code",
   "execution_count": null,
   "id": "liked-pursuit",
   "metadata": {},
   "outputs": [],
   "source": [
    "len(bkgonly_long_files)"
   ]
  },
  {
   "cell_type": "code",
   "execution_count": null,
   "id": "optimum-second",
   "metadata": {},
   "outputs": [],
   "source": [
    "photometry_params['pointing'] = bkgonly_long_files[0][2]\n"
   ]
  },
  {
   "cell_type": "code",
   "execution_count": null,
   "id": "laden-medication",
   "metadata": {},
   "outputs": [],
   "source": [
    "for i in range(1,11):\n",
    "    conf = bkgonly_long_files[i][1]\n",
    "    csv_data_t = photometry.integrate(photometry_params, conf, integration=\"t\").pop(0)"
   ]
  },
  {
   "cell_type": "markdown",
   "id": "stable-intervention",
   "metadata": {},
   "source": [
    "## GRB with offset"
   ]
  },
  {
   "cell_type": "code",
   "execution_count": 3,
   "id": "actual-division",
   "metadata": {},
   "outputs": [],
   "source": [
    "bkg_bkgsrc  = \"simtype_grb_os_5000_tobs_18000_irf_South_z40_average_LST_5h_emin_0.03_emax_0.15_roi_2.5\""
   ]
  },
  {
   "cell_type": "code",
   "execution_count": 4,
   "id": "quick-landscape",
   "metadata": {
    "scrolled": false
   },
   "outputs": [
    {
     "name": "stdout",
     "output_type": "stream",
     "text": [
      "datafile:  /data01/home/baroncelli/phd/DATA/obs/simtype_grb_os_5000_tobs_18000_irf_South_z40_average_LST_5h_emin_0.03_emax_0.15_roi_2.5/run0406_ID000126/ebl000004_tbin00.log\n",
      "datafile:  /data01/home/baroncelli/phd/DATA/obs/simtype_grb_os_5000_tobs_18000_irf_South_z40_average_LST_5h_emin_0.03_emax_0.15_roi_2.5/run0406_ID000126/ebl000004_tbin00.fits\n",
      "datafile:  /data01/home/baroncelli/phd/DATA/obs/simtype_grb_os_5000_tobs_18000_irf_South_z40_average_LST_5h_emin_0.03_emax_0.15_roi_2.5/run0406_ID000126/ebl000004_tbin01.log\n",
      "datafile:  /data01/home/baroncelli/phd/DATA/obs/simtype_grb_os_5000_tobs_18000_irf_South_z40_average_LST_5h_emin_0.03_emax_0.15_roi_2.5/run0406_ID000126/ebl000004_tbin01.fits\n",
      "datafile:  /data01/home/baroncelli/phd/DATA/obs/simtype_grb_os_5000_tobs_18000_irf_South_z40_average_LST_5h_emin_0.03_emax_0.15_roi_2.5/run0406_ID000126/ebl000004_tbin02.log\n",
      "datafile:  /data01/home/baroncelli/phd/DATA/obs/simtype_grb_os_5000_tobs_18000_irf_South_z40_average_LST_5h_emin_0.03_emax_0.15_roi_2.5/run0406_ID000126/ebl000004_tbin02.fits\n",
      "datafile:  /data01/home/baroncelli/phd/DATA/obs/simtype_grb_os_5000_tobs_18000_irf_South_z40_average_LST_5h_emin_0.03_emax_0.15_roi_2.5/run0406_ID000126/ebl000004_tbin03.log\n",
      "datafile:  /data01/home/baroncelli/phd/DATA/obs/simtype_grb_os_5000_tobs_18000_irf_South_z40_average_LST_5h_emin_0.03_emax_0.15_roi_2.5/run0406_ID000126/ebl000004_tbin03.fits\n",
      "datafile:  /data01/home/baroncelli/phd/DATA/obs/simtype_grb_os_5000_tobs_18000_irf_South_z40_average_LST_5h_emin_0.03_emax_0.15_roi_2.5/run0406_ID000126/ebl000004_tbin04.log\n",
      "datafile:  /data01/home/baroncelli/phd/DATA/obs/simtype_grb_os_5000_tobs_18000_irf_South_z40_average_LST_5h_emin_0.03_emax_0.15_roi_2.5/run0406_ID000126/ebl000004_tbin04.fits\n",
      "datafile:  /data01/home/baroncelli/phd/DATA/obs/simtype_grb_os_5000_tobs_18000_irf_South_z40_average_LST_5h_emin_0.03_emax_0.15_roi_2.5/run0406_ID000126/ebl000004_tbin05.log\n",
      "datafile:  /data01/home/baroncelli/phd/DATA/obs/simtype_grb_os_5000_tobs_18000_irf_South_z40_average_LST_5h_emin_0.03_emax_0.15_roi_2.5/run0406_ID000126/ebl000004_tbin05.fits\n",
      "datafile:  /data01/home/baroncelli/phd/DATA/obs/simtype_grb_os_5000_tobs_18000_irf_South_z40_average_LST_5h_emin_0.03_emax_0.15_roi_2.5/run0406_ID000126/ebl000004_tbin06.log\n",
      "datafile:  /data01/home/baroncelli/phd/DATA/obs/simtype_grb_os_5000_tobs_18000_irf_South_z40_average_LST_5h_emin_0.03_emax_0.15_roi_2.5/run0406_ID000126/ebl000004_tbin06.fits\n",
      "datafile:  /data01/home/baroncelli/phd/DATA/obs/simtype_grb_os_5000_tobs_18000_irf_South_z40_average_LST_5h_emin_0.03_emax_0.15_roi_2.5/run0406_ID000126/ebl000004_tbin07.log\n",
      "datafile:  /data01/home/baroncelli/phd/DATA/obs/simtype_grb_os_5000_tobs_18000_irf_South_z40_average_LST_5h_emin_0.03_emax_0.15_roi_2.5/run0406_ID000126/ebl000004_tbin07.fits\n",
      "datafile:  /data01/home/baroncelli/phd/DATA/obs/simtype_grb_os_5000_tobs_18000_irf_South_z40_average_LST_5h_emin_0.03_emax_0.15_roi_2.5/run0406_ID000126/ebl000004_tbin08.log\n",
      "datafile:  /data01/home/baroncelli/phd/DATA/obs/simtype_grb_os_5000_tobs_18000_irf_South_z40_average_LST_5h_emin_0.03_emax_0.15_roi_2.5/run0406_ID000126/ebl000004_tbin08.fits\n",
      "datafile:  /data01/home/baroncelli/phd/DATA/obs/simtype_grb_os_5000_tobs_18000_irf_South_z40_average_LST_5h_emin_0.03_emax_0.15_roi_2.5/run0406_ID000126/ebl000004_tbin09.log\n",
      "datafile:  /data01/home/baroncelli/phd/DATA/obs/simtype_grb_os_5000_tobs_18000_irf_South_z40_average_LST_5h_emin_0.03_emax_0.15_roi_2.5/run0406_ID000126/ebl000004_tbin09.fits\n",
      "datafile:  /data01/home/baroncelli/phd/DATA/obs/simtype_grb_os_5000_tobs_18000_irf_South_z40_average_LST_5h_emin_0.03_emax_0.15_roi_2.5/run0406_ID000126/ebl000004_tbin10.log\n",
      "datafile:  /data01/home/baroncelli/phd/DATA/obs/simtype_grb_os_5000_tobs_18000_irf_South_z40_average_LST_5h_emin_0.03_emax_0.15_roi_2.5/run0406_ID000126/ebl000004_tbin10.fits\n",
      "datafile:  /data01/home/baroncelli/phd/DATA/obs/simtype_grb_os_5000_tobs_18000_irf_South_z40_average_LST_5h_emin_0.03_emax_0.15_roi_2.5/run0406_ID000126/ebl000004_tbin11.log\n",
      "datafile:  /data01/home/baroncelli/phd/DATA/obs/simtype_grb_os_5000_tobs_18000_irf_South_z40_average_LST_5h_emin_0.03_emax_0.15_roi_2.5/run0406_ID000126/ebl000004_tbin11.fits\n",
      "datafile:  /data01/home/baroncelli/phd/DATA/obs/simtype_grb_os_5000_tobs_18000_irf_South_z40_average_LST_5h_emin_0.03_emax_0.15_roi_2.5/run0406_ID000126/ebl000004_tbin12.log\n",
      "datafile:  /data01/home/baroncelli/phd/DATA/obs/simtype_grb_os_5000_tobs_18000_irf_South_z40_average_LST_5h_emin_0.03_emax_0.15_roi_2.5/run0406_ID000126/ebl000004_tbin12.fits\n",
      "datafile:  /data01/home/baroncelli/phd/DATA/obs/simtype_grb_os_5000_tobs_18000_irf_South_z40_average_LST_5h_emin_0.03_emax_0.15_roi_2.5/run0406_ID000126/ebl000004_tbin13.log\n",
      "datafile:  /data01/home/baroncelli/phd/DATA/obs/simtype_grb_os_5000_tobs_18000_irf_South_z40_average_LST_5h_emin_0.03_emax_0.15_roi_2.5/run0406_ID000126/ebl000004_tbin13.fits\n",
      "datafile:  /data01/home/baroncelli/phd/DATA/obs/simtype_grb_os_5000_tobs_18000_irf_South_z40_average_LST_5h_emin_0.03_emax_0.15_roi_2.5/run0406_ID000126/ebl000004_tbin14.log\n",
      "datafile:  /data01/home/baroncelli/phd/DATA/obs/simtype_grb_os_5000_tobs_18000_irf_South_z40_average_LST_5h_emin_0.03_emax_0.15_roi_2.5/run0406_ID000126/ebl000004_tbin14.fits\n",
      "datafile:  /data01/home/baroncelli/phd/DATA/obs/simtype_grb_os_5000_tobs_18000_irf_South_z40_average_LST_5h_emin_0.03_emax_0.15_roi_2.5/run0406_ID000126/ebl000004_tbin15.log\n",
      "datafile:  /data01/home/baroncelli/phd/DATA/obs/simtype_grb_os_5000_tobs_18000_irf_South_z40_average_LST_5h_emin_0.03_emax_0.15_roi_2.5/run0406_ID000126/ebl000004_tbin15.fits\n",
      "datafile:  /data01/home/baroncelli/phd/DATA/obs/simtype_grb_os_5000_tobs_18000_irf_South_z40_average_LST_5h_emin_0.03_emax_0.15_roi_2.5/run0406_ID000126/ebl000004_tbin16.log\n",
      "datafile:  /data01/home/baroncelli/phd/DATA/obs/simtype_grb_os_5000_tobs_18000_irf_South_z40_average_LST_5h_emin_0.03_emax_0.15_roi_2.5/run0406_ID000126/ebl000004_tbin16.fits\n",
      "datafile:  /data01/home/baroncelli/phd/DATA/obs/simtype_grb_os_5000_tobs_18000_irf_South_z40_average_LST_5h_emin_0.03_emax_0.15_roi_2.5/run0406_ID000126/ebl000004_tbin17.log\n",
      "datafile:  /data01/home/baroncelli/phd/DATA/obs/simtype_grb_os_5000_tobs_18000_irf_South_z40_average_LST_5h_emin_0.03_emax_0.15_roi_2.5/run0406_ID000126/ebl000004_tbin17.fits\n",
      "datafile:  /data01/home/baroncelli/phd/DATA/obs/simtype_grb_os_5000_tobs_18000_irf_South_z40_average_LST_5h_emin_0.03_emax_0.15_roi_2.5/run0406_ID000126/ebl000004_tbin18.log\n",
      "datafile:  /data01/home/baroncelli/phd/DATA/obs/simtype_grb_os_5000_tobs_18000_irf_South_z40_average_LST_5h_emin_0.03_emax_0.15_roi_2.5/run0406_ID000126/ebl000004_tbin18.fits\n",
      "datafile:  /data01/home/baroncelli/phd/DATA/obs/simtype_grb_os_5000_tobs_18000_irf_South_z40_average_LST_5h_emin_0.03_emax_0.15_roi_2.5/run0406_ID000126/ebl000004_tbin19.log\n",
      "datafile:  /data01/home/baroncelli/phd/DATA/obs/simtype_grb_os_5000_tobs_18000_irf_South_z40_average_LST_5h_emin_0.03_emax_0.15_roi_2.5/run0406_ID000126/ebl000004_tbin19.fits\n",
      "datafile:  /data01/home/baroncelli/phd/DATA/obs/simtype_grb_os_5000_tobs_18000_irf_South_z40_average_LST_5h_emin_0.03_emax_0.15_roi_2.5/run0406_ID000126/ebl000004_tbin20.log\n",
      "datafile:  /data01/home/baroncelli/phd/DATA/obs/simtype_grb_os_5000_tobs_18000_irf_South_z40_average_LST_5h_emin_0.03_emax_0.15_roi_2.5/run0406_ID000126/ebl000004_tbin20.fits\n",
      "datafile:  /data01/home/baroncelli/phd/DATA/obs/simtype_grb_os_5000_tobs_18000_irf_South_z40_average_LST_5h_emin_0.03_emax_0.15_roi_2.5/run0406_ID000126/ebl000004_tbin21.log\n",
      "datafile:  /data01/home/baroncelli/phd/DATA/obs/simtype_grb_os_5000_tobs_18000_irf_South_z40_average_LST_5h_emin_0.03_emax_0.15_roi_2.5/run0406_ID000126/ebl000004_tbin21.fits\n",
      "datafile:  /data01/home/baroncelli/phd/DATA/obs/simtype_grb_os_5000_tobs_18000_irf_South_z40_average_LST_5h_emin_0.03_emax_0.15_roi_2.5/run0406_ID000126/ebl000004_tbin22.log\n",
      "datafile:  /data01/home/baroncelli/phd/DATA/obs/simtype_grb_os_5000_tobs_18000_irf_South_z40_average_LST_5h_emin_0.03_emax_0.15_roi_2.5/run0406_ID000126/ebl000004_tbin22.fits\n",
      "datafile:  /data01/home/baroncelli/phd/DATA/obs/simtype_grb_os_5000_tobs_18000_irf_South_z40_average_LST_5h_emin_0.03_emax_0.15_roi_2.5/run0406_ID000126/ebl000004_tbin23.log\n",
      "datafile:  /data01/home/baroncelli/phd/DATA/obs/simtype_grb_os_5000_tobs_18000_irf_South_z40_average_LST_5h_emin_0.03_emax_0.15_roi_2.5/run0406_ID000126/ebl000004_tbin23.fits\n",
      "datafile:  /data01/home/baroncelli/phd/DATA/obs/simtype_grb_os_5000_tobs_18000_irf_South_z40_average_LST_5h_emin_0.03_emax_0.15_roi_2.5/run0406_ID000126/ebl000004_tbin24.log\n",
      "datafile:  /data01/home/baroncelli/phd/DATA/obs/simtype_grb_os_5000_tobs_18000_irf_South_z40_average_LST_5h_emin_0.03_emax_0.15_roi_2.5/run0406_ID000126/ebl000004_tbin24.fits\n",
      "datafile:  /data01/home/baroncelli/phd/DATA/obs/simtype_grb_os_5000_tobs_18000_irf_South_z40_average_LST_5h_emin_0.03_emax_0.15_roi_2.5/run0406_ID000126/ebl000004_tbin25.log\n",
      "datafile:  /data01/home/baroncelli/phd/DATA/obs/simtype_grb_os_5000_tobs_18000_irf_South_z40_average_LST_5h_emin_0.03_emax_0.15_roi_2.5/run0406_ID000126/ebl000004_tbin25.fits\n",
      "datafile:  /data01/home/baroncelli/phd/DATA/obs/simtype_grb_os_5000_tobs_18000_irf_South_z40_average_LST_5h_emin_0.03_emax_0.15_roi_2.5/run0406_ID000126/ebl000004_tbin26.log\n",
      "datafile:  /data01/home/baroncelli/phd/DATA/obs/simtype_grb_os_5000_tobs_18000_irf_South_z40_average_LST_5h_emin_0.03_emax_0.15_roi_2.5/run0406_ID000126/ebl000004_tbin26.fits\n",
      "datafile:  /data01/home/baroncelli/phd/DATA/obs/simtype_grb_os_5000_tobs_18000_irf_South_z40_average_LST_5h_emin_0.03_emax_0.15_roi_2.5/run0406_ID000126/ebl000004_tbin27.log\n",
      "datafile:  /data01/home/baroncelli/phd/DATA/obs/simtype_grb_os_5000_tobs_18000_irf_South_z40_average_LST_5h_emin_0.03_emax_0.15_roi_2.5/run0406_ID000126/ebl000004_tbin27.fits\n",
      "datafile:  /data01/home/baroncelli/phd/DATA/obs/simtype_grb_os_5000_tobs_18000_irf_South_z40_average_LST_5h_emin_0.03_emax_0.15_roi_2.5/run0406_ID000126/ebl000004_tbin28.log\n",
      "datafile:  /data01/home/baroncelli/phd/DATA/obs/simtype_grb_os_5000_tobs_18000_irf_South_z40_average_LST_5h_emin_0.03_emax_0.15_roi_2.5/run0406_ID000126/ebl000004_tbin28.fits\n",
      "datafile:  /data01/home/baroncelli/phd/DATA/obs/simtype_grb_os_5000_tobs_18000_irf_South_z40_average_LST_5h_emin_0.03_emax_0.15_roi_2.5/run0406_ID000126/ebl000004_tbin29.log\n",
      "datafile:  /data01/home/baroncelli/phd/DATA/obs/simtype_grb_os_5000_tobs_18000_irf_South_z40_average_LST_5h_emin_0.03_emax_0.15_roi_2.5/run0406_ID000126/ebl000004_tbin29.fits\n",
      "datafile:  /data01/home/baroncelli/phd/DATA/obs/simtype_grb_os_5000_tobs_18000_irf_South_z40_average_LST_5h_emin_0.03_emax_0.15_roi_2.5/run0406_ID000126/ebl000004_tbin30.log\n",
      "datafile:  /data01/home/baroncelli/phd/DATA/obs/simtype_grb_os_5000_tobs_18000_irf_South_z40_average_LST_5h_emin_0.03_emax_0.15_roi_2.5/run0406_ID000126/ebl000004_tbin30.fits\n",
      "datafile:  /data01/home/baroncelli/phd/DATA/obs/simtype_grb_os_5000_tobs_18000_irf_South_z40_average_LST_5h_emin_0.03_emax_0.15_roi_2.5/run0406_ID000126/ebl000004_tbin31.log\n",
      "datafile:  /data01/home/baroncelli/phd/DATA/obs/simtype_grb_os_5000_tobs_18000_irf_South_z40_average_LST_5h_emin_0.03_emax_0.15_roi_2.5/run0406_ID000126/ebl000004_tbin31.fits\n",
      "datafile:  /data01/home/baroncelli/phd/DATA/obs/simtype_grb_os_5000_tobs_18000_irf_South_z40_average_LST_5h_emin_0.03_emax_0.15_roi_2.5/run0406_ID000126/ebl000004_tbin32.log\n",
      "datafile:  /data01/home/baroncelli/phd/DATA/obs/simtype_grb_os_5000_tobs_18000_irf_South_z40_average_LST_5h_emin_0.03_emax_0.15_roi_2.5/run0406_ID000126/ebl000004_tbin32.fits\n",
      "datafile:  /data01/home/baroncelli/phd/DATA/obs/simtype_grb_os_5000_tobs_18000_irf_South_z40_average_LST_5h_emin_0.03_emax_0.15_roi_2.5/run0406_ID000126/ebl000004_tbin33.log\n",
      "datafile:  /data01/home/baroncelli/phd/DATA/obs/simtype_grb_os_5000_tobs_18000_irf_South_z40_average_LST_5h_emin_0.03_emax_0.15_roi_2.5/run0406_ID000126/ebl000004_tbin33.fits\n",
      "datafile:  /data01/home/baroncelli/phd/DATA/obs/simtype_grb_os_5000_tobs_18000_irf_South_z40_average_LST_5h_emin_0.03_emax_0.15_roi_2.5/run0406_ID000126/ebl000004_tbin34.log\n",
      "datafile:  /data01/home/baroncelli/phd/DATA/obs/simtype_grb_os_5000_tobs_18000_irf_South_z40_average_LST_5h_emin_0.03_emax_0.15_roi_2.5/run0406_ID000126/ebl000004_tbin34.fits\n",
      "datafile:  /data01/home/baroncelli/phd/DATA/obs/simtype_grb_os_5000_tobs_18000_irf_South_z40_average_LST_5h_emin_0.03_emax_0.15_roi_2.5/run0406_ID000126/ebl000004_tbin35.log\n",
      "datafile:  /data01/home/baroncelli/phd/DATA/obs/simtype_grb_os_5000_tobs_18000_irf_South_z40_average_LST_5h_emin_0.03_emax_0.15_roi_2.5/run0406_ID000126/ebl000004_tbin35.fits\n",
      "datafile:  /data01/home/baroncelli/phd/DATA/obs/simtype_grb_os_5000_tobs_18000_irf_South_z40_average_LST_5h_emin_0.03_emax_0.15_roi_2.5/run0406_ID000126/ebl000004_tbin36.log\n",
      "datafile:  /data01/home/baroncelli/phd/DATA/obs/simtype_grb_os_5000_tobs_18000_irf_South_z40_average_LST_5h_emin_0.03_emax_0.15_roi_2.5/run0406_ID000126/ebl000004_tbin36.fits\n",
      "datafile:  /data01/home/baroncelli/phd/DATA/obs/simtype_grb_os_5000_tobs_18000_irf_South_z40_average_LST_5h_emin_0.03_emax_0.15_roi_2.5/run0406_ID000126/ebl000004_tbin37.log\n",
      "datafile:  /data01/home/baroncelli/phd/DATA/obs/simtype_grb_os_5000_tobs_18000_irf_South_z40_average_LST_5h_emin_0.03_emax_0.15_roi_2.5/run0406_ID000126/ebl000004_tbin37.fits\n",
      "datafile:  /data01/home/baroncelli/phd/DATA/obs/simtype_grb_os_5000_tobs_18000_irf_South_z40_average_LST_5h_emin_0.03_emax_0.15_roi_2.5/run0406_ID000126/ebl000004_tbin38.log\n",
      "datafile:  /data01/home/baroncelli/phd/DATA/obs/simtype_grb_os_5000_tobs_18000_irf_South_z40_average_LST_5h_emin_0.03_emax_0.15_roi_2.5/run0406_ID000126/ebl000004_tbin38.fits\n",
      "datafile:  /data01/home/baroncelli/phd/DATA/obs/simtype_grb_os_5000_tobs_18000_irf_South_z40_average_LST_5h_emin_0.03_emax_0.15_roi_2.5/run0406_ID000126/ebl000004_tbin39.log\n",
      "datafile:  /data01/home/baroncelli/phd/DATA/obs/simtype_grb_os_5000_tobs_18000_irf_South_z40_average_LST_5h_emin_0.03_emax_0.15_roi_2.5/run0406_ID000126/ebl000004_tbin39.fits\n",
      "datafile:  /data01/home/baroncelli/phd/DATA/obs/simtype_grb_os_5000_tobs_18000_irf_South_z40_average_LST_5h_emin_0.03_emax_0.15_roi_2.5/run0406_ID000126/ebl000004_tbin40.log\n",
      "datafile:  /data01/home/baroncelli/phd/DATA/obs/simtype_grb_os_5000_tobs_18000_irf_South_z40_average_LST_5h_emin_0.03_emax_0.15_roi_2.5/run0406_ID000126/ebl000004_tbin40.fits\n",
      "datafile:  /data01/home/baroncelli/phd/DATA/obs/simtype_grb_os_5000_tobs_18000_irf_South_z40_average_LST_5h_emin_0.03_emax_0.15_roi_2.5/run0406_ID000126/ebl000004_tbin41.log\n",
      "datafile:  /data01/home/baroncelli/phd/DATA/obs/simtype_grb_os_5000_tobs_18000_irf_South_z40_average_LST_5h_emin_0.03_emax_0.15_roi_2.5/run0406_ID000126/ebl000004_tbin41.fits\n",
      "datafile:  /data01/home/baroncelli/phd/DATA/obs/simtype_grb_os_5000_tobs_18000_irf_South_z40_average_LST_5h_emin_0.03_emax_0.15_roi_2.5/run0406_ID000126/ebl000004_tbin42.log\n",
      "datafile:  /data01/home/baroncelli/phd/DATA/obs/simtype_grb_os_5000_tobs_18000_irf_South_z40_average_LST_5h_emin_0.03_emax_0.15_roi_2.5/run0406_ID000126/ebl000004_tbin42.fits\n",
      "datafile:  /data01/home/baroncelli/phd/DATA/obs/simtype_grb_os_5000_tobs_18000_irf_South_z40_average_LST_5h_emin_0.03_emax_0.15_roi_2.5/run0406_ID000126/ebl000004_tbin43.log\n",
      "datafile:  /data01/home/baroncelli/phd/DATA/obs/simtype_grb_os_5000_tobs_18000_irf_South_z40_average_LST_5h_emin_0.03_emax_0.15_roi_2.5/run0406_ID000126/ebl000004_tbin43.fits\n",
      "datafile:  /data01/home/baroncelli/phd/DATA/obs/simtype_grb_os_5000_tobs_18000_irf_South_z40_average_LST_5h_emin_0.03_emax_0.15_roi_2.5/run0406_ID000126/ebl000004_tbin44.log\n",
      "datafile:  /data01/home/baroncelli/phd/DATA/obs/simtype_grb_os_5000_tobs_18000_irf_South_z40_average_LST_5h_emin_0.03_emax_0.15_roi_2.5/run0406_ID000126/ebl000004_tbin44.fits\n",
      "datafile:  /data01/home/baroncelli/phd/DATA/obs/simtype_grb_os_5000_tobs_18000_irf_South_z40_average_LST_5h_emin_0.03_emax_0.15_roi_2.5/run0406_ID000126/ebl000004_tbin45.log\n",
      "datafile:  /data01/home/baroncelli/phd/DATA/obs/simtype_grb_os_5000_tobs_18000_irf_South_z40_average_LST_5h_emin_0.03_emax_0.15_roi_2.5/run0406_ID000126/ebl000004_tbin45.fits\n",
      "datafile:  /data01/home/baroncelli/phd/DATA/obs/simtype_grb_os_5000_tobs_18000_irf_South_z40_average_LST_5h_emin_0.03_emax_0.15_roi_2.5/run0406_ID000126/ebl000004_tbin46.log\n",
      "datafile:  /data01/home/baroncelli/phd/DATA/obs/simtype_grb_os_5000_tobs_18000_irf_South_z40_average_LST_5h_emin_0.03_emax_0.15_roi_2.5/run0406_ID000126/ebl000004_tbin46.fits\n",
      "datafile:  /data01/home/baroncelli/phd/DATA/obs/simtype_grb_os_5000_tobs_18000_irf_South_z40_average_LST_5h_emin_0.03_emax_0.15_roi_2.5/run0406_ID000126/ebl000004_tbin47.log\n",
      "datafile:  /data01/home/baroncelli/phd/DATA/obs/simtype_grb_os_5000_tobs_18000_irf_South_z40_average_LST_5h_emin_0.03_emax_0.15_roi_2.5/run0406_ID000126/ebl000004_tbin47.fits\n",
      "datafile:  /data01/home/baroncelli/phd/DATA/obs/simtype_grb_os_5000_tobs_18000_irf_South_z40_average_LST_5h_emin_0.03_emax_0.15_roi_2.5/run0406_ID000126/ebl000004_tbin48.log\n",
      "datafile:  /data01/home/baroncelli/phd/DATA/obs/simtype_grb_os_5000_tobs_18000_irf_South_z40_average_LST_5h_emin_0.03_emax_0.15_roi_2.5/run0406_ID000126/ebl000004_tbin48.fits\n",
      "datafile:  /data01/home/baroncelli/phd/DATA/obs/simtype_grb_os_5000_tobs_18000_irf_South_z40_average_LST_5h_emin_0.03_emax_0.15_roi_2.5/run0406_ID000126/ebl000004_tbin49.log\n",
      "datafile:  /data01/home/baroncelli/phd/DATA/obs/simtype_grb_os_5000_tobs_18000_irf_South_z40_average_LST_5h_emin_0.03_emax_0.15_roi_2.5/run0406_ID000126/ebl000004_tbin49.fits\n",
      "datafile:  /data01/home/baroncelli/phd/DATA/obs/simtype_grb_os_5000_tobs_18000_irf_South_z40_average_LST_5h_emin_0.03_emax_0.15_roi_2.5/run0406_ID000126/ebl000004_tbin50.log\n",
      "datafile:  /data01/home/baroncelli/phd/DATA/obs/simtype_grb_os_5000_tobs_18000_irf_South_z40_average_LST_5h_emin_0.03_emax_0.15_roi_2.5/run0406_ID000126/ebl000004_tbin50.fits\n",
      "datafile:  /data01/home/baroncelli/phd/DATA/obs/simtype_grb_os_5000_tobs_18000_irf_South_z40_average_LST_5h_emin_0.03_emax_0.15_roi_2.5/run0406_ID000126/ebl000004_tbin51.log\n",
      "datafile:  /data01/home/baroncelli/phd/DATA/obs/simtype_grb_os_5000_tobs_18000_irf_South_z40_average_LST_5h_emin_0.03_emax_0.15_roi_2.5/run0406_ID000126/ebl000004_tbin51.fits\n",
      "datafile:  /data01/home/baroncelli/phd/DATA/obs/simtype_grb_os_5000_tobs_18000_irf_South_z40_average_LST_5h_emin_0.03_emax_0.15_roi_2.5/run0406_ID000126/ebl000004_tbin52.log\n",
      "datafile:  /data01/home/baroncelli/phd/DATA/obs/simtype_grb_os_5000_tobs_18000_irf_South_z40_average_LST_5h_emin_0.03_emax_0.15_roi_2.5/run0406_ID000126/ebl000004_tbin52.fits\n",
      "datafile:  /data01/home/baroncelli/phd/DATA/obs/simtype_grb_os_5000_tobs_18000_irf_South_z40_average_LST_5h_emin_0.03_emax_0.15_roi_2.5/run0406_ID000126/bkg000002.log\n",
      "datafile:  /data01/home/baroncelli/phd/DATA/obs/simtype_grb_os_5000_tobs_18000_irf_South_z40_average_LST_5h_emin_0.03_emax_0.15_roi_2.5/run0406_ID000126/bkg000000.log\n",
      "datafile:  /data01/home/baroncelli/phd/DATA/obs/simtype_grb_os_5000_tobs_18000_irf_South_z40_average_LST_5h_emin_0.03_emax_0.15_roi_2.5/run0406_ID000126/bkg000001.log\n",
      "datafile:  /data01/home/baroncelli/phd/DATA/obs/simtype_grb_os_5000_tobs_18000_irf_South_z40_average_LST_5h_emin_0.03_emax_0.15_roi_2.5/run0406_ID000126/bkg000003.log\n",
      "datafile:  /data01/home/baroncelli/phd/DATA/obs/simtype_grb_os_5000_tobs_18000_irf_South_z40_average_LST_5h_emin_0.03_emax_0.15_roi_2.5/run0406_ID000126/ebl000002.fits\n",
      "datafile:  /data01/home/baroncelli/phd/DATA/obs/simtype_grb_os_5000_tobs_18000_irf_South_z40_average_LST_5h_emin_0.03_emax_0.15_roi_2.5/run0406_ID000126/ebl000000.fits\n",
      "datafile:  /data01/home/baroncelli/phd/DATA/obs/simtype_grb_os_5000_tobs_18000_irf_South_z40_average_LST_5h_emin_0.03_emax_0.15_roi_2.5/run0406_ID000126/ebl000001.fits\n",
      "datafile:  /data01/home/baroncelli/phd/DATA/obs/simtype_grb_os_5000_tobs_18000_irf_South_z40_average_LST_5h_emin_0.03_emax_0.15_roi_2.5/run0406_ID000126/ebl000003.fits\n",
      "Found: 114 files, pointing is: (33.057, -51.841)\n",
      "photometry_params pointing:  (33.057, -51.841)\n"
     ]
    },
    {
     "ename": "OSError",
     "evalue": "Header missing END card.",
     "output_type": "error",
     "traceback": [
      "\u001b[0;31m---------------------------------------------------------------------------\u001b[0m",
      "\u001b[0;31mException\u001b[0m                                 Traceback (most recent call last)",
      "\u001b[0;32m~/.conda/envs/bphd/lib/python3.7/site-packages/astropy/io/fits/hdu/base.py\u001b[0m in \u001b[0;36m_readfrom_internal\u001b[0;34m(cls, data, header, checksum, ignore_missing_end, **kwargs)\u001b[0m\n\u001b[1;32m    405\u001b[0m                     \u001b[0;31m# that are needed to build the HDU object.\u001b[0m\u001b[0;34m\u001b[0m\u001b[0;34m\u001b[0m\u001b[0;34m\u001b[0m\u001b[0m\n\u001b[0;32m--> 406\u001b[0;31m                     \u001b[0mheader_str\u001b[0m\u001b[0;34m,\u001b[0m \u001b[0mheader\u001b[0m \u001b[0;34m=\u001b[0m \u001b[0m_BasicHeader\u001b[0m\u001b[0;34m.\u001b[0m\u001b[0mfromfile\u001b[0m\u001b[0;34m(\u001b[0m\u001b[0mdata\u001b[0m\u001b[0;34m)\u001b[0m\u001b[0;34m\u001b[0m\u001b[0;34m\u001b[0m\u001b[0m\n\u001b[0m\u001b[1;32m    407\u001b[0m                 \u001b[0;32mexcept\u001b[0m \u001b[0mException\u001b[0m\u001b[0;34m:\u001b[0m\u001b[0;34m\u001b[0m\u001b[0;34m\u001b[0m\u001b[0m\n",
      "\u001b[0;32m~/.conda/envs/bphd/lib/python3.7/site-packages/astropy/io/fits/header.py\u001b[0m in \u001b[0;36mfromfile\u001b[0;34m(cls, fileobj)\u001b[0m\n\u001b[1;32m   2084\u001b[0m         \u001b[0;32mtry\u001b[0m\u001b[0;34m:\u001b[0m\u001b[0;34m\u001b[0m\u001b[0;34m\u001b[0m\u001b[0m\n\u001b[0;32m-> 2085\u001b[0;31m             \u001b[0mheader_str\u001b[0m\u001b[0;34m,\u001b[0m \u001b[0mcards\u001b[0m \u001b[0;34m=\u001b[0m \u001b[0mparse_header\u001b[0m\u001b[0;34m(\u001b[0m\u001b[0mfileobj\u001b[0m\u001b[0;34m)\u001b[0m\u001b[0;34m\u001b[0m\u001b[0;34m\u001b[0m\u001b[0m\n\u001b[0m\u001b[1;32m   2086\u001b[0m             \u001b[0m_check_padding\u001b[0m\u001b[0;34m(\u001b[0m\u001b[0mheader_str\u001b[0m\u001b[0;34m,\u001b[0m \u001b[0mBLOCK_SIZE\u001b[0m\u001b[0;34m,\u001b[0m \u001b[0;32mFalse\u001b[0m\u001b[0;34m)\u001b[0m\u001b[0;34m\u001b[0m\u001b[0;34m\u001b[0m\u001b[0m\n",
      "\u001b[0;32mastropy/io/fits/_utils.pyx\u001b[0m in \u001b[0;36mastropy.io.fits._utils.parse_header\u001b[0;34m()\u001b[0m\n",
      "\u001b[0;31mException\u001b[0m: ",
      "\nDuring handling of the above exception, another exception occurred:\n",
      "\u001b[0;31mOSError\u001b[0m                                   Traceback (most recent call last)",
      "\u001b[0;32m<ipython-input-4-3d2d985bf5d3>\u001b[0m in \u001b[0;36m<module>\u001b[0;34m\u001b[0m\n\u001b[1;32m      6\u001b[0m \u001b[0;32mfor\u001b[0m \u001b[0midx\u001b[0m\u001b[0;34m,\u001b[0m \u001b[0minp\u001b[0m \u001b[0;32min\u001b[0m \u001b[0menumerate\u001b[0m\u001b[0;34m(\u001b[0m\u001b[0minputs\u001b[0m\u001b[0;34m)\u001b[0m\u001b[0;34m:\u001b[0m\u001b[0;34m\u001b[0m\u001b[0;34m\u001b[0m\u001b[0m\n\u001b[1;32m      7\u001b[0m     \u001b[0mconf\u001b[0m \u001b[0;34m=\u001b[0m \u001b[0minp\u001b[0m\u001b[0;34m[\u001b[0m\u001b[0;36m1\u001b[0m\u001b[0;34m]\u001b[0m\u001b[0;34m\u001b[0m\u001b[0;34m\u001b[0m\u001b[0m\n\u001b[0;32m----> 8\u001b[0;31m     \u001b[0mcsv_data_t\u001b[0m \u001b[0;34m=\u001b[0m \u001b[0mphotometry\u001b[0m\u001b[0;34m.\u001b[0m\u001b[0mintegrate\u001b[0m\u001b[0;34m(\u001b[0m\u001b[0mphotometry_params\u001b[0m\u001b[0;34m,\u001b[0m \u001b[0mconf\u001b[0m\u001b[0;34m,\u001b[0m \u001b[0mintegration\u001b[0m\u001b[0;34m=\u001b[0m\u001b[0;34m\"t\"\u001b[0m\u001b[0;34m)\u001b[0m\u001b[0;34m.\u001b[0m\u001b[0mpop\u001b[0m\u001b[0;34m(\u001b[0m\u001b[0;36m0\u001b[0m\u001b[0;34m)\u001b[0m\u001b[0;34m\u001b[0m\u001b[0;34m\u001b[0m\u001b[0m\n\u001b[0m\u001b[1;32m      9\u001b[0m \u001b[0;34m\u001b[0m\u001b[0m\n\u001b[1;32m     10\u001b[0m \u001b[0;34m\u001b[0m\u001b[0m\n",
      "\u001b[0;32m~/phd/repos/phd/rtapipe/lib/datasource/photometry.py\u001b[0m in \u001b[0;36mintegrate\u001b[0;34m(self, photometry_params, sim_params, integration)\u001b[0m\n\u001b[1;32m     90\u001b[0m         \u001b[0minput_file\u001b[0m \u001b[0;34m=\u001b[0m \u001b[0msim_params\u001b[0m\u001b[0;34m[\u001b[0m\u001b[0;34m\"input_file\"\u001b[0m\u001b[0;34m]\u001b[0m\u001b[0;34m\u001b[0m\u001b[0;34m\u001b[0m\u001b[0m\n\u001b[1;32m     91\u001b[0m \u001b[0;34m\u001b[0m\u001b[0m\n\u001b[0;32m---> 92\u001b[0;31m         \u001b[0mphm\u001b[0m \u001b[0;34m=\u001b[0m \u001b[0mPhotometrics\u001b[0m\u001b[0;34m(\u001b[0m\u001b[0;34m{\u001b[0m \u001b[0;34m'events_filename'\u001b[0m\u001b[0;34m:\u001b[0m \u001b[0minput_file\u001b[0m \u001b[0;34m}\u001b[0m\u001b[0;34m)\u001b[0m\u001b[0;34m\u001b[0m\u001b[0;34m\u001b[0m\u001b[0m\n\u001b[0m\u001b[1;32m     93\u001b[0m         region = {\n\u001b[1;32m     94\u001b[0m             \u001b[0;34m'ra'\u001b[0m\u001b[0;34m:\u001b[0m \u001b[0mphotometry_params\u001b[0m\u001b[0;34m[\u001b[0m\u001b[0;34m\"pointing\"\u001b[0m\u001b[0;34m]\u001b[0m\u001b[0;34m[\u001b[0m\u001b[0;36m0\u001b[0m\u001b[0;34m]\u001b[0m\u001b[0;34m,\u001b[0m\u001b[0;34m\u001b[0m\u001b[0;34m\u001b[0m\u001b[0m\n",
      "\u001b[0;32m~/phd/repos/astro/astro/lib/photometry.py\u001b[0m in \u001b[0;36m__init__\u001b[0;34m(self, args)\u001b[0m\n\u001b[1;32m     53\u001b[0m         \u001b[0;32mif\u001b[0m \u001b[0;34m'events_filename'\u001b[0m \u001b[0;32min\u001b[0m \u001b[0margs\u001b[0m\u001b[0;34m:\u001b[0m\u001b[0;34m\u001b[0m\u001b[0;34m\u001b[0m\u001b[0m\n\u001b[1;32m     54\u001b[0m             \u001b[0mself\u001b[0m\u001b[0;34m.\u001b[0m\u001b[0mevents_filename\u001b[0m \u001b[0;34m=\u001b[0m \u001b[0margs\u001b[0m\u001b[0;34m[\u001b[0m\u001b[0;34m'events_filename'\u001b[0m\u001b[0;34m]\u001b[0m\u001b[0;34m\u001b[0m\u001b[0;34m\u001b[0m\u001b[0m\n\u001b[0;32m---> 55\u001b[0;31m             \u001b[0mself\u001b[0m\u001b[0;34m.\u001b[0m\u001b[0mevents_data\u001b[0m \u001b[0;34m=\u001b[0m \u001b[0mself\u001b[0m\u001b[0;34m.\u001b[0m\u001b[0mload_data_from_fits_file\u001b[0m\u001b[0;34m(\u001b[0m\u001b[0mself\u001b[0m\u001b[0;34m.\u001b[0m\u001b[0mevents_filename\u001b[0m\u001b[0;34m)\u001b[0m\u001b[0;34m\u001b[0m\u001b[0;34m\u001b[0m\u001b[0m\n\u001b[0m\u001b[1;32m     56\u001b[0m         \u001b[0;32melif\u001b[0m \u001b[0;34m'events_list'\u001b[0m \u001b[0;32min\u001b[0m \u001b[0margs\u001b[0m\u001b[0;34m:\u001b[0m\u001b[0;34m\u001b[0m\u001b[0;34m\u001b[0m\u001b[0m\n\u001b[1;32m     57\u001b[0m             \u001b[0mself\u001b[0m\u001b[0;34m.\u001b[0m\u001b[0mevents_data\u001b[0m \u001b[0;34m=\u001b[0m \u001b[0margs\u001b[0m\u001b[0;34m[\u001b[0m\u001b[0;34m'events_list'\u001b[0m\u001b[0;34m]\u001b[0m\u001b[0;34m\u001b[0m\u001b[0;34m\u001b[0m\u001b[0m\n",
      "\u001b[0;32m~/phd/repos/astro/astro/lib/photometry.py\u001b[0m in \u001b[0;36mload_data_from_fits_file\u001b[0;34m(filename)\u001b[0m\n\u001b[1;32m     88\u001b[0m         \u001b[0mevents_bintable\u001b[0m \u001b[0mdata\u001b[0m\u001b[0;34m\u001b[0m\u001b[0;34m\u001b[0m\u001b[0m\n\u001b[1;32m     89\u001b[0m         \"\"\"\n\u001b[0;32m---> 90\u001b[0;31m         \u001b[0mhdul\u001b[0m \u001b[0;34m=\u001b[0m \u001b[0mfits\u001b[0m\u001b[0;34m.\u001b[0m\u001b[0mopen\u001b[0m\u001b[0;34m(\u001b[0m\u001b[0mfilename\u001b[0m\u001b[0;34m)\u001b[0m\u001b[0;34m\u001b[0m\u001b[0;34m\u001b[0m\u001b[0m\n\u001b[0m\u001b[1;32m     91\u001b[0m         \u001b[0;31m# hdul.info()\u001b[0m\u001b[0;34m\u001b[0m\u001b[0;34m\u001b[0m\u001b[0;34m\u001b[0m\u001b[0m\n\u001b[1;32m     92\u001b[0m         \u001b[0mevents_bintable\u001b[0m \u001b[0;34m=\u001b[0m \u001b[0mhdul\u001b[0m\u001b[0;34m[\u001b[0m\u001b[0;34m'EVENTS'\u001b[0m\u001b[0;34m]\u001b[0m\u001b[0;34m\u001b[0m\u001b[0;34m\u001b[0m\u001b[0m\n",
      "\u001b[0;32m~/.conda/envs/bphd/lib/python3.7/site-packages/astropy/io/fits/hdu/hdulist.py\u001b[0m in \u001b[0;36mfitsopen\u001b[0;34m(name, mode, memmap, save_backup, cache, lazy_load_hdus, **kwargs)\u001b[0m\n\u001b[1;32m    163\u001b[0m \u001b[0;34m\u001b[0m\u001b[0m\n\u001b[1;32m    164\u001b[0m     return HDUList.fromfile(name, mode, memmap, save_backup, cache,\n\u001b[0;32m--> 165\u001b[0;31m                             lazy_load_hdus, **kwargs)\n\u001b[0m\u001b[1;32m    166\u001b[0m \u001b[0;34m\u001b[0m\u001b[0m\n\u001b[1;32m    167\u001b[0m \u001b[0;34m\u001b[0m\u001b[0m\n",
      "\u001b[0;32m~/.conda/envs/bphd/lib/python3.7/site-packages/astropy/io/fits/hdu/hdulist.py\u001b[0m in \u001b[0;36mfromfile\u001b[0;34m(cls, fileobj, mode, memmap, save_backup, cache, lazy_load_hdus, **kwargs)\u001b[0m\n\u001b[1;32m    401\u001b[0m         return cls._readfrom(fileobj=fileobj, mode=mode, memmap=memmap,\n\u001b[1;32m    402\u001b[0m                              \u001b[0msave_backup\u001b[0m\u001b[0;34m=\u001b[0m\u001b[0msave_backup\u001b[0m\u001b[0;34m,\u001b[0m \u001b[0mcache\u001b[0m\u001b[0;34m=\u001b[0m\u001b[0mcache\u001b[0m\u001b[0;34m,\u001b[0m\u001b[0;34m\u001b[0m\u001b[0;34m\u001b[0m\u001b[0m\n\u001b[0;32m--> 403\u001b[0;31m                              lazy_load_hdus=lazy_load_hdus, **kwargs)\n\u001b[0m\u001b[1;32m    404\u001b[0m \u001b[0;34m\u001b[0m\u001b[0m\n\u001b[1;32m    405\u001b[0m     \u001b[0;34m@\u001b[0m\u001b[0mclassmethod\u001b[0m\u001b[0;34m\u001b[0m\u001b[0;34m\u001b[0m\u001b[0m\n",
      "\u001b[0;32m~/.conda/envs/bphd/lib/python3.7/site-packages/astropy/io/fits/hdu/hdulist.py\u001b[0m in \u001b[0;36m_readfrom\u001b[0;34m(cls, fileobj, data, mode, memmap, cache, lazy_load_hdus, **kwargs)\u001b[0m\n\u001b[1;32m   1075\u001b[0m \u001b[0;34m\u001b[0m\u001b[0m\n\u001b[1;32m   1076\u001b[0m         \u001b[0;31m# Make sure at least the PRIMARY HDU can be read\u001b[0m\u001b[0;34m\u001b[0m\u001b[0;34m\u001b[0m\u001b[0;34m\u001b[0m\u001b[0m\n\u001b[0;32m-> 1077\u001b[0;31m         \u001b[0mread_one\u001b[0m \u001b[0;34m=\u001b[0m \u001b[0mhdulist\u001b[0m\u001b[0;34m.\u001b[0m\u001b[0m_read_next_hdu\u001b[0m\u001b[0;34m(\u001b[0m\u001b[0;34m)\u001b[0m\u001b[0;34m\u001b[0m\u001b[0;34m\u001b[0m\u001b[0m\n\u001b[0m\u001b[1;32m   1078\u001b[0m \u001b[0;34m\u001b[0m\u001b[0m\n\u001b[1;32m   1079\u001b[0m         \u001b[0;31m# If we're trying to read only and no header units were found,\u001b[0m\u001b[0;34m\u001b[0m\u001b[0;34m\u001b[0m\u001b[0;34m\u001b[0m\u001b[0m\n",
      "\u001b[0;32m~/.conda/envs/bphd/lib/python3.7/site-packages/astropy/io/fits/hdu/hdulist.py\u001b[0m in \u001b[0;36m_read_next_hdu\u001b[0;34m(self)\u001b[0m\n\u001b[1;32m   1150\u001b[0m                                 \u001b[0mfileobj\u001b[0m\u001b[0;34m.\u001b[0m\u001b[0mseek\u001b[0m\u001b[0;34m(\u001b[0m\u001b[0moffset\u001b[0m\u001b[0;34m,\u001b[0m \u001b[0mos\u001b[0m\u001b[0;34m.\u001b[0m\u001b[0mSEEK_SET\u001b[0m\u001b[0;34m)\u001b[0m\u001b[0;34m\u001b[0m\u001b[0;34m\u001b[0m\u001b[0m\n\u001b[1;32m   1151\u001b[0m \u001b[0;34m\u001b[0m\u001b[0m\n\u001b[0;32m-> 1152\u001b[0;31m                         \u001b[0mhdu\u001b[0m \u001b[0;34m=\u001b[0m \u001b[0m_BaseHDU\u001b[0m\u001b[0;34m.\u001b[0m\u001b[0mreadfrom\u001b[0m\u001b[0;34m(\u001b[0m\u001b[0mfileobj\u001b[0m\u001b[0;34m,\u001b[0m \u001b[0;34m**\u001b[0m\u001b[0mkwargs\u001b[0m\u001b[0;34m)\u001b[0m\u001b[0;34m\u001b[0m\u001b[0;34m\u001b[0m\u001b[0m\n\u001b[0m\u001b[1;32m   1153\u001b[0m                     \u001b[0;32mexcept\u001b[0m \u001b[0mEOFError\u001b[0m\u001b[0;34m:\u001b[0m\u001b[0;34m\u001b[0m\u001b[0;34m\u001b[0m\u001b[0m\n\u001b[1;32m   1154\u001b[0m                         \u001b[0mself\u001b[0m\u001b[0;34m.\u001b[0m\u001b[0m_read_all\u001b[0m \u001b[0;34m=\u001b[0m \u001b[0;32mTrue\u001b[0m\u001b[0;34m\u001b[0m\u001b[0;34m\u001b[0m\u001b[0m\n",
      "\u001b[0;32m~/.conda/envs/bphd/lib/python3.7/site-packages/astropy/io/fits/hdu/base.py\u001b[0m in \u001b[0;36mreadfrom\u001b[0;34m(cls, fileobj, checksum, ignore_missing_end, **kwargs)\u001b[0m\n\u001b[1;32m    325\u001b[0m         hdu = cls._readfrom_internal(fileobj, checksum=checksum,\n\u001b[1;32m    326\u001b[0m                                      \u001b[0mignore_missing_end\u001b[0m\u001b[0;34m=\u001b[0m\u001b[0mignore_missing_end\u001b[0m\u001b[0;34m,\u001b[0m\u001b[0;34m\u001b[0m\u001b[0;34m\u001b[0m\u001b[0m\n\u001b[0;32m--> 327\u001b[0;31m                                      **kwargs)\n\u001b[0m\u001b[1;32m    328\u001b[0m \u001b[0;34m\u001b[0m\u001b[0m\n\u001b[1;32m    329\u001b[0m         \u001b[0;31m# If the checksum had to be checked the data may have already been read\u001b[0m\u001b[0;34m\u001b[0m\u001b[0;34m\u001b[0m\u001b[0;34m\u001b[0m\u001b[0m\n",
      "\u001b[0;32m~/.conda/envs/bphd/lib/python3.7/site-packages/astropy/io/fits/hdu/base.py\u001b[0m in \u001b[0;36m_readfrom_internal\u001b[0;34m(cls, data, header, checksum, ignore_missing_end, **kwargs)\u001b[0m\n\u001b[1;32m    412\u001b[0m                     \u001b[0mdata\u001b[0m\u001b[0;34m.\u001b[0m\u001b[0mseek\u001b[0m\u001b[0;34m(\u001b[0m\u001b[0mheader_offset\u001b[0m\u001b[0;34m)\u001b[0m\u001b[0;34m\u001b[0m\u001b[0;34m\u001b[0m\u001b[0m\n\u001b[1;32m    413\u001b[0m                     header = Header.fromfile(data,\n\u001b[0;32m--> 414\u001b[0;31m                                              endcard=not ignore_missing_end)\n\u001b[0m\u001b[1;32m    415\u001b[0m             \u001b[0mhdu_fileobj\u001b[0m \u001b[0;34m=\u001b[0m \u001b[0mdata\u001b[0m\u001b[0;34m\u001b[0m\u001b[0;34m\u001b[0m\u001b[0m\n\u001b[1;32m    416\u001b[0m             \u001b[0mdata_offset\u001b[0m \u001b[0;34m=\u001b[0m \u001b[0mdata\u001b[0m\u001b[0;34m.\u001b[0m\u001b[0mtell\u001b[0m\u001b[0;34m(\u001b[0m\u001b[0;34m)\u001b[0m  \u001b[0;31m# *after* reading the header\u001b[0m\u001b[0;34m\u001b[0m\u001b[0;34m\u001b[0m\u001b[0m\n",
      "\u001b[0;32m~/.conda/envs/bphd/lib/python3.7/site-packages/astropy/io/fits/header.py\u001b[0m in \u001b[0;36mfromfile\u001b[0;34m(cls, fileobj, sep, endcard, padding)\u001b[0m\n\u001b[1;32m    521\u001b[0m \u001b[0;34m\u001b[0m\u001b[0m\n\u001b[1;32m    522\u001b[0m             return cls._from_blocks(block_iter, is_binary, sep, endcard,\n\u001b[0;32m--> 523\u001b[0;31m                                     padding)[1]\n\u001b[0m\u001b[1;32m    524\u001b[0m         \u001b[0;32mfinally\u001b[0m\u001b[0;34m:\u001b[0m\u001b[0;34m\u001b[0m\u001b[0;34m\u001b[0m\u001b[0m\n\u001b[1;32m    525\u001b[0m             \u001b[0;32mif\u001b[0m \u001b[0mclose_file\u001b[0m\u001b[0;34m:\u001b[0m\u001b[0;34m\u001b[0m\u001b[0;34m\u001b[0m\u001b[0m\n",
      "\u001b[0;32m~/.conda/envs/bphd/lib/python3.7/site-packages/astropy/io/fits/header.py\u001b[0m in \u001b[0;36m_from_blocks\u001b[0;34m(cls, block_iter, is_binary, sep, endcard, padding)\u001b[0m\n\u001b[1;32m    603\u001b[0m             \u001b[0;31m# TODO: Pass this error to validation framework as an ERROR,\u001b[0m\u001b[0;34m\u001b[0m\u001b[0;34m\u001b[0m\u001b[0;34m\u001b[0m\u001b[0m\n\u001b[1;32m    604\u001b[0m             \u001b[0;31m# rather than raising an exception\u001b[0m\u001b[0;34m\u001b[0m\u001b[0;34m\u001b[0m\u001b[0;34m\u001b[0m\u001b[0m\n\u001b[0;32m--> 605\u001b[0;31m             \u001b[0;32mraise\u001b[0m \u001b[0mOSError\u001b[0m\u001b[0;34m(\u001b[0m\u001b[0;34m'Header missing END card.'\u001b[0m\u001b[0;34m)\u001b[0m\u001b[0;34m\u001b[0m\u001b[0;34m\u001b[0m\u001b[0m\n\u001b[0m\u001b[1;32m    606\u001b[0m \u001b[0;34m\u001b[0m\u001b[0m\n\u001b[1;32m    607\u001b[0m         \u001b[0mheader_str\u001b[0m \u001b[0;34m=\u001b[0m \u001b[0;34m''\u001b[0m\u001b[0;34m.\u001b[0m\u001b[0mjoin\u001b[0m\u001b[0;34m(\u001b[0m\u001b[0mread_blocks\u001b[0m\u001b[0;34m)\u001b[0m\u001b[0;34m\u001b[0m\u001b[0;34m\u001b[0m\u001b[0m\n",
      "\u001b[0;31mOSError\u001b[0m: Header missing END card."
     ]
    }
   ],
   "source": [
    "inputs = getInput(bkg_bkgsrc, -1)\n",
    "\n",
    "photometry_params['pointing'] = inputs[0][2]\n",
    "\n",
    "print(\"photometry_params pointing: \",photometry_params['pointing'])\n",
    "for idx, inp in enumerate(inputs):\n",
    "    conf = inp[1]\n",
    "    csv_data_t = photometry.integrate(photometry_params, conf, integration=\"t\").pop(0)    \n",
    "\n",
    "    "
   ]
  },
  {
   "cell_type": "markdown",
   "id": "weekly-scenario",
   "metadata": {},
   "source": [
    "## GRB data"
   ]
  },
  {
   "cell_type": "code",
   "execution_count": null,
   "id": "mechanical-sender",
   "metadata": {},
   "outputs": [],
   "source": [
    "bkgsrc      = \"simtype_grb_os_0_tobs_3600_irf_South_z40_average_LST_30m_emin_0.03_emax_0.15_roi_2.5\""
   ]
  },
  {
   "cell_type": "code",
   "execution_count": null,
   "id": "finished-violin",
   "metadata": {
    "scrolled": true
   },
   "outputs": [],
   "source": [
    "FILES_N = 100\n",
    "\n",
    "bkgsrc_files = []\n",
    "for i in range(FILES_N):\n",
    "    bkgsrc_files.append(getInput(bkgsrc, i))\n",
    "\n",
    "photometry_params['pointing'] = bkgsrc_files[0][2]\n",
    "    \n",
    "for i in range(FILES_N):\n",
    "    conf = bkgsrc_files[i][1]\n",
    "    csv_data_t = photometry.integrate(photometry_params, conf, integration=\"t\").pop(0)    "
   ]
  },
  {
   "cell_type": "code",
   "execution_count": null,
   "id": "affiliated-competition",
   "metadata": {},
   "outputs": [],
   "source": [
    "singleplot = PhotometrySinglePlot(title=\"Multiple trials\")\n",
    "\n",
    "for i in range(4):\n",
    "    conf = bkgsrc_files[i][1]\n",
    "    csv_data_t = photometry.integrate(photometry_params, conf, integration=\"t\").pop(0)\n",
    "    _ = singleplot.addData(csv_data_t, photometry_params, conf, [\"bkg\"], \"t\")\n"
   ]
  },
  {
   "cell_type": "markdown",
   "id": "automotive-lodge",
   "metadata": {},
   "source": [
    "# TODO\n",
    "\n",
    "* fix simulation outdir name (it should include other params) (done)\n",
    "* onset moved into template params (done)\n",
    "* Geneare background più corti (done)\n",
    "* custom titles (done)\n",
    "* refactoring: own classes, getTitle() and getLabel() in base class (done)\n",
    "* plottare differenti trials (done)\n",
    "* refactoring photometry (done)\n",
    "* round a 4 decimali (done)\n",
    "* et, te integrations (done)\n",
    "* plottare et (done)\n",
    "\n",
    "* bug pointing as baseline\n",
    "* plottare differenti runid"
   ]
  },
  {
   "cell_type": "code",
   "execution_count": null,
   "id": "regional-brighton",
   "metadata": {},
   "outputs": [],
   "source": []
  }
 ],
 "metadata": {
  "kernelspec": {
   "display_name": "Python 3",
   "language": "python",
   "name": "python3"
  },
  "language_info": {
   "codemirror_mode": {
    "name": "ipython",
    "version": 3
   },
   "file_extension": ".py",
   "mimetype": "text/x-python",
   "name": "python",
   "nbconvert_exporter": "python",
   "pygments_lexer": "ipython3",
   "version": "3.7.3"
  }
 },
 "nbformat": 4,
 "nbformat_minor": 5
}
