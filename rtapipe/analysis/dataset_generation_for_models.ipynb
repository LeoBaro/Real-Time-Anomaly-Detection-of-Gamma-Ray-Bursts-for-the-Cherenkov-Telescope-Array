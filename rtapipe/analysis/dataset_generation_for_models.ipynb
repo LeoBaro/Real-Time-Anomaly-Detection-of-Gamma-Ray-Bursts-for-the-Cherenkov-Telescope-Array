{
 "cells": [
  {
   "cell_type": "markdown",
   "id": "representative-superintendent",
   "metadata": {},
   "source": [
    "# Notebook for datasets generation"
   ]
  },
  {
   "cell_type": "code",
   "execution_count": 1,
   "id": "superb-maine",
   "metadata": {},
   "outputs": [
    {
     "name": "stderr",
     "output_type": "stream",
     "text": [
      "\n",
      "Bad key \"text.kerning_factor\" on line 4 in\n",
      "/data01/home/baroncelli/.conda/envs/bphd/lib/python3.7/site-packages/matplotlib/mpl-data/stylelib/_classic_test_patch.mplstyle.\n",
      "You probably need to get an updated matplotlibrc file from\n",
      "https://github.com/matplotlib/matplotlib/blob/v3.1.2/matplotlibrc.template\n",
      "or from the matplotlib source distribution\n"
     ]
    }
   ],
   "source": [
    "import os         \n",
    "import pathlib\n",
    "import collections\n",
    "import numpy as np\n",
    "import pandas as pd\n",
    "from tqdm import tqdm\n",
    "from os import listdir\n",
    "from pathlib import Path\n",
    "from astropy.io import fits\n",
    "from os.path import isfile, join\n",
    "\n",
    "import matplotlib.pyplot as plt\n",
    "%matplotlib widget\n",
    "\n",
    "datapath = Path(\"/data01/home/baroncelli/phd/DATA\")\n",
    "os.environ[\"DATA\"] = str(datapath)\n",
    "from RTAscience.cfg.Config import Config\n",
    "\n",
    "from RTAscience.lib.RTAUtils import get_pointing\n",
    "from rtapipe.lib.datasource.photometry import Photometry\n",
    "from rtapipe.lib.plotting.photometryplot import PhotometrySinglePlot, PhotometrySubPlots"
   ]
  },
  {
   "cell_type": "markdown",
   "id": "potential-proceeding",
   "metadata": {},
   "source": [
    "## Directories"
   ]
  },
  {
   "cell_type": "code",
   "execution_count": 2,
   "id": "mobile-welcome",
   "metadata": {},
   "outputs": [
    {
     "data": {
      "text/plain": [
       "PosixPath('/data01/home/baroncelli/phd/repos/phd/rtapipe/analysis')"
      ]
     },
     "execution_count": 2,
     "metadata": {},
     "output_type": "execute_result"
    }
   ],
   "source": [
    "currentdir = pathlib.Path().absolute()\n",
    "currentdir"
   ]
  },
  {
   "cell_type": "code",
   "execution_count": 3,
   "id": "handed-leonard",
   "metadata": {},
   "outputs": [
    {
     "data": {
      "text/plain": [
       "PosixPath('/data01/home/baroncelli/phd/DATA/obs')"
      ]
     },
     "execution_count": 3,
     "metadata": {},
     "output_type": "execute_result"
    }
   ],
   "source": [
    "obsdir = datapath.joinpath(\"obs\")\n",
    "obsdir"
   ]
  },
  {
   "cell_type": "code",
   "execution_count": 4,
   "id": "spare-floating",
   "metadata": {},
   "outputs": [
    {
     "data": {
      "text/plain": [
       "PosixPath('/data01/home/baroncelli/phd/repos/phd/rtapipe/analysis/notebook_dataset_generation_for_models_output')"
      ]
     },
     "execution_count": 4,
     "metadata": {},
     "output_type": "execute_result"
    }
   ],
   "source": [
    "outdir = currentdir.joinpath(\"notebook_dataset_generation_for_models_output\")\n",
    "outdir"
   ]
  },
  {
   "cell_type": "markdown",
   "id": "increased-story",
   "metadata": {},
   "source": [
    "## Utility function"
   ]
  },
  {
   "cell_type": "code",
   "execution_count": 5,
   "id": "yellow-christian",
   "metadata": {},
   "outputs": [],
   "source": [
    "def getInput(dataFolder, outdir, howMany=-1):\n",
    "\n",
    "    cfg = Config(dataFolder.joinpath(\"config.yaml\"))\n",
    "    \n",
    "    # get pointing from template\n",
    "    runid = cfg.get('runid')\n",
    "    template =  os.path.join(datapath, f'templates/{runid}.fits')\n",
    "    pointing = get_pointing(template)\n",
    "    \n",
    "    # get files\n",
    "    datafiles = [join(dataFolder, f) for f in listdir(dataFolder) \n",
    "                    if isfile(join(dataFolder, f)) and \".yaml\" not in f and \".log\" not in f and \"IRF\" not in f] \n",
    "    \n",
    "    # get simulation parameters\n",
    "    sim_params = []\n",
    "    for datafile in datafiles:\n",
    "        \n",
    "        conf = {\n",
    "            'input_file': str(datafile),\n",
    "            'output_dir': str(outdir),\n",
    "            'simtype' : cfg.get('simtype'),\n",
    "            'runid' : cfg.get('runid'),\n",
    "            't_window_start': 0,\n",
    "            't_window_stop': cfg.get('tobs'),\n",
    "            'e_window_start': cfg.get('emin'),\n",
    "            'e_window_stop': cfg.get('emax'),\n",
    "            'onset' : cfg.get('onset')\n",
    "        }\n",
    "        sim_params.append(conf)\n",
    "\n",
    "        if len(sim_params) >= howMany:\n",
    "            break\n",
    "            \n",
    "            \n",
    "    print(f\"Found: {len(sim_params)} files, pointing is: {pointing}\")\n",
    "\n",
    "    return sim_params, pointing\n"
   ]
  },
  {
   "cell_type": "markdown",
   "id": "handy-suspect",
   "metadata": {},
   "source": [
    "## Background only "
   ]
  },
  {
   "cell_type": "code",
   "execution_count": 6,
   "id": "super-garbage",
   "metadata": {},
   "outputs": [],
   "source": [
    "inputd = obsdir.joinpath(\"autoencoder/run0406_ID000126_OK_bkg_only\")"
   ]
  },
  {
   "cell_type": "code",
   "execution_count": 7,
   "id": "intellectual-strength",
   "metadata": {},
   "outputs": [],
   "source": [
    "outd = outdir.joinpath(\"run0406_ID000126_OK_bkg_only\")"
   ]
  },
  {
   "cell_type": "code",
   "execution_count": 8,
   "id": "interracial-controversy",
   "metadata": {},
   "outputs": [],
   "source": [
    "photometry = Photometry()\n",
    "\n",
    "photometry_params = {\n",
    "    \n",
    "    # integration parameters for time\n",
    "    't_window_size': 10,\n",
    "    't_window_step': 10,\n",
    "    \n",
    "    # integration parameters for energy    \n",
    "    'e_window_size': 0.001,\n",
    "    'e_window_step': 0.001,    \n",
    "\n",
    "    # Parameters that can change too    \n",
    "    'pointing' : None,\n",
    "    'region_radius': 1.0,\n",
    "    \n",
    "    # Other settings\n",
    "    'plot' : 1,\n",
    "    'override': 1\n",
    "}"
   ]
  },
  {
   "cell_type": "code",
   "execution_count": 12,
   "id": "early-discussion",
   "metadata": {},
   "outputs": [
    {
     "name": "stdout",
     "output_type": "stream",
     "text": [
      "Found: 101 files, pointing is: (33.057, -51.841)\n",
      "pointing:  (33.057, -51.841)\n"
     ]
    }
   ],
   "source": [
    "sim_params, pointing = getInput(inputd, outdir=outd, howMany=101)\n",
    "print(\"pointing: \",pointing)\n",
    "photometry_params['pointing'] = pointing"
   ]
  },
  {
   "cell_type": "code",
   "execution_count": 13,
   "id": "metric-mainland",
   "metadata": {},
   "outputs": [
    {
     "name": "stdout",
     "output_type": "stream",
     "text": [
      "photometry_params\n",
      "\tt_window_size: 10\n",
      "\tt_window_step: 10\n",
      "\te_window_size: 0.001\n",
      "\te_window_step: 0.001\n",
      "\tpointing: (33.057, -51.841)\n",
      "\tregion_radius: 1.0\n",
      "\tplot: 1\n",
      "\toverride: 1\n",
      "sim_params[0]\n",
      "\tinput_file: /data01/home/baroncelli/phd/DATA/obs/autoencoder/run0406_ID000126_OK_bkg_only/bkg000018.fits\n",
      "\toutput_dir: /data01/home/baroncelli/phd/repos/phd/rtapipe/analysis/notebook_dataset_generation_for_models_output/run0406_ID000126_OK_bkg_only\n",
      "\tsimtype: bkg\n",
      "\trunid: run0406_ID000126\n",
      "\tt_window_start: 0\n",
      "\tt_window_stop: 1800\n",
      "\te_window_start: 0.03\n",
      "\te_window_stop: 0.15\n",
      "\tonset: 0\n"
     ]
    }
   ],
   "source": [
    "print(\"photometry_params\")\n",
    "_ = [print(f\"\\t{k}: {v}\") for k,v in photometry_params.items()]\n",
    "print(\"sim_params[0]\")\n",
    "_ = [print(f\"\\t{k}: {v}\") for k,v in sim_params[0].items()]"
   ]
  },
  {
   "cell_type": "code",
   "execution_count": 14,
   "id": "manual-planet",
   "metadata": {
    "scrolled": false
   },
   "outputs": [
    {
     "name": "stderr",
     "output_type": "stream",
     "text": [
      "100%|██████████| 100/100 [01:49<00:00,  1.09s/it]\n"
     ]
    }
   ],
   "source": [
    "# singleplot = PhotometrySinglePlot(title=\"Multiple trials\")\n",
    "for i in tqdm(range(1, 101)):\n",
    "    csv_data_t = photometry.integrate(photometry_params, sim_params[i], integration=\"t\").pop(0)\n",
    "    # _ = singleplot.addData(csv_data_t, photometry_params, sim_params[i], [f\"trial {i}\"], \"t\")\n"
   ]
  },
  {
   "cell_type": "markdown",
   "id": "friendly-vintage",
   "metadata": {},
   "source": [
    "## GRB after onset"
   ]
  },
  {
   "cell_type": "code",
   "execution_count": 15,
   "id": "operational-charleston",
   "metadata": {},
   "outputs": [],
   "source": [
    "inputd = obsdir.joinpath(\"autoencoder/run0406_ID000126_OK_bkg_src\")"
   ]
  },
  {
   "cell_type": "code",
   "execution_count": 16,
   "id": "powered-fairy",
   "metadata": {},
   "outputs": [],
   "source": [
    "outd = outdir.joinpath(\"run0406_ID000126_OK_bkg_src\")"
   ]
  },
  {
   "cell_type": "code",
   "execution_count": 17,
   "id": "express-diversity",
   "metadata": {},
   "outputs": [],
   "source": [
    "photometry = Photometry()\n",
    "\n",
    "photometry_params = {\n",
    "    \n",
    "    # integration parameters for time\n",
    "    't_window_size': 10,\n",
    "    't_window_step': 10,\n",
    "    \n",
    "    # integration parameters for energy    \n",
    "    'e_window_size': 0.001,\n",
    "    'e_window_step': 0.001,    \n",
    "\n",
    "    # Parameters that can change too    \n",
    "    'pointing' : None,\n",
    "    'region_radius': 1.0,\n",
    "    \n",
    "    # Other settings\n",
    "    'plot' : 1,\n",
    "    'override': 1\n",
    "}"
   ]
  },
  {
   "cell_type": "code",
   "execution_count": 18,
   "id": "rational-intent",
   "metadata": {},
   "outputs": [
    {
     "name": "stdout",
     "output_type": "stream",
     "text": [
      "Found: 101 files, pointing is: (33.057, -51.841)\n",
      "pointing:  (33.057, -51.841)\n"
     ]
    }
   ],
   "source": [
    "sim_params, pointing = getInput(inputd, outdir=outd, howMany=101)\n",
    "print(\"pointing: \",pointing)\n",
    "photometry_params['pointing'] = pointing"
   ]
  },
  {
   "cell_type": "code",
   "execution_count": 19,
   "id": "straight-introduction",
   "metadata": {},
   "outputs": [
    {
     "name": "stdout",
     "output_type": "stream",
     "text": [
      "photometry_params\n",
      "\tt_window_size: 10\n",
      "\tt_window_step: 10\n",
      "\te_window_size: 0.001\n",
      "\te_window_step: 0.001\n",
      "\tpointing: (33.057, -51.841)\n",
      "\tregion_radius: 1.0\n",
      "\tplot: 1\n",
      "\toverride: 1\n",
      "sim_params[0]\n",
      "\tinput_file: /data01/home/baroncelli/phd/DATA/obs/autoencoder/run0406_ID000126_OK_bkg_src/ebl000114.fits\n",
      "\toutput_dir: /data01/home/baroncelli/phd/repos/phd/rtapipe/analysis/notebook_dataset_generation_for_models_output/run0406_ID000126_OK_bkg_src\n",
      "\tsimtype: grb\n",
      "\trunid: run0406_ID000126\n",
      "\tt_window_start: 0\n",
      "\tt_window_stop: 1800\n",
      "\te_window_start: 0.03\n",
      "\te_window_stop: 0.15\n",
      "\tonset: 100\n"
     ]
    }
   ],
   "source": [
    "print(\"photometry_params\")\n",
    "_ = [print(f\"\\t{k}: {v}\") for k,v in photometry_params.items()]\n",
    "print(\"sim_params[0]\")\n",
    "_ = [print(f\"\\t{k}: {v}\") for k,v in sim_params[0].items()]"
   ]
  },
  {
   "cell_type": "code",
   "execution_count": 20,
   "id": "unlike-looking",
   "metadata": {
    "scrolled": false
   },
   "outputs": [
    {
     "name": "stderr",
     "output_type": "stream",
     "text": [
      "100%|██████████| 100/100 [01:49<00:00,  1.10s/it]\n"
     ]
    }
   ],
   "source": [
    "# singleplot = PhotometrySinglePlot(title=\"Multiple trials\")\n",
    "for i in tqdm(range(1,101)):\n",
    "    csv_data_t = photometry.integrate(photometry_params, sim_params[i], integration=\"t\").pop(0)  \n",
    "    # _ = singleplot.addData(csv_data_t, photometry_params, sim_params[i], [f\"trial {i}\"], \"t\")"
   ]
  }
 ],
 "metadata": {
  "kernelspec": {
   "display_name": "Python 3",
   "language": "python",
   "name": "python3"
  },
  "language_info": {
   "codemirror_mode": {
    "name": "ipython",
    "version": 3
   },
   "file_extension": ".py",
   "mimetype": "text/x-python",
   "name": "python",
   "nbconvert_exporter": "python",
   "pygments_lexer": "ipython3",
   "version": "3.7.3"
  }
 },
 "nbformat": 4,
 "nbformat_minor": 5
}
