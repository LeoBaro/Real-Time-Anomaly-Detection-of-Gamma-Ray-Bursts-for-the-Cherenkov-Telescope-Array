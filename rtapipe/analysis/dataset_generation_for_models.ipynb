{
 "cells": [
  {
   "cell_type": "markdown",
   "id": "celtic-letters",
   "metadata": {},
   "source": [
    "# Notebook for datasets generation"
   ]
  },
  {
   "cell_type": "code",
   "execution_count": 7,
   "id": "mechanical-latex",
   "metadata": {},
   "outputs": [],
   "source": [
    "import os         \n",
    "import pathlib\n",
    "import collections\n",
    "import numpy as np\n",
    "import pandas as pd\n",
    "from tqdm import tqdm\n",
    "from pathlib import Path\n",
    "from astropy.io import fits\n",
    "\n",
    "import matplotlib.pyplot as plt\n",
    "%matplotlib widget\n",
    "\n",
    "from rtapipe.lib.utils import getInput\n",
    "from rtapipe.lib.datasource.photometry import Photometry\n",
    "from rtapipe.lib.plotting.photometryplot import PhotometrySinglePlot, PhotometrySubPlots"
   ]
  },
  {
   "cell_type": "markdown",
   "id": "weighted-strain",
   "metadata": {},
   "source": [
    "## Directories"
   ]
  },
  {
   "cell_type": "code",
   "execution_count": 8,
   "id": "artificial-speed",
   "metadata": {},
   "outputs": [],
   "source": [
    "datapath = Path(\"/data01/home/baroncelli/phd/DATA\")\n",
    "os.environ[\"DATA\"] = str(datapath)"
   ]
  },
  {
   "cell_type": "code",
   "execution_count": 9,
   "id": "reported-alloy",
   "metadata": {},
   "outputs": [
    {
     "data": {
      "text/plain": [
       "PosixPath('/data01/home/baroncelli/phd/DATA/obs')"
      ]
     },
     "execution_count": 9,
     "metadata": {},
     "output_type": "execute_result"
    }
   ],
   "source": [
    "obsdir = datapath.joinpath(\"obs\")\n",
    "obsdir"
   ]
  },
  {
   "cell_type": "code",
   "execution_count": 10,
   "id": "greenhouse-street",
   "metadata": {},
   "outputs": [
    {
     "data": {
      "text/plain": [
       "PosixPath('/data01/home/baroncelli/phd/repos/phd/rtapipe/analysis')"
      ]
     },
     "execution_count": 10,
     "metadata": {},
     "output_type": "execute_result"
    }
   ],
   "source": [
    "currentdir = pathlib.Path().absolute()\n",
    "currentdir"
   ]
  },
  {
   "cell_type": "code",
   "execution_count": 11,
   "id": "foreign-think",
   "metadata": {},
   "outputs": [
    {
     "data": {
      "text/plain": [
       "PosixPath('/data01/home/baroncelli/phd/repos/phd/rtapipe/analysis/notebook_dataset_generation_for_models_output_24_05_21')"
      ]
     },
     "execution_count": 11,
     "metadata": {},
     "output_type": "execute_result"
    }
   ],
   "source": [
    "outdir = currentdir.joinpath(\"notebook_dataset_generation_for_models_output_24_05_21\")\n",
    "outdir"
   ]
  },
  {
   "cell_type": "markdown",
   "id": "fluid-track",
   "metadata": {},
   "source": [
    "## Background only "
   ]
  },
  {
   "cell_type": "code",
   "execution_count": 12,
   "id": "wireless-collect",
   "metadata": {},
   "outputs": [],
   "source": [
    "inputd = obsdir.joinpath(\"simtype_bkg_os_0_tobs_1800_irf_South_z40_average_LST_30m_emin_0.03_emax_0.15_roi_2.5\")"
   ]
  },
  {
   "cell_type": "code",
   "execution_count": 13,
   "id": "stable-diesel",
   "metadata": {},
   "outputs": [],
   "source": [
    "outd = outdir.joinpath(\"run0406_ID000126_OK_bkg_only\")"
   ]
  },
  {
   "cell_type": "code",
   "execution_count": 14,
   "id": "powered-variable",
   "metadata": {},
   "outputs": [],
   "source": [
    "photometry = Photometry()\n",
    "\n",
    "photometry_params = {\n",
    "    \n",
    "    # integration parameters for time\n",
    "    't_window_size': 10,\n",
    "    't_window_step': 10,\n",
    "    \n",
    "    # integration parameters for energy    \n",
    "    'e_window_size': 0.001,\n",
    "    'e_window_step': 0.001,    \n",
    "\n",
    "    # Parameters that can change too    \n",
    "    'pointing' : None,\n",
    "    'region_radius': 1.0,\n",
    "    \n",
    "    # Other settings\n",
    "    'plot' : 1,\n",
    "    'override': 1\n",
    "}"
   ]
  },
  {
   "cell_type": "code",
   "execution_count": 15,
   "id": "standard-champagne",
   "metadata": {},
   "outputs": [
    {
     "name": "stdout",
     "output_type": "stream",
     "text": [
      "Found: 100 files, pointing is: (33.057, -51.841)\n",
      "pointing:  (33.057, -51.841)\n"
     ]
    }
   ],
   "source": [
    "sim_params, pointing = getInput(inputd, outdir=outd, howMany=101)\n",
    "print(\"pointing: \",pointing)\n",
    "photometry_params['pointing'] = pointing"
   ]
  },
  {
   "cell_type": "code",
   "execution_count": 16,
   "id": "complicated-brave",
   "metadata": {},
   "outputs": [
    {
     "name": "stdout",
     "output_type": "stream",
     "text": [
      "photometry_params\n",
      "\tt_window_size: 10\n",
      "\tt_window_step: 10\n",
      "\te_window_size: 0.001\n",
      "\te_window_step: 0.001\n",
      "\tpointing: (33.057, -51.841)\n",
      "\tregion_radius: 1.0\n",
      "\tplot: 1\n",
      "\toverride: 1\n",
      "sim_params[0]\n",
      "\tinput_file: /data01/home/baroncelli/phd/DATA/obs/simtype_bkg_os_0_tobs_1800_irf_South_z40_average_LST_30m_emin_0.03_emax_0.15_roi_2.5/bkg000015.fits\n",
      "\toutput_dir: /data01/home/baroncelli/phd/repos/phd/rtapipe/analysis/notebook_dataset_generation_for_models_output_24_05_21/run0406_ID000126_OK_bkg_only\n",
      "\tsimtype: bkg\n",
      "\trunid: run0406_ID000126\n",
      "\tt_window_start: 0\n",
      "\tt_window_stop: 1800\n",
      "\te_window_start: 0.03\n",
      "\te_window_stop: 0.15\n",
      "\tonset: 0\n"
     ]
    }
   ],
   "source": [
    "print(\"photometry_params\")\n",
    "_ = [print(f\"\\t{k}: {v}\") for k,v in photometry_params.items()]\n",
    "print(\"sim_params[0]\")\n",
    "_ = [print(f\"\\t{k}: {v}\") for k,v in sim_params[0].items()]"
   ]
  },
  {
   "cell_type": "code",
   "execution_count": 17,
   "id": "accomplished-madagascar",
   "metadata": {
    "scrolled": false
   },
   "outputs": [
    {
     "data": {
      "application/vnd.jupyter.widget-view+json": {
       "model_id": "92aef143e9ef4f518553e5da01175e55",
       "version_major": 2,
       "version_minor": 0
      },
      "text/plain": [
       "Canvas(toolbar=Toolbar(toolitems=[('Home', 'Reset original view', 'home', 'home'), ('Back', 'Back to previous …"
      ]
     },
     "metadata": {},
     "output_type": "display_data"
    },
    {
     "name": "stderr",
     "output_type": "stream",
     "text": [
      "100%|██████████| 3/3 [00:03<00:00,  1.21s/it]\n"
     ]
    }
   ],
   "source": [
    "singleplot = PhotometrySinglePlot(title=\"Multiple trials\")\n",
    "for i in tqdm(range(1, 4)):\n",
    "    csv_data_t = photometry.integrate(photometry_params, sim_params[i], integration=\"t\").pop(0)\n",
    "    _ = singleplot.addData(csv_data_t, photometry_params, [f\"trial {i}\"], \"t\")\n"
   ]
  },
  {
   "cell_type": "markdown",
   "id": "neural-consequence",
   "metadata": {},
   "source": [
    "## GRB after onset"
   ]
  },
  {
   "cell_type": "code",
   "execution_count": 12,
   "id": "commercial-faculty",
   "metadata": {},
   "outputs": [],
   "source": [
    "inputd = obsdir.joinpath(\"autoencoder/run0406_ID000126_OK_bkg_src\")"
   ]
  },
  {
   "cell_type": "code",
   "execution_count": 13,
   "id": "rotary-branch",
   "metadata": {},
   "outputs": [],
   "source": [
    "outd = outdir.joinpath(\"run0406_ID000126_OK_bkg_src\")"
   ]
  },
  {
   "cell_type": "code",
   "execution_count": 14,
   "id": "outer-wilson",
   "metadata": {},
   "outputs": [],
   "source": [
    "photometry = Photometry()\n",
    "\n",
    "photometry_params = {\n",
    "    \n",
    "    # integration parameters for time\n",
    "    't_window_size': 10,\n",
    "    't_window_step': 10,\n",
    "    \n",
    "    # integration parameters for energy    \n",
    "    'e_window_size': 0.001,\n",
    "    'e_window_step': 0.001,    \n",
    "\n",
    "    # Parameters that can change too    \n",
    "    'pointing' : None,\n",
    "    'region_radius': 1.0,\n",
    "    \n",
    "    # Other settings\n",
    "    'plot' : 1,\n",
    "    'override': 1\n",
    "}"
   ]
  },
  {
   "cell_type": "code",
   "execution_count": 15,
   "id": "distributed-drunk",
   "metadata": {},
   "outputs": [
    {
     "name": "stdout",
     "output_type": "stream",
     "text": [
      "Found: 101 files, pointing is: (33.057, -51.841)\n",
      "pointing:  (33.057, -51.841)\n"
     ]
    }
   ],
   "source": [
    "sim_params, pointing = getInput(inputd, outdir=outd, howMany=101)\n",
    "print(\"pointing: \",pointing)\n",
    "photometry_params['pointing'] = pointing"
   ]
  },
  {
   "cell_type": "code",
   "execution_count": 16,
   "id": "junior-crowd",
   "metadata": {},
   "outputs": [
    {
     "name": "stdout",
     "output_type": "stream",
     "text": [
      "photometry_params\n",
      "\tt_window_size: 10\n",
      "\tt_window_step: 10\n",
      "\te_window_size: 0.001\n",
      "\te_window_step: 0.001\n",
      "\tpointing: (33.057, -51.841)\n",
      "\tregion_radius: 1.0\n",
      "\tplot: 1\n",
      "\toverride: 1\n",
      "sim_params[0]\n",
      "\tinput_file: /data01/home/baroncelli/phd/DATA/obs/autoencoder/run0406_ID000126_OK_bkg_src/ebl000114.fits\n",
      "\toutput_dir: /data01/home/baroncelli/phd/repos/phd/rtapipe/analysis/notebook_dataset_generation_for_models_output/run0406_ID000126_OK_bkg_src\n",
      "\tsimtype: grb\n",
      "\trunid: run0406_ID000126\n",
      "\tt_window_start: 0\n",
      "\tt_window_stop: 1800\n",
      "\te_window_start: 0.03\n",
      "\te_window_stop: 0.15\n",
      "\tonset: 100\n"
     ]
    }
   ],
   "source": [
    "print(\"photometry_params\")\n",
    "_ = [print(f\"\\t{k}: {v}\") for k,v in photometry_params.items()]\n",
    "print(\"sim_params[0]\")\n",
    "_ = [print(f\"\\t{k}: {v}\") for k,v in sim_params[0].items()]"
   ]
  },
  {
   "cell_type": "code",
   "execution_count": 18,
   "id": "stone-mauritius",
   "metadata": {
    "scrolled": false
   },
   "outputs": [
    {
     "data": {
      "application/vnd.jupyter.widget-view+json": {
       "model_id": "12478becae7440fd87ace10417d9af9c",
       "version_major": 2,
       "version_minor": 0
      },
      "text/plain": [
       "Canvas(toolbar=Toolbar(toolitems=[('Home', 'Reset original view', 'home', 'home'), ('Back', 'Back to previous …"
      ]
     },
     "metadata": {},
     "output_type": "display_data"
    },
    {
     "name": "stderr",
     "output_type": "stream",
     "text": [
      "100%|██████████| 3/3 [00:03<00:00,  1.11s/it]\n"
     ]
    }
   ],
   "source": [
    "singleplot = PhotometrySinglePlot(title=\"Multiple trials\")\n",
    "for i in tqdm(range(1,4)):\n",
    "    csv_data_t = photometry.integrate(photometry_params, sim_params[i], integration=\"t\").pop(0)  \n",
    "    _ = singleplot.addData(csv_data_t, photometry_params, [f\"trial {i}\"], \"t\", vertical_line=True, vertical_line_x=sim_params[i][\"onset\"])\n",
    "    \n"
   ]
  },
  {
   "cell_type": "code",
   "execution_count": null,
   "id": "dependent-questionnaire",
   "metadata": {},
   "outputs": [],
   "source": []
  }
 ],
 "metadata": {
  "kernelspec": {
   "display_name": "Python 3",
   "language": "python",
   "name": "python3"
  },
  "language_info": {
   "codemirror_mode": {
    "name": "ipython",
    "version": 3
   },
   "file_extension": ".py",
   "mimetype": "text/x-python",
   "name": "python",
   "nbconvert_exporter": "python",
   "pygments_lexer": "ipython3",
   "version": "3.7.3"
  }
 },
 "nbformat": 4,
 "nbformat_minor": 5
}
