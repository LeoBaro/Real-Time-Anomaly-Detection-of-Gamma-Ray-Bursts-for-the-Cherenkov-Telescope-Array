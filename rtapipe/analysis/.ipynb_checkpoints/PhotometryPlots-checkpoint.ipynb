{
 "cells": [
  {
   "cell_type": "code",
   "execution_count": 1,
   "id": "regulated-score",
   "metadata": {},
   "outputs": [
    {
     "name": "stderr",
     "output_type": "stream",
     "text": [
      "\n",
      "Bad key \"text.kerning_factor\" on line 4 in\n",
      "/data01/home/baroncelli/.conda/envs/bphd/lib/python3.7/site-packages/matplotlib/mpl-data/stylelib/_classic_test_patch.mplstyle.\n",
      "You probably need to get an updated matplotlibrc file from\n",
      "https://github.com/matplotlib/matplotlib/blob/v3.1.2/matplotlibrc.template\n",
      "or from the matplotlib source distribution\n"
     ]
    },
    {
     "name": "stdout",
     "output_type": "stream",
     "text": [
      "/data01/home/baroncelli/phd/DATA/templates/grb_afterglow/GammaCatalogV1.0/run0406_ID000126_ebl.fits\n",
      "Filename: /data01/home/baroncelli/phd/DATA/obs/obs_st_bkg_tr_1_os_0_emin_0.03_emax_0.15_roi_2.5/backgrounds/bkg000001.fits\n",
      "No.    Name      Ver    Type      Cards   Dimensions   Format\n",
      "  0  PRIMARY       1 PrimaryHDU       8   ()      \n",
      "  1  EVENTS        1 BinTableHDU     88   349336R x 8C   [1J, 1D, 1E, 1E, 1E, 1E, 1E, 1J]   \n",
      "  2  GTI           1 BinTableHDU     20   1R x 2C   [1D, 1D]   \n",
      "ColDefs(\n",
      "    name = 'EVENT_ID'; format = '1J'; bscale = 1; bzero = 2147483648\n",
      "    name = 'TIME'; format = '1D'; unit = 's'\n",
      "    name = 'RA'; format = '1E'; unit = 'deg'\n",
      "    name = 'DEC'; format = '1E'; unit = 'deg'\n",
      "    name = 'ENERGY'; format = '1E'; unit = 'TeV'\n",
      "    name = 'DETX'; format = '1E'; unit = 'deg'\n",
      "    name = 'DETY'; format = '1E'; unit = 'deg'\n",
      "    name = 'MC_ID'; format = '1J'\n",
      ")\n"
     ]
    }
   ],
   "source": [
    "from pathlib import Path\n",
    "from astropy.io import fits\n",
    "import pandas as pd\n",
    "import numpy as np\n",
    "import collections\n",
    "import os\n",
    "import matplotlib.pyplot as plt\n",
    "%matplotlib widget\n",
    "\n",
    "datapath = Path(\"/data01/home/baroncelli/phd/DATA\")\n",
    "os.environ[\"DATA\"] = str(datapath)\n",
    "\n",
    "from RTAscience.cfg.Config import Config\n",
    "from RTAscience.lib.RTAUtils import get_pointing\n",
    "from rtapipe.pyscripts.phlists_to_photometry_plot import Photometry, PhotometrySinglePlot, PhotometrySubPlots"
   ]
  },
  {
   "cell_type": "code",
   "execution_count": 2,
   "id": "activated-prize",
   "metadata": {},
   "outputs": [],
   "source": [
    "def getInput(dataDir):\n",
    "    simFolder = datapath.joinpath(\"obs\",dataDir)\n",
    "    cfg = Config(simFolder.joinpath(\"config.yaml\"))\n",
    "    print(cfg.get(\"emin\"))\n",
    "    print(cfg.get(\"emax\"))\n",
    "    runid = cfg.get('runid')\n",
    "    template =  os.path.join(datapath, f'templates/{runid}.fits')\n",
    "    pointing = get_pointing(template)\n",
    "    if cfg.get(\"simtype\") == 'bkg':\n",
    "        inputFitsFile = simFolder.joinpath(\"backgrounds\",\"bkg000001.fits\")\n",
    "    else:\n",
    "        inputFitsFile = simFolder.joinpath(runid,\"ebl000001.fits\")    \n",
    "    return inputFitsFile, cfg, pointing"
   ]
  },
  {
   "cell_type": "code",
   "execution_count": 3,
   "id": "hawaiian-clerk",
   "metadata": {},
   "outputs": [],
   "source": [
    "inputFiles = [\"obs_st_grb_tr_1_os_1800_emin_0.03_emax_0.15_roi_2.5\", \"obs_st_bkg_tr_1_os_0_emin_0.03_emax_0.15_roi_2.5\"]"
   ]
  },
  {
   "cell_type": "code",
   "execution_count": 4,
   "id": "leading-friday",
   "metadata": {},
   "outputs": [
    {
     "name": "stdout",
     "output_type": "stream",
     "text": [
      "0.03\n",
      "0.15\n"
     ]
    }
   ],
   "source": [
    "inputFile, cfg, pointing = getInput(inputFiles[0])"
   ]
  },
  {
   "cell_type": "code",
   "execution_count": 5,
   "id": "median-elements",
   "metadata": {},
   "outputs": [
    {
     "name": "stdout",
     "output_type": "stream",
     "text": [
      "0.03\n",
      "0.15\n"
     ]
    }
   ],
   "source": [
    "inputFile_onlybkg, cfg_onlybkg, pointing_onlybkg = getInput(inputFiles[1]);"
   ]
  },
  {
   "cell_type": "code",
   "execution_count": 6,
   "id": "closed-charm",
   "metadata": {},
   "outputs": [
    {
     "name": "stdout",
     "output_type": "stream",
     "text": [
      "grb bkg\n",
      "1800 0\n"
     ]
    }
   ],
   "source": [
    "assert pointing == pointing_onlybkg\n",
    "assert inputFile != inputFile_onlybkg\n",
    "for key, val in cfg.cfg.items():\n",
    "    for subkey, subval in val.items():\n",
    "        if subval!=cfg_onlybkg.cfg[key][subkey]:\n",
    "            print(subval,cfg_onlybkg.cfg[key][subkey])\n"
   ]
  },
  {
   "cell_type": "markdown",
   "id": "cheap-prague",
   "metadata": {},
   "source": [
    "## The photometry class"
   ]
  },
  {
   "cell_type": "code",
   "execution_count": 7,
   "id": "received-hayes",
   "metadata": {},
   "outputs": [],
   "source": [
    "photometry = Photometry()"
   ]
  },
  {
   "cell_type": "markdown",
   "id": "comprehensive-circumstances",
   "metadata": {},
   "source": [
    "## Input parameters"
   ]
  },
  {
   "cell_type": "markdown",
   "id": "patient-delight",
   "metadata": {},
   "source": [
    "### Two simulation files: bkg only and bkg + source\n",
    "\n",
    "\n",
    "#### Template: run0406_ID000126\n",
    " Same template ==> same parameters, except:\n",
    "* input file\n",
    "* simtype\n",
    "* onset\n",
    "* obs_dir"
   ]
  },
  {
   "cell_type": "code",
   "execution_count": 8,
   "id": "several-viewer",
   "metadata": {},
   "outputs": [],
   "source": [
    "# background + source \n",
    "bkg_src_conf = {\n",
    "    'simtype' : cfg.get('simtype'),\n",
    "    'runid' : cfg.get('runid'),\n",
    "    'obs_dir': str(datapath.joinpath(\"obs\",inputFiles[0])),\n",
    "    't_window_start': 0,\n",
    "    't_window_stop': cfg.get('tobs'),\n",
    "    'e_window_start': cfg.get('emin'),\n",
    "    'e_window_stop': cfg.get('emax')\n",
    "}\n",
    "\n",
    "# background only\n",
    "bkg_only_conf = {\n",
    "    'simtype' : cfg_onlybkg.get('simtype'),\n",
    "    'runid' : cfg_onlybkg.get('runid'),\n",
    "    'obs_dir': str(datapath.joinpath(\"obs\",inputFiles[1])),\n",
    "    't_window_start': 0,\n",
    "    't_window_stop': cfg_onlybkg.get('tobs'),\n",
    "    'e_window_start': cfg_onlybkg.get('emin'),\n",
    "    'e_window_stop': cfg_onlybkg.get('emax'),\n",
    "}"
   ]
  },
  {
   "cell_type": "markdown",
   "id": "racial-geometry",
   "metadata": {},
   "source": [
    "## Photometry parameters"
   ]
  },
  {
   "cell_type": "code",
   "execution_count": 9,
   "id": "liquid-packing",
   "metadata": {},
   "outputs": [],
   "source": [
    "photometry_params = {\n",
    "    \n",
    "    # integration parameters for time\n",
    "    't_window_size': 25,\n",
    "    't_window_step': 25,\n",
    "    \n",
    "    # integration parameters for energy    \n",
    "    'e_window_size': 0.001,\n",
    "    'e_window_step': 0.001,    \n",
    "\n",
    "    # Parameters that can change too    \n",
    "    'pointing' : pointing,\n",
    "    'region_radius': 0.5,\n",
    "    \n",
    "    # Other settings\n",
    "    'plot' : 1,\n",
    "    'onset' : 1800,\n",
    "    'override': 1\n",
    "}"
   ]
  },
  {
   "cell_type": "markdown",
   "id": "mexican-explanation",
   "metadata": {},
   "source": [
    "## Generating some data"
   ]
  },
  {
   "cell_type": "markdown",
   "id": "compliant-character",
   "metadata": {},
   "source": [
    "### Integrate on time "
   ]
  },
  {
   "cell_type": "code",
   "execution_count": 10,
   "id": "dried-worthy",
   "metadata": {},
   "outputs": [
    {
     "name": "stdout",
     "output_type": "stream",
     "text": [
      "\n",
      "Produced:  /data01/home/baroncelli/phd/DATA/obs/obs_st_grb_tr_1_os_1800_emin_0.03_emax_0.15_roi_2.5/run0406_ID000126/ap/ebl000001_ap_mode_windowed-mode_integration_t_ucihayxjmstelak.csv\n"
     ]
    },
    {
     "data": {
      "text/html": [
       "<div>\n",
       "<style scoped>\n",
       "    .dataframe tbody tr th:only-of-type {\n",
       "        vertical-align: middle;\n",
       "    }\n",
       "\n",
       "    .dataframe tbody tr th {\n",
       "        vertical-align: top;\n",
       "    }\n",
       "\n",
       "    .dataframe thead th {\n",
       "        text-align: right;\n",
       "    }\n",
       "</style>\n",
       "<table border=\"1\" class=\"dataframe\">\n",
       "  <thead>\n",
       "    <tr style=\"text-align: right;\">\n",
       "      <th></th>\n",
       "      <th>VALMIN</th>\n",
       "      <th>VALMAX</th>\n",
       "      <th>VALCENTER</th>\n",
       "      <th>COUNTS</th>\n",
       "      <th>ERROR</th>\n",
       "    </tr>\n",
       "  </thead>\n",
       "  <tbody>\n",
       "    <tr>\n",
       "      <th>0</th>\n",
       "      <td>0</td>\n",
       "      <td>25</td>\n",
       "      <td>12.5</td>\n",
       "      <td>168</td>\n",
       "      <td>12.961481</td>\n",
       "    </tr>\n",
       "    <tr>\n",
       "      <th>1</th>\n",
       "      <td>25</td>\n",
       "      <td>50</td>\n",
       "      <td>37.5</td>\n",
       "      <td>177</td>\n",
       "      <td>13.304135</td>\n",
       "    </tr>\n",
       "    <tr>\n",
       "      <th>2</th>\n",
       "      <td>50</td>\n",
       "      <td>75</td>\n",
       "      <td>62.5</td>\n",
       "      <td>165</td>\n",
       "      <td>12.845233</td>\n",
       "    </tr>\n",
       "  </tbody>\n",
       "</table>\n",
       "</div>"
      ],
      "text/plain": [
       "   VALMIN  VALMAX  VALCENTER  COUNTS      ERROR\n",
       "0       0      25       12.5     168  12.961481\n",
       "1      25      50       37.5     177  13.304135\n",
       "2      50      75       62.5     165  12.845233"
      ]
     },
     "execution_count": 10,
     "metadata": {},
     "output_type": "execute_result"
    }
   ],
   "source": [
    "csv_data_t_bkg_src = photometry.integrate(photometry_params, bkg_src_conf, integration=\"t\")\n",
    "pd.read_csv(csv_data_t_bkg_src).head(3)"
   ]
  },
  {
   "cell_type": "code",
   "execution_count": 11,
   "id": "mental-vietnamese",
   "metadata": {},
   "outputs": [
    {
     "name": "stdout",
     "output_type": "stream",
     "text": [
      "\n",
      "Produced:  /data01/home/baroncelli/phd/DATA/obs/obs_st_bkg_tr_1_os_0_emin_0.03_emax_0.15_roi_2.5/backgrounds/ap/bkg000001_ap_mode_windowed-mode_integration_t_tujsqpmwrfgotvy.csv\n"
     ]
    }
   ],
   "source": [
    "csv_data_t_bkg_only = photometry.integrate(photometry_params, bkg_only_conf, integration=\"t\")"
   ]
  },
  {
   "cell_type": "markdown",
   "id": "italic-strike",
   "metadata": {},
   "source": [
    "### Integrate on energy"
   ]
  },
  {
   "cell_type": "code",
   "execution_count": 12,
   "id": "innovative-powder",
   "metadata": {},
   "outputs": [
    {
     "name": "stdout",
     "output_type": "stream",
     "text": [
      "\n",
      "Produced:  /data01/home/baroncelli/phd/DATA/obs/obs_st_grb_tr_1_os_1800_emin_0.03_emax_0.15_roi_2.5/run0406_ID000126/ap/ebl000001_ap_mode_windowed-mode_integration_e_chkgdjasvcgxxbv.csv\n"
     ]
    }
   ],
   "source": [
    "csv_data_e_bkg_src = photometry.integrate(photometry_params, bkg_src_conf, integration=\"e\")"
   ]
  },
  {
   "cell_type": "code",
   "execution_count": 13,
   "id": "discrete-romania",
   "metadata": {},
   "outputs": [
    {
     "name": "stdout",
     "output_type": "stream",
     "text": [
      "\n",
      "Produced:  /data01/home/baroncelli/phd/DATA/obs/obs_st_bkg_tr_1_os_0_emin_0.03_emax_0.15_roi_2.5/backgrounds/ap/bkg000001_ap_mode_windowed-mode_integration_e_zitlcbabyhinllt.csv\n"
     ]
    }
   ],
   "source": [
    "csv_data_e_bkg_only = photometry.integrate(photometry_params, bkg_only_conf, integration=\"e\")"
   ]
  },
  {
   "cell_type": "markdown",
   "id": "historical-laundry",
   "metadata": {},
   "source": [
    "## Plotting the data"
   ]
  },
  {
   "cell_type": "markdown",
   "id": "aggressive-tuesday",
   "metadata": {},
   "source": [
    "### Time integration"
   ]
  },
  {
   "cell_type": "code",
   "execution_count": null,
   "id": "nasty-article",
   "metadata": {
    "scrolled": false
   },
   "outputs": [],
   "source": [
    "singleplot_t = PhotometrySinglePlot()\n",
    "_ = singleplot_t.addData(csv_data_t_bkg_src, photometry_params, [\"bkg+src\"], \"t\")\n",
    "_ = singleplot_t.addData(csv_data_t_bkg_only, photometry_params, [\"bkg only\"], \"t\")"
   ]
  },
  {
   "cell_type": "code",
   "execution_count": null,
   "id": "nuclear-triumph",
   "metadata": {},
   "outputs": [],
   "source": [
    "multiplot_t = PhotometrySubPlots()\n",
    "_ = multiplot_t.addData(csv_data_t_bkg_src, photometry_params, [\"bkg+src\"], \"t\")\n",
    "_ = multiplot_t.addData(csv_data_t_bkg_only, photometry_params, [\"bkg only\"], \"t\")\n"
   ]
  },
  {
   "cell_type": "markdown",
   "id": "contrary-jacksonville",
   "metadata": {},
   "source": [
    "## Energy integration"
   ]
  },
  {
   "cell_type": "code",
   "execution_count": null,
   "id": "ruled-bridal",
   "metadata": {},
   "outputs": [],
   "source": [
    "singleplot_e = PhotometrySinglePlot()\n",
    "singleplot_e.addData(csv_data_e_bkg_src, photometry_params, [\"bkg+src\"], \"e\")\n",
    "singleplot_e.addData(csv_data_e_bkg_only, photometry_params, [\"bkg only\"], \"e\")"
   ]
  },
  {
   "cell_type": "code",
   "execution_count": null,
   "id": "literary-christianity",
   "metadata": {},
   "outputs": [],
   "source": [
    "multiplot_e = PhotometrySubPlots()\n",
    "_ = multiplot_e.addData(csv_data_e_bkg_src, photometry_params, [\"bkg+src\"], \"e\")\n",
    "_ = multiplot_e.addData(csv_data_e_bkg_only, photometry_params, [\"bkg only\"], \"e\")"
   ]
  },
  {
   "cell_type": "markdown",
   "id": "rational-missile",
   "metadata": {},
   "source": [
    "## Integration on time with multiple window sizes and background baseline"
   ]
  },
  {
   "cell_type": "code",
   "execution_count": 15,
   "id": "limiting-chest",
   "metadata": {
    "scrolled": true
   },
   "outputs": [
    {
     "data": {
      "application/vnd.jupyter.widget-view+json": {
       "model_id": "a3681f1cd80d430593e71915f5ecea98",
       "version_major": 2,
       "version_minor": 0
      },
      "text/plain": [
       "Canvas(toolbar=Toolbar(toolitems=[('Home', 'Reset original view', 'home', 'home'), ('Back', 'Back to previous …"
      ]
     },
     "metadata": {},
     "output_type": "display_data"
    },
    {
     "data": {
      "application/vnd.jupyter.widget-view+json": {
       "model_id": "d66020da15d049b18abafcaaf8446adb",
       "version_major": 2,
       "version_minor": 0
      },
      "text/plain": [
       "Canvas(toolbar=Toolbar(toolitems=[('Home', 'Reset original view', 'home', 'home'), ('Back', 'Back to previous …"
      ]
     },
     "metadata": {},
     "output_type": "display_data"
    },
    {
     "data": {
      "application/vnd.jupyter.widget-view+json": {
       "model_id": "5241fee580aa47b7ada3aa1383b0e1a2",
       "version_major": 2,
       "version_minor": 0
      },
      "text/plain": [
       "Canvas(toolbar=Toolbar(toolitems=[('Home', 'Reset original view', 'home', 'home'), ('Back', 'Back to previous …"
      ]
     },
     "metadata": {},
     "output_type": "display_data"
    },
    {
     "name": "stdout",
     "output_type": "stream",
     "text": [
      "\n",
      "Produced:  /data01/home/baroncelli/phd/DATA/obs/obs_st_grb_tr_1_os_1800_emin_0.03_emax_0.15_roi_2.5/run0406_ID000126/ap/ebl000001_ap_mode_windowed-mode_integration_t_onazkmifbnptbvr.csv\n",
      "\n",
      "Produced:  /data01/home/baroncelli/phd/DATA/obs/obs_st_bkg_tr_1_os_0_emin_0.03_emax_0.15_roi_2.5/backgrounds/ap/bkg000001_ap_mode_windowed-mode_integration_t_zwxawypalgqbkiu.csv\n",
      "\n",
      "Produced:  /data01/home/baroncelli/phd/DATA/obs/obs_st_grb_tr_1_os_1800_emin_0.03_emax_0.15_roi_2.5/run0406_ID000126/ap/ebl000001_ap_mode_windowed-mode_integration_t_ouhhphdynuhfuxm.csv\n",
      "\n",
      "Produced:  /data01/home/baroncelli/phd/DATA/obs/obs_st_bkg_tr_1_os_0_emin_0.03_emax_0.15_roi_2.5/backgrounds/ap/bkg000001_ap_mode_windowed-mode_integration_t_uwngrxjdlgihxbw.csv\n",
      "\n",
      "Produced:  /data01/home/baroncelli/phd/DATA/obs/obs_st_grb_tr_1_os_1800_emin_0.03_emax_0.15_roi_2.5/run0406_ID000126/ap/ebl000001_ap_mode_windowed-mode_integration_t_tdpudmrdooguwuk.csv\n",
      "\n",
      "Produced:  /data01/home/baroncelli/phd/DATA/obs/obs_st_bkg_tr_1_os_0_emin_0.03_emax_0.15_roi_2.5/backgrounds/ap/bkg000001_ap_mode_windowed-mode_integration_t_wkniatijfzwkwwi.csv\n",
      "\n",
      "Produced:  /data01/home/baroncelli/phd/DATA/obs/obs_st_grb_tr_1_os_1800_emin_0.03_emax_0.15_roi_2.5/run0406_ID000126/ap/ebl000001_ap_mode_windowed-mode_integration_t_gyhzuzzckionrat.csv\n",
      "\n",
      "Produced:  /data01/home/baroncelli/phd/DATA/obs/obs_st_bkg_tr_1_os_0_emin_0.03_emax_0.15_roi_2.5/backgrounds/ap/bkg000001_ap_mode_windowed-mode_integration_t_udfnveafvpgaine.csv\n"
     ]
    }
   ],
   "source": [
    "# first plot: background + source on multiple window sizes\n",
    "singleplot_bgksrc = PhotometrySinglePlot()\n",
    "\n",
    "# second plot: background only on multiple window sizes\n",
    "singleplot_bgk = PhotometrySinglePlot()\n",
    "\n",
    "# third plot: background + source on multiple window sizes (separate subplots with background baseline)\n",
    "multiplot_bgksrc = PhotometrySubPlots()\n",
    "\n",
    "photometry_params_tmp = photometry_params.copy()\n",
    "\n",
    "for ws in [10, 25, 50, 75]:\n",
    "\n",
    "    # source+background\n",
    "    photometry_params_tmp[\"t_window_size\"] = ws\n",
    "    photometry_params_tmp[\"t_window_step\"] = ws \n",
    "    csv_data_t_bkg_src = photometry.integrate(photometry_params_tmp, bkg_src_conf, integration=\"t\")\n",
    "    \n",
    "    \n",
    "    # background only baseline\n",
    "    photometry_params_tmp[\"t_window_size\"] = ws\n",
    "    photometry_params_tmp[\"t_window_step\"] = ws\n",
    "    csv_data_t_bkg = photometry.integrate(photometry_params_tmp, bkg_only_conf, integration=\"t\")\n",
    "    \n",
    "\n",
    "    _ = singleplot_bgksrc.addData(csv_data_t_bkg_src, photometry_params_tmp, [\"t_window_size\",\"t_window_step\"], \"t\")\n",
    "\n",
    "    _ = singleplot_bgk.addData(csv_data_t_bkg, photometry_params_tmp, [\"t_window_size\",\"t_window_step\"], \"t\")\n",
    "    \n",
    "    \n",
    "    _ = multiplot_bgksrc.addData(csv_data_t_bkg_src, photometry_params_tmp, [\"t_window_size\",\"t_window_step\"], \"t\")\n",
    "    _ = multiplot_bgksrc.addData(csv_data_t_bkg, photometry_params_tmp, [\"t_window_size\",\"t_window_step\"], \"t\", as_baseline=True)\n",
    "    "
   ]
  },
  {
   "cell_type": "code",
   "execution_count": 16,
   "id": "sapphire-scanner",
   "metadata": {},
   "outputs": [
    {
     "name": "stdout",
     "output_type": "stream",
     "text": [
      "Produced:  ./singleplot_bgksrc.png\n",
      "Produced:  ./singleplot_bgk.png\n",
      "Produced:  ./multiplot_bgksrc.png\n"
     ]
    }
   ],
   "source": [
    "singleplot_bgksrc.save(\"./singleplot_bgksrc\")\n",
    "singleplot_bgksrc.destroy()\n",
    "singleplot_bgk.save(\"./singleplot_bgk\")\n",
    "singleplot_bgk.destroy()\n",
    "multiplot_bgksrc.save(\"./multiplot_bgksrc\")\n",
    "multiplot_bgksrc.destroy()"
   ]
  },
  {
   "cell_type": "markdown",
   "id": "hybrid-breakdown",
   "metadata": {},
   "source": [
    "## Integration on energy with multiple window sizes and background baseline"
   ]
  },
  {
   "cell_type": "code",
   "execution_count": 18,
   "id": "quick-enough",
   "metadata": {
    "scrolled": false
   },
   "outputs": [
    {
     "data": {
      "application/vnd.jupyter.widget-view+json": {
       "model_id": "c3f26fa83426482a910f7af4c7eb1dc1",
       "version_major": 2,
       "version_minor": 0
      },
      "text/plain": [
       "Canvas(toolbar=Toolbar(toolitems=[('Home', 'Reset original view', 'home', 'home'), ('Back', 'Back to previous …"
      ]
     },
     "metadata": {},
     "output_type": "display_data"
    },
    {
     "data": {
      "application/vnd.jupyter.widget-view+json": {
       "model_id": "5ae46789308340f8a91a82b611dffa43",
       "version_major": 2,
       "version_minor": 0
      },
      "text/plain": [
       "Canvas(toolbar=Toolbar(toolitems=[('Home', 'Reset original view', 'home', 'home'), ('Back', 'Back to previous …"
      ]
     },
     "metadata": {},
     "output_type": "display_data"
    },
    {
     "data": {
      "application/vnd.jupyter.widget-view+json": {
       "model_id": "36311b738a3349938d300daf4acb9a73",
       "version_major": 2,
       "version_minor": 0
      },
      "text/plain": [
       "Canvas(toolbar=Toolbar(toolitems=[('Home', 'Reset original view', 'home', 'home'), ('Back', 'Back to previous …"
      ]
     },
     "metadata": {},
     "output_type": "display_data"
    },
    {
     "name": "stdout",
     "output_type": "stream",
     "text": [
      "\n",
      "Produced:  /data01/home/baroncelli/phd/DATA/obs/obs_st_grb_tr_1_os_1800_emin_0.03_emax_0.15_roi_2.5/run0406_ID000126/ap/ebl000001_ap_mode_windowed-mode_integration_e_itkmhfqgqepszga.csv\n",
      "\n",
      "Produced:  /data01/home/baroncelli/phd/DATA/obs/obs_st_bkg_tr_1_os_0_emin_0.03_emax_0.15_roi_2.5/backgrounds/ap/bkg000001_ap_mode_windowed-mode_integration_e_wlwecvfwbyoflvo.csv\n",
      "\n",
      "Produced:  /data01/home/baroncelli/phd/DATA/obs/obs_st_grb_tr_1_os_1800_emin_0.03_emax_0.15_roi_2.5/run0406_ID000126/ap/ebl000001_ap_mode_windowed-mode_integration_e_vmjudbkgfrfikwq.csv\n",
      "\n",
      "Produced:  /data01/home/baroncelli/phd/DATA/obs/obs_st_bkg_tr_1_os_0_emin_0.03_emax_0.15_roi_2.5/backgrounds/ap/bkg000001_ap_mode_windowed-mode_integration_e_aeveohhqvryrnym.csv\n",
      "\n",
      "Produced:  /data01/home/baroncelli/phd/DATA/obs/obs_st_grb_tr_1_os_1800_emin_0.03_emax_0.15_roi_2.5/run0406_ID000126/ap/ebl000001_ap_mode_windowed-mode_integration_e_giydliugoujwfvm.csv\n",
      "\n",
      "Produced:  /data01/home/baroncelli/phd/DATA/obs/obs_st_bkg_tr_1_os_0_emin_0.03_emax_0.15_roi_2.5/backgrounds/ap/bkg000001_ap_mode_windowed-mode_integration_e_oxeibwglrotwrjy.csv\n",
      "\n",
      "Produced:  /data01/home/baroncelli/phd/DATA/obs/obs_st_grb_tr_1_os_1800_emin_0.03_emax_0.15_roi_2.5/run0406_ID000126/ap/ebl000001_ap_mode_windowed-mode_integration_e_beyskgqxdvitxoa.csv\n",
      "\n",
      "Produced:  /data01/home/baroncelli/phd/DATA/obs/obs_st_bkg_tr_1_os_0_emin_0.03_emax_0.15_roi_2.5/backgrounds/ap/bkg000001_ap_mode_windowed-mode_integration_e_mglrmhmnltnohlg.csv\n"
     ]
    }
   ],
   "source": [
    "# first plot: background + source on multiple window sizes\n",
    "singleplot_bgksrc = PhotometrySinglePlot()\n",
    "\n",
    "# second plot: background only on multiple window sizes\n",
    "singleplot_bgk = PhotometrySinglePlot()\n",
    "\n",
    "# third plot: background + source on multiple window sizes (separate subplots with background baseline)\n",
    "multiplot_bgksrc = PhotometrySubPlots()\n",
    "\n",
    "photometry_params_tmp = photometry_params.copy()\n",
    "\n",
    "for ee in [0.001, 0.01, 0.02, 0.03]:\n",
    "\n",
    "    # source+background\n",
    "    photometry_params_tmp[\"e_window_size\"] = ee\n",
    "    photometry_params_tmp[\"e_window_step\"] = ee \n",
    "    csv_data_t_bkg_src = photometry.integrate(photometry_params_tmp, bkg_src_conf, integration=\"e\")\n",
    "    \n",
    "    \n",
    "    # background only baseline\n",
    "    photometry_params_tmp[\"e_window_size\"] = ee\n",
    "    photometry_params_tmp[\"e_window_step\"] = ee\n",
    "    csv_data_t_bkg = photometry.integrate(photometry_params_tmp, bkg_only_conf, integration=\"e\")\n",
    "    \n",
    "\n",
    "    _ = singleplot_bgksrc.addData(csv_data_t_bkg_src, photometry_params_tmp, [\"e_window_size\",\"e_window_step\"], \"e\")\n",
    "\n",
    "    _ = singleplot_bgk.addData(csv_data_t_bkg, photometry_params_tmp, [\"e_window_size\",\"e_window_step\"], \"e\")\n",
    "    \n",
    "    \n",
    "    _ = multiplot_bgksrc.addData(csv_data_t_bkg_src, photometry_params_tmp, [\"t_window_size\",\"t_window_step\"], \"e\")\n",
    "    _ = multiplot_bgksrc.addData(csv_data_t_bkg, photometry_params_tmp, [\"t_window_size\",\"t_window_step\"], \"e\", as_baseline=True)\n",
    "    "
   ]
  },
  {
   "cell_type": "code",
   "execution_count": 19,
   "id": "waiting-plaintiff",
   "metadata": {},
   "outputs": [
    {
     "name": "stdout",
     "output_type": "stream",
     "text": [
      "Produced:  ./singleplot_bgksrc.png\n",
      "Produced:  ./singleplot_bgk.png\n",
      "Produced:  ./multiplot_bgksrc.png\n"
     ]
    }
   ],
   "source": [
    "singleplot_bgksrc.save(\"./singleplot_bgksrc\")\n",
    "singleplot_bgksrc.destroy()\n",
    "singleplot_bgk.save(\"./singleplot_bgk\")\n",
    "singleplot_bgk.destroy()\n",
    "multiplot_bgksrc.save(\"./multiplot_bgksrc\")\n",
    "multiplot_bgksrc.destroy()"
   ]
  },
  {
   "cell_type": "markdown",
   "id": "designing-civilization",
   "metadata": {},
   "source": [
    "## Integration on time with multiple region radius values and background baseline\n",
    " "
   ]
  },
  {
   "cell_type": "code",
   "execution_count": null,
   "id": "precise-peace",
   "metadata": {},
   "outputs": [],
   "source": [
    "# first plot: background + source on multiple window sizes\n",
    "singleplot_bgksrc = PhotometrySinglePlot()\n",
    "\n",
    "# second plot: background only on multiple window sizes\n",
    "singleplot_bgk = PhotometrySinglePlot()\n",
    "\n",
    "# third plot: background + source on multiple window sizes (separate subplots with background baseline)\n",
    "multiplot_bgksrc = PhotometrySubPlots()\n",
    "\n",
    "photometry_params_tmp = photometry_params.copy()\n",
    "\n",
    "for rr in [0.1, 1.0, 2.0, 3.0]:\n",
    "\n",
    "    # source+background\n",
    "    photometry_params_tmp[\"region_radius\"] = ws\n",
    "    photometry_params_tmp[\"region_radius\"] = ws \n",
    "    csv_data_t_bkg_src = photometry.integrate(photometry_params_tmp, bkg_src_conf, integration=\"t\")\n",
    "    \n",
    "    \n",
    "    # background only baseline\n",
    "    photometry_params_tmp[\"region_radius\"] = ws\n",
    "    photometry_params_tmp[\"region_radius\"] = ws\n",
    "    csv_data_t_bkg = photometry.integrate(photometry_params_tmp, bkg_only_conf, integration=\"t\")\n",
    "    \n",
    "\n",
    "    _ = singleplot_bgksrc.addData(csv_data_t_bkg_src, photometry_params_tmp, [\"region_radius\"], \"t\")\n",
    "\n",
    "    _ = singleplot_bgk.addData(csv_data_t_bkg, photometry_params_tmp, [\"region_radius\"], \"t\")\n",
    "    \n",
    "    \n",
    "    _ = multiplot_bgksrc.addData(csv_data_t_bkg_src, photometry_params_tmp, [\"region_radius\"], \"t\")\n",
    "    _ = multiplot_bgksrc.addData(csv_data_t_bkg, photometry_params_tmp, [\"region_radius\"], \"t\", as_baseline=True)\n",
    "    "
   ]
  },
  {
   "cell_type": "code",
   "execution_count": null,
   "id": "undefined-cassette",
   "metadata": {
    "scrolled": false
   },
   "outputs": [],
   "source": [
    "singleplot_bgksrc = PhotometrySinglePlot()\n",
    "multiplot_bgksrc = PhotometrySubPlots()\n",
    "\n",
    "args_tmp = args.copy()\n",
    "args_tmp_bkg = args_bkg.copy()    \n",
    "\n",
    "print(args_tmp)\n",
    "    \n",
    "    args_tmp[\"region_radius\"] = rr\n",
    "    csv_data_t = photometry.generate(args_tmp, integration=\"t\")\n",
    "\n",
    "    # background only baseline\n",
    "    args_tmp_bkg[\"region_radius\"] = rr\n",
    "    csv_data_t_bkg = photometry.generate(args_tmp_bkg, integration=\"t\")\n",
    "\n",
    "    _ = singleplot_bgksrc.addData(csv_data_t, args_tmp, [\"region_radius\"], \"t\")\n",
    "\n",
    "    _ = multiplot_bgksrc.addData(csv_data_t, args_tmp, [\"region_radius\"], \"t\")\n",
    "    _ = multiplot_bgksrc.addData(csv_data_t_bkg, args_tmp_bkg, [\"region_radius\"], \"t\", as_baseline=True)\n"
   ]
  },
  {
   "cell_type": "code",
   "execution_count": null,
   "id": "dirty-reverse",
   "metadata": {},
   "outputs": [],
   "source": [
    "psp_t.save(\"./test1\")\n",
    "psp_t.destroy()\n",
    "pmp_t.save(\"./test2\")\n",
    "pmp_t.destroy()"
   ]
  },
  {
   "cell_type": "markdown",
   "id": "documentary-association",
   "metadata": {},
   "source": [
    "## Chaning the pointing"
   ]
  },
  {
   "cell_type": "code",
   "execution_count": null,
   "id": "responsible-tribute",
   "metadata": {
    "scrolled": false
   },
   "outputs": [],
   "source": [
    "psp = PhotometrySinglePlot()\n",
    "pmp = PhotometrySubPlots()\n",
    "\n",
    "pointings = [(pointing[0]+0.5,pointing[1]), (pointing[0],pointing[1]+0.5), (pointing[0]-0.5,pointing[1]), (pointing[0],pointing[1]-0.5)] \n",
    "print(pointing)\n",
    "print(pointings)\n",
    "\n",
    "args_tmp = args.copy()\n",
    "args_tmp[\"orig_pointing\"] = pointing\n",
    "\n",
    "for point in pointings:\n",
    "\n",
    "    args_tmp[\"pointing\"] = point\n",
    "        \n",
    "    csv_data = photometry.generate(args_tmp, integration=\"t\")\n",
    "    _ = psp.addData(csv_data, args_tmp, [\"pointing\"], \"t\")\n",
    "    _ = pmp.addData(csv_data, args_tmp, [\"pointing\"], \"t\")\n",
    "\n"
   ]
  },
  {
   "cell_type": "code",
   "execution_count": null,
   "id": "technological-copyright",
   "metadata": {},
   "outputs": [],
   "source": [
    "psp.save(\"./test3\")\n",
    "pmp.save(\"./test4\")"
   ]
  },
  {
   "cell_type": "code",
   "execution_count": null,
   "id": "duplicate-shade",
   "metadata": {},
   "outputs": [],
   "source": [
    "psp.destroy()\n",
    "pmp.destroy()"
   ]
  },
  {
   "cell_type": "markdown",
   "id": "ethical-circumstances",
   "metadata": {},
   "source": [
    "## Energy"
   ]
  },
  {
   "cell_type": "code",
   "execution_count": null,
   "id": "essential-suggestion",
   "metadata": {},
   "outputs": [],
   "source": []
  }
 ],
 "metadata": {
  "kernelspec": {
   "display_name": "Python 3",
   "language": "python",
   "name": "python3"
  },
  "language_info": {
   "codemirror_mode": {
    "name": "ipython",
    "version": 3
   },
   "file_extension": ".py",
   "mimetype": "text/x-python",
   "name": "python",
   "nbconvert_exporter": "python",
   "pygments_lexer": "ipython3",
   "version": "3.7.3"
  }
 },
 "nbformat": 4,
 "nbformat_minor": 5
}
