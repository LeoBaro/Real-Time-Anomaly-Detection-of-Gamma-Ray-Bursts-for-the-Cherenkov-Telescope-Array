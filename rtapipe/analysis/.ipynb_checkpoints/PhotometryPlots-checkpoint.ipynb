{
 "cells": [
  {
   "cell_type": "code",
   "execution_count": 10,
   "id": "valid-rescue",
   "metadata": {},
   "outputs": [],
   "source": [
    "from pathlib import Path\n",
    "from astropy.io import fits\n",
    "import pandas as pd\n",
    "import numpy as np\n",
    "import collections"
   ]
  },
  {
   "cell_type": "code",
   "execution_count": 2,
   "id": "lonely-conservative",
   "metadata": {},
   "outputs": [],
   "source": [
    "from RTAscience.cfg.Config import Config"
   ]
  },
  {
   "cell_type": "code",
   "execution_count": 3,
   "id": "sized-charter",
   "metadata": {},
   "outputs": [],
   "source": [
    "datapath = Path(\"/data01/home/baroncelli/phd/DATA\")\n",
    "simFolder = datapath.joinpath(\"obs/obs_st_bkg_tr_1_os_0_emin_0.03_emax_0.15_roi_2.5\")\n",
    "cfg = Config(simFolder.joinpath(\"config.yaml\"))\n",
    "runid = cfg.get('runid')"
   ]
  },
  {
   "cell_type": "code",
   "execution_count": 4,
   "id": "proprietary-robert",
   "metadata": {},
   "outputs": [],
   "source": [
    "if cfg.get(\"simtype\") == 'bkg':\n",
    "    inputFitsFile = simFolder.joinpath(\"backgrounds\",\"bkg000001.fits\")\n",
    "else:\n",
    "    inputFitsFile = simFolder.joinpath(runid,\"ebl000001.fits\")    "
   ]
  },
  {
   "cell_type": "code",
   "execution_count": 5,
   "id": "heated-georgia",
   "metadata": {},
   "outputs": [
    {
     "name": "stdout",
     "output_type": "stream",
     "text": [
      "/data01/home/baroncelli/phd/DATA/templates/grb_afterglow/GammaCatalogV1.0/run0406_ID000126_ebl.fits\n",
      "Filename: /data01/home/baroncelli/phd/DATA/obs/obs_st_bkg_tr_1_os_0_emin_0.03_emax_0.15_roi_2.5/backgrounds/bkg000001.fits\n",
      "No.    Name      Ver    Type      Cards   Dimensions   Format\n",
      "  0  PRIMARY       1 PrimaryHDU       8   ()      \n",
      "  1  EVENTS        1 BinTableHDU     88   349336R x 8C   [1J, 1D, 1E, 1E, 1E, 1E, 1E, 1J]   \n",
      "  2  GTI           1 BinTableHDU     20   1R x 2C   [1D, 1D]   \n",
      "ColDefs(\n",
      "    name = 'EVENT_ID'; format = '1J'; bscale = 1; bzero = 2147483648\n",
      "    name = 'TIME'; format = '1D'; unit = 's'\n",
      "    name = 'RA'; format = '1E'; unit = 'deg'\n",
      "    name = 'DEC'; format = '1E'; unit = 'deg'\n",
      "    name = 'ENERGY'; format = '1E'; unit = 'TeV'\n",
      "    name = 'DETX'; format = '1E'; unit = 'deg'\n",
      "    name = 'DETY'; format = '1E'; unit = 'deg'\n",
      "    name = 'MC_ID'; format = '1J'\n",
      ")\n"
     ]
    }
   ],
   "source": [
    "import os \n",
    "os.environ[\"DATA\"] = str(datapath)\n",
    "from rtapipe.pyscripts.phlists_to_photometry_plot import Photometry"
   ]
  },
  {
   "cell_type": "code",
   "execution_count": 12,
   "id": "gentle-bunch",
   "metadata": {},
   "outputs": [
    {
     "name": "stdout",
     "output_type": "stream",
     "text": [
      "\n",
      "Region center  {'ra': 33.057, 'dec': -51.841} with radius 0.2 deg\n",
      "Produced:  /data01/home/baroncelli/phd/DATA/obs/obs_st_bkg_tr_1_os_0_emin_0.03_emax_0.15_roi_2.5/backgrounds/ap/bkg000001_ap_mode_windowed_wsize_25_wstep_25_rad_0.2.csv\n",
      "[(0, 25), (25, 50), (50, 75), (75, 100), (100, 125), (125, 150), (150, 175), (175, 200), (200, 225), (225, 250), (250, 275), (275, 300), (300, 325), (325, 350), (350, 375), (375, 400), (400, 425), (425, 450), (450, 475), (475, 500), (500, 525), (525, 550), (550, 575), (575, 600), (600, 625), (625, 650), (650, 675), (675, 700), (700, 725), (725, 750), (750, 775), (775, 800), (800, 825), (825, 850), (850, 875), (875, 900), (900, 925), (925, 950), (950, 975), (975, 1000), (1000, 1025), (1025, 1050), (1050, 1075), (1075, 1100), (1100, 1125), (1125, 1150), (1150, 1175), (1175, 1200), (1200, 1225), (1225, 1250), (1250, 1275), (1275, 1300), (1300, 1325), (1325, 1350), (1350, 1375), (1375, 1400), (1400, 1425), (1425, 1450), (1450, 1475), (1475, 1500), (1500, 1525), (1525, 1550), (1550, 1575), (1575, 1600), (1600, 1625), (1625, 1650), (1650, 1675), (1675, 1700), (1700, 1725), (1725, 1750), (1750, 1775), (1775, 1800), (1800, 1825), (1825, 1850), (1850, 1875), (1875, 1900), (1900, 1925), (1925, 1950), (1950, 1975), (1975, 2000), (2000, 2025), (2025, 2050), (2050, 2075), (2075, 2100), (2100, 2125), (2125, 2150), (2150, 2175), (2175, 2200), (2200, 2225), (2225, 2250), (2250, 2275), (2275, 2300), (2300, 2325), (2325, 2350), (2350, 2375), (2375, 2400), (2400, 2425), (2425, 2450), (2450, 2475), (2475, 2500), (2500, 2525), (2525, 2550), (2550, 2575), (2575, 2600), (2600, 2625), (2625, 2650), (2650, 2675), (2675, 2700), (2700, 2725), (2725, 2750), (2750, 2775), (2775, 2800), (2800, 2825), (2825, 2850), (2850, 2875), (2875, 2900), (2900, 2925), (2925, 2950), (2950, 2975), (2975, 3000), (3000, 3025), (3025, 3050), (3050, 3075), (3075, 3100), (3100, 3125), (3125, 3150), (3150, 3175), (3175, 3200), (3200, 3225), (3225, 3250), (3250, 3275), (3275, 3300), (3300, 3325), (3325, 3350), (3350, 3375), (3375, 3400), (3400, 3425), (3425, 3450), (3450, 3475), (3475, 3500), (3500, 3525), (3525, 3550), (3550, 3575)]\n"
     ]
    },
    {
     "ename": "AttributeError",
     "evalue": "'args' object has no attribute 'countcheck'",
     "output_type": "error",
     "traceback": [
      "\u001b[0;31m---------------------------------------------------------------------------\u001b[0m",
      "\u001b[0;31mAttributeError\u001b[0m                            Traceback (most recent call last)",
      "\u001b[0;32m<ipython-input-12-135abb0a6194>\u001b[0m in \u001b[0;36m<module>\u001b[0;34m\u001b[0m\n\u001b[1;32m     12\u001b[0m \u001b[0margs\u001b[0m \u001b[0;34m=\u001b[0m \u001b[0mcollections\u001b[0m\u001b[0;34m.\u001b[0m\u001b[0mnamedtuple\u001b[0m\u001b[0;34m(\u001b[0m\u001b[0;34m\"args\"\u001b[0m\u001b[0;34m,\u001b[0m \u001b[0margs\u001b[0m\u001b[0;34m.\u001b[0m\u001b[0mkeys\u001b[0m\u001b[0;34m(\u001b[0m\u001b[0;34m)\u001b[0m\u001b[0;34m)\u001b[0m\u001b[0;34m(\u001b[0m\u001b[0;34m*\u001b[0m\u001b[0margs\u001b[0m\u001b[0;34m.\u001b[0m\u001b[0mvalues\u001b[0m\u001b[0;34m(\u001b[0m\u001b[0;34m)\u001b[0m\u001b[0;34m)\u001b[0m\u001b[0;34m\u001b[0m\u001b[0;34m\u001b[0m\u001b[0m\n\u001b[1;32m     13\u001b[0m \u001b[0;34m\u001b[0m\u001b[0m\n\u001b[0;32m---> 14\u001b[0;31m \u001b[0mp\u001b[0m\u001b[0;34m.\u001b[0m\u001b[0mmain\u001b[0m\u001b[0;34m(\u001b[0m\u001b[0margs\u001b[0m\u001b[0;34m)\u001b[0m\u001b[0;34m\u001b[0m\u001b[0;34m\u001b[0m\u001b[0m\n\u001b[0m",
      "\u001b[0;32m~/phd/repos/phd/rtapipe/pyscripts/phlists_to_photometry_plot.py\u001b[0m in \u001b[0;36mmain\u001b[0;34m(self, args)\u001b[0m\n\u001b[1;32m     98\u001b[0m \u001b[0;34m\u001b[0m\u001b[0m\n\u001b[1;32m     99\u001b[0m         \u001b[0mprint\u001b[0m\u001b[0;34m(\u001b[0m\u001b[0mtime_windows\u001b[0m\u001b[0;34m)\u001b[0m\u001b[0;34m\u001b[0m\u001b[0;34m\u001b[0m\u001b[0m\n\u001b[0;32m--> 100\u001b[0;31m         \u001b[0;32mif\u001b[0m \u001b[0margs\u001b[0m\u001b[0;34m.\u001b[0m\u001b[0mcountcheck\u001b[0m \u001b[0;34m==\u001b[0m \u001b[0;36m1\u001b[0m\u001b[0;34m:\u001b[0m\u001b[0;34m\u001b[0m\u001b[0;34m\u001b[0m\u001b[0m\n\u001b[0m\u001b[1;32m    101\u001b[0m             \u001b[0mallcounts\u001b[0m \u001b[0;34m=\u001b[0m \u001b[0mphm\u001b[0m\u001b[0;34m.\u001b[0m\u001b[0mregion_counter\u001b[0m\u001b[0;34m(\u001b[0m\u001b[0mregion\u001b[0m\u001b[0;34m,\u001b[0m \u001b[0margs\u001b[0m\u001b[0;34m.\u001b[0m\u001b[0mregion_radius\u001b[0m\u001b[0;34m,\u001b[0m \u001b[0mtmin\u001b[0m\u001b[0;34m=\u001b[0m\u001b[0;36m0\u001b[0m\u001b[0;34m,\u001b[0m \u001b[0mtmax\u001b[0m\u001b[0;34m=\u001b[0m\u001b[0mcfg\u001b[0m\u001b[0;34m.\u001b[0m\u001b[0mget\u001b[0m\u001b[0;34m(\u001b[0m\u001b[0;34m\"tobs\"\u001b[0m\u001b[0;34m)\u001b[0m\u001b[0;34m)\u001b[0m\u001b[0;34m\u001b[0m\u001b[0;34m\u001b[0m\u001b[0m\n\u001b[1;32m    102\u001b[0m             \u001b[0mprint\u001b[0m\u001b[0;34m(\u001b[0m\u001b[0;34mf\"Count check ! allcounts: {allcounts}, cumulative windows count: {total}\"\u001b[0m\u001b[0;34m)\u001b[0m\u001b[0;34m\u001b[0m\u001b[0;34m\u001b[0m\u001b[0m\n",
      "\u001b[0;31mAttributeError\u001b[0m: 'args' object has no attribute 'countcheck'"
     ]
    }
   ],
   "source": [
    "p = Photometry()\n",
    "args = {\n",
    "    'obs_dir': str(simFolder),\n",
    "    'region_radius': 0.2,\n",
    "    'mode': 'windowed',\n",
    "    'window_size': 25,\n",
    "    'window_step': 25,\n",
    "    'plot' : 1,\n",
    "    'override': 1,\n",
    "    'countcheck': 0\n",
    "}\n",
    "args = collections.namedtuple(\"args\", args.keys())(*args.values())\n",
    "\n",
    "p.main(args)"
   ]
  },
  {
   "cell_type": "code",
   "execution_count": null,
   "id": "multiple-celtic",
   "metadata": {},
   "outputs": [],
   "source": []
  }
 ],
 "metadata": {
  "kernelspec": {
   "display_name": "Python 3",
   "language": "python",
   "name": "python3"
  },
  "language_info": {
   "codemirror_mode": {
    "name": "ipython",
    "version": 3
   },
   "file_extension": ".py",
   "mimetype": "text/x-python",
   "name": "python",
   "nbconvert_exporter": "python",
   "pygments_lexer": "ipython3",
   "version": "3.7.3"
  }
 },
 "nbformat": 4,
 "nbformat_minor": 5
}
