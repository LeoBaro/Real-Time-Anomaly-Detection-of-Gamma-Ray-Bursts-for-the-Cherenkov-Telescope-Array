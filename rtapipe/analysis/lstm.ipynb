{
 "cells": [
  {
   "cell_type": "markdown",
   "id": "rural-alabama",
   "metadata": {
    "colab_type": "text",
    "id": "view-in-github"
   },
   "source": [
    "<a href=\"https://colab.research.google.com/github/LeoBaro/phd/blob/main/rtapipe/analysis/Untitled.ipynb\" target=\"_parent\"><img src=\"https://colab.research.google.com/assets/colab-badge.svg\" alt=\"Open In Colab\"/></a>"
   ]
  },
  {
   "cell_type": "code",
   "execution_count": 2,
   "id": "generic-overview",
   "metadata": {},
   "outputs": [
    {
     "name": "stdout",
     "output_type": "stream",
     "text": [
      "2021-03-22 15:20:00.494819: W tensorflow/stream_executor/platform/default/dso_loader.cc:60] Could not load dynamic library 'libcudart.so.11.0'; dlerror: libcudart.so.11.0: cannot open shared object file: No such file or directory\n",
      "2021-03-22 15:20:00.494875: I tensorflow/stream_executor/cuda/cudart_stub.cc:29] Ignore above cudart dlerror if you do not have a GPU set up on your machine.\n",
      "2.4.1\n"
     ]
    }
   ],
   "source": [
    "! python3 -c 'import tensorflow as tf; print(tf.__version__)'  # for Python 3"
   ]
  },
  {
   "cell_type": "markdown",
   "id": "comprehensive-pointer",
   "metadata": {
    "id": "ceramic-celebrity"
   },
   "source": [
    "# Sequence-to-Sequence Prediction Problems\n",
    "Sequence prediction often involves forecasting the next value in a real valued sequence or outputting a class label for an input sequence.\n",
    "\n",
    "This is often framed as a sequence of one input time step to one output time step (e.g. one-to-one) or multiple input time steps to one output time step (many-to-one) type sequence prediction problem.\n",
    "\n",
    "One approach to seq2seq prediction problems that has proven very effective is called the Encoder-Decoder LSTM.\n",
    "\n",
    "## Encoder-Decoder LSTM \n",
    "The LSTM network can be organized into an architecture called the Encoder-Decoder LSTM that allows the model to be used to both support variable length input sequences and to predict or output variable length output sequences.\n",
    "\n",
    "In this architecture, an encoder LSTM model reads the input sequence step-by-step. After reading in the entire input sequence, the hidden state or output of this model represents an internal learned representation of the entire input sequence as a fixed-length vector. This vector is then provided as an input to the decoder model that interprets it as each step in the output sequence is generated\n",
    "This architecture is comprised of two models: one for reading the input sequence and encoding it into a fixed-length vector, and a second for decoding the fixed-length vector and outputting the predicted sequence. The use of the models in concert gives the architecture its name of Encoder-Decoder LSTM designed specifically for seq2seq problems.\n",
    "The innovation of this architecture is the use of a fixed-sized internal representation in the heart of the model that input sequences are read to and output sequences are read from. For this reason, the method may be referred to as sequence embedding.\n",
    "\n",
    "    … RNN Encoder-Decoder, consists of two recurrent neural networks (RNN) that act as an encoder and a decoder pair. The encoder maps a variable-length source sequence to a fixed-length vector, and the decoder maps the vector representation back to a variable-length target sequence.\n",
    "\n",
    "    — Learning Phrase Representations using RNN Encoder-Decoder for Statistical Machine Translation, 2014.\n",
    "\n",
    "The Encoder-Decoder LSTM was developed for natural language processing problems where it demonstrated state-of-the-art performance, specifically in the area of text translation called statistical machine translation. \n",
    "\n",
    "    The proposed RNN Encoder-Decoder naturally generates a continuous-space representation of a phrase. […] From the visualization, it is clear that the RNN Encoder-Decoder captures both semantic and syntactic structures of the phrases\n",
    "\n",
    "    — Learning Phrase Representations using RNN Encoder-Decoder for Statistical Machine Translation, 2014."
   ]
  },
  {
   "cell_type": "markdown",
   "id": "prompt-lodge",
   "metadata": {
    "id": "moving-terrace"
   },
   "source": [
    "## Keras implementation\n",
    "\n",
    "For a given dataset of sequences, an encoder-decoder LSTM is configured to read the input sequence, encode it, decode it, and recreate it. The performance of the model is evaluated based on the model’s ability to recreate the input sequence.\n",
    "\n",
    "Once the model achieves a desired level of performance recreating the sequence, the decoder part of the model may be removed, leaving just the encoder model. This model can then be used to encode input sequences to a fixed-length vector.\n",
    "\n",
    "The resulting vectors can then be used in a variety of applications, not least as a compressed representation of the sequence as an input to another supervised learning model.\n",
    "\n",
    "We can think of the model as being comprised of two key parts: the encoder and the decoder.\n",
    "\n",
    "One or more LSTM layers can be used to implement the encoder model. The output of this model is a fixed-size vector that represents the internal representation of the input sequence. The number of memory cells in this layer defines the length of this fixed-sized vector."
   ]
  },
  {
   "cell_type": "code",
   "execution_count": 14,
   "id": "lyric-apollo",
   "metadata": {
    "id": "k9IPBWWRAQFs"
   },
   "outputs": [],
   "source": [
    "from os import getcwd\n",
    "import numpy as np\n",
    "import pandas as pd\n",
    "from pathlib import Path\n",
    "from tensorflow import keras\n",
    "from tensorflow.keras import layers\n",
    "from matplotlib import pyplot as plt\n"
   ]
  },
  {
   "cell_type": "code",
   "execution_count": 15,
   "id": "dominant-emission",
   "metadata": {},
   "outputs": [
    {
     "data": {
      "text/plain": [
       "PosixPath('/data01/home/baroncelli/phd/repos/phd/rtapipe/analysis/notebook_dataset_generation_for_models_output')"
      ]
     },
     "execution_count": 15,
     "metadata": {},
     "output_type": "execute_result"
    }
   ],
   "source": [
    "datapath = Path(\"/data01/home/baroncelli/phd/repos/phd/rtapipe/analysis/notebook_dataset_generation_for_models_output\")\n",
    "datapath"
   ]
  },
  {
   "cell_type": "code",
   "execution_count": 18,
   "id": "demanding-management",
   "metadata": {},
   "outputs": [
    {
     "data": {
      "text/plain": [
       "'/data01/home/baroncelli/phd/repos/phd/rtapipe/analysis'"
      ]
     },
     "execution_count": 18,
     "metadata": {},
     "output_type": "execute_result"
    }
   ],
   "source": [
    "currentdir = getcwd()\n",
    "currentdir"
   ]
  },
  {
   "cell_type": "code",
   "execution_count": 20,
   "id": "loose-shakespeare",
   "metadata": {
    "scrolled": false
   },
   "outputs": [
    {
     "data": {
      "text/plain": [
       "PosixPath('/data01/home/baroncelli/phd/repos/phd/rtapipe/analysis/notebook_lstm_output')"
      ]
     },
     "execution_count": 20,
     "metadata": {},
     "output_type": "execute_result"
    }
   ],
   "source": [
    "outdir = Path(currentdir).joinpath(\"notebook_lstm_output\")\n",
    "outdir"
   ]
  },
  {
   "cell_type": "code",
   "execution_count": 21,
   "id": "tired-slave",
   "metadata": {},
   "outputs": [],
   "source": [
    "master_url_root = \"https://raw.githubusercontent.com/numenta/NAB/master/data/\"\n",
    "\n",
    "df_small_noise_url_suffix = \"artificialNoAnomaly/art_daily_small_noise.csv\"\n",
    "df_small_noise_url = master_url_root + df_small_noise_url_suffix\n",
    "df_small_noise = pd.read_csv(\n",
    "    df_small_noise_url, parse_dates=True, index_col=\"timestamp\"\n",
    ")\n",
    "\n",
    "df_daily_jumpsup_url_suffix = \"artificialWithAnomaly/art_daily_jumpsup.csv\"\n",
    "df_daily_jumpsup_url = master_url_root + df_daily_jumpsup_url_suffix\n",
    "df_daily_jumpsup = pd.read_csv(\n",
    "    df_daily_jumpsup_url, parse_dates=True, index_col=\"timestamp\"\n",
    ")"
   ]
  },
  {
   "cell_type": "code",
   "execution_count": 22,
   "id": "undefined-transaction",
   "metadata": {},
   "outputs": [
    {
     "name": "stdout",
     "output_type": "stream",
     "text": [
      "                         value\n",
      "timestamp                     \n",
      "2014-04-01 00:00:00  18.324919\n",
      "2014-04-01 00:05:00  21.970327\n",
      "2014-04-01 00:10:00  18.624806\n",
      "2014-04-01 00:15:00  21.953684\n",
      "2014-04-01 00:20:00  21.909120\n",
      "                         value\n",
      "timestamp                     \n",
      "2014-04-01 00:00:00  19.761252\n",
      "2014-04-01 00:05:00  20.500833\n",
      "2014-04-01 00:10:00  19.961641\n",
      "2014-04-01 00:15:00  21.490266\n",
      "2014-04-01 00:20:00  20.187739\n"
     ]
    }
   ],
   "source": [
    "print(df_small_noise.head())\n",
    "\n",
    "print(df_daily_jumpsup.head())"
   ]
  },
  {
   "cell_type": "code",
   "execution_count": 23,
   "id": "parliamentary-sculpture",
   "metadata": {},
   "outputs": [
    {
     "data": {
      "image/png": "[encoded data removed]",
      "text/plain": [
       "<Figure size 432x288 with 1 Axes>"
      ]
     },
     "metadata": {
      "needs_background": "light"
     },
     "output_type": "display_data"
    }
   ],
   "source": [
    "fig, ax = plt.subplots()\n",
    "df_small_noise.plot(legend=False, ax=ax)\n",
    "plt.show()"
   ]
  },
  {
   "cell_type": "code",
   "execution_count": 24,
   "id": "hungarian-chile",
   "metadata": {},
   "outputs": [
    {
     "data": {
      "image/png": "[encoded data removed]",
      "text/plain": [
       "<Figure size 432x288 with 1 Axes>"
      ]
     },
     "metadata": {
      "needs_background": "light"
     },
     "output_type": "display_data"
    }
   ],
   "source": [
    "fig, ax = plt.subplots()\n",
    "df_daily_jumpsup.plot(legend=False, ax=ax)\n",
    "plt.show()"
   ]
  },
  {
   "cell_type": "code",
   "execution_count": 25,
   "id": "linear-infrastructure",
   "metadata": {},
   "outputs": [
    {
     "name": "stdout",
     "output_type": "stream",
     "text": [
      "Number of training samples: 4032\n"
     ]
    }
   ],
   "source": [
    "training_mean = df_small_noise.mean()\n",
    "training_std = df_small_noise.std()\n",
    "df_training_value = (df_small_noise - training_mean) / training_std\n",
    "print(\"Number of training samples:\", len(df_training_value))"
   ]
  },
  {
   "cell_type": "code",
   "execution_count": 26,
   "id": "attempted-reasoning",
   "metadata": {},
   "outputs": [
    {
     "data": {
      "text/html": [
       "<div>\n",
       "<style scoped>\n",
       "    .dataframe tbody tr th:only-of-type {\n",
       "        vertical-align: middle;\n",
       "    }\n",
       "\n",
       "    .dataframe tbody tr th {\n",
       "        vertical-align: top;\n",
       "    }\n",
       "\n",
       "    .dataframe thead th {\n",
       "        text-align: right;\n",
       "    }\n",
       "</style>\n",
       "<table border=\"1\" class=\"dataframe\">\n",
       "  <thead>\n",
       "    <tr style=\"text-align: right;\">\n",
       "      <th></th>\n",
       "      <th>value</th>\n",
       "    </tr>\n",
       "    <tr>\n",
       "      <th>timestamp</th>\n",
       "      <th></th>\n",
       "    </tr>\n",
       "  </thead>\n",
       "  <tbody>\n",
       "    <tr>\n",
       "      <th>2014-04-01 00:00:00</th>\n",
       "      <td>-0.858829</td>\n",
       "    </tr>\n",
       "    <tr>\n",
       "      <th>2014-04-01 00:05:00</th>\n",
       "      <td>-0.728993</td>\n",
       "    </tr>\n",
       "    <tr>\n",
       "      <th>2014-04-01 00:10:00</th>\n",
       "      <td>-0.848148</td>\n",
       "    </tr>\n",
       "    <tr>\n",
       "      <th>2014-04-01 00:15:00</th>\n",
       "      <td>-0.729586</td>\n",
       "    </tr>\n",
       "    <tr>\n",
       "      <th>2014-04-01 00:20:00</th>\n",
       "      <td>-0.731173</td>\n",
       "    </tr>\n",
       "  </tbody>\n",
       "</table>\n",
       "</div>"
      ],
      "text/plain": [
       "                        value\n",
       "timestamp                    \n",
       "2014-04-01 00:00:00 -0.858829\n",
       "2014-04-01 00:05:00 -0.728993\n",
       "2014-04-01 00:10:00 -0.848148\n",
       "2014-04-01 00:15:00 -0.729586\n",
       "2014-04-01 00:20:00 -0.731173"
      ]
     },
     "execution_count": 26,
     "metadata": {},
     "output_type": "execute_result"
    }
   ],
   "source": [
    "df_training_value.head()"
   ]
  },
  {
   "cell_type": "code",
   "execution_count": 27,
   "id": "single-marsh",
   "metadata": {},
   "outputs": [
    {
     "name": "stdout",
     "output_type": "stream",
     "text": [
      "Training input shape:  (3744, 288, 1)\n"
     ]
    }
   ],
   "source": [
    "TIME_STEPS = 288\n",
    "\n",
    "# Generated training sequences for use in the model.\n",
    "def create_sequences(values, time_steps=TIME_STEPS):\n",
    "    output = []\n",
    "    for i in range(len(values) - time_steps):\n",
    "        output.append(values[i : (i + time_steps)])\n",
    "    return np.stack(output)\n",
    "\n",
    "\n",
    "x_train = create_sequences(df_training_value.values)\n",
    "print(\"Training input shape: \", x_train.shape)"
   ]
  },
  {
   "cell_type": "markdown",
   "id": "fleet-keeping",
   "metadata": {},
   "source": [
    "## Convolutional Autoencoder model"
   ]
  },
  {
   "cell_type": "code",
   "execution_count": 30,
   "id": "complicated-sociology",
   "metadata": {},
   "outputs": [
    {
     "name": "stdout",
     "output_type": "stream",
     "text": [
      "Model: \"sequential_2\"\n",
      "_________________________________________________________________\n",
      "Layer (type)                 Output Shape              Param #   \n",
      "=================================================================\n",
      "conv1d_2 (Conv1D)            (None, 144, 32)           256       \n",
      "_________________________________________________________________\n",
      "dropout_2 (Dropout)          (None, 144, 32)           0         \n",
      "_________________________________________________________________\n",
      "conv1d_3 (Conv1D)            (None, 72, 16)            3600      \n",
      "_________________________________________________________________\n",
      "conv1d_transpose_3 (Conv1DTr (None, 144, 16)           1808      \n",
      "_________________________________________________________________\n",
      "dropout_3 (Dropout)          (None, 144, 16)           0         \n",
      "_________________________________________________________________\n",
      "conv1d_transpose_4 (Conv1DTr (None, 288, 32)           3616      \n",
      "_________________________________________________________________\n",
      "conv1d_transpose_5 (Conv1DTr (None, 288, 1)            225       \n",
      "=================================================================\n",
      "Total params: 9,505\n",
      "Trainable params: 9,505\n",
      "Non-trainable params: 0\n",
      "_________________________________________________________________\n"
     ]
    }
   ],
   "source": [
    "modelConv = keras.Sequential(\n",
    "    [\n",
    "        layers.Input(shape=(x_train.shape[1], x_train.shape[2])),\n",
    "        layers.Conv1D(\n",
    "            filters=32, kernel_size=7, padding=\"same\", strides=2, activation=\"relu\"\n",
    "        ),\n",
    "        layers.Dropout(rate=0.2),\n",
    "        layers.Conv1D(\n",
    "            filters=16, kernel_size=7, padding=\"same\", strides=2, activation=\"relu\"\n",
    "        ),\n",
    "        layers.Conv1DTranspose(\n",
    "            filters=16, kernel_size=7, padding=\"same\", strides=2, activation=\"relu\"\n",
    "        ),\n",
    "        layers.Dropout(rate=0.2),\n",
    "        layers.Conv1DTranspose(\n",
    "            filters=32, kernel_size=7, padding=\"same\", strides=2, activation=\"relu\"\n",
    "        ),\n",
    "        layers.Conv1DTranspose(filters=1, kernel_size=7, padding=\"same\"),\n",
    "    ]\n",
    ")\n",
    "modelConv.compile(optimizer=keras.optimizers.Adam(learning_rate=0.001), loss=\"mse\")\n",
    "modelConv.summary()"
   ]
  },
  {
   "cell_type": "markdown",
   "id": "small-planet",
   "metadata": {},
   "source": [
    "## LSTM Autoencoder"
   ]
  },
  {
   "cell_type": "code",
   "execution_count": 33,
   "id": "defensive-upper",
   "metadata": {},
   "outputs": [],
   "source": [
    "from tensorflow.keras.models import Sequential\n",
    "from tensorflow.keras.layers import LSTM, Input, Dropout\n",
    "from tensorflow.keras.layers import Dense\n",
    "from tensorflow.keras.layers import RepeatVector\n",
    "from tensorflow.keras.layers import TimeDistributed\n",
    "from tensorflow.keras.models import Model\n",
    "\n",
    "from sklearn.preprocessing import MinMaxScaler, StandardScaler"
   ]
  },
  {
   "cell_type": "code",
   "execution_count": 34,
   "id": "noble-elite",
   "metadata": {},
   "outputs": [
    {
     "name": "stdout",
     "output_type": "stream",
     "text": [
      "Model: \"sequential_3\"\n",
      "_________________________________________________________________\n",
      "Layer (type)                 Output Shape              Param #   \n",
      "=================================================================\n",
      "lstm (LSTM)                  (None, 288, 128)          66560     \n",
      "_________________________________________________________________\n",
      "lstm_1 (LSTM)                (None, 64)                49408     \n",
      "_________________________________________________________________\n",
      "repeat_vector (RepeatVector) (None, 288, 64)           0         \n",
      "_________________________________________________________________\n",
      "lstm_2 (LSTM)                (None, 288, 64)           33024     \n",
      "_________________________________________________________________\n",
      "lstm_3 (LSTM)                (None, 288, 128)          98816     \n",
      "_________________________________________________________________\n",
      "time_distributed (TimeDistri (None, 288, 1)            129       \n",
      "=================================================================\n",
      "Total params: 247,937\n",
      "Trainable params: 247,937\n",
      "Non-trainable params: 0\n",
      "_________________________________________________________________\n"
     ]
    }
   ],
   "source": [
    "modelLSTM = Sequential()\n",
    "modelLSTM.add(LSTM(128, activation='relu', input_shape=(x_train.shape[1], x_train.shape[2]), return_sequences=True))\n",
    "modelLSTM.add(LSTM(64, activation='relu', return_sequences=False))\n",
    "modelLSTM.add(RepeatVector(x_train.shape[1]))\n",
    "modelLSTM.add(LSTM(64, activation='relu', return_sequences=True))\n",
    "modelLSTM.add(LSTM(128, activation='relu', return_sequences=True))\n",
    "modelLSTM.add(TimeDistributed(Dense(x_train.shape[2])))\n",
    "\n",
    "modelLSTM.compile(optimizer='adam', loss='mse')\n",
    "modelLSTM.summary()"
   ]
  },
  {
   "cell_type": "code",
   "execution_count": null,
   "id": "compressed-indianapolis",
   "metadata": {},
   "outputs": [],
   "source": [
    "history = modelLSTM.fit(trainX, trainY, epochs=10, batch_size=32, validation_split=0.1, verbose=1)\n"
   ]
  },
  {
   "cell_type": "code",
   "execution_count": 51,
   "id": "cleared-chester",
   "metadata": {},
   "outputs": [
    {
     "name": "stdout",
     "output_type": "stream",
     "text": [
      "Model: \"sequential_4\"\n",
      "_________________________________________________________________\n",
      "Layer (type)                 Output Shape              Param #   \n",
      "=================================================================\n",
      "lstm_4 (LSTM)                (None, 128)               66560     \n",
      "_________________________________________________________________\n",
      "dropout_4 (Dropout)          (None, 128)               0         \n",
      "_________________________________________________________________\n",
      "repeat_vector_1 (RepeatVecto (None, 288, 128)          0         \n",
      "_________________________________________________________________\n",
      "lstm_5 (LSTM)                (None, 288, 128)          131584    \n",
      "_________________________________________________________________\n",
      "dropout_5 (Dropout)          (None, 288, 128)          0         \n",
      "_________________________________________________________________\n",
      "time_distributed_1 (TimeDist (None, 288, 1)            129       \n",
      "=================================================================\n",
      "Total params: 198,273\n",
      "Trainable params: 198,273\n",
      "Non-trainable params: 0\n",
      "_________________________________________________________________\n"
     ]
    }
   ],
   "source": [
    "modelLSTM2 = Sequential()\n",
    "modelLSTM2.add(LSTM(128, input_shape=(x_train.shape[1], x_train.shape[2])))\n",
    "modelLSTM2.add(Dropout(rate=0.2))\n",
    "modelLSTM2.add(RepeatVector(x_train.shape[1]))\n",
    "modelLSTM2.add(LSTM(128, return_sequences=True))\n",
    "modelLSTM2.add(Dropout(rate=0.2))\n",
    "modelLSTM2.add(TimeDistributed(Dense(x_train.shape[2])))\n",
    "\n",
    "modelLSTM2.compile(optimizer='adam', loss='mae')\n",
    "modelLSTM2.summary()"
   ]
  },
  {
   "cell_type": "markdown",
   "id": "colored-screen",
   "metadata": {},
   "source": [
    "## Models Training"
   ]
  },
  {
   "cell_type": "code",
   "execution_count": null,
   "id": "boolean-christianity",
   "metadata": {},
   "outputs": [
    {
     "name": "stdout",
     "output_type": "stream",
     "text": [
      "Epoch 1/50\n",
      "27/27 [==============================] - 38s 1s/step - loss: 0.9953 - val_loss: 0.9999\n",
      "Epoch 2/50\n",
      "27/27 [==============================] - 33s 1s/step - loss: 0.9824 - val_loss: 0.9842\n",
      "Epoch 3/50\n",
      "27/27 [==============================] - 33s 1s/step - loss: 0.9596 - val_loss: 0.9550\n",
      "Epoch 4/50\n",
      "27/27 [==============================] - 33s 1s/step - loss: 0.9224 - val_loss: 0.9641\n",
      "Epoch 5/50\n",
      "27/27 [==============================] - 34s 1s/step - loss: nan - val_loss: nan\n",
      "Epoch 6/50\n",
      "23/27 [========================>.....] - ETA: 4s - loss: nan"
     ]
    }
   ],
   "source": [
    "modelLSTMHistory = modelLSTM.fit(x_train, x_train, epochs=50, batch_size=128, validation_split=0.1, verbose=1)"
   ]
  },
  {
   "cell_type": "code",
   "execution_count": null,
   "id": "loving-necklace",
   "metadata": {},
   "outputs": [],
   "source": [
    "modelLSTM2History = modelLSTM2.fit(x_train, x_train, epochs=50, batch_size=128, validation_split=0.1, verbose=1)"
   ]
  },
  {
   "cell_type": "code",
   "execution_count": 52,
   "id": "confidential-record",
   "metadata": {},
   "outputs": [
    {
     "name": "stdout",
     "output_type": "stream",
     "text": [
      "Epoch 1/50\n",
      "27/27 [==============================] - 0s 17ms/step - loss: 0.0195 - val_loss: 0.0224\n",
      "Epoch 2/50\n",
      "27/27 [==============================] - 0s 14ms/step - loss: 0.0186 - val_loss: 0.0236\n",
      "Epoch 3/50\n",
      "27/27 [==============================] - 0s 14ms/step - loss: 0.0179 - val_loss: 0.0228\n",
      "Epoch 4/50\n",
      "27/27 [==============================] - 0s 13ms/step - loss: 0.0172 - val_loss: 0.0227\n",
      "Epoch 5/50\n",
      "27/27 [==============================] - 0s 13ms/step - loss: 0.0167 - val_loss: 0.0255\n",
      "Epoch 6/50\n",
      "27/27 [==============================] - 0s 14ms/step - loss: 0.0161 - val_loss: 0.0223\n",
      "Epoch 7/50\n",
      "27/27 [==============================] - 0s 14ms/step - loss: 0.0155 - val_loss: 0.0250\n",
      "Epoch 8/50\n",
      "27/27 [==============================] - 0s 13ms/step - loss: 0.0151 - val_loss: 0.0247\n",
      "Epoch 9/50\n",
      "27/27 [==============================] - 0s 13ms/step - loss: 0.0145 - val_loss: 0.0237\n",
      "Epoch 10/50\n",
      "27/27 [==============================] - 0s 13ms/step - loss: 0.0140 - val_loss: 0.0230\n",
      "Epoch 11/50\n",
      "27/27 [==============================] - 0s 13ms/step - loss: 0.0136 - val_loss: 0.0240\n"
     ]
    }
   ],
   "source": [
    "modelConvHistory = modelConv.fit(\n",
    "    x_train,\n",
    "    x_train,\n",
    "    epochs=50,\n",
    "    batch_size=128,\n",
    "    validation_split=0.1,\n",
    "    callbacks=[\n",
    "        keras.callbacks.EarlyStopping(monitor=\"val_loss\", patience=5, mode=\"min\")\n",
    "    ],\n",
    ")"
   ]
  },
  {
   "cell_type": "code",
   "execution_count": null,
   "id": "compatible-mathematics",
   "metadata": {},
   "outputs": [],
   "source": [
    "plt.plot(history.history[\"loss\"], label=\"Training Loss\")\n",
    "plt.plot(history.history[\"val_loss\"], label=\"Validation Loss\")\n",
    "plt.legend()\n",
    "plt.show()"
   ]
  },
  {
   "cell_type": "markdown",
   "id": "surprised-barrel",
   "metadata": {},
   "source": [
    "## Loss "
   ]
  },
  {
   "cell_type": "code",
   "execution_count": 42,
   "id": "understood-brooks",
   "metadata": {},
   "outputs": [],
   "source": [
    "def plotLoss(pred_data, real, labels=[\"\"]):\n",
    "    for i, pred in enumerate(pred_data):\n",
    "        train_mae_loss = np.mean(np.abs(pred - real), axis=1)\n",
    "        plt.hist(train_mae_loss, bins=50, label=labels[i])\n",
    "        plt.xlabel(\"Train MAE loss\")\n",
    "        plt.ylabel(\"No of samples\")\n",
    "        # Get reconstruction loss threshold.\n",
    "        threshold = np.max(train_mae_loss)\n",
    "        print(\"Reconstruction error threshold: \", threshold)    \n",
    "    plt.legend()\n",
    "    plt.show()"
   ]
  },
  {
   "cell_type": "code",
   "execution_count": 47,
   "id": "apparent-sponsorship",
   "metadata": {},
   "outputs": [
    {
     "name": "stdout",
     "output_type": "stream",
     "text": [
      "(3744, 288, 1)\n"
     ]
    }
   ],
   "source": [
    "autoencoder_predictions_on_training = modelConv.predict(x_train)\n",
    "lstm_predictions_on_training = modelLSTM.predict(x_train)"
   ]
  },
  {
   "cell_type": "code",
   "execution_count": 48,
   "id": "regulation-citation",
   "metadata": {},
   "outputs": [
    {
     "name": "stdout",
     "output_type": "stream",
     "text": [
      "(3744, 288, 1)\n",
      "(3744, 288, 1)\n"
     ]
    }
   ],
   "source": [
    "print(autoencoder_predictions_on_training.shape)\n",
    "print(lstm_predictions_on_training.shape)"
   ]
  },
  {
   "cell_type": "code",
   "execution_count": 46,
   "id": "statewide-dominant",
   "metadata": {},
   "outputs": [
    {
     "name": "stdout",
     "output_type": "stream",
     "text": [
      "Reconstruction error threshold:  0.1155753186339066\n",
      "Reconstruction error threshold:  0.9683227489596793\n"
     ]
    },
    {
     "data": {
      "image/png": "[encoded data removed]",
      "text/plain": [
       "<Figure size 432x288 with 1 Axes>"
      ]
     },
     "metadata": {
      "needs_background": "light"
     },
     "output_type": "display_data"
    }
   ],
   "source": [
    "plotLoss([autoencoder_predictions_on_training, lstm_predictions_on_training], x_train, labels=[\"Conv\",\"Lstm\"])"
   ]
  },
  {
   "cell_type": "code",
   "execution_count": 50,
   "id": "previous-moral",
   "metadata": {},
   "outputs": [
    {
     "data": {
      "image/png": "[encoded data removed]",
      "text/plain": [
       "<Figure size 432x288 with 1 Axes>"
      ]
     },
     "metadata": {
      "needs_background": "light"
     },
     "output_type": "display_data"
    }
   ],
   "source": [
    "plt.plot(x_train[0])\n",
    "plt.plot(autoencoder_predictions_on_training[0], label=\"Conv\")\n",
    "plt.plot(lstm_predictions_on_training[0], label=\"Lstm\")\n",
    "plt.legend()\n",
    "plt.show()\n"
   ]
  },
  {
   "cell_type": "code",
   "execution_count": null,
   "id": "sticky-pixel",
   "metadata": {},
   "outputs": [],
   "source": []
  },
  {
   "cell_type": "code",
   "execution_count": null,
   "id": "steady-transcript",
   "metadata": {},
   "outputs": [],
   "source": []
  },
  {
   "cell_type": "code",
   "execution_count": null,
   "id": "black-birthday",
   "metadata": {},
   "outputs": [],
   "source": []
  },
  {
   "cell_type": "code",
   "execution_count": null,
   "id": "decreased-beatles",
   "metadata": {},
   "outputs": [],
   "source": []
  },
  {
   "cell_type": "code",
   "execution_count": null,
   "id": "raised-domestic",
   "metadata": {},
   "outputs": [],
   "source": [
    "# Get train MAE loss.\n",
    "x_train_pred = model.predict(x_train)\n",
    "train_mae_loss = np.mean(np.abs(x_train_pred - x_train), axis=1)\n",
    "\n",
    "plt.hist(train_mae_loss, bins=50)\n",
    "plt.xlabel(\"Train MAE loss\")\n",
    "plt.ylabel(\"No of samples\")\n",
    "plt.show()\n",
    "\n",
    "# Get reconstruction loss threshold.\n",
    "threshold = np.max(train_mae_loss)\n",
    "print(\"Reconstruction error threshold: \", threshold)"
   ]
  },
  {
   "cell_type": "code",
   "execution_count": null,
   "id": "spread-pizza",
   "metadata": {},
   "outputs": [],
   "source": [
    "plt.plot(x_train[0])\n",
    "plt.plot(x_train_pred[0])\n",
    "plt.show()"
   ]
  },
  {
   "cell_type": "code",
   "execution_count": null,
   "id": "confidential-arlington",
   "metadata": {
    "id": "diverse-roulette"
   },
   "outputs": [],
   "source": [
    "model = keras.Sequential()\n",
    "model.add(layers.LSTM(50, activation='relu', input_shape=(n_in,1)))\n",
    "model.add(layers.RepeatVector(n_in))\n",
    "model.add(layers.LSTM(50, activation='relu', return_sequences=True))\n",
    "model.add(layers.TimeDistributed(layers.Dense(1)))\n",
    "model.compile(optimizer='adam', loss='mse')\n"
   ]
  }
 ],
 "metadata": {
  "colab": {
   "include_colab_link": true,
   "name": "Untitled.ipynb",
   "provenance": []
  },
  "kernelspec": {
   "display_name": "Python 3",
   "language": "python",
   "name": "python3"
  },
  "language_info": {
   "codemirror_mode": {
    "name": "ipython",
    "version": 3
   },
   "file_extension": ".py",
   "mimetype": "text/x-python",
   "name": "python",
   "nbconvert_exporter": "python",
   "pygments_lexer": "ipython3",
   "version": "3.7.3"
  }
 },
 "nbformat": 4,
 "nbformat_minor": 5
}
