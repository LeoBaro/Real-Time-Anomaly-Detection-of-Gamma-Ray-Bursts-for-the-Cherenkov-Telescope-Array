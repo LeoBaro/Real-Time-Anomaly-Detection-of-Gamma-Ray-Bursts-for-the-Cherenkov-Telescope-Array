{
 "cells": [
  {
   "cell_type": "markdown",
   "id": "convinced-dayton",
   "metadata": {},
   "source": [
    "# PhotometryLib"
   ]
  },
  {
   "cell_type": "markdown",
   "id": "gross-slope",
   "metadata": {},
   "source": [
    "## Output directories"
   ]
  },
  {
   "cell_type": "code",
   "execution_count": 1,
   "id": "sustained-applicant",
   "metadata": {},
   "outputs": [
    {
     "name": "stdout",
     "output_type": "stream",
     "text": [
      "csv  png\r\n"
     ]
    }
   ],
   "source": [
    "import os\n",
    "outdir = os.path.join(os.environ[\"HOME\"], \"notebook_output\")\n",
    "csvdir = os.path.join(outdir, \"csv\")\n",
    "pngdir = os.path.join(outdir, \"png\")\n",
    "! mkdir -p $csvdir                          \n",
    "! mkdir -p $pngdir                          \n",
    "! ls $outdir"
   ]
  },
  {
   "cell_type": "markdown",
   "id": "tamil-nightlife",
   "metadata": {},
   "source": [
    "## Importing dependencies"
   ]
  },
  {
   "cell_type": "code",
   "execution_count": 2,
   "id": "public-display",
   "metadata": {},
   "outputs": [
    {
     "name": "stderr",
     "output_type": "stream",
     "text": [
      "\n",
      "Bad key \"text.kerning_factor\" on line 4 in\n",
      "/data01/home/baroncelli/.conda/envs/bphd/lib/python3.7/site-packages/matplotlib/mpl-data/stylelib/_classic_test_patch.mplstyle.\n",
      "You probably need to get an updated matplotlibrc file from\n",
      "https://github.com/matplotlib/matplotlib/blob/v3.1.2/matplotlibrc.template\n",
      "or from the matplotlib source distribution\n"
     ]
    }
   ],
   "source": [
    "from pathlib import Path\n",
    "from astropy.io import fits\n",
    "import pandas as pd\n",
    "import numpy as np\n",
    "import collections\n",
    "import matplotlib.pyplot as plt\n",
    "%matplotlib widget\n",
    "\n",
    "datapath = Path(\"/data01/home/baroncelli/phd/DATA\")\n",
    "os.environ[\"DATA\"] = str(datapath)\n",
    "from RTAscience.cfg.Config import Config\n",
    "from RTAscience.lib.RTAUtils import get_pointing\n",
    "from rtapipe.lib.datasource.photometry import Photometry\n",
    "from rtapipe.lib.plotting.photometryplot import PhotometrySinglePlot, PhotometrySubPlots"
   ]
  },
  {
   "cell_type": "markdown",
   "id": "fifty-primary",
   "metadata": {},
   "source": [
    "## Utility function"
   ]
  },
  {
   "cell_type": "code",
   "execution_count": 3,
   "id": "afraid-stream",
   "metadata": {},
   "outputs": [],
   "source": [
    "from os import listdir\n",
    "from os.path import isfile, join\n",
    "\n",
    "def getInput(dataDir, index):\n",
    "    \n",
    "    simFolder = datapath.joinpath(\"obs\", dataDir)\n",
    "    cfg = Config(simFolder.joinpath(\"config.yaml\"))\n",
    "    runid = cfg.get('runid')\n",
    "    template =  os.path.join(datapath, f'templates/{runid}.fits')\n",
    "    pointing = get_pointing(template)\n",
    "    \n",
    "    if cfg.get(\"simtype\") == 'bkg':\n",
    "        dataDir = simFolder.joinpath(\"backgrounds\")\n",
    "    else:\n",
    "        dataDir = simFolder.joinpath(runid)\n",
    "                                                        \n",
    "    dataFiles = [join(dataDir, f) for f in listdir(dataDir) if isfile(join(dataDir, f))]  \n",
    "\n",
    "    output = []\n",
    "    for dataFile in dataFiles:\n",
    "        print(\"datafile: \", dataFile)\n",
    "        conf = {\n",
    "            'input_file': dataFile,\n",
    "            'output_dir': outdir,\n",
    "            'simtype' : cfg.get('simtype'),\n",
    "            'runid' : cfg.get('runid'),\n",
    "            't_window_start': 0,\n",
    "            't_window_stop': cfg.get('tobs'),\n",
    "            'e_window_start': cfg.get('emin'),\n",
    "            'e_window_stop': cfg.get('emax'),\n",
    "            'onset' : cfg.get('onset')\n",
    "        }\n",
    "        \n",
    "        output.append((dataFile, conf, pointing))\n",
    "\n",
    "        \n",
    "        \n",
    "    print(f\"Found: {len(output)} files, pointing is: {pointing}\")\n",
    "    return output\n"
   ]
  },
  {
   "cell_type": "markdown",
   "id": "intended-learning",
   "metadata": {},
   "source": [
    "## Data folders (simulations)\n",
    "    folder/\n",
    "        config.yaml\n",
    "        backgrounds/\n",
    "            bkg000001.fits         => simulation background only\n",
    "            ..\n",
    "            bkg00000<N>.fits\n",
    "        <runId>/\n",
    "            ebl000001.fits         => simulation background + source\n",
    "            ..\n",
    "            ebl000001<N>.fits\n",
    "            "
   ]
  },
  {
   "cell_type": "markdown",
   "id": "naval-zoning",
   "metadata": {},
   "source": [
    "## How to get data\n",
    "\n",
    "### Data directories\n",
    "Simulations from template: run0406_ID000126"
   ]
  },
  {
   "cell_type": "code",
   "execution_count": 8,
   "id": "metric-scientist",
   "metadata": {},
   "outputs": [],
   "source": [
    "bkgsrc      = \"simtype_grb_os_900_tobs_1800_irf_South_z40_average_LST_30m_emin_0.03_emax_0.15_roi_2.5\"\n",
    "bkgonly     = \"simtype_bkg_os_0_tobs_1800_irf_South_z40_average_LST_30m_emin_0.03_emax_0.15_roi_2.5\""
   ]
  },
  {
   "cell_type": "markdown",
   "id": "cathedral-planning",
   "metadata": {},
   "source": [
    "### Get csv input, simulation parameters and pointing (from template)"
   ]
  },
  {
   "cell_type": "code",
   "execution_count": 9,
   "id": "internal-heart",
   "metadata": {},
   "outputs": [
    {
     "ename": "FileNotFoundError",
     "evalue": "[Errno 2] No such file or directory: '/data01/home/baroncelli/phd/DATA/obs/simtype_grb_os_900_tobs_1800_irf_South_z40_average_LST_30m_emin_0.03_emax_0.15_roi_2.5/run0406_ID000126'",
     "output_type": "error",
     "traceback": [
      "\u001b[0;31m---------------------------------------------------------------------------\u001b[0m",
      "\u001b[0;31mFileNotFoundError\u001b[0m                         Traceback (most recent call last)",
      "\u001b[0;32m<ipython-input-9-0bc32347042e>\u001b[0m in \u001b[0;36m<module>\u001b[0;34m\u001b[0m\n\u001b[0;32m----> 1\u001b[0;31m \u001b[0minputFile_srcbkg_0\u001b[0m\u001b[0;34m,\u001b[0m \u001b[0msim_params_bkgsrc\u001b[0m\u001b[0;34m,\u001b[0m \u001b[0mpointing_srcbkg_0\u001b[0m \u001b[0;34m=\u001b[0m \u001b[0mgetInput\u001b[0m\u001b[0;34m(\u001b[0m\u001b[0mbkgsrc\u001b[0m\u001b[0;34m,\u001b[0m \u001b[0;36m1\u001b[0m\u001b[0;34m)\u001b[0m\u001b[0;34m\u001b[0m\u001b[0;34m\u001b[0m\u001b[0m\n\u001b[0m",
      "\u001b[0;32m<ipython-input-3-94105b19b4c8>\u001b[0m in \u001b[0;36mgetInput\u001b[0;34m(dataDir, index)\u001b[0m\n\u001b[1;32m     15\u001b[0m         \u001b[0mdataDir\u001b[0m \u001b[0;34m=\u001b[0m \u001b[0msimFolder\u001b[0m\u001b[0;34m.\u001b[0m\u001b[0mjoinpath\u001b[0m\u001b[0;34m(\u001b[0m\u001b[0mrunid\u001b[0m\u001b[0;34m)\u001b[0m\u001b[0;34m\u001b[0m\u001b[0;34m\u001b[0m\u001b[0m\n\u001b[1;32m     16\u001b[0m \u001b[0;34m\u001b[0m\u001b[0m\n\u001b[0;32m---> 17\u001b[0;31m     \u001b[0mdataFiles\u001b[0m \u001b[0;34m=\u001b[0m \u001b[0;34m[\u001b[0m\u001b[0mjoin\u001b[0m\u001b[0;34m(\u001b[0m\u001b[0mdataDir\u001b[0m\u001b[0;34m,\u001b[0m \u001b[0mf\u001b[0m\u001b[0;34m)\u001b[0m \u001b[0;32mfor\u001b[0m \u001b[0mf\u001b[0m \u001b[0;32min\u001b[0m \u001b[0mlistdir\u001b[0m\u001b[0;34m(\u001b[0m\u001b[0mdataDir\u001b[0m\u001b[0;34m)\u001b[0m \u001b[0;32mif\u001b[0m \u001b[0misfile\u001b[0m\u001b[0;34m(\u001b[0m\u001b[0mjoin\u001b[0m\u001b[0;34m(\u001b[0m\u001b[0mdataDir\u001b[0m\u001b[0;34m,\u001b[0m \u001b[0mf\u001b[0m\u001b[0;34m)\u001b[0m\u001b[0;34m)\u001b[0m\u001b[0;34m]\u001b[0m\u001b[0;34m\u001b[0m\u001b[0;34m\u001b[0m\u001b[0m\n\u001b[0m\u001b[1;32m     18\u001b[0m \u001b[0;34m\u001b[0m\u001b[0m\n\u001b[1;32m     19\u001b[0m     \u001b[0moutput\u001b[0m \u001b[0;34m=\u001b[0m \u001b[0;34m[\u001b[0m\u001b[0;34m]\u001b[0m\u001b[0;34m\u001b[0m\u001b[0;34m\u001b[0m\u001b[0m\n",
      "\u001b[0;31mFileNotFoundError\u001b[0m: [Errno 2] No such file or directory: '/data01/home/baroncelli/phd/DATA/obs/simtype_grb_os_900_tobs_1800_irf_South_z40_average_LST_30m_emin_0.03_emax_0.15_roi_2.5/run0406_ID000126'"
     ]
    }
   ],
   "source": [
    "inputFile_srcbkg_0, sim_params_bkgsrc, pointing_srcbkg_0 = getInput(bkgsrc, 1)"
   ]
  },
  {
   "cell_type": "code",
   "execution_count": null,
   "id": "deadly-phenomenon",
   "metadata": {},
   "outputs": [],
   "source": [
    "inputFile_onlybkg_0, sim_params_bkgonly, pointing_onlybkg_0 = getInput(bkgonly, 1)"
   ]
  },
  {
   "cell_type": "markdown",
   "id": "opposite-transport",
   "metadata": {},
   "source": [
    "### Differences between configuration dictionaries"
   ]
  },
  {
   "cell_type": "code",
   "execution_count": null,
   "id": "becoming-invasion",
   "metadata": {},
   "outputs": [],
   "source": [
    "assert pointing_srcbkg_0 == pointing_onlybkg_0\n",
    "assert inputFile_srcbkg_0 != inputFile_onlybkg_0\n",
    "for key, val in sim_params_bkgsrc.items():\n",
    "    if val!=sim_params_bkgonly[key]:\n",
    "        print(f\"{key}:\\n\\t{val}\\n\\t{sim_params_bkgonly[key]}\")"
   ]
  },
  {
   "cell_type": "markdown",
   "id": "competent-agriculture",
   "metadata": {},
   "source": [
    "## The photometry class"
   ]
  },
  {
   "cell_type": "code",
   "execution_count": null,
   "id": "located-barrel",
   "metadata": {},
   "outputs": [],
   "source": [
    "photometry = Photometry()"
   ]
  },
  {
   "cell_type": "markdown",
   "id": "bizarre-february",
   "metadata": {},
   "source": [
    "## Photometry parameters"
   ]
  },
  {
   "cell_type": "code",
   "execution_count": null,
   "id": "close-journalist",
   "metadata": {},
   "outputs": [],
   "source": [
    "photometry_params = {\n",
    "    \n",
    "    # integration parameters for time\n",
    "    't_window_size': 25,\n",
    "    't_window_step': 25,\n",
    "    \n",
    "    # integration parameters for energy    \n",
    "    'e_window_size': 0.001,\n",
    "    'e_window_step': 0.001,    \n",
    "\n",
    "    # Parameters that can change too    \n",
    "    'pointing' : pointing_srcbkg_0,\n",
    "    'region_radius': 0.5,\n",
    "    \n",
    "    # Other settings\n",
    "    'plot' : 1,\n",
    "    'override': 1\n",
    "}"
   ]
  },
  {
   "cell_type": "markdown",
   "id": "expired-index",
   "metadata": {},
   "source": [
    "## Generating some data"
   ]
  },
  {
   "cell_type": "markdown",
   "id": "exotic-surge",
   "metadata": {},
   "source": [
    "### Integrate on time "
   ]
  },
  {
   "cell_type": "code",
   "execution_count": null,
   "id": "clean-prompt",
   "metadata": {},
   "outputs": [],
   "source": [
    "csv_data_t_bkg_src = photometry.integrate(photometry_params, sim_params_bkgsrc, integration=\"t\").pop(0)\n",
    "#csv_data_t_bkg_src = \"/data01/home/baroncelli/phd/DATA/obs/obs_st_bkg_tr_10_os_0_emin_0.03_emax_0.15_roi_2.5/backgrounds/bkg000001.fits\"\n",
    "pd.read_csv(csv_data_t_bkg_src).head(3)"
   ]
  },
  {
   "cell_type": "code",
   "execution_count": null,
   "id": "processed-thanks",
   "metadata": {},
   "outputs": [],
   "source": [
    "csv_data_t_bkg_only = photometry.integrate(photometry_params, sim_params_bkgonly, integration=\"t\").pop(0)\n",
    "# csv_data_t_bkg_only = \"/data01/home/baroncelli/phd/DATA/obs/obs_st_grb_tr_10_os_1800_emin_0.03_emax_0.15_roi_2.5/run0406_ID000126/ebl000001.fits\"\n",
    "print(pd.read_csv(csv_data_t_bkg_only).head(3))"
   ]
  },
  {
   "cell_type": "markdown",
   "id": "sexual-sculpture",
   "metadata": {},
   "source": [
    "### Integrate on energy"
   ]
  },
  {
   "cell_type": "code",
   "execution_count": null,
   "id": "stock-history",
   "metadata": {},
   "outputs": [],
   "source": [
    "csv_data_e_bkg_src = photometry.integrate(photometry_params, sim_params_bkgsrc, integration=\"e\").pop(0)"
   ]
  },
  {
   "cell_type": "code",
   "execution_count": null,
   "id": "powered-moore",
   "metadata": {},
   "outputs": [],
   "source": [
    "csv_data_e_bkg_only = photometry.integrate(photometry_params, sim_params_bkgonly, integration=\"e\").pop(0)"
   ]
  },
  {
   "cell_type": "markdown",
   "id": "engaging-parliament",
   "metadata": {},
   "source": [
    "## Plotting the data"
   ]
  },
  {
   "cell_type": "markdown",
   "id": "respiratory-bulgarian",
   "metadata": {},
   "source": [
    "### Time integration"
   ]
  },
  {
   "cell_type": "code",
   "execution_count": null,
   "id": "electric-syndicate",
   "metadata": {
    "scrolled": false
   },
   "outputs": [],
   "source": [
    "singleplot_t = PhotometrySinglePlot(title = \"Time integration\")\n",
    "_ = singleplot_t.addData(csv_data_t_bkg_src, photometry_params, sim_params_bkgsrc, [\"bkg+src\"], \"t\")\n",
    "_ = singleplot_t.addData(csv_data_t_bkg_only, photometry_params, sim_params_bkgonly, [\"bkg only\"], \"t\")"
   ]
  },
  {
   "cell_type": "code",
   "execution_count": null,
   "id": "bridal-performer",
   "metadata": {},
   "outputs": [],
   "source": [
    "multiplot_t = PhotometrySubPlots(title = \"Time integration\")\n",
    "_ = multiplot_t.addData(csv_data_t_bkg_src, photometry_params, sim_params_bkgsrc, [\"bkg+src\"], \"t\")\n",
    "_ = multiplot_t.addData(csv_data_t_bkg_only, photometry_params, sim_params_bkgonly, [\"bkg only\"], \"t\")"
   ]
  },
  {
   "cell_type": "markdown",
   "id": "middle-closing",
   "metadata": {},
   "source": [
    "## Energy integration"
   ]
  },
  {
   "cell_type": "code",
   "execution_count": null,
   "id": "pediatric-myrtle",
   "metadata": {},
   "outputs": [],
   "source": [
    "singleplot_e = PhotometrySinglePlot(title = \"Energy integration\")\n",
    "singleplot_e.addData(csv_data_e_bkg_src, photometry_params, sim_params_bkgsrc, [\"bkg+src\"], \"e\")\n",
    "singleplot_e.addData(csv_data_e_bkg_only, photometry_params, sim_params_bkgonly, [\"bkg only\"], \"e\")"
   ]
  },
  {
   "cell_type": "code",
   "execution_count": null,
   "id": "instrumental-framework",
   "metadata": {},
   "outputs": [],
   "source": [
    "multiplot_e = PhotometrySubPlots(title = \"Energy integration\")\n",
    "_ = multiplot_e.addData(csv_data_e_bkg_src, photometry_params, sim_params_bkgsrc, [\"bkg+src\"], \"e\")\n",
    "_ = multiplot_e.addData(csv_data_e_bkg_only, photometry_params, sim_params_bkgonly, [\"bkg only\"], \"e\")"
   ]
  },
  {
   "cell_type": "markdown",
   "id": "sensitive-melissa",
   "metadata": {},
   "source": [
    "## Integration on time with multiple window sizes and background baseline"
   ]
  },
  {
   "cell_type": "code",
   "execution_count": null,
   "id": "afraid-longer",
   "metadata": {
    "scrolled": false
   },
   "outputs": [],
   "source": [
    "# first plot: background + source on multiple window sizes\n",
    "singleplot_bgksrc = PhotometrySinglePlot(title=\"Integration on time with multiple window sizes\")\n",
    "\n",
    "# second plot: background only on multiple window sizes\n",
    "singleplot_bgk = PhotometrySinglePlot(title=\"Integration on time with multiple window sizes\")\n",
    "\n",
    "# third plot: background + source on multiple window sizes (separate subplots with background baseline)\n",
    "multiplot_bgksrc = PhotometrySubPlots(title=\"Integration on time with multiple window sizes and background baseline\")\n",
    "\n",
    "photometry_params_tmp = photometry_params.copy()\n",
    "\n",
    "for ws in [10, 25, 50, 75]:\n",
    "\n",
    "    # source+background\n",
    "    photometry_params_tmp[\"t_window_size\"] = ws\n",
    "    photometry_params_tmp[\"t_window_step\"] = ws \n",
    "    csv_data_t_bkg_src = photometry.integrate(photometry_params_tmp, sim_params_bkgsrc, integration=\"t\").pop(0)\n",
    "    \n",
    "    \n",
    "    # background only baseline\n",
    "    photometry_params_tmp[\"t_window_size\"] = ws\n",
    "    photometry_params_tmp[\"t_window_step\"] = ws\n",
    "    csv_data_t_bkg = photometry.integrate(photometry_params_tmp, sim_params_bkgonly, integration=\"t\").pop(0)\n",
    "    \n",
    "\n",
    "    _ = singleplot_bgksrc.addData(csv_data_t_bkg_src, photometry_params_tmp, sim_params_bkgsrc, [\"t_window_size\",\"t_window_step\"], \"t\")\n",
    "\n",
    "    _ = singleplot_bgk.addData(csv_data_t_bkg, photometry_params_tmp, sim_params_bkgonly, [\"t_window_size\",\"t_window_step\"], \"t\")\n",
    "    \n",
    "    \n",
    "    _ = multiplot_bgksrc.addData(csv_data_t_bkg_src, photometry_params_tmp, sim_params_bkgsrc, [\"t_window_size\",\"t_window_step\"], \"t\")\n",
    "    _ = multiplot_bgksrc.addData(csv_data_t_bkg, photometry_params_tmp, sim_params_bkgonly, [\"baseline (only background)\"], \"t\", as_baseline=True)\n",
    "    "
   ]
  },
  {
   "cell_type": "code",
   "execution_count": null,
   "id": "impaired-abuse",
   "metadata": {},
   "outputs": [],
   "source": [
    "singleplot_bgksrc.save(os.path.join(outdir, \"png/singleplot_t_ws_bgksrc\"))\n",
    "singleplot_bgksrc.destroy()\n",
    "singleplot_bgk.save(os.path.join(outdir, \"png/singleplot_t_ws_bgkonly\"))\n",
    "singleplot_bgk.destroy()\n",
    "multiplot_bgksrc.save(os.path.join(outdir, \"png/multiplot_t_ws_bgksrc\"))\n",
    "multiplot_bgksrc.destroy()"
   ]
  },
  {
   "cell_type": "markdown",
   "id": "stone-tumor",
   "metadata": {},
   "source": [
    "## Integration on energy with multiple window sizes and background baseline"
   ]
  },
  {
   "cell_type": "code",
   "execution_count": null,
   "id": "celtic-effects",
   "metadata": {
    "scrolled": false
   },
   "outputs": [],
   "source": [
    "# first plot: background + source on multiple window sizes\n",
    "singleplot_bgksrc = PhotometrySinglePlot(title = \"Integration on energy with multiple window sizes\")\n",
    "\n",
    "# second plot: background only on multiple window sizes\n",
    "singleplot_bgk = PhotometrySinglePlot(title = \"Integration on energy with multiple window sizes\")\n",
    "\n",
    "# third plot: background + source on multiple window sizes (separate subplots with background baseline)\n",
    "multiplot_bgksrc = PhotometrySubPlots(title = \"Integration on energy with multiple window sizes and background baseline\")\n",
    "\n",
    "photometry_params_tmp = photometry_params.copy()\n",
    "\n",
    "for ee in [0.001, 0.01, 0.02, 0.03]:\n",
    "\n",
    "    # source+background\n",
    "    photometry_params_tmp[\"e_window_size\"] = ee\n",
    "    photometry_params_tmp[\"e_window_step\"] = ee \n",
    "    csv_data_t_bkg_src = photometry.integrate(photometry_params_tmp, sim_params_bkgsrc, integration=\"e\").pop(0)\n",
    "    \n",
    "    \n",
    "    # background only baseline\n",
    "    photometry_params_tmp[\"e_window_size\"] = ee\n",
    "    photometry_params_tmp[\"e_window_step\"] = ee\n",
    "    csv_data_t_bkg = photometry.integrate(photometry_params_tmp, sim_params_bkgonly, integration=\"e\").pop(0)\n",
    "    \n",
    "\n",
    "    _ = singleplot_bgksrc.addData(csv_data_t_bkg_src, photometry_params_tmp, sim_params_bkgsrc, [\"e_window_size\",\"e_window_step\"], \"e\")\n",
    "\n",
    "    _ = singleplot_bgk.addData(csv_data_t_bkg, photometry_params_tmp, sim_params_bkgonly, [\"e_window_size\",\"e_window_step\"], \"e\")\n",
    "    \n",
    "    \n",
    "    _ = multiplot_bgksrc.addData(csv_data_t_bkg_src, photometry_params_tmp, sim_params_bkgsrc, [\"t_window_size\",\"t_window_step\"], \"e\")\n",
    "    _ = multiplot_bgksrc.addData(csv_data_t_bkg, photometry_params_tmp, sim_params_bkgonly, [\"t_window_size\",\"t_window_step\"], \"e\", as_baseline=True)\n",
    "    "
   ]
  },
  {
   "cell_type": "code",
   "execution_count": null,
   "id": "great-absence",
   "metadata": {},
   "outputs": [],
   "source": [
    "singleplot_bgksrc.save(os.path.join(outdir, \"png/singleplot_e_ws_bgksrc\"))\n",
    "singleplot_bgksrc.destroy()\n",
    "singleplot_bgk.save(os.path.join(outdir, \"png/singleplot_e_ws_bgkonly\"))\n",
    "singleplot_bgk.destroy()\n",
    "multiplot_bgksrc.save(os.path.join(outdir, \"png/multiplot_e_ws_bgksrc\"))\n",
    "multiplot_bgksrc.destroy()"
   ]
  },
  {
   "cell_type": "markdown",
   "id": "satisfied-ozone",
   "metadata": {},
   "source": [
    "## Integration on time with multiple region radius values and background baseline"
   ]
  },
  {
   "cell_type": "code",
   "execution_count": null,
   "id": "robust-rates",
   "metadata": {
    "scrolled": false
   },
   "outputs": [],
   "source": [
    "# first plot: background + source on multiple window sizes\n",
    "singleplot_bgksrc = PhotometrySinglePlot(title=\"Integration on time with multiple region radius values\")\n",
    "\n",
    "# second plot: background only on multiple window sizes\n",
    "singleplot_bgk = PhotometrySinglePlot(title=\"Integration on time with multiple region radius values\")\n",
    "\n",
    "# third plot: background + source on multiple window sizes (separate subplots with background baseline)\n",
    "multiplot_bgksrc = PhotometrySubPlots(title=\"Integration on time with multiple region radius values and background baseline\")\n",
    "\n",
    "photometry_params_tmp = photometry_params.copy()\n",
    "\n",
    "for rr in [0.1, 1.0, 2.0, 3.0]:\n",
    "\n",
    "    # source+background\n",
    "    photometry_params_tmp[\"region_radius\"] = rr\n",
    "    photometry_params_tmp[\"region_radius\"] = rr \n",
    "    csv_data_t_bkg_src = photometry.integrate(photometry_params_tmp, sim_params_bkgsrc, integration=\"t\").pop(0)\n",
    "    \n",
    "    \n",
    "    # background only baseline\n",
    "    photometry_params_tmp[\"region_radius\"] = rr\n",
    "    photometry_params_tmp[\"region_radius\"] = rr\n",
    "    csv_data_t_bkg = photometry.integrate(photometry_params_tmp, sim_params_bkgonly, integration=\"t\").pop(0)\n",
    "    \n",
    "\n",
    "    _ = singleplot_bgksrc.addData(csv_data_t_bkg_src, photometry_params_tmp, sim_params_bkgsrc, [\"region_radius\"], \"t\")\n",
    "\n",
    "    _ = singleplot_bgk.addData(csv_data_t_bkg, photometry_params_tmp, sim_params_bkgonly, [\"region_radius\"], \"t\")\n",
    "    \n",
    "    \n",
    "    _ = multiplot_bgksrc.addData(csv_data_t_bkg_src, photometry_params_tmp, sim_params_bkgsrc, [\"region_radius\"], \"t\")\n",
    "    _ = multiplot_bgksrc.addData(csv_data_t_bkg, photometry_params_tmp, sim_params_bkgonly, [\"region_radius\"], \"t\", as_baseline=True)\n",
    "    "
   ]
  },
  {
   "cell_type": "code",
   "execution_count": null,
   "id": "flexible-reach",
   "metadata": {},
   "outputs": [],
   "source": [
    "singleplot_bgksrc.save(os.path.join(outdir, \"png/singleplot_t_rr_bgksrc\"))\n",
    "singleplot_bgksrc.destroy()\n",
    "singleplot_bgk.save(os.path.join(outdir, \"png/singleplot_t_rr_bgkonly\"))\n",
    "singleplot_bgk.destroy()\n",
    "multiplot_bgksrc.save(os.path.join(outdir, \"png/multiplot_t_rr_bgksrc\"))\n",
    "multiplot_bgksrc.destroy()"
   ]
  },
  {
   "cell_type": "markdown",
   "id": "fixed-cookbook",
   "metadata": {},
   "source": [
    "## Integration on time with multiple pointing values and baseline on original pointing"
   ]
  },
  {
   "cell_type": "code",
   "execution_count": null,
   "id": "basic-denmark",
   "metadata": {
    "scrolled": false
   },
   "outputs": [],
   "source": [
    "# first plot: background + source on multiple window sizes\n",
    "singleplot_bgksrc = PhotometrySinglePlot(title=\"Integration on time with multiple pointing values\")\n",
    "\n",
    "# second plot: background only on multiple window sizes\n",
    "singleplot_bgk = PhotometrySinglePlot(title=\"Integration on time with multiple pointing values\")\n",
    "\n",
    "# third plot: background + source on multiple window sizes (separate subplots with background baseline)\n",
    "multiplot_bgksrc_1 = PhotometrySubPlots(title=\"Integration on time with multiple pointing values and baseline on background\")\n",
    "\n",
    "# fouth plot: background + source on multiple window sizes (separate subplots with original pointing baseline)\n",
    "multiplot_bgksrc_2 = PhotometrySubPlots(title=\"Integration on time with multiple pointing values and baseline on original pointing\")\n",
    "\n",
    "\n",
    "photometry_params_tmp = photometry_params.copy()\n",
    "pointing=pointing_srcbkg_0\n",
    "pointing_offset = 0.5\n",
    "pointings = [\n",
    "    (pointing_srcbkg_0[0]+pointing_offset,pointing[1]), \n",
    "    (pointing[0],pointing[1]+pointing_offset), \n",
    "    (pointing[0]-pointing_offset,pointing[1]), \n",
    "    (pointing[0],pointing[1]-pointing_offset)\n",
    "] \n",
    "\n",
    "photometry_params_tmp2 = photometry_params.copy()\n",
    "csv_data_t_orig_point = photometry.integrate(photometry_params_tmp2, sim_params_bkgsrc, integration=\"t\").pop(0)\n",
    "\n",
    "for pp in pointings:\n",
    "\n",
    "    # source+background\n",
    "    photometry_params_tmp[\"pointing\"] = pp\n",
    "    photometry_params_tmp[\"pointing\"] = pp \n",
    "    csv_data_t_bkg_src = photometry.integrate(photometry_params_tmp, sim_params_bkgsrc, integration=\"t\").pop(0)\n",
    "    _ = singleplot_bgksrc.addData(csv_data_t_bkg_src, photometry_params_tmp, sim_params_bkgsrc, [\"pointing\"], \"t\")\n",
    "\n",
    "    # background only\n",
    "    photometry_params_tmp[\"pointing\"] = pp\n",
    "    photometry_params_tmp[\"pointing\"] = pp\n",
    "    csv_data_t_bkg = photometry.integrate(photometry_params_tmp, sim_params_bkgonly, integration=\"t\").pop(0)\n",
    "    _ = singleplot_bgk.addData(csv_data_t_bkg, photometry_params_tmp, sim_params_bkgonly, [\"pointing\"], \"t\")\n",
    "    \n",
    "    # source+background + baseline background only\n",
    "    _ = multiplot_bgksrc_1.addData(csv_data_t_bkg_src, photometry_params_tmp, sim_params_bkgsrc, [\"pointing\"], \"t\")\n",
    "    _ = multiplot_bgksrc_1.addData(csv_data_t_bkg, photometry_params_tmp, sim_params_bkgonly, [f\"baseline (background only)\"], \"t\", as_baseline=True)    \n",
    "    \n",
    "    \"\"\"\n",
    "        @FIXME !!!\n",
    "    \"\"\"\n",
    "    # source+background + baseline original pointing\n",
    "    _ = multiplot_bgksrc_2.addData(csv_data_t_bkg_src, photometry_params_tmp, sim_params_bkgsrc, [\"pointing\"], \"t\")\n",
    "    _ = multiplot_bgksrc_2.addData(csv_data_t_orig_point, photometry_params_tmp2, sim_params_bkgsrc, [f\"baseline {pointing}\"], \"t\", as_baseline=True)\n",
    "\n",
    "print(f\"Original pointing: {pointing_srcbkg_0}\")\n"
   ]
  },
  {
   "cell_type": "code",
   "execution_count": null,
   "id": "consistent-region",
   "metadata": {},
   "outputs": [],
   "source": [
    "singleplot_bgksrc.save(os.path.join(outdir, \"png/singleplot_t_p_bgksrc\"))\n",
    "singleplot_bgksrc.destroy()\n",
    "singleplot_bgk.save(os.path.join(outdir, \"png/singleplot_t_p_bgkonly\"))\n",
    "singleplot_bgk.destroy()\n",
    "multiplot_bgksrc.save(os.path.join(outdir, \"png/multiplot_t_p_bgksrc\"))\n",
    "multiplot_bgksrc.destroy()"
   ]
  },
  {
   "cell_type": "markdown",
   "id": "parallel-plymouth",
   "metadata": {},
   "source": [
    "## Plotting different trials"
   ]
  },
  {
   "cell_type": "markdown",
   "id": "alone-venezuela",
   "metadata": {},
   "source": [
    "### bkg + src"
   ]
  },
  {
   "cell_type": "code",
   "execution_count": null,
   "id": "religious-fleet",
   "metadata": {},
   "outputs": [],
   "source": [
    "bkg_src_files = []\n",
    "for i in range(4):\n",
    "    bkg_src_files.append(getInput(bkgsrc, i))"
   ]
  },
  {
   "cell_type": "code",
   "execution_count": null,
   "id": "proud-brain",
   "metadata": {
    "scrolled": false
   },
   "outputs": [],
   "source": [
    "singleplot = PhotometrySinglePlot(title=\"Multiple trials\")\n",
    "multiplot = PhotometrySubPlots(title=\"Multiple trials\")\n",
    "\n",
    "for i in range(4):\n",
    "    conf = bkg_src_files[i][1]\n",
    "    csv_data_t = photometry.integrate(photometry_params, conf, integration=\"t\").pop(0)\n",
    "    _ = singleplot.addData(csv_data_t, photometry_params, conf, [\"pointing\"], \"t\")\n",
    "    _ = multiplot.addData(csv_data_t, photometry_params, conf, [\"pointing\"], \"t\")\n",
    "    "
   ]
  },
  {
   "cell_type": "markdown",
   "id": "dried-gasoline",
   "metadata": {},
   "source": [
    "### Bkg only"
   ]
  },
  {
   "cell_type": "code",
   "execution_count": null,
   "id": "running-paint",
   "metadata": {},
   "outputs": [],
   "source": [
    "bkg_only_files = []\n",
    "for i in range(4):\n",
    "    bkg_only_files.append(getInput(bkgonly, i))"
   ]
  },
  {
   "cell_type": "code",
   "execution_count": null,
   "id": "quiet-seminar",
   "metadata": {
    "scrolled": false
   },
   "outputs": [],
   "source": [
    "singleplot = PhotometrySinglePlot(title=\"Multiple trials\")\n",
    "multiplot = PhotometrySubPlots(title=\"Multiple trials\")\n",
    "\n",
    "for i in range(4):\n",
    "    conf = bkg_only_files[i][1]\n",
    "    csv_data_t = photometry.integrate(photometry_params, conf, integration=\"t\").pop(0)\n",
    "    _ = singleplot.addData(csv_data_t, photometry_params, conf, [\"pointing\"], \"t\")\n",
    "    _ = multiplot.addData(csv_data_t, photometry_params, conf, [\"pointing\"], \"t\")"
   ]
  },
  {
   "cell_type": "markdown",
   "id": "australian-least",
   "metadata": {},
   "source": [
    "## Integrate on time and on energy"
   ]
  },
  {
   "cell_type": "code",
   "execution_count": null,
   "id": "sublime-artist",
   "metadata": {},
   "outputs": [],
   "source": [
    "sim_params_bkgsrc_tmp = sim_params_bkgsrc.copy()\n",
    "sim_params_bkgsrc_tmp[\"t_window_start\"] = 1000 \n",
    "\n",
    "photometry_params_tmp = photometry_params.copy()\n",
    "photometry_params_tmp[\"t_window_size\"] = 50\n",
    "photometry_params_tmp[\"t_window_step\"] = 50\n",
    "photometry_params_tmp[\"e_window_size\"] = 0.01\n",
    "photometry_params_tmp[\"e_window_step\"] = 0.01"
   ]
  },
  {
   "cell_type": "code",
   "execution_count": null,
   "id": "compound-action",
   "metadata": {},
   "outputs": [],
   "source": [
    "csv_files = photometry.integrate(photometry_params_tmp, sim_params_bkgsrc_tmp, integration=\"et\")"
   ]
  },
  {
   "cell_type": "code",
   "execution_count": null,
   "id": "independent-yield",
   "metadata": {},
   "outputs": [],
   "source": [
    "csv_files_to_plot = [csv_files[0], csv_files[3], csv_files[-4], csv_files[-1]]\n",
    "csv_files_to_plot"
   ]
  },
  {
   "cell_type": "code",
   "execution_count": null,
   "id": "subsequent-obligation",
   "metadata": {},
   "outputs": [],
   "source": [
    "def exctractInterval(f):\n",
    "    emin,emax = f.split(\"energy_window_\")[1].split(\".csv\")[0].split(\"_\")\n",
    "    return emin,emax"
   ]
  },
  {
   "cell_type": "code",
   "execution_count": null,
   "id": "higher-property",
   "metadata": {},
   "outputs": [],
   "source": [
    "singleplot_t = PhotometrySinglePlot(title = \"Energy/Time integration\")\n",
    "for f in csv_files_to_plot:\n",
    "    emin, emax = exctractInterval(f)\n",
    "    _ = singleplot_t.addData(f, photometry_params_tmp, sim_params_bkgsrc_tmp, [f\"emin: {emin} emax: {emax}\"], \"t\")"
   ]
  },
  {
   "cell_type": "markdown",
   "id": "subsequent-avatar",
   "metadata": {},
   "source": [
    "# TODO\n",
    "\n",
    "* fix simulation outdir name (it should include other params) (done)\n",
    "* onset moved into template params (done)\n",
    "* Geneare background più corti (done)\n",
    "* custom titles (done)\n",
    "* refactoring: own classes, getTitle() and getLabel() in base class (done)\n",
    "* plottare differenti trials (done)\n",
    "* refactoring photometry (done)\n",
    "* round a 4 decimali (done)\n",
    "* et, te integrations (done)\n",
    "* plottare et (done)\n",
    "\n",
    "* bug pointing as baseline\n",
    "* plottare differenti runid"
   ]
  },
  {
   "cell_type": "code",
   "execution_count": null,
   "id": "affecting-mercy",
   "metadata": {},
   "outputs": [],
   "source": []
  }
 ],
 "metadata": {
  "kernelspec": {
   "display_name": "Python 3",
   "language": "python",
   "name": "python3"
  },
  "language_info": {
   "codemirror_mode": {
    "name": "ipython",
    "version": 3
   },
   "file_extension": ".py",
   "mimetype": "text/x-python",
   "name": "python",
   "nbconvert_exporter": "python",
   "pygments_lexer": "ipython3",
   "version": "3.7.3"
  }
 },
 "nbformat": 4,
 "nbformat_minor": 5
}
