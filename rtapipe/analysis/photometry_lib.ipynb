{
 "cells": [
  {
   "cell_type": "markdown",
   "id": "prime-influence",
   "metadata": {},
   "source": [
    "# PhotometryLib"
   ]
  },
  {
   "cell_type": "markdown",
   "id": "disciplinary-night",
   "metadata": {},
   "source": [
    "## Output directories"
   ]
  },
  {
   "cell_type": "code",
   "execution_count": null,
   "id": "annoying-moment",
   "metadata": {},
   "outputs": [],
   "source": [
    "import os\n",
    "outdir = os.path.join(os.environ[\"HOME\"], \"notebook_output\")\n",
    "csvdir = os.path.join(outdir, \"csv\")\n",
    "pngdir = os.path.join(outdir, \"png\")\n",
    "! mkdir -p $csvdir                          \n",
    "! mkdir -p $pngdir                          \n",
    "! ls $outdir"
   ]
  },
  {
   "cell_type": "markdown",
   "id": "available-watershed",
   "metadata": {},
   "source": [
    "## Importing dependencies"
   ]
  },
  {
   "cell_type": "code",
   "execution_count": null,
   "id": "fleet-actor",
   "metadata": {},
   "outputs": [],
   "source": [
    "from pathlib import Path\n",
    "from astropy.io import fits\n",
    "import pandas as pd\n",
    "import numpy as np\n",
    "import collections\n",
    "import matplotlib.pyplot as plt\n",
    "%matplotlib widget\n",
    "\n",
    "datapath = Path(\"/data01/home/baroncelli/phd/DATA\")\n",
    "os.environ[\"DATA\"] = str(datapath)\n",
    "from RTAscience.cfg.Config import Config\n",
    "from RTAscience.lib.RTAUtils import get_pointing\n",
    "from rtapipe.lib.datasource.photometry import Photometry\n",
    "from rtapipe.lib.plotting.photometryplot import PhotometrySinglePlot, PhotometrySubPlots"
   ]
  },
  {
   "cell_type": "markdown",
   "id": "informational-knitting",
   "metadata": {},
   "source": [
    "## Utility function"
   ]
  },
  {
   "cell_type": "code",
   "execution_count": null,
   "id": "attached-analyst",
   "metadata": {},
   "outputs": [],
   "source": [
    "from os import listdir\n",
    "from os.path import isfile, join\n",
    "\n",
    "def getInput(dataDir, index):\n",
    "    \n",
    "    if index == 0:\n",
    "        index = 1\n",
    "\n",
    "    simFolder = datapath.joinpath(\"obs\",dataDir)\n",
    "    cfg = Config(simFolder.joinpath(\"config.yaml\"))\n",
    "    runid = cfg.get('runid')\n",
    "    template =  os.path.join(datapath, f'templates/{runid}.fits')\n",
    "    pointing = get_pointing(template)\n",
    "    \n",
    "    \n",
    "    if cfg.get(\"simtype\") == 'bkg':\n",
    "        dir = simFolder.joinpath(\"backgrounds\")\n",
    "    else:\n",
    "        dir = simFolder.joinpath(runid)\n",
    "                                                        \n",
    "    data_files = [join(dir, f) for f in listdir(dir) if isfile(join(dir, f))]  \n",
    "\n",
    "    output = []\n",
    "    for data_file in data_files:\n",
    "        print(\"datafile: \", data_file)\n",
    "        conf = {\n",
    "            'input_file': data_file,\n",
    "            'output_dir': outdir,\n",
    "            'simtype' : cfg.get('simtype'),\n",
    "            'runid' : cfg.get('runid'),\n",
    "            't_window_start': 0,\n",
    "            't_window_stop': cfg.get('tobs'),\n",
    "            'e_window_start': cfg.get('emin'),\n",
    "            'e_window_stop': cfg.get('emax'),\n",
    "            'onset' : cfg.get('onset')\n",
    "        }\n",
    "        \n",
    "        output.append((data_file, conf, pointing))\n",
    "        #inputFitsFile = str(f\"ebl{str(index).zfill(6)}.fits\"))\n",
    "        #inputFitsFile = str(,f\"bkg{str(index).zfill(6)}.fits\"))\n",
    "\n",
    "    print(f\"Found: {len(output)} files, pointing is: {pointing}\")\n",
    "    return output\n"
   ]
  },
  {
   "cell_type": "markdown",
   "id": "finnish-death",
   "metadata": {},
   "source": [
    "## Data folders (simulations)\n",
    "    folder/\n",
    "        config.yaml\n",
    "        backgrounds/\n",
    "            bkg000001.fits         => simulation background only\n",
    "            ..\n",
    "            bkg00000<N>.fits\n",
    "        <runId>/\n",
    "            ebl000001.fits         => simulation background + source\n",
    "            ..\n",
    "            ebl000001<N>.fits\n",
    "            "
   ]
  },
  {
   "cell_type": "markdown",
   "id": "young-reach",
   "metadata": {},
   "source": [
    "## How to get data\n",
    "\n",
    "### Data directories\n",
    "Simulations from template: run0406_ID000126"
   ]
  },
  {
   "cell_type": "code",
   "execution_count": null,
   "id": "ethical-permission",
   "metadata": {},
   "outputs": [],
   "source": [
    "bkgsrc      = \"simtype_grb_os_1800_tobs_3600_irf_South_z40_average_LST_30m_emin_0.03_emax_0.15_roi_2.5\"\n",
    "bkgonly     = \"simtype_bkg_os_0_tobs_3600_irf_South_z40_average_LST_30m_emin_0.03_emax_0.15_roi_2.5\""
   ]
  },
  {
   "cell_type": "markdown",
   "id": "sharing-allocation",
   "metadata": {},
   "source": [
    "### Get csv input, simulation parameters and pointing (from template)"
   ]
  },
  {
   "cell_type": "code",
   "execution_count": null,
   "id": "marine-reserve",
   "metadata": {},
   "outputs": [],
   "source": [
    "inputFile_srcbkg_0, sim_params_bkgsrc, pointing_srcbkg_0 = getInput(bkgsrc, 1)"
   ]
  },
  {
   "cell_type": "code",
   "execution_count": null,
   "id": "governmental-solid",
   "metadata": {},
   "outputs": [],
   "source": [
    "inputFile_onlybkg_0, sim_params_bkgonly, pointing_onlybkg_0 = getInput(bkgonly, 1)"
   ]
  },
  {
   "cell_type": "markdown",
   "id": "amazing-sigma",
   "metadata": {},
   "source": [
    "### Differences between configuration dictionaries"
   ]
  },
  {
   "cell_type": "code",
   "execution_count": null,
   "id": "valued-moral",
   "metadata": {},
   "outputs": [],
   "source": [
    "assert pointing_srcbkg_0 == pointing_onlybkg_0\n",
    "assert inputFile_srcbkg_0 != inputFile_onlybkg_0\n",
    "for key, val in sim_params_bkgsrc.items():\n",
    "    if val!=sim_params_bkgonly[key]:\n",
    "        print(f\"{key}:\\n\\t{val}\\n\\t{sim_params_bkgonly[key]}\")"
   ]
  },
  {
   "cell_type": "markdown",
   "id": "static-toolbox",
   "metadata": {},
   "source": [
    "## The photometry class"
   ]
  },
  {
   "cell_type": "code",
   "execution_count": null,
   "id": "aging-robert",
   "metadata": {},
   "outputs": [],
   "source": [
    "photometry = Photometry()"
   ]
  },
  {
   "cell_type": "markdown",
   "id": "lined-evolution",
   "metadata": {},
   "source": [
    "## Photometry parameters"
   ]
  },
  {
   "cell_type": "code",
   "execution_count": null,
   "id": "basic-safety",
   "metadata": {},
   "outputs": [],
   "source": [
    "photometry_params = {\n",
    "    \n",
    "    # integration parameters for time\n",
    "    't_window_size': 25,\n",
    "    't_window_step': 25,\n",
    "    \n",
    "    # integration parameters for energy    \n",
    "    'e_window_size': 0.001,\n",
    "    'e_window_step': 0.001,    \n",
    "\n",
    "    # Parameters that can change too    \n",
    "    'pointing' : pointing_srcbkg_0,\n",
    "    'region_radius': 0.5,\n",
    "    \n",
    "    # Other settings\n",
    "    'plot' : 1,\n",
    "    'override': 1\n",
    "}"
   ]
  },
  {
   "cell_type": "markdown",
   "id": "lesser-solid",
   "metadata": {},
   "source": [
    "## Generating some data"
   ]
  },
  {
   "cell_type": "markdown",
   "id": "pursuant-asian",
   "metadata": {},
   "source": [
    "### Integrate on time "
   ]
  },
  {
   "cell_type": "code",
   "execution_count": null,
   "id": "declared-hacker",
   "metadata": {},
   "outputs": [],
   "source": [
    "csv_data_t_bkg_src = photometry.integrate(photometry_params, sim_params_bkgsrc, integration=\"t\").pop(0)\n",
    "#csv_data_t_bkg_src = \"/data01/home/baroncelli/phd/DATA/obs/obs_st_bkg_tr_10_os_0_emin_0.03_emax_0.15_roi_2.5/backgrounds/bkg000001.fits\"\n",
    "pd.read_csv(csv_data_t_bkg_src).head(3)"
   ]
  },
  {
   "cell_type": "code",
   "execution_count": null,
   "id": "effective-punishment",
   "metadata": {},
   "outputs": [],
   "source": [
    "csv_data_t_bkg_only = photometry.integrate(photometry_params, sim_params_bkgonly, integration=\"t\").pop(0)\n",
    "# csv_data_t_bkg_only = \"/data01/home/baroncelli/phd/DATA/obs/obs_st_grb_tr_10_os_1800_emin_0.03_emax_0.15_roi_2.5/run0406_ID000126/ebl000001.fits\"\n",
    "print(pd.read_csv(csv_data_t_bkg_only).head(3))"
   ]
  },
  {
   "cell_type": "markdown",
   "id": "public-malta",
   "metadata": {},
   "source": [
    "### Integrate on energy"
   ]
  },
  {
   "cell_type": "code",
   "execution_count": null,
   "id": "affecting-breakfast",
   "metadata": {},
   "outputs": [],
   "source": [
    "csv_data_e_bkg_src = photometry.integrate(photometry_params, sim_params_bkgsrc, integration=\"e\").pop(0)"
   ]
  },
  {
   "cell_type": "code",
   "execution_count": null,
   "id": "spread-gauge",
   "metadata": {},
   "outputs": [],
   "source": [
    "csv_data_e_bkg_only = photometry.integrate(photometry_params, sim_params_bkgonly, integration=\"e\").pop(0)"
   ]
  },
  {
   "cell_type": "markdown",
   "id": "outside-order",
   "metadata": {},
   "source": [
    "## Plotting the data"
   ]
  },
  {
   "cell_type": "markdown",
   "id": "civil-season",
   "metadata": {},
   "source": [
    "### Time integration"
   ]
  },
  {
   "cell_type": "code",
   "execution_count": null,
   "id": "neural-minority",
   "metadata": {
    "scrolled": false
   },
   "outputs": [],
   "source": [
    "singleplot_t = PhotometrySinglePlot(title = \"Time integration\")\n",
    "_ = singleplot_t.addData(csv_data_t_bkg_src, photometry_params, sim_params_bkgsrc, [\"bkg+src\"], \"t\")\n",
    "_ = singleplot_t.addData(csv_data_t_bkg_only, photometry_params, sim_params_bkgonly, [\"bkg only\"], \"t\")"
   ]
  },
  {
   "cell_type": "code",
   "execution_count": null,
   "id": "guilty-payroll",
   "metadata": {},
   "outputs": [],
   "source": [
    "multiplot_t = PhotometrySubPlots(title = \"Time integration\")\n",
    "_ = multiplot_t.addData(csv_data_t_bkg_src, photometry_params, sim_params_bkgsrc, [\"bkg+src\"], \"t\")\n",
    "_ = multiplot_t.addData(csv_data_t_bkg_only, photometry_params, sim_params_bkgonly, [\"bkg only\"], \"t\")"
   ]
  },
  {
   "cell_type": "markdown",
   "id": "quality-remark",
   "metadata": {},
   "source": [
    "## Energy integration"
   ]
  },
  {
   "cell_type": "code",
   "execution_count": null,
   "id": "bacterial-wealth",
   "metadata": {},
   "outputs": [],
   "source": [
    "singleplot_e = PhotometrySinglePlot(title = \"Energy integration\")\n",
    "singleplot_e.addData(csv_data_e_bkg_src, photometry_params, sim_params_bkgsrc, [\"bkg+src\"], \"e\")\n",
    "singleplot_e.addData(csv_data_e_bkg_only, photometry_params, sim_params_bkgonly, [\"bkg only\"], \"e\")"
   ]
  },
  {
   "cell_type": "code",
   "execution_count": null,
   "id": "crucial-multimedia",
   "metadata": {},
   "outputs": [],
   "source": [
    "multiplot_e = PhotometrySubPlots(title = \"Energy integration\")\n",
    "_ = multiplot_e.addData(csv_data_e_bkg_src, photometry_params, sim_params_bkgsrc, [\"bkg+src\"], \"e\")\n",
    "_ = multiplot_e.addData(csv_data_e_bkg_only, photometry_params, sim_params_bkgonly, [\"bkg only\"], \"e\")"
   ]
  },
  {
   "cell_type": "markdown",
   "id": "informative-eligibility",
   "metadata": {},
   "source": [
    "## Integration on time with multiple window sizes and background baseline"
   ]
  },
  {
   "cell_type": "code",
   "execution_count": null,
   "id": "exempt-density",
   "metadata": {
    "scrolled": false
   },
   "outputs": [],
   "source": [
    "# first plot: background + source on multiple window sizes\n",
    "singleplot_bgksrc = PhotometrySinglePlot(title=\"Integration on time with multiple window sizes\")\n",
    "\n",
    "# second plot: background only on multiple window sizes\n",
    "singleplot_bgk = PhotometrySinglePlot(title=\"Integration on time with multiple window sizes\")\n",
    "\n",
    "# third plot: background + source on multiple window sizes (separate subplots with background baseline)\n",
    "multiplot_bgksrc = PhotometrySubPlots(title=\"Integration on time with multiple window sizes and background baseline\")\n",
    "\n",
    "photometry_params_tmp = photometry_params.copy()\n",
    "\n",
    "for ws in [10, 25, 50, 75]:\n",
    "\n",
    "    # source+background\n",
    "    photometry_params_tmp[\"t_window_size\"] = ws\n",
    "    photometry_params_tmp[\"t_window_step\"] = ws \n",
    "    csv_data_t_bkg_src = photometry.integrate(photometry_params_tmp, sim_params_bkgsrc, integration=\"t\").pop(0)\n",
    "    \n",
    "    \n",
    "    # background only baseline\n",
    "    photometry_params_tmp[\"t_window_size\"] = ws\n",
    "    photometry_params_tmp[\"t_window_step\"] = ws\n",
    "    csv_data_t_bkg = photometry.integrate(photometry_params_tmp, sim_params_bkgonly, integration=\"t\").pop(0)\n",
    "    \n",
    "\n",
    "    _ = singleplot_bgksrc.addData(csv_data_t_bkg_src, photometry_params_tmp, sim_params_bkgsrc, [\"t_window_size\",\"t_window_step\"], \"t\")\n",
    "\n",
    "    _ = singleplot_bgk.addData(csv_data_t_bkg, photometry_params_tmp, sim_params_bkgonly, [\"t_window_size\",\"t_window_step\"], \"t\")\n",
    "    \n",
    "    \n",
    "    _ = multiplot_bgksrc.addData(csv_data_t_bkg_src, photometry_params_tmp, sim_params_bkgsrc, [\"t_window_size\",\"t_window_step\"], \"t\")\n",
    "    _ = multiplot_bgksrc.addData(csv_data_t_bkg, photometry_params_tmp, sim_params_bkgonly, [\"baseline (only background)\"], \"t\", as_baseline=True)\n",
    "    "
   ]
  },
  {
   "cell_type": "code",
   "execution_count": null,
   "id": "undefined-ancient",
   "metadata": {},
   "outputs": [],
   "source": [
    "singleplot_bgksrc.save(os.path.join(outdir, \"png/singleplot_t_ws_bgksrc\"))\n",
    "singleplot_bgksrc.destroy()\n",
    "singleplot_bgk.save(os.path.join(outdir, \"png/singleplot_t_ws_bgkonly\"))\n",
    "singleplot_bgk.destroy()\n",
    "multiplot_bgksrc.save(os.path.join(outdir, \"png/multiplot_t_ws_bgksrc\"))\n",
    "multiplot_bgksrc.destroy()"
   ]
  },
  {
   "cell_type": "markdown",
   "id": "arctic-milwaukee",
   "metadata": {},
   "source": [
    "## Integration on energy with multiple window sizes and background baseline"
   ]
  },
  {
   "cell_type": "code",
   "execution_count": null,
   "id": "gentle-strength",
   "metadata": {
    "scrolled": false
   },
   "outputs": [],
   "source": [
    "# first plot: background + source on multiple window sizes\n",
    "singleplot_bgksrc = PhotometrySinglePlot(title = \"Integration on energy with multiple window sizes\")\n",
    "\n",
    "# second plot: background only on multiple window sizes\n",
    "singleplot_bgk = PhotometrySinglePlot(title = \"Integration on energy with multiple window sizes\")\n",
    "\n",
    "# third plot: background + source on multiple window sizes (separate subplots with background baseline)\n",
    "multiplot_bgksrc = PhotometrySubPlots(title = \"Integration on energy with multiple window sizes and background baseline\")\n",
    "\n",
    "photometry_params_tmp = photometry_params.copy()\n",
    "\n",
    "for ee in [0.001, 0.01, 0.02, 0.03]:\n",
    "\n",
    "    # source+background\n",
    "    photometry_params_tmp[\"e_window_size\"] = ee\n",
    "    photometry_params_tmp[\"e_window_step\"] = ee \n",
    "    csv_data_t_bkg_src = photometry.integrate(photometry_params_tmp, sim_params_bkgsrc, integration=\"e\").pop(0)\n",
    "    \n",
    "    \n",
    "    # background only baseline\n",
    "    photometry_params_tmp[\"e_window_size\"] = ee\n",
    "    photometry_params_tmp[\"e_window_step\"] = ee\n",
    "    csv_data_t_bkg = photometry.integrate(photometry_params_tmp, sim_params_bkgonly, integration=\"e\").pop(0)\n",
    "    \n",
    "\n",
    "    _ = singleplot_bgksrc.addData(csv_data_t_bkg_src, photometry_params_tmp, sim_params_bkgsrc, [\"e_window_size\",\"e_window_step\"], \"e\")\n",
    "\n",
    "    _ = singleplot_bgk.addData(csv_data_t_bkg, photometry_params_tmp, sim_params_bkgonly, [\"e_window_size\",\"e_window_step\"], \"e\")\n",
    "    \n",
    "    \n",
    "    _ = multiplot_bgksrc.addData(csv_data_t_bkg_src, photometry_params_tmp, sim_params_bkgsrc, [\"t_window_size\",\"t_window_step\"], \"e\")\n",
    "    _ = multiplot_bgksrc.addData(csv_data_t_bkg, photometry_params_tmp, sim_params_bkgonly, [\"t_window_size\",\"t_window_step\"], \"e\", as_baseline=True)\n",
    "    "
   ]
  },
  {
   "cell_type": "code",
   "execution_count": null,
   "id": "recognized-shopping",
   "metadata": {},
   "outputs": [],
   "source": [
    "singleplot_bgksrc.save(os.path.join(outdir, \"png/singleplot_e_ws_bgksrc\"))\n",
    "singleplot_bgksrc.destroy()\n",
    "singleplot_bgk.save(os.path.join(outdir, \"png/singleplot_e_ws_bgkonly\"))\n",
    "singleplot_bgk.destroy()\n",
    "multiplot_bgksrc.save(os.path.join(outdir, \"png/multiplot_e_ws_bgksrc\"))\n",
    "multiplot_bgksrc.destroy()"
   ]
  },
  {
   "cell_type": "markdown",
   "id": "complimentary-baker",
   "metadata": {},
   "source": [
    "## Integration on time with multiple region radius values and background baseline"
   ]
  },
  {
   "cell_type": "code",
   "execution_count": null,
   "id": "elder-muscle",
   "metadata": {
    "scrolled": false
   },
   "outputs": [],
   "source": [
    "# first plot: background + source on multiple window sizes\n",
    "singleplot_bgksrc = PhotometrySinglePlot(title=\"Integration on time with multiple region radius values\")\n",
    "\n",
    "# second plot: background only on multiple window sizes\n",
    "singleplot_bgk = PhotometrySinglePlot(title=\"Integration on time with multiple region radius values\")\n",
    "\n",
    "# third plot: background + source on multiple window sizes (separate subplots with background baseline)\n",
    "multiplot_bgksrc = PhotometrySubPlots(title=\"Integration on time with multiple region radius values and background baseline\")\n",
    "\n",
    "photometry_params_tmp = photometry_params.copy()\n",
    "\n",
    "for rr in [0.1, 1.0, 2.0, 3.0]:\n",
    "\n",
    "    # source+background\n",
    "    photometry_params_tmp[\"region_radius\"] = rr\n",
    "    photometry_params_tmp[\"region_radius\"] = rr \n",
    "    csv_data_t_bkg_src = photometry.integrate(photometry_params_tmp, sim_params_bkgsrc, integration=\"t\").pop(0)\n",
    "    \n",
    "    \n",
    "    # background only baseline\n",
    "    photometry_params_tmp[\"region_radius\"] = rr\n",
    "    photometry_params_tmp[\"region_radius\"] = rr\n",
    "    csv_data_t_bkg = photometry.integrate(photometry_params_tmp, sim_params_bkgonly, integration=\"t\").pop(0)\n",
    "    \n",
    "\n",
    "    _ = singleplot_bgksrc.addData(csv_data_t_bkg_src, photometry_params_tmp, sim_params_bkgsrc, [\"region_radius\"], \"t\")\n",
    "\n",
    "    _ = singleplot_bgk.addData(csv_data_t_bkg, photometry_params_tmp, sim_params_bkgonly, [\"region_radius\"], \"t\")\n",
    "    \n",
    "    \n",
    "    _ = multiplot_bgksrc.addData(csv_data_t_bkg_src, photometry_params_tmp, sim_params_bkgsrc, [\"region_radius\"], \"t\")\n",
    "    _ = multiplot_bgksrc.addData(csv_data_t_bkg, photometry_params_tmp, sim_params_bkgonly, [\"region_radius\"], \"t\", as_baseline=True)\n",
    "    "
   ]
  },
  {
   "cell_type": "code",
   "execution_count": null,
   "id": "south-sheep",
   "metadata": {},
   "outputs": [],
   "source": [
    "singleplot_bgksrc.save(os.path.join(outdir, \"png/singleplot_t_rr_bgksrc\"))\n",
    "singleplot_bgksrc.destroy()\n",
    "singleplot_bgk.save(os.path.join(outdir, \"png/singleplot_t_rr_bgkonly\"))\n",
    "singleplot_bgk.destroy()\n",
    "multiplot_bgksrc.save(os.path.join(outdir, \"png/multiplot_t_rr_bgksrc\"))\n",
    "multiplot_bgksrc.destroy()"
   ]
  },
  {
   "cell_type": "markdown",
   "id": "suffering-vertex",
   "metadata": {},
   "source": [
    "## Integration on time with multiple pointing values and baseline on original pointing"
   ]
  },
  {
   "cell_type": "code",
   "execution_count": null,
   "id": "suburban-flight",
   "metadata": {
    "scrolled": false
   },
   "outputs": [],
   "source": [
    "# first plot: background + source on multiple window sizes\n",
    "singleplot_bgksrc = PhotometrySinglePlot(title=\"Integration on time with multiple pointing values\")\n",
    "\n",
    "# second plot: background only on multiple window sizes\n",
    "singleplot_bgk = PhotometrySinglePlot(title=\"Integration on time with multiple pointing values\")\n",
    "\n",
    "# third plot: background + source on multiple window sizes (separate subplots with background baseline)\n",
    "multiplot_bgksrc_1 = PhotometrySubPlots(title=\"Integration on time with multiple pointing values and baseline on background\")\n",
    "\n",
    "# fouth plot: background + source on multiple window sizes (separate subplots with original pointing baseline)\n",
    "multiplot_bgksrc_2 = PhotometrySubPlots(title=\"Integration on time with multiple pointing values and baseline on original pointing\")\n",
    "\n",
    "\n",
    "photometry_params_tmp = photometry_params.copy()\n",
    "pointing=pointing_srcbkg_0\n",
    "pointing_offset = 0.5\n",
    "pointings = [\n",
    "    (pointing_srcbkg_0[0]+pointing_offset,pointing[1]), \n",
    "    (pointing[0],pointing[1]+pointing_offset), \n",
    "    (pointing[0]-pointing_offset,pointing[1]), \n",
    "    (pointing[0],pointing[1]-pointing_offset)\n",
    "] \n",
    "\n",
    "photometry_params_tmp2 = photometry_params.copy()\n",
    "csv_data_t_orig_point = photometry.integrate(photometry_params_tmp2, sim_params_bkgsrc, integration=\"t\").pop(0)\n",
    "\n",
    "for pp in pointings:\n",
    "\n",
    "    # source+background\n",
    "    photometry_params_tmp[\"pointing\"] = pp\n",
    "    photometry_params_tmp[\"pointing\"] = pp \n",
    "    csv_data_t_bkg_src = photometry.integrate(photometry_params_tmp, sim_params_bkgsrc, integration=\"t\").pop(0)\n",
    "    _ = singleplot_bgksrc.addData(csv_data_t_bkg_src, photometry_params_tmp, sim_params_bkgsrc, [\"pointing\"], \"t\")\n",
    "\n",
    "    # background only\n",
    "    photometry_params_tmp[\"pointing\"] = pp\n",
    "    photometry_params_tmp[\"pointing\"] = pp\n",
    "    csv_data_t_bkg = photometry.integrate(photometry_params_tmp, sim_params_bkgonly, integration=\"t\").pop(0)\n",
    "    _ = singleplot_bgk.addData(csv_data_t_bkg, photometry_params_tmp, sim_params_bkgonly, [\"pointing\"], \"t\")\n",
    "    \n",
    "    # source+background + baseline background only\n",
    "    _ = multiplot_bgksrc_1.addData(csv_data_t_bkg_src, photometry_params_tmp, sim_params_bkgsrc, [\"pointing\"], \"t\")\n",
    "    _ = multiplot_bgksrc_1.addData(csv_data_t_bkg, photometry_params_tmp, sim_params_bkgonly, [f\"baseline (background only)\"], \"t\", as_baseline=True)    \n",
    "    \n",
    "    \"\"\"\n",
    "        @FIXME !!!\n",
    "    \"\"\"\n",
    "    # source+background + baseline original pointing\n",
    "    _ = multiplot_bgksrc_2.addData(csv_data_t_bkg_src, photometry_params_tmp, sim_params_bkgsrc, [\"pointing\"], \"t\")\n",
    "    _ = multiplot_bgksrc_2.addData(csv_data_t_orig_point, photometry_params_tmp2, sim_params_bkgsrc, [f\"baseline {pointing}\"], \"t\", as_baseline=True)\n",
    "\n",
    "print(f\"Original pointing: {pointing_srcbkg_0}\")\n"
   ]
  },
  {
   "cell_type": "code",
   "execution_count": null,
   "id": "immediate-truth",
   "metadata": {},
   "outputs": [],
   "source": [
    "singleplot_bgksrc.save(os.path.join(outdir, \"png/singleplot_t_p_bgksrc\"))\n",
    "singleplot_bgksrc.destroy()\n",
    "singleplot_bgk.save(os.path.join(outdir, \"png/singleplot_t_p_bgkonly\"))\n",
    "singleplot_bgk.destroy()\n",
    "multiplot_bgksrc.save(os.path.join(outdir, \"png/multiplot_t_p_bgksrc\"))\n",
    "multiplot_bgksrc.destroy()"
   ]
  },
  {
   "cell_type": "markdown",
   "id": "thousand-genre",
   "metadata": {},
   "source": [
    "## Plotting different trials"
   ]
  },
  {
   "cell_type": "markdown",
   "id": "bizarre-isaac",
   "metadata": {},
   "source": [
    "### bkg + src"
   ]
  },
  {
   "cell_type": "code",
   "execution_count": null,
   "id": "processed-torture",
   "metadata": {},
   "outputs": [],
   "source": [
    "bkg_src_files = []\n",
    "for i in range(4):\n",
    "    bkg_src_files.append(getInput(bkgsrc, i))"
   ]
  },
  {
   "cell_type": "code",
   "execution_count": null,
   "id": "returning-district",
   "metadata": {
    "scrolled": false
   },
   "outputs": [],
   "source": [
    "singleplot = PhotometrySinglePlot(title=\"Multiple trials\")\n",
    "multiplot = PhotometrySubPlots(title=\"Multiple trials\")\n",
    "\n",
    "for i in range(4):\n",
    "    conf = bkg_src_files[i][1]\n",
    "    csv_data_t = photometry.integrate(photometry_params, conf, integration=\"t\").pop(0)\n",
    "    _ = singleplot.addData(csv_data_t, photometry_params, conf, [\"pointing\"], \"t\")\n",
    "    _ = multiplot.addData(csv_data_t, photometry_params, conf, [\"pointing\"], \"t\")\n",
    "    "
   ]
  },
  {
   "cell_type": "markdown",
   "id": "breathing-italy",
   "metadata": {},
   "source": [
    "### Bkg only"
   ]
  },
  {
   "cell_type": "code",
   "execution_count": null,
   "id": "sonic-climb",
   "metadata": {},
   "outputs": [],
   "source": [
    "bkg_only_files = []\n",
    "for i in range(4):\n",
    "    bkg_only_files.append(getInput(bkgonly, i))"
   ]
  },
  {
   "cell_type": "code",
   "execution_count": null,
   "id": "stainless-cylinder",
   "metadata": {
    "scrolled": false
   },
   "outputs": [],
   "source": [
    "singleplot = PhotometrySinglePlot(title=\"Multiple trials\")\n",
    "multiplot = PhotometrySubPlots(title=\"Multiple trials\")\n",
    "\n",
    "for i in range(4):\n",
    "    conf = bkg_only_files[i][1]\n",
    "    csv_data_t = photometry.integrate(photometry_params, conf, integration=\"t\").pop(0)\n",
    "    _ = singleplot.addData(csv_data_t, photometry_params, conf, [\"pointing\"], \"t\")\n",
    "    _ = multiplot.addData(csv_data_t, photometry_params, conf, [\"pointing\"], \"t\")"
   ]
  },
  {
   "cell_type": "markdown",
   "id": "naked-credits",
   "metadata": {},
   "source": [
    "## Integrate on time and on energy"
   ]
  },
  {
   "cell_type": "code",
   "execution_count": null,
   "id": "round-checkout",
   "metadata": {},
   "outputs": [],
   "source": [
    "sim_params_bkgsrc_tmp = sim_params_bkgsrc.copy()\n",
    "sim_params_bkgsrc_tmp[\"t_window_start\"] = 1000 \n",
    "\n",
    "photometry_params_tmp = photometry_params.copy()\n",
    "photometry_params_tmp[\"t_window_size\"] = 50\n",
    "photometry_params_tmp[\"t_window_step\"] = 50\n",
    "photometry_params_tmp[\"e_window_size\"] = 0.01\n",
    "photometry_params_tmp[\"e_window_step\"] = 0.01"
   ]
  },
  {
   "cell_type": "code",
   "execution_count": null,
   "id": "closed-smart",
   "metadata": {},
   "outputs": [],
   "source": [
    "csv_files = photometry.integrate(photometry_params_tmp, sim_params_bkgsrc_tmp, integration=\"et\")"
   ]
  },
  {
   "cell_type": "code",
   "execution_count": null,
   "id": "refined-fifth",
   "metadata": {},
   "outputs": [],
   "source": [
    "csv_files_to_plot = [csv_files[0], csv_files[3], csv_files[-4], csv_files[-1]]\n",
    "csv_files_to_plot"
   ]
  },
  {
   "cell_type": "code",
   "execution_count": null,
   "id": "cooked-shadow",
   "metadata": {},
   "outputs": [],
   "source": [
    "def exctractInterval(f):\n",
    "    emin,emax = f.split(\"energy_window_\")[1].split(\".csv\")[0].split(\"_\")\n",
    "    return emin,emax"
   ]
  },
  {
   "cell_type": "code",
   "execution_count": null,
   "id": "blind-spice",
   "metadata": {},
   "outputs": [],
   "source": [
    "singleplot_t = PhotometrySinglePlot(title = \"Energy/Time integration\")\n",
    "for f in csv_files_to_plot:\n",
    "    emin, emax = exctractInterval(f)\n",
    "    _ = singleplot_t.addData(f, photometry_params_tmp, sim_params_bkgsrc_tmp, [f\"emin: {emin} emax: {emax}\"], \"t\")"
   ]
  },
  {
   "cell_type": "markdown",
   "id": "express-translator",
   "metadata": {},
   "source": [
    "# TODO\n",
    "\n",
    "* fix simulation outdir name (it should include other params) (done)\n",
    "* onset moved into template params (done)\n",
    "* Geneare background più corti (done)\n",
    "* custom titles (done)\n",
    "* refactoring: own classes, getTitle() and getLabel() in base class (done)\n",
    "* plottare differenti trials (done)\n",
    "* refactoring photometry (done)\n",
    "* round a 4 decimali (done)\n",
    "* et, te integrations (done)\n",
    "* plottare et (done)\n",
    "\n",
    "* bug pointing as baseline\n",
    "* plottare differenti runid"
   ]
  },
  {
   "cell_type": "code",
   "execution_count": null,
   "id": "cultural-latvia",
   "metadata": {},
   "outputs": [],
   "source": []
  }
 ],
 "metadata": {
  "kernelspec": {
   "display_name": "Python 3",
   "language": "python",
   "name": "python3"
  },
  "language_info": {
   "codemirror_mode": {
    "name": "ipython",
    "version": 3
   },
   "file_extension": ".py",
   "mimetype": "text/x-python",
   "name": "python",
   "nbconvert_exporter": "python",
   "pygments_lexer": "ipython3",
   "version": "3.7.3"
  }
 },
 "nbformat": 4,
 "nbformat_minor": 5
}
