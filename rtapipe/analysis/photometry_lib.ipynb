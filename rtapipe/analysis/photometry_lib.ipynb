{
 "cells": [
  {
   "cell_type": "markdown",
   "id": "stupid-definition",
   "metadata": {},
   "source": [
    "# PhotometryLib"
   ]
  },
  {
   "cell_type": "markdown",
   "id": "documented-applicant",
   "metadata": {},
   "source": [
    "## Output directories"
   ]
  },
  {
   "cell_type": "code",
   "execution_count": null,
   "id": "narrow-westminster",
   "metadata": {},
   "outputs": [],
   "source": [
    "import os\n",
    "outdir = os.path.join(os.environ[\"HOME\"], \"notebook_output\")\n",
    "csvdir = os.path.join(outdir, \"csv\")\n",
    "pngdir = os.path.join(outdir, \"png\")\n",
    "! mkdir -p $csvdir                          \n",
    "! mkdir -p $pngdir                          \n",
    "! ls $outdir"
   ]
  },
  {
   "cell_type": "markdown",
   "id": "focused-princess",
   "metadata": {},
   "source": [
    "## Importing dependencies"
   ]
  },
  {
   "cell_type": "code",
   "execution_count": null,
   "id": "peripheral-polymer",
   "metadata": {},
   "outputs": [],
   "source": [
    "from pathlib import Path\n",
    "from astropy.io import fits\n",
    "import pandas as pd\n",
    "import numpy as np\n",
    "import collections\n",
    "import matplotlib.pyplot as plt\n",
    "%matplotlib widget\n",
    "\n",
    "datapath = Path(\"/data01/home/baroncelli/phd/DATA\")\n",
    "os.environ[\"DATA\"] = str(datapath)\n",
    "from RTAscience.cfg.Config import Config\n",
    "from RTAscience.lib.RTAUtils import get_pointing\n",
    "from rtapipe.lib.datasource.photometry import Photometry\n",
    "from rtapipe.lib.plotting.photometryplot import PhotometrySinglePlot, PhotometrySubPlots"
   ]
  },
  {
   "cell_type": "markdown",
   "id": "plain-knowing",
   "metadata": {},
   "source": [
    "## Utility function"
   ]
  },
  {
   "cell_type": "code",
   "execution_count": null,
   "id": "computational-swift",
   "metadata": {},
   "outputs": [],
   "source": [
    "from os import listdir\n",
    "from os.path import isfile, join\n",
    "\n",
    "def getInput(dataDir, index):\n",
    "    \n",
    "    if index == 0:\n",
    "        index = 1\n",
    "\n",
    "    simFolder = datapath.joinpath(\"obs\",dataDir)\n",
    "    cfg = Config(simFolder.joinpath(\"config.yaml\"))\n",
    "    runid = cfg.get('runid')\n",
    "    template =  os.path.join(datapath, f'templates/{runid}.fits')\n",
    "    pointing = get_pointing(template)\n",
    "    \n",
    "    \n",
    "    if cfg.get(\"simtype\") == 'bkg':\n",
    "        dir = simFolder.joinpath(\"backgrounds\")\n",
    "    else:\n",
    "        dir = simFolder.joinpath(runid)\n",
    "                                                        \n",
    "    data_files = [join(dir, f) for f in listdir(dir) if isfile(join(dir, f))]  \n",
    "\n",
    "    output = []\n",
    "    for data_file in data_files:\n",
    "        print(\"datafile: \", data_file)\n",
    "        conf = {\n",
    "            'input_file': data_file,\n",
    "            'output_dir': outdir,\n",
    "            'simtype' : cfg.get('simtype'),\n",
    "            'runid' : cfg.get('runid'),\n",
    "            't_window_start': 0,\n",
    "            't_window_stop': cfg.get('tobs'),\n",
    "            'e_window_start': cfg.get('emin'),\n",
    "            'e_window_stop': cfg.get('emax'),\n",
    "            'onset' : cfg.get('onset')\n",
    "        }\n",
    "        \n",
    "        output.append((data_file, conf, pointing))\n",
    "        #inputFitsFile = str(f\"ebl{str(index).zfill(6)}.fits\"))\n",
    "        #inputFitsFile = str(,f\"bkg{str(index).zfill(6)}.fits\"))\n",
    "\n",
    "    print(f\"Found: {len(output)} files, pointing is: {pointing}\")\n",
    "    return output\n"
   ]
  },
  {
   "cell_type": "markdown",
   "id": "connected-wallpaper",
   "metadata": {},
   "source": [
    "## Data folders (simulations)\n",
    "    folder/\n",
    "        config.yaml\n",
    "        backgrounds/\n",
    "            bkg000001.fits         => simulation background only\n",
    "            ..\n",
    "            bkg00000<N>.fits\n",
    "        <runId>/\n",
    "            ebl000001.fits         => simulation background + source\n",
    "            ..\n",
    "            ebl000001<N>.fits\n",
    "            "
   ]
  },
  {
   "cell_type": "markdown",
   "id": "seasonal-capital",
   "metadata": {},
   "source": [
    "## How to get data\n",
    "\n",
    "### Data directories\n",
    "Simulations from template: run0406_ID000126"
   ]
  },
  {
   "cell_type": "code",
   "execution_count": null,
   "id": "integrated-hampton",
   "metadata": {},
   "outputs": [],
   "source": [
    "bkgsrc      = \"simtype_grb_os_1800_tobs_3600_irf_South_z40_average_LST_30m_emin_0.03_emax_0.15_roi_2.5\"\n",
    "bkgonly     = \"simtype_bkg_os_0_tobs_3600_irf_South_z40_average_LST_30m_emin_0.03_emax_0.15_roi_2.5\""
   ]
  },
  {
   "cell_type": "markdown",
   "id": "overall-animation",
   "metadata": {},
   "source": [
    "### Get csv input, simulation parameters and pointing (from template)"
   ]
  },
  {
   "cell_type": "code",
   "execution_count": null,
   "id": "unusual-boxing",
   "metadata": {},
   "outputs": [],
   "source": [
    "inputFile_srcbkg_0, sim_params_bkgsrc, pointing_srcbkg_0 = getInput(bkgsrc, 1)"
   ]
  },
  {
   "cell_type": "code",
   "execution_count": null,
   "id": "placed-relationship",
   "metadata": {},
   "outputs": [],
   "source": [
    "inputFile_onlybkg_0, sim_params_bkgonly, pointing_onlybkg_0 = getInput(bkgonly, 1)"
   ]
  },
  {
   "cell_type": "markdown",
   "id": "british-prevention",
   "metadata": {},
   "source": [
    "### Differences between configuration dictionaries"
   ]
  },
  {
   "cell_type": "code",
   "execution_count": null,
   "id": "numeric-garbage",
   "metadata": {},
   "outputs": [],
   "source": [
    "assert pointing_srcbkg_0 == pointing_onlybkg_0\n",
    "assert inputFile_srcbkg_0 != inputFile_onlybkg_0\n",
    "for key, val in sim_params_bkgsrc.items():\n",
    "    if val!=sim_params_bkgonly[key]:\n",
    "        print(f\"{key}:\\n\\t{val}\\n\\t{sim_params_bkgonly[key]}\")"
   ]
  },
  {
   "cell_type": "markdown",
   "id": "located-minnesota",
   "metadata": {},
   "source": [
    "## The photometry class"
   ]
  },
  {
   "cell_type": "code",
   "execution_count": null,
   "id": "healthy-mortality",
   "metadata": {},
   "outputs": [],
   "source": [
    "photometry = Photometry()"
   ]
  },
  {
   "cell_type": "markdown",
   "id": "outer-kernel",
   "metadata": {},
   "source": [
    "## Photometry parameters"
   ]
  },
  {
   "cell_type": "code",
   "execution_count": null,
   "id": "statutory-framework",
   "metadata": {},
   "outputs": [],
   "source": [
    "photometry_params = {\n",
    "    \n",
    "    # integration parameters for time\n",
    "    't_window_size': 25,\n",
    "    't_window_step': 25,\n",
    "    \n",
    "    # integration parameters for energy    \n",
    "    'e_window_size': 0.001,\n",
    "    'e_window_step': 0.001,    \n",
    "\n",
    "    # Parameters that can change too    \n",
    "    'pointing' : pointing_srcbkg_0,\n",
    "    'region_radius': 0.5,\n",
    "    \n",
    "    # Other settings\n",
    "    'plot' : 1,\n",
    "    'override': 1\n",
    "}"
   ]
  },
  {
   "cell_type": "markdown",
   "id": "isolated-minneapolis",
   "metadata": {},
   "source": [
    "## Generating some data"
   ]
  },
  {
   "cell_type": "markdown",
   "id": "following-algorithm",
   "metadata": {},
   "source": [
    "### Integrate on time "
   ]
  },
  {
   "cell_type": "code",
   "execution_count": null,
   "id": "cordless-poker",
   "metadata": {},
   "outputs": [],
   "source": [
    "csv_data_t_bkg_src = photometry.integrate(photometry_params, sim_params_bkgsrc, integration=\"t\").pop(0)\n",
    "#csv_data_t_bkg_src = \"/data01/home/baroncelli/phd/DATA/obs/obs_st_bkg_tr_10_os_0_emin_0.03_emax_0.15_roi_2.5/backgrounds/bkg000001.fits\"\n",
    "pd.read_csv(csv_data_t_bkg_src).head(3)"
   ]
  },
  {
   "cell_type": "code",
   "execution_count": null,
   "id": "psychological-claim",
   "metadata": {},
   "outputs": [],
   "source": [
    "csv_data_t_bkg_only = photometry.integrate(photometry_params, sim_params_bkgonly, integration=\"t\").pop(0)\n",
    "# csv_data_t_bkg_only = \"/data01/home/baroncelli/phd/DATA/obs/obs_st_grb_tr_10_os_1800_emin_0.03_emax_0.15_roi_2.5/run0406_ID000126/ebl000001.fits\"\n",
    "print(pd.read_csv(csv_data_t_bkg_only).head(3))"
   ]
  },
  {
   "cell_type": "markdown",
   "id": "indian-desperate",
   "metadata": {},
   "source": [
    "### Integrate on energy"
   ]
  },
  {
   "cell_type": "code",
   "execution_count": null,
   "id": "nuclear-yemen",
   "metadata": {},
   "outputs": [],
   "source": [
    "csv_data_e_bkg_src = photometry.integrate(photometry_params, sim_params_bkgsrc, integration=\"e\").pop(0)"
   ]
  },
  {
   "cell_type": "code",
   "execution_count": null,
   "id": "nuclear-thickness",
   "metadata": {},
   "outputs": [],
   "source": [
    "csv_data_e_bkg_only = photometry.integrate(photometry_params, sim_params_bkgonly, integration=\"e\").pop(0)"
   ]
  },
  {
   "cell_type": "markdown",
   "id": "double-phrase",
   "metadata": {},
   "source": [
    "## Plotting the data"
   ]
  },
  {
   "cell_type": "markdown",
   "id": "daily-possibility",
   "metadata": {},
   "source": [
    "### Time integration"
   ]
  },
  {
   "cell_type": "code",
   "execution_count": null,
   "id": "focal-submission",
   "metadata": {
    "scrolled": false
   },
   "outputs": [],
   "source": [
    "singleplot_t = PhotometrySinglePlot(title = \"Time integration\")\n",
    "_ = singleplot_t.addData(csv_data_t_bkg_src, photometry_params, sim_params_bkgsrc, [\"bkg+src\"], \"t\")\n",
    "_ = singleplot_t.addData(csv_data_t_bkg_only, photometry_params, sim_params_bkgonly, [\"bkg only\"], \"t\")"
   ]
  },
  {
   "cell_type": "code",
   "execution_count": null,
   "id": "occupational-background",
   "metadata": {},
   "outputs": [],
   "source": [
    "multiplot_t = PhotometrySubPlots(title = \"Time integration\")\n",
    "_ = multiplot_t.addData(csv_data_t_bkg_src, photometry_params, sim_params_bkgsrc, [\"bkg+src\"], \"t\")\n",
    "_ = multiplot_t.addData(csv_data_t_bkg_only, photometry_params, sim_params_bkgonly, [\"bkg only\"], \"t\")"
   ]
  },
  {
   "cell_type": "markdown",
   "id": "reserved-driving",
   "metadata": {},
   "source": [
    "## Energy integration"
   ]
  },
  {
   "cell_type": "code",
   "execution_count": null,
   "id": "transparent-solution",
   "metadata": {},
   "outputs": [],
   "source": [
    "singleplot_e = PhotometrySinglePlot(title = \"Energy integration\")\n",
    "singleplot_e.addData(csv_data_e_bkg_src, photometry_params, sim_params_bkgsrc, [\"bkg+src\"], \"e\")\n",
    "singleplot_e.addData(csv_data_e_bkg_only, photometry_params, sim_params_bkgonly, [\"bkg only\"], \"e\")"
   ]
  },
  {
   "cell_type": "code",
   "execution_count": null,
   "id": "imperial-signal",
   "metadata": {},
   "outputs": [],
   "source": [
    "multiplot_e = PhotometrySubPlots(title = \"Energy integration\")\n",
    "_ = multiplot_e.addData(csv_data_e_bkg_src, photometry_params, sim_params_bkgsrc, [\"bkg+src\"], \"e\")\n",
    "_ = multiplot_e.addData(csv_data_e_bkg_only, photometry_params, sim_params_bkgonly, [\"bkg only\"], \"e\")"
   ]
  },
  {
   "cell_type": "markdown",
   "id": "continental-drink",
   "metadata": {},
   "source": [
    "## Integration on time with multiple window sizes and background baseline"
   ]
  },
  {
   "cell_type": "code",
   "execution_count": null,
   "id": "frank-buffalo",
   "metadata": {
    "scrolled": false
   },
   "outputs": [],
   "source": [
    "# first plot: background + source on multiple window sizes\n",
    "singleplot_bgksrc = PhotometrySinglePlot(title=\"Integration on time with multiple window sizes\")\n",
    "\n",
    "# second plot: background only on multiple window sizes\n",
    "singleplot_bgk = PhotometrySinglePlot(title=\"Integration on time with multiple window sizes\")\n",
    "\n",
    "# third plot: background + source on multiple window sizes (separate subplots with background baseline)\n",
    "multiplot_bgksrc = PhotometrySubPlots(title=\"Integration on time with multiple window sizes and background baseline\")\n",
    "\n",
    "photometry_params_tmp = photometry_params.copy()\n",
    "\n",
    "for ws in [10, 25, 50, 75]:\n",
    "\n",
    "    # source+background\n",
    "    photometry_params_tmp[\"t_window_size\"] = ws\n",
    "    photometry_params_tmp[\"t_window_step\"] = ws \n",
    "    csv_data_t_bkg_src = photometry.integrate(photometry_params_tmp, sim_params_bkgsrc, integration=\"t\").pop(0)\n",
    "    \n",
    "    \n",
    "    # background only baseline\n",
    "    photometry_params_tmp[\"t_window_size\"] = ws\n",
    "    photometry_params_tmp[\"t_window_step\"] = ws\n",
    "    csv_data_t_bkg = photometry.integrate(photometry_params_tmp, sim_params_bkgonly, integration=\"t\").pop(0)\n",
    "    \n",
    "\n",
    "    _ = singleplot_bgksrc.addData(csv_data_t_bkg_src, photometry_params_tmp, sim_params_bkgsrc, [\"t_window_size\",\"t_window_step\"], \"t\")\n",
    "\n",
    "    _ = singleplot_bgk.addData(csv_data_t_bkg, photometry_params_tmp, sim_params_bkgonly, [\"t_window_size\",\"t_window_step\"], \"t\")\n",
    "    \n",
    "    \n",
    "    _ = multiplot_bgksrc.addData(csv_data_t_bkg_src, photometry_params_tmp, sim_params_bkgsrc, [\"t_window_size\",\"t_window_step\"], \"t\")\n",
    "    _ = multiplot_bgksrc.addData(csv_data_t_bkg, photometry_params_tmp, sim_params_bkgonly, [\"baseline (only background)\"], \"t\", as_baseline=True)\n",
    "    "
   ]
  },
  {
   "cell_type": "code",
   "execution_count": null,
   "id": "small-environment",
   "metadata": {},
   "outputs": [],
   "source": [
    "singleplot_bgksrc.save(os.path.join(outdir, \"png/singleplot_t_ws_bgksrc\"))\n",
    "singleplot_bgksrc.destroy()\n",
    "singleplot_bgk.save(os.path.join(outdir, \"png/singleplot_t_ws_bgkonly\"))\n",
    "singleplot_bgk.destroy()\n",
    "multiplot_bgksrc.save(os.path.join(outdir, \"png/multiplot_t_ws_bgksrc\"))\n",
    "multiplot_bgksrc.destroy()"
   ]
  },
  {
   "cell_type": "markdown",
   "id": "acting-composition",
   "metadata": {},
   "source": [
    "## Integration on energy with multiple window sizes and background baseline"
   ]
  },
  {
   "cell_type": "code",
   "execution_count": null,
   "id": "official-hollywood",
   "metadata": {
    "scrolled": false
   },
   "outputs": [],
   "source": [
    "# first plot: background + source on multiple window sizes\n",
    "singleplot_bgksrc = PhotometrySinglePlot(title = \"Integration on energy with multiple window sizes\")\n",
    "\n",
    "# second plot: background only on multiple window sizes\n",
    "singleplot_bgk = PhotometrySinglePlot(title = \"Integration on energy with multiple window sizes\")\n",
    "\n",
    "# third plot: background + source on multiple window sizes (separate subplots with background baseline)\n",
    "multiplot_bgksrc = PhotometrySubPlots(title = \"Integration on energy with multiple window sizes and background baseline\")\n",
    "\n",
    "photometry_params_tmp = photometry_params.copy()\n",
    "\n",
    "for ee in [0.001, 0.01, 0.02, 0.03]:\n",
    "\n",
    "    # source+background\n",
    "    photometry_params_tmp[\"e_window_size\"] = ee\n",
    "    photometry_params_tmp[\"e_window_step\"] = ee \n",
    "    csv_data_t_bkg_src = photometry.integrate(photometry_params_tmp, sim_params_bkgsrc, integration=\"e\").pop(0)\n",
    "    \n",
    "    \n",
    "    # background only baseline\n",
    "    photometry_params_tmp[\"e_window_size\"] = ee\n",
    "    photometry_params_tmp[\"e_window_step\"] = ee\n",
    "    csv_data_t_bkg = photometry.integrate(photometry_params_tmp, sim_params_bkgonly, integration=\"e\").pop(0)\n",
    "    \n",
    "\n",
    "    _ = singleplot_bgksrc.addData(csv_data_t_bkg_src, photometry_params_tmp, sim_params_bkgsrc, [\"e_window_size\",\"e_window_step\"], \"e\")\n",
    "\n",
    "    _ = singleplot_bgk.addData(csv_data_t_bkg, photometry_params_tmp, sim_params_bkgonly, [\"e_window_size\",\"e_window_step\"], \"e\")\n",
    "    \n",
    "    \n",
    "    _ = multiplot_bgksrc.addData(csv_data_t_bkg_src, photometry_params_tmp, sim_params_bkgsrc, [\"t_window_size\",\"t_window_step\"], \"e\")\n",
    "    _ = multiplot_bgksrc.addData(csv_data_t_bkg, photometry_params_tmp, sim_params_bkgonly, [\"t_window_size\",\"t_window_step\"], \"e\", as_baseline=True)\n",
    "    "
   ]
  },
  {
   "cell_type": "code",
   "execution_count": null,
   "id": "willing-creator",
   "metadata": {},
   "outputs": [],
   "source": [
    "singleplot_bgksrc.save(os.path.join(outdir, \"png/singleplot_e_ws_bgksrc\"))\n",
    "singleplot_bgksrc.destroy()\n",
    "singleplot_bgk.save(os.path.join(outdir, \"png/singleplot_e_ws_bgkonly\"))\n",
    "singleplot_bgk.destroy()\n",
    "multiplot_bgksrc.save(os.path.join(outdir, \"png/multiplot_e_ws_bgksrc\"))\n",
    "multiplot_bgksrc.destroy()"
   ]
  },
  {
   "cell_type": "markdown",
   "id": "derived-folder",
   "metadata": {},
   "source": [
    "## Integration on time with multiple region radius values and background baseline"
   ]
  },
  {
   "cell_type": "code",
   "execution_count": null,
   "id": "comprehensive-asthma",
   "metadata": {
    "scrolled": false
   },
   "outputs": [],
   "source": [
    "# first plot: background + source on multiple window sizes\n",
    "singleplot_bgksrc = PhotometrySinglePlot(title=\"Integration on time with multiple region radius values\")\n",
    "\n",
    "# second plot: background only on multiple window sizes\n",
    "singleplot_bgk = PhotometrySinglePlot(title=\"Integration on time with multiple region radius values\")\n",
    "\n",
    "# third plot: background + source on multiple window sizes (separate subplots with background baseline)\n",
    "multiplot_bgksrc = PhotometrySubPlots(title=\"Integration on time with multiple region radius values and background baseline\")\n",
    "\n",
    "photometry_params_tmp = photometry_params.copy()\n",
    "\n",
    "for rr in [0.1, 1.0, 2.0, 3.0]:\n",
    "\n",
    "    # source+background\n",
    "    photometry_params_tmp[\"region_radius\"] = rr\n",
    "    photometry_params_tmp[\"region_radius\"] = rr \n",
    "    csv_data_t_bkg_src = photometry.integrate(photometry_params_tmp, sim_params_bkgsrc, integration=\"t\").pop(0)\n",
    "    \n",
    "    \n",
    "    # background only baseline\n",
    "    photometry_params_tmp[\"region_radius\"] = rr\n",
    "    photometry_params_tmp[\"region_radius\"] = rr\n",
    "    csv_data_t_bkg = photometry.integrate(photometry_params_tmp, sim_params_bkgonly, integration=\"t\").pop(0)\n",
    "    \n",
    "\n",
    "    _ = singleplot_bgksrc.addData(csv_data_t_bkg_src, photometry_params_tmp, sim_params_bkgsrc, [\"region_radius\"], \"t\")\n",
    "\n",
    "    _ = singleplot_bgk.addData(csv_data_t_bkg, photometry_params_tmp, sim_params_bkgonly, [\"region_radius\"], \"t\")\n",
    "    \n",
    "    \n",
    "    _ = multiplot_bgksrc.addData(csv_data_t_bkg_src, photometry_params_tmp, sim_params_bkgsrc, [\"region_radius\"], \"t\")\n",
    "    _ = multiplot_bgksrc.addData(csv_data_t_bkg, photometry_params_tmp, sim_params_bkgonly, [\"region_radius\"], \"t\", as_baseline=True)\n",
    "    "
   ]
  },
  {
   "cell_type": "code",
   "execution_count": null,
   "id": "convertible-queen",
   "metadata": {},
   "outputs": [],
   "source": [
    "singleplot_bgksrc.save(os.path.join(outdir, \"png/singleplot_t_rr_bgksrc\"))\n",
    "singleplot_bgksrc.destroy()\n",
    "singleplot_bgk.save(os.path.join(outdir, \"png/singleplot_t_rr_bgkonly\"))\n",
    "singleplot_bgk.destroy()\n",
    "multiplot_bgksrc.save(os.path.join(outdir, \"png/multiplot_t_rr_bgksrc\"))\n",
    "multiplot_bgksrc.destroy()"
   ]
  },
  {
   "cell_type": "markdown",
   "id": "genetic-empty",
   "metadata": {},
   "source": [
    "## Integration on time with multiple pointing values and baseline on original pointing"
   ]
  },
  {
   "cell_type": "code",
   "execution_count": null,
   "id": "entertaining-family",
   "metadata": {
    "scrolled": false
   },
   "outputs": [],
   "source": [
    "# first plot: background + source on multiple window sizes\n",
    "singleplot_bgksrc = PhotometrySinglePlot(title=\"Integration on time with multiple pointing values\")\n",
    "\n",
    "# second plot: background only on multiple window sizes\n",
    "singleplot_bgk = PhotometrySinglePlot(title=\"Integration on time with multiple pointing values\")\n",
    "\n",
    "# third plot: background + source on multiple window sizes (separate subplots with background baseline)\n",
    "multiplot_bgksrc_1 = PhotometrySubPlots(title=\"Integration on time with multiple pointing values and baseline on background\")\n",
    "\n",
    "# fouth plot: background + source on multiple window sizes (separate subplots with original pointing baseline)\n",
    "multiplot_bgksrc_2 = PhotometrySubPlots(title=\"Integration on time with multiple pointing values and baseline on original pointing\")\n",
    "\n",
    "\n",
    "photometry_params_tmp = photometry_params.copy()\n",
    "pointing=pointing_srcbkg_0\n",
    "pointing_offset = 0.5\n",
    "pointings = [\n",
    "    (pointing_srcbkg_0[0]+pointing_offset,pointing[1]), \n",
    "    (pointing[0],pointing[1]+pointing_offset), \n",
    "    (pointing[0]-pointing_offset,pointing[1]), \n",
    "    (pointing[0],pointing[1]-pointing_offset)\n",
    "] \n",
    "\n",
    "photometry_params_tmp2 = photometry_params.copy()\n",
    "csv_data_t_orig_point = photometry.integrate(photometry_params_tmp2, sim_params_bkgsrc, integration=\"t\").pop(0)\n",
    "\n",
    "for pp in pointings:\n",
    "\n",
    "    # source+background\n",
    "    photometry_params_tmp[\"pointing\"] = pp\n",
    "    photometry_params_tmp[\"pointing\"] = pp \n",
    "    csv_data_t_bkg_src = photometry.integrate(photometry_params_tmp, sim_params_bkgsrc, integration=\"t\").pop(0)\n",
    "    _ = singleplot_bgksrc.addData(csv_data_t_bkg_src, photometry_params_tmp, sim_params_bkgsrc, [\"pointing\"], \"t\")\n",
    "\n",
    "    # background only\n",
    "    photometry_params_tmp[\"pointing\"] = pp\n",
    "    photometry_params_tmp[\"pointing\"] = pp\n",
    "    csv_data_t_bkg = photometry.integrate(photometry_params_tmp, sim_params_bkgonly, integration=\"t\").pop(0)\n",
    "    _ = singleplot_bgk.addData(csv_data_t_bkg, photometry_params_tmp, sim_params_bkgonly, [\"pointing\"], \"t\")\n",
    "    \n",
    "    # source+background + baseline background only\n",
    "    _ = multiplot_bgksrc_1.addData(csv_data_t_bkg_src, photometry_params_tmp, sim_params_bkgsrc, [\"pointing\"], \"t\")\n",
    "    _ = multiplot_bgksrc_1.addData(csv_data_t_bkg, photometry_params_tmp, sim_params_bkgonly, [f\"baseline (background only)\"], \"t\", as_baseline=True)    \n",
    "    \n",
    "    \"\"\"\n",
    "        @FIXME !!!\n",
    "    \"\"\"\n",
    "    # source+background + baseline original pointing\n",
    "    _ = multiplot_bgksrc_2.addData(csv_data_t_bkg_src, photometry_params_tmp, sim_params_bkgsrc, [\"pointing\"], \"t\")\n",
    "    _ = multiplot_bgksrc_2.addData(csv_data_t_orig_point, photometry_params_tmp2, sim_params_bkgsrc, [f\"baseline {pointing}\"], \"t\", as_baseline=True)\n",
    "\n",
    "print(f\"Original pointing: {pointing_srcbkg_0}\")\n"
   ]
  },
  {
   "cell_type": "code",
   "execution_count": null,
   "id": "broad-junction",
   "metadata": {},
   "outputs": [],
   "source": [
    "singleplot_bgksrc.save(os.path.join(outdir, \"png/singleplot_t_p_bgksrc\"))\n",
    "singleplot_bgksrc.destroy()\n",
    "singleplot_bgk.save(os.path.join(outdir, \"png/singleplot_t_p_bgkonly\"))\n",
    "singleplot_bgk.destroy()\n",
    "multiplot_bgksrc.save(os.path.join(outdir, \"png/multiplot_t_p_bgksrc\"))\n",
    "multiplot_bgksrc.destroy()"
   ]
  },
  {
   "cell_type": "markdown",
   "id": "compatible-trade",
   "metadata": {},
   "source": [
    "## Plotting different trials"
   ]
  },
  {
   "cell_type": "markdown",
   "id": "grave-charm",
   "metadata": {},
   "source": [
    "### bkg + src"
   ]
  },
  {
   "cell_type": "code",
   "execution_count": null,
   "id": "velvet-helen",
   "metadata": {},
   "outputs": [],
   "source": [
    "bkg_src_files = []\n",
    "for i in range(4):\n",
    "    bkg_src_files.append(getInput(bkgsrc, i))"
   ]
  },
  {
   "cell_type": "code",
   "execution_count": null,
   "id": "elect-acceptance",
   "metadata": {
    "scrolled": false
   },
   "outputs": [],
   "source": [
    "singleplot = PhotometrySinglePlot(title=\"Multiple trials\")\n",
    "multiplot = PhotometrySubPlots(title=\"Multiple trials\")\n",
    "\n",
    "for i in range(4):\n",
    "    conf = bkg_src_files[i][1]\n",
    "    csv_data_t = photometry.integrate(photometry_params, conf, integration=\"t\").pop(0)\n",
    "    _ = singleplot.addData(csv_data_t, photometry_params, conf, [\"pointing\"], \"t\")\n",
    "    _ = multiplot.addData(csv_data_t, photometry_params, conf, [\"pointing\"], \"t\")\n",
    "    "
   ]
  },
  {
   "cell_type": "markdown",
   "id": "announced-match",
   "metadata": {},
   "source": [
    "### Bkg only"
   ]
  },
  {
   "cell_type": "code",
   "execution_count": null,
   "id": "original-heaven",
   "metadata": {},
   "outputs": [],
   "source": [
    "bkg_only_files = []\n",
    "for i in range(4):\n",
    "    bkg_only_files.append(getInput(bkgonly, i))"
   ]
  },
  {
   "cell_type": "code",
   "execution_count": null,
   "id": "combined-poison",
   "metadata": {
    "scrolled": false
   },
   "outputs": [],
   "source": [
    "singleplot = PhotometrySinglePlot(title=\"Multiple trials\")\n",
    "multiplot = PhotometrySubPlots(title=\"Multiple trials\")\n",
    "\n",
    "for i in range(4):\n",
    "    conf = bkg_only_files[i][1]\n",
    "    csv_data_t = photometry.integrate(photometry_params, conf, integration=\"t\").pop(0)\n",
    "    _ = singleplot.addData(csv_data_t, photometry_params, conf, [\"pointing\"], \"t\")\n",
    "    _ = multiplot.addData(csv_data_t, photometry_params, conf, [\"pointing\"], \"t\")"
   ]
  },
  {
   "cell_type": "markdown",
   "id": "russian-buffer",
   "metadata": {},
   "source": [
    "## Integrate on time and on energy"
   ]
  },
  {
   "cell_type": "code",
   "execution_count": null,
   "id": "controlling-height",
   "metadata": {},
   "outputs": [],
   "source": [
    "sim_params_bkgsrc_tmp = sim_params_bkgsrc.copy()\n",
    "sim_params_bkgsrc_tmp[\"t_window_start\"] = 1000 \n",
    "\n",
    "photometry_params_tmp = photometry_params.copy()\n",
    "photometry_params_tmp[\"t_window_size\"] = 50\n",
    "photometry_params_tmp[\"t_window_step\"] = 50\n",
    "photometry_params_tmp[\"e_window_size\"] = 0.01\n",
    "photometry_params_tmp[\"e_window_step\"] = 0.01"
   ]
  },
  {
   "cell_type": "code",
   "execution_count": null,
   "id": "active-civilian",
   "metadata": {},
   "outputs": [],
   "source": [
    "csv_files = photometry.integrate(photometry_params_tmp, sim_params_bkgsrc_tmp, integration=\"et\")"
   ]
  },
  {
   "cell_type": "code",
   "execution_count": null,
   "id": "recreational-kazakhstan",
   "metadata": {},
   "outputs": [],
   "source": [
    "csv_files_to_plot = [csv_files[0], csv_files[3], csv_files[-4], csv_files[-1]]\n",
    "csv_files_to_plot"
   ]
  },
  {
   "cell_type": "code",
   "execution_count": null,
   "id": "designed-attendance",
   "metadata": {},
   "outputs": [],
   "source": [
    "def exctractInterval(f):\n",
    "    emin,emax = f.split(\"energy_window_\")[1].split(\".csv\")[0].split(\"_\")\n",
    "    return emin,emax"
   ]
  },
  {
   "cell_type": "code",
   "execution_count": null,
   "id": "clean-graphic",
   "metadata": {},
   "outputs": [],
   "source": [
    "singleplot_t = PhotometrySinglePlot(title = \"Energy/Time integration\")\n",
    "for f in csv_files_to_plot:\n",
    "    emin, emax = exctractInterval(f)\n",
    "    _ = singleplot_t.addData(f, photometry_params_tmp, sim_params_bkgsrc_tmp, [f\"emin: {emin} emax: {emax}\"], \"t\")"
   ]
  },
  {
   "cell_type": "markdown",
   "id": "random-energy",
   "metadata": {},
   "source": [
    "## Generate data for an Encoder/Decoder LSTM"
   ]
  },
  {
   "cell_type": "code",
   "execution_count": 1,
   "id": "built-category",
   "metadata": {},
   "outputs": [
    {
     "name": "stdout",
     "output_type": "stream",
     "text": [
      "csv  png\r\n"
     ]
    },
    {
     "name": "stderr",
     "output_type": "stream",
     "text": [
      "\n",
      "Bad key \"text.kerning_factor\" on line 4 in\n",
      "/data01/home/baroncelli/.conda/envs/bphd/lib/python3.7/site-packages/matplotlib/mpl-data/stylelib/_classic_test_patch.mplstyle.\n",
      "You probably need to get an updated matplotlibrc file from\n",
      "https://github.com/matplotlib/matplotlib/blob/v3.1.2/matplotlibrc.template\n",
      "or from the matplotlib source distribution\n"
     ]
    }
   ],
   "source": [
    "import os\n",
    "outdir = os.path.join(os.environ[\"HOME\"], \"notebook_output\")\n",
    "csvdir = os.path.join(outdir, \"csv\")\n",
    "pngdir = os.path.join(outdir, \"png\")\n",
    "! mkdir -p $csvdir                          \n",
    "! mkdir -p $pngdir                          \n",
    "! ls $outdir\n",
    "\n",
    "from pathlib import Path\n",
    "from astropy.io import fits\n",
    "import pandas as pd\n",
    "import numpy as np\n",
    "import collections\n",
    "import matplotlib.pyplot as plt\n",
    "%matplotlib widget\n",
    "\n",
    "datapath = Path(\"/data01/home/baroncelli/phd/DATA\")\n",
    "os.environ[\"DATA\"] = str(datapath)\n",
    "from RTAscience.cfg.Config import Config\n",
    "from RTAscience.lib.RTAUtils import get_pointing\n",
    "from rtapipe.lib.datasource.photometry import Photometry\n",
    "from rtapipe.lib.plotting.photometryplot import PhotometrySinglePlot, PhotometrySubPlots"
   ]
  },
  {
   "cell_type": "code",
   "execution_count": 2,
   "id": "civil-nevada",
   "metadata": {},
   "outputs": [],
   "source": [
    "photometry = Photometry()\n",
    "\n",
    "photometry_params = {\n",
    "    \n",
    "    # integration parameters for time\n",
    "    't_window_size': 25,\n",
    "    't_window_step': 25,\n",
    "    \n",
    "    # integration parameters for energy    \n",
    "    'e_window_size': 0.001,\n",
    "    'e_window_step': 0.001,    \n",
    "\n",
    "    # Parameters that can change too    \n",
    "    'pointing' : None,\n",
    "    'region_radius': 0.5,\n",
    "    \n",
    "    # Other settings\n",
    "    'plot' : 1,\n",
    "    'override': 1\n",
    "}\n",
    "\n",
    "from os import listdir\n",
    "from os.path import isfile, join\n",
    "\n",
    "def getInput(dataDir, howMany=-1):\n",
    "\n",
    "    simFolder = datapath.joinpath(\"obs\", dataDir)\n",
    "    cfg = Config(simFolder.joinpath(\"config.yaml\"))\n",
    "    runid = cfg.get('runid')\n",
    "    template =  os.path.join(datapath, f'templates/{runid}.fits')\n",
    "    pointing = get_pointing(template)\n",
    "    \n",
    "    \n",
    "    #if cfg.get(\"simtype\") == 'bkg':\n",
    "    #    dir = simFolder.joinpath(\"backgrounds\")\n",
    "    #else:\n",
    "    #    dir = simFolder.joinpath(runid)\n",
    "                                                        \n",
    "    data_files = [join(simFolder, f) for f in listdir(simFolder) if isfile(join(simFolder, f)) and \".yaml\" not in f]  \n",
    "\n",
    "    files = []\n",
    "    for data_file in data_files:\n",
    "\n",
    "        conf = {\n",
    "            'input_file': data_file,\n",
    "            'output_dir': outdir,\n",
    "            'simtype' : cfg.get('simtype'),\n",
    "            'runid' : cfg.get('runid'),\n",
    "            't_window_start': 0,\n",
    "            't_window_stop': cfg.get('tobs'),\n",
    "            'e_window_start': cfg.get('emin'),\n",
    "            'e_window_stop': cfg.get('emax'),\n",
    "            'onset' : cfg.get('onset')\n",
    "        }\n",
    "        \n",
    "        files.append(data_file)\n",
    "\n",
    "        if len(files) >= howMany:\n",
    "            break\n",
    "            \n",
    "            \n",
    "    print(f\"Found: {len(files)} files, pointing is: {pointing}\")\n",
    "\n",
    "    return conf, pointing, files\n"
   ]
  },
  {
   "cell_type": "markdown",
   "id": "incorrect-engineer",
   "metadata": {},
   "source": [
    "## Background only "
   ]
  },
  {
   "cell_type": "code",
   "execution_count": 3,
   "id": "helpful-heritage",
   "metadata": {},
   "outputs": [],
   "source": [
    "bkgonly = \"run0406_ID000126_OK_bkg_only\""
   ]
  },
  {
   "cell_type": "code",
   "execution_count": 4,
   "id": "separate-elimination",
   "metadata": {},
   "outputs": [
    {
     "name": "stdout",
     "output_type": "stream",
     "text": [
      "Found: 100 files, pointing is: (33.057, -51.841)\n"
     ]
    }
   ],
   "source": [
    "conf, pointing, files = getInput(bkgonly, 100)"
   ]
  },
  {
   "cell_type": "code",
   "execution_count": 5,
   "id": "exotic-brooks",
   "metadata": {},
   "outputs": [],
   "source": [
    "photometry_params['pointing'] = pointing"
   ]
  },
  {
   "cell_type": "code",
   "execution_count": 6,
   "id": "obvious-danish",
   "metadata": {},
   "outputs": [
    {
     "name": "stderr",
     "output_type": "stream",
     "text": [
      "\r",
      "  0%|          | 0/72 [00:00<?, ?it/s]"
     ]
    },
    {
     "name": "stdout",
     "output_type": "stream",
     "text": [
      "region_count: 0, rr: 0.5, tmin=0 tmax=25 emin=0.03 emax=0.15\n",
      "..\n"
     ]
    },
    {
     "name": "stderr",
     "output_type": "stream",
     "text": [
      "\r",
      "  1%|▏         | 1/72 [00:01<01:57,  1.65s/it]"
     ]
    },
    {
     "name": "stdout",
     "output_type": "stream",
     "text": [
      "region_count: 0, rr: 0.5, tmin=25 tmax=50 emin=0.03 emax=0.15\n",
      "..\n"
     ]
    },
    {
     "name": "stderr",
     "output_type": "stream",
     "text": [
      "\r",
      "  3%|▎         | 2/72 [00:02<01:15,  1.08s/it]"
     ]
    },
    {
     "name": "stdout",
     "output_type": "stream",
     "text": [
      "region_count: 0, rr: 0.5, tmin=50 tmax=75 emin=0.03 emax=0.15\n",
      "..\n"
     ]
    },
    {
     "name": "stderr",
     "output_type": "stream",
     "text": [
      "\r",
      "  4%|▍         | 3/72 [00:02<01:01,  1.12it/s]"
     ]
    },
    {
     "name": "stdout",
     "output_type": "stream",
     "text": [
      "region_count: 0, rr: 0.5, tmin=75 tmax=100 emin=0.03 emax=0.15\n",
      "..\n"
     ]
    },
    {
     "name": "stderr",
     "output_type": "stream",
     "text": [
      "\r",
      "  6%|▌         | 4/72 [00:03<00:54,  1.25it/s]"
     ]
    },
    {
     "name": "stdout",
     "output_type": "stream",
     "text": [
      "region_count: 0, rr: 0.5, tmin=100 tmax=125 emin=0.03 emax=0.15\n",
      "..\n"
     ]
    },
    {
     "name": "stderr",
     "output_type": "stream",
     "text": [
      "\r",
      "  7%|▋         | 5/72 [00:05<01:08,  1.02s/it]"
     ]
    },
    {
     "name": "stdout",
     "output_type": "stream",
     "text": [
      "region_count: 0, rr: 0.5, tmin=125 tmax=150 emin=0.03 emax=0.15\n",
      "..\n"
     ]
    },
    {
     "name": "stderr",
     "output_type": "stream",
     "text": [
      "\r",
      "  8%|▊         | 6/72 [00:05<00:51,  1.27it/s]"
     ]
    },
    {
     "name": "stdout",
     "output_type": "stream",
     "text": [
      "region_count: 0, rr: 0.5, tmin=150 tmax=175 emin=0.03 emax=0.15\n",
      "..\n"
     ]
    },
    {
     "name": "stderr",
     "output_type": "stream",
     "text": [
      "\r",
      " 10%|▉         | 7/72 [00:05<00:39,  1.63it/s]"
     ]
    },
    {
     "name": "stdout",
     "output_type": "stream",
     "text": [
      "region_count: 0, rr: 0.5, tmin=175 tmax=200 emin=0.03 emax=0.15\n"
     ]
    },
    {
     "name": "stderr",
     "output_type": "stream",
     "text": [
      " 10%|▉         | 7/72 [00:17<02:44,  2.53s/it]\n"
     ]
    },
    {
     "ename": "KeyboardInterrupt",
     "evalue": "Interrupted by user",
     "output_type": "error",
     "traceback": [
      "\u001b[0;31m---------------------------------------------------------------------------\u001b[0m",
      "\u001b[0;31mKeyboardInterrupt\u001b[0m                         Traceback (most recent call last)",
      "\u001b[0;32m<ipython-input-6-d19ac65a51bc>\u001b[0m in \u001b[0;36m<module>\u001b[0;34m\u001b[0m\n\u001b[1;32m      2\u001b[0m \u001b[0;34m\u001b[0m\u001b[0m\n\u001b[1;32m      3\u001b[0m \u001b[0;32mfor\u001b[0m \u001b[0mi\u001b[0m \u001b[0;32min\u001b[0m \u001b[0mrange\u001b[0m\u001b[0;34m(\u001b[0m\u001b[0;36m1\u001b[0m\u001b[0;34m,\u001b[0m\u001b[0;36m11\u001b[0m\u001b[0;34m)\u001b[0m\u001b[0;34m:\u001b[0m\u001b[0;34m\u001b[0m\u001b[0;34m\u001b[0m\u001b[0m\n\u001b[0;32m----> 4\u001b[0;31m     \u001b[0mcsv_data_t\u001b[0m \u001b[0;34m=\u001b[0m \u001b[0mphotometry\u001b[0m\u001b[0;34m.\u001b[0m\u001b[0mintegrate\u001b[0m\u001b[0;34m(\u001b[0m\u001b[0mphotometry_params\u001b[0m\u001b[0;34m,\u001b[0m \u001b[0mconf\u001b[0m\u001b[0;34m,\u001b[0m \u001b[0mintegration\u001b[0m\u001b[0;34m=\u001b[0m\u001b[0;34m\"t\"\u001b[0m\u001b[0;34m)\u001b[0m\u001b[0;34m.\u001b[0m\u001b[0mpop\u001b[0m\u001b[0;34m(\u001b[0m\u001b[0;36m0\u001b[0m\u001b[0;34m)\u001b[0m\u001b[0;34m\u001b[0m\u001b[0;34m\u001b[0m\u001b[0m\n\u001b[0m\u001b[1;32m      5\u001b[0m     \u001b[0;31m#_ = singleplot.addData(csv_data_t, photometry_params, conf, [\"bkg\"], \"t\")\u001b[0m\u001b[0;34m\u001b[0m\u001b[0;34m\u001b[0m\u001b[0;34m\u001b[0m\u001b[0m\n",
      "\u001b[0;32m~/phd/repos/phd/rtapipe/lib/datasource/photometry.py\u001b[0m in \u001b[0;36mintegrate\u001b[0;34m(self, photometry_params, sim_params, integration)\u001b[0m\n\u001b[1;32m    102\u001b[0m         \u001b[0;31m# out1, out2, out3 = zip(*pool.map(calc_stuff, range(0, 10 * offset, offset)))\u001b[0m\u001b[0;34m\u001b[0m\u001b[0;34m\u001b[0m\u001b[0;34m\u001b[0m\u001b[0m\n\u001b[1;32m    103\u001b[0m         \u001b[0;32mif\u001b[0m \u001b[0mintegration\u001b[0m \u001b[0;34m==\u001b[0m \u001b[0;34m\"t\"\u001b[0m\u001b[0;34m:\u001b[0m\u001b[0;34m\u001b[0m\u001b[0;34m\u001b[0m\u001b[0m\n\u001b[0;32m--> 104\u001b[0;31m             \u001b[0moutput_file\u001b[0m \u001b[0;34m=\u001b[0m \u001b[0mself\u001b[0m\u001b[0;34m.\u001b[0m\u001b[0m_integrate\u001b[0m\u001b[0;34m(\u001b[0m\u001b[0;34m\"t\"\u001b[0m\u001b[0;34m,\u001b[0m \u001b[0mphm\u001b[0m\u001b[0;34m,\u001b[0m \u001b[0mtime_windows\u001b[0m\u001b[0;34m,\u001b[0m \u001b[0;32mNone\u001b[0m\u001b[0;34m,\u001b[0m \u001b[0mself\u001b[0m\u001b[0;34m.\u001b[0m\u001b[0mgetOutFilename\u001b[0m\u001b[0;34m(\u001b[0m\u001b[0mphotometry_params\u001b[0m\u001b[0;34m,\u001b[0m \u001b[0msim_params\u001b[0m\u001b[0;34m,\u001b[0m \u001b[0msuffix\u001b[0m\u001b[0;34m=\u001b[0m\u001b[0;34m\"t\"\u001b[0m\u001b[0;34m)\u001b[0m\u001b[0;34m,\u001b[0m \u001b[0mregion\u001b[0m\u001b[0;34m,\u001b[0m \u001b[0mphotometry_params\u001b[0m\u001b[0;34m,\u001b[0m \u001b[0msim_params\u001b[0m\u001b[0;34m)\u001b[0m\u001b[0;34m\u001b[0m\u001b[0;34m\u001b[0m\u001b[0m\n\u001b[0m\u001b[1;32m    105\u001b[0m             \u001b[0;32mreturn\u001b[0m \u001b[0;34m[\u001b[0m\u001b[0moutput_file\u001b[0m\u001b[0;34m]\u001b[0m\u001b[0;34m\u001b[0m\u001b[0;34m\u001b[0m\u001b[0m\n\u001b[1;32m    106\u001b[0m \u001b[0;34m\u001b[0m\u001b[0m\n",
      "\u001b[0;32m~/phd/repos/phd/rtapipe/lib/datasource/photometry.py\u001b[0m in \u001b[0;36m_integrate\u001b[0;34m(self, integration_on, phm, windows, target_window, output_file, region, photometry_params, sim_params)\u001b[0m\n\u001b[1;32m     55\u001b[0m                     \u001b[0mregion_count\u001b[0m \u001b[0;34m=\u001b[0m \u001b[0mphm\u001b[0m\u001b[0;34m.\u001b[0m\u001b[0mregion_counter\u001b[0m\u001b[0;34m(\u001b[0m\u001b[0mregion\u001b[0m\u001b[0;34m,\u001b[0m \u001b[0mphotometry_params\u001b[0m\u001b[0;34m[\u001b[0m\u001b[0;34m\"region_radius\"\u001b[0m\u001b[0;34m]\u001b[0m\u001b[0;34m,\u001b[0m \u001b[0mtmin\u001b[0m\u001b[0;34m=\u001b[0m\u001b[0mw\u001b[0m\u001b[0;34m[\u001b[0m\u001b[0;36m0\u001b[0m\u001b[0;34m]\u001b[0m\u001b[0;34m,\u001b[0m \u001b[0mtmax\u001b[0m\u001b[0;34m=\u001b[0m\u001b[0mw\u001b[0m\u001b[0;34m[\u001b[0m\u001b[0;36m1\u001b[0m\u001b[0;34m]\u001b[0m\u001b[0;34m,\u001b[0m \u001b[0memin\u001b[0m\u001b[0;34m=\u001b[0m\u001b[0mtarget_window\u001b[0m\u001b[0;34m[\u001b[0m\u001b[0;36m0\u001b[0m\u001b[0;34m]\u001b[0m\u001b[0;34m,\u001b[0m \u001b[0memax\u001b[0m\u001b[0;34m=\u001b[0m\u001b[0mtarget_window\u001b[0m\u001b[0;34m[\u001b[0m\u001b[0;36m1\u001b[0m\u001b[0;34m]\u001b[0m\u001b[0;34m)\u001b[0m\u001b[0;34m\u001b[0m\u001b[0;34m\u001b[0m\u001b[0m\n\u001b[1;32m     56\u001b[0m                     \u001b[0mprint\u001b[0m\u001b[0;34m(\u001b[0m\u001b[0;34mf\"region_count: {region_count}, rr: {photometry_params['region_radius']}, tmin={w[0]} tmax={w[1]} emin={target_window[0]} emax={target_window[1]}\"\u001b[0m\u001b[0;34m)\u001b[0m\u001b[0;34m\u001b[0m\u001b[0;34m\u001b[0m\u001b[0m\n\u001b[0;32m---> 57\u001b[0;31m                     \u001b[0minput\u001b[0m\u001b[0;34m(\u001b[0m\u001b[0;34m\"..\"\u001b[0m\u001b[0;34m)\u001b[0m\u001b[0;34m\u001b[0m\u001b[0;34m\u001b[0m\u001b[0m\n\u001b[0m\u001b[1;32m     58\u001b[0m \u001b[0;34m\u001b[0m\u001b[0m\n\u001b[1;32m     59\u001b[0m                 \u001b[0;32melif\u001b[0m \u001b[0mintegration_on\u001b[0m \u001b[0;34m==\u001b[0m \u001b[0;34m\"e\"\u001b[0m\u001b[0;34m:\u001b[0m\u001b[0;34m\u001b[0m\u001b[0;34m\u001b[0m\u001b[0m\n",
      "\u001b[0;32m~/.conda/envs/bphd/lib/python3.7/site-packages/ipykernel/kernelbase.py\u001b[0m in \u001b[0;36mraw_input\u001b[0;34m(self, prompt)\u001b[0m\n\u001b[1;32m    849\u001b[0m             \u001b[0mself\u001b[0m\u001b[0;34m.\u001b[0m\u001b[0m_parent_ident\u001b[0m\u001b[0;34m,\u001b[0m\u001b[0;34m\u001b[0m\u001b[0;34m\u001b[0m\u001b[0m\n\u001b[1;32m    850\u001b[0m             \u001b[0mself\u001b[0m\u001b[0;34m.\u001b[0m\u001b[0m_parent_header\u001b[0m\u001b[0;34m,\u001b[0m\u001b[0;34m\u001b[0m\u001b[0;34m\u001b[0m\u001b[0m\n\u001b[0;32m--> 851\u001b[0;31m             \u001b[0mpassword\u001b[0m\u001b[0;34m=\u001b[0m\u001b[0;32mFalse\u001b[0m\u001b[0;34m,\u001b[0m\u001b[0;34m\u001b[0m\u001b[0;34m\u001b[0m\u001b[0m\n\u001b[0m\u001b[1;32m    852\u001b[0m         )\n\u001b[1;32m    853\u001b[0m \u001b[0;34m\u001b[0m\u001b[0m\n",
      "\u001b[0;32m~/.conda/envs/bphd/lib/python3.7/site-packages/ipykernel/kernelbase.py\u001b[0m in \u001b[0;36m_input_request\u001b[0;34m(self, prompt, ident, parent, password)\u001b[0m\n\u001b[1;32m    890\u001b[0m             \u001b[0;32mexcept\u001b[0m \u001b[0mKeyboardInterrupt\u001b[0m\u001b[0;34m:\u001b[0m\u001b[0;34m\u001b[0m\u001b[0;34m\u001b[0m\u001b[0m\n\u001b[1;32m    891\u001b[0m                 \u001b[0;31m# re-raise KeyboardInterrupt, to truncate traceback\u001b[0m\u001b[0;34m\u001b[0m\u001b[0;34m\u001b[0m\u001b[0;34m\u001b[0m\u001b[0m\n\u001b[0;32m--> 892\u001b[0;31m                 \u001b[0;32mraise\u001b[0m \u001b[0mKeyboardInterrupt\u001b[0m\u001b[0;34m(\u001b[0m\u001b[0;34m\"Interrupted by user\"\u001b[0m\u001b[0;34m)\u001b[0m \u001b[0;32mfrom\u001b[0m \u001b[0;32mNone\u001b[0m\u001b[0;34m\u001b[0m\u001b[0;34m\u001b[0m\u001b[0m\n\u001b[0m\u001b[1;32m    893\u001b[0m             \u001b[0;32mexcept\u001b[0m \u001b[0mException\u001b[0m \u001b[0;32mas\u001b[0m \u001b[0me\u001b[0m\u001b[0;34m:\u001b[0m\u001b[0;34m\u001b[0m\u001b[0;34m\u001b[0m\u001b[0m\n\u001b[1;32m    894\u001b[0m                 \u001b[0mself\u001b[0m\u001b[0;34m.\u001b[0m\u001b[0mlog\u001b[0m\u001b[0;34m.\u001b[0m\u001b[0mwarning\u001b[0m\u001b[0;34m(\u001b[0m\u001b[0;34m\"Invalid Message:\"\u001b[0m\u001b[0;34m,\u001b[0m \u001b[0mexc_info\u001b[0m\u001b[0;34m=\u001b[0m\u001b[0;32mTrue\u001b[0m\u001b[0;34m)\u001b[0m\u001b[0;34m\u001b[0m\u001b[0;34m\u001b[0m\u001b[0m\n",
      "\u001b[0;31mKeyboardInterrupt\u001b[0m: Interrupted by user"
     ]
    }
   ],
   "source": [
    "#singleplot = PhotometrySinglePlot(title=\"Multiple trials\")\n",
    "\n",
    "for i in range(1,11):\n",
    "    csv_data_t = photometry.integrate(photometry_params, conf, integration=\"t\").pop(0)    \n",
    "    #_ = singleplot.addData(csv_data_t, photometry_params, conf, [\"bkg\"], \"t\")\n"
   ]
  },
  {
   "cell_type": "markdown",
   "id": "owned-employer",
   "metadata": {},
   "source": [
    "## GRB with offset"
   ]
  },
  {
   "cell_type": "code",
   "execution_count": null,
   "id": "brown-cleveland",
   "metadata": {},
   "outputs": [],
   "source": [
    "bkg_bkgsrc  = \"simtype_grb_os_5000_tobs_18000_irf_South_z40_average_LST_5h_emin_0.03_emax_0.15_roi_2.5\""
   ]
  },
  {
   "cell_type": "code",
   "execution_count": null,
   "id": "everyday-forge",
   "metadata": {
    "scrolled": false
   },
   "outputs": [],
   "source": [
    "inputs = getInput(bkg_bkgsrc, -1)\n",
    "\n",
    "photometry_params['pointing'] = inputs[0][2]\n",
    "\n",
    "print(\"photometry_params pointing: \",photometry_params['pointing'])\n",
    "for idx, inp in enumerate(inputs):\n",
    "    conf = inp[1]\n",
    "    csv_data_t = photometry.integrate(photometry_params, conf, integration=\"t\").pop(0)    \n",
    "\n",
    "    "
   ]
  },
  {
   "cell_type": "markdown",
   "id": "average-communications",
   "metadata": {},
   "source": [
    "## GRB data"
   ]
  },
  {
   "cell_type": "code",
   "execution_count": null,
   "id": "utility-basics",
   "metadata": {},
   "outputs": [],
   "source": [
    "bkgsrc      = \"simtype_grb_os_0_tobs_3600_irf_South_z40_average_LST_30m_emin_0.03_emax_0.15_roi_2.5\""
   ]
  },
  {
   "cell_type": "code",
   "execution_count": null,
   "id": "activated-bulgarian",
   "metadata": {
    "scrolled": true
   },
   "outputs": [],
   "source": [
    "FILES_N = 100\n",
    "\n",
    "bkgsrc_files = []\n",
    "for i in range(FILES_N):\n",
    "    bkgsrc_files.append(getInput(bkgsrc, i))\n",
    "\n",
    "photometry_params['pointing'] = bkgsrc_files[0][2]\n",
    "    \n",
    "for i in range(FILES_N):\n",
    "    conf = bkgsrc_files[i][1]\n",
    "    csv_data_t = photometry.integrate(photometry_params, conf, integration=\"t\").pop(0)    "
   ]
  },
  {
   "cell_type": "code",
   "execution_count": null,
   "id": "noble-sociology",
   "metadata": {},
   "outputs": [],
   "source": [
    "singleplot = PhotometrySinglePlot(title=\"Multiple trials\")\n",
    "\n",
    "for i in range(4):\n",
    "    conf = bkgsrc_files[i][1]\n",
    "    csv_data_t = photometry.integrate(photometry_params, conf, integration=\"t\").pop(0)\n",
    "    _ = singleplot.addData(csv_data_t, photometry_params, conf, [\"bkg\"], \"t\")\n"
   ]
  },
  {
   "cell_type": "markdown",
   "id": "affected-huntington",
   "metadata": {},
   "source": [
    "# TODO\n",
    "\n",
    "* fix simulation outdir name (it should include other params) (done)\n",
    "* onset moved into template params (done)\n",
    "* Geneare background più corti (done)\n",
    "* custom titles (done)\n",
    "* refactoring: own classes, getTitle() and getLabel() in base class (done)\n",
    "* plottare differenti trials (done)\n",
    "* refactoring photometry (done)\n",
    "* round a 4 decimali (done)\n",
    "* et, te integrations (done)\n",
    "* plottare et (done)\n",
    "\n",
    "* bug pointing as baseline\n",
    "* plottare differenti runid"
   ]
  },
  {
   "cell_type": "code",
   "execution_count": null,
   "id": "elegant-treasurer",
   "metadata": {},
   "outputs": [],
   "source": []
  }
 ],
 "metadata": {
  "kernelspec": {
   "display_name": "Python 3",
   "language": "python",
   "name": "python3"
  },
  "language_info": {
   "codemirror_mode": {
    "name": "ipython",
    "version": 3
   },
   "file_extension": ".py",
   "mimetype": "text/x-python",
   "name": "python",
   "nbconvert_exporter": "python",
   "pygments_lexer": "ipython3",
   "version": "3.7.3"
  }
 },
 "nbformat": 4,
 "nbformat_minor": 5
}
