{
 "cells": [
  {
   "cell_type": "code",
   "execution_count": 1,
   "id": "local-producer",
   "metadata": {},
   "outputs": [
    {
     "name": "stdout",
     "output_type": "stream",
     "text": [
      "tf.__version__: 2.4.1\n",
      "Please install GPU version of TF\n"
     ]
    },
    {
     "name": "stderr",
     "output_type": "stream",
     "text": [
      "\n",
      "Bad key \"text.kerning_factor\" on line 4 in\n",
      "/data01/home/baroncelli/.conda/envs/bphd/lib/python3.7/site-packages/matplotlib/mpl-data/stylelib/_classic_test_patch.mplstyle.\n",
      "You probably need to get an updated matplotlibrc file from\n",
      "https://github.com/matplotlib/matplotlib/blob/v3.1.2/matplotlibrc.template\n",
      "or from the matplotlib source distribution\n"
     ]
    }
   ],
   "source": [
    "import tensorflow as tf\n",
    "print(f\"tf.__version__: {tf.__version__}\")\n",
    "if tf.test.gpu_device_name(): \n",
    "    print(f\"Default GPU Device:{tf.test.gpu_device_name()}\")\n",
    "else:\n",
    "    print(\"Please install GPU version of TF\")\n",
    "from os import getcwd\n",
    "import os.path\n",
    "from os import listdir\n",
    "import numpy as np\n",
    "import pandas as pd\n",
    "from pathlib import Path\n",
    "from tensorflow import keras\n",
    "from tensorflow.keras import layers\n",
    "from matplotlib import pyplot as plt\n",
    "import seaborn as sns\n",
    "\n",
    "\n",
    "from tensorflow.keras.models import Sequential\n",
    "from tensorflow.keras.layers import LSTM, Input, Dropout\n",
    "from tensorflow.keras.layers import Dense\n",
    "from tensorflow.keras.layers import RepeatVector\n",
    "from tensorflow.keras.layers import TimeDistributed\n",
    "from tensorflow.keras.models import Model\n",
    "\n",
    "from sklearn.preprocessing import MinMaxScaler, StandardScaler"
   ]
  },
  {
   "cell_type": "code",
   "execution_count": 2,
   "id": "completed-labor",
   "metadata": {},
   "outputs": [
    {
     "name": "stdout",
     "output_type": "stream",
     "text": [
      "/home/baroncelli/phd/repos/phd/rtapipe/analysis/notebook_dataset_generation_for_models_output\n"
     ]
    }
   ],
   "source": [
    "datapath = Path(\"/home/baroncelli/phd/repos/phd/rtapipe/analysis/notebook_dataset_generation_for_models_output\")\n",
    "print(datapath)\n",
    "assert datapath.is_dir() == True"
   ]
  },
  {
   "cell_type": "code",
   "execution_count": 3,
   "id": "tracked-snake",
   "metadata": {},
   "outputs": [
    {
     "data": {
      "text/plain": [
       "'/data01/home/baroncelli/phd/repos/phd/rtapipe/analysis'"
      ]
     },
     "execution_count": 3,
     "metadata": {},
     "output_type": "execute_result"
    }
   ],
   "source": [
    "currentdir = getcwd()\n",
    "currentdir"
   ]
  },
  {
   "cell_type": "code",
   "execution_count": 4,
   "id": "crucial-publicity",
   "metadata": {},
   "outputs": [
    {
     "data": {
      "text/plain": [
       "PosixPath('/data01/home/baroncelli/phd/repos/phd/rtapipe/analysis/notebook_lstm_output')"
      ]
     },
     "execution_count": 4,
     "metadata": {},
     "output_type": "execute_result"
    }
   ],
   "source": [
    "outdir = Path(currentdir).joinpath(\"notebook_lstm_output\")\n",
    "outdir"
   ]
  },
  {
   "cell_type": "code",
   "execution_count": 5,
   "id": "egyptian-allowance",
   "metadata": {},
   "outputs": [],
   "source": [
    "SAMPLE_SIZE = 180"
   ]
  },
  {
   "cell_type": "code",
   "execution_count": 6,
   "id": "further-islam",
   "metadata": {},
   "outputs": [],
   "source": [
    "dataDir = datapath.joinpath(\"run0406_ID000126_OK_bkg_only\",\"csv\")\n",
    "files = [  pd.read_csv(dataDir.joinpath(f), header=0) for f in listdir(dataDir) if dataDir.joinpath(f).is_file()]\n",
    "# dataframe = pd.concat(li, axis=0, ignore_index=True)\n",
    "# numberOfSamples = int(dataframe.shape[0]/SAMPLE_SIZE)\n",
    "# dataframe = pd.DataFrame(dataframe[\"COUNTS\"].values.reshape(numberOfSamples, SAMPLE_SIZE))\n",
    "\n",
    "files = [  dataDir.joinpath(f) for f in listdir(dataDir) if dataDir.joinpath(f).is_file()]\n",
    "dataframe = pd.read_csv(files[0], header=0)"
   ]
  },
  {
   "cell_type": "code",
   "execution_count": 7,
   "id": "surface-scotland",
   "metadata": {},
   "outputs": [
    {
     "data": {
      "text/plain": [
       "(180, 5)"
      ]
     },
     "execution_count": 7,
     "metadata": {},
     "output_type": "execute_result"
    }
   ],
   "source": [
    "dataframe.shape"
   ]
  },
  {
   "cell_type": "code",
   "execution_count": 8,
   "id": "documentary-interface",
   "metadata": {},
   "outputs": [
    {
     "data": {
      "text/html": [
       "<div>\n",
       "<style scoped>\n",
       "    .dataframe tbody tr th:only-of-type {\n",
       "        vertical-align: middle;\n",
       "    }\n",
       "\n",
       "    .dataframe tbody tr th {\n",
       "        vertical-align: top;\n",
       "    }\n",
       "\n",
       "    .dataframe thead th {\n",
       "        text-align: right;\n",
       "    }\n",
       "</style>\n",
       "<table border=\"1\" class=\"dataframe\">\n",
       "  <thead>\n",
       "    <tr style=\"text-align: right;\">\n",
       "      <th></th>\n",
       "      <th>VALMIN</th>\n",
       "      <th>VALMAX</th>\n",
       "      <th>VALCENTER</th>\n",
       "      <th>COUNTS</th>\n",
       "      <th>ERROR</th>\n",
       "    </tr>\n",
       "  </thead>\n",
       "  <tbody>\n",
       "    <tr>\n",
       "      <th>0</th>\n",
       "      <td>0</td>\n",
       "      <td>10</td>\n",
       "      <td>5.0</td>\n",
       "      <td>293</td>\n",
       "      <td>17.1172</td>\n",
       "    </tr>\n",
       "    <tr>\n",
       "      <th>1</th>\n",
       "      <td>10</td>\n",
       "      <td>20</td>\n",
       "      <td>15.0</td>\n",
       "      <td>235</td>\n",
       "      <td>15.3297</td>\n",
       "    </tr>\n",
       "    <tr>\n",
       "      <th>2</th>\n",
       "      <td>20</td>\n",
       "      <td>30</td>\n",
       "      <td>25.0</td>\n",
       "      <td>279</td>\n",
       "      <td>16.7033</td>\n",
       "    </tr>\n",
       "    <tr>\n",
       "      <th>3</th>\n",
       "      <td>30</td>\n",
       "      <td>40</td>\n",
       "      <td>35.0</td>\n",
       "      <td>224</td>\n",
       "      <td>14.9666</td>\n",
       "    </tr>\n",
       "    <tr>\n",
       "      <th>4</th>\n",
       "      <td>40</td>\n",
       "      <td>50</td>\n",
       "      <td>45.0</td>\n",
       "      <td>277</td>\n",
       "      <td>16.6433</td>\n",
       "    </tr>\n",
       "    <tr>\n",
       "      <th>...</th>\n",
       "      <td>...</td>\n",
       "      <td>...</td>\n",
       "      <td>...</td>\n",
       "      <td>...</td>\n",
       "      <td>...</td>\n",
       "    </tr>\n",
       "    <tr>\n",
       "      <th>175</th>\n",
       "      <td>1750</td>\n",
       "      <td>1760</td>\n",
       "      <td>1755.0</td>\n",
       "      <td>249</td>\n",
       "      <td>15.7797</td>\n",
       "    </tr>\n",
       "    <tr>\n",
       "      <th>176</th>\n",
       "      <td>1760</td>\n",
       "      <td>1770</td>\n",
       "      <td>1765.0</td>\n",
       "      <td>244</td>\n",
       "      <td>15.6205</td>\n",
       "    </tr>\n",
       "    <tr>\n",
       "      <th>177</th>\n",
       "      <td>1770</td>\n",
       "      <td>1780</td>\n",
       "      <td>1775.0</td>\n",
       "      <td>274</td>\n",
       "      <td>16.5529</td>\n",
       "    </tr>\n",
       "    <tr>\n",
       "      <th>178</th>\n",
       "      <td>1780</td>\n",
       "      <td>1790</td>\n",
       "      <td>1785.0</td>\n",
       "      <td>248</td>\n",
       "      <td>15.7480</td>\n",
       "    </tr>\n",
       "    <tr>\n",
       "      <th>179</th>\n",
       "      <td>1790</td>\n",
       "      <td>1800</td>\n",
       "      <td>1795.0</td>\n",
       "      <td>239</td>\n",
       "      <td>15.4596</td>\n",
       "    </tr>\n",
       "  </tbody>\n",
       "</table>\n",
       "<p>180 rows × 5 columns</p>\n",
       "</div>"
      ],
      "text/plain": [
       "     VALMIN  VALMAX  VALCENTER  COUNTS    ERROR\n",
       "0         0      10        5.0     293  17.1172\n",
       "1        10      20       15.0     235  15.3297\n",
       "2        20      30       25.0     279  16.7033\n",
       "3        30      40       35.0     224  14.9666\n",
       "4        40      50       45.0     277  16.6433\n",
       "..      ...     ...        ...     ...      ...\n",
       "175    1750    1760     1755.0     249  15.7797\n",
       "176    1760    1770     1765.0     244  15.6205\n",
       "177    1770    1780     1775.0     274  16.5529\n",
       "178    1780    1790     1785.0     248  15.7480\n",
       "179    1790    1800     1795.0     239  15.4596\n",
       "\n",
       "[180 rows x 5 columns]"
      ]
     },
     "execution_count": 8,
     "metadata": {},
     "output_type": "execute_result"
    }
   ],
   "source": [
    "dataframe"
   ]
  },
  {
   "cell_type": "code",
   "execution_count": 9,
   "id": "christian-nightlife",
   "metadata": {},
   "outputs": [
    {
     "data": {
      "text/plain": [
       "5"
      ]
     },
     "execution_count": 9,
     "metadata": {},
     "output_type": "execute_result"
    }
   ],
   "source": [
    "n = len(dataframe)\n",
    "train_df = dataframe[0:int(n*0.7)]\n",
    "val_df = dataframe[int(n*0.7):int(n*0.9)]\n",
    "test_df = dataframe[int(n*0.9):]\n",
    "\n",
    "num_features = dataframe.shape[1]\n",
    "num_features"
   ]
  },
  {
   "cell_type": "code",
   "execution_count": 10,
   "id": "likely-highway",
   "metadata": {},
   "outputs": [],
   "source": [
    "train_mean = train_df.mean()\n",
    "train_std = train_df.std()\n",
    "\n",
    "train_df = (train_df - train_mean) / train_std\n",
    "val_df = (val_df - train_mean) / train_std\n",
    "test_df = (test_df - train_mean) / train_std"
   ]
  },
  {
   "cell_type": "code",
   "execution_count": null,
   "id": "incorporate-supply",
   "metadata": {},
   "outputs": [],
   "source": []
  },
  {
   "cell_type": "code",
   "execution_count": 11,
   "id": "incident-england",
   "metadata": {},
   "outputs": [
    {
     "data": {
      "text/html": [
       "<div>\n",
       "<style scoped>\n",
       "    .dataframe tbody tr th:only-of-type {\n",
       "        vertical-align: middle;\n",
       "    }\n",
       "\n",
       "    .dataframe tbody tr th {\n",
       "        vertical-align: top;\n",
       "    }\n",
       "\n",
       "    .dataframe thead th {\n",
       "        text-align: right;\n",
       "    }\n",
       "</style>\n",
       "<table border=\"1\" class=\"dataframe\">\n",
       "  <thead>\n",
       "    <tr style=\"text-align: right;\">\n",
       "      <th></th>\n",
       "      <th>VALMIN</th>\n",
       "      <th>VALMAX</th>\n",
       "      <th>VALCENTER</th>\n",
       "      <th>COUNTS</th>\n",
       "      <th>ERROR</th>\n",
       "    </tr>\n",
       "  </thead>\n",
       "  <tbody>\n",
       "    <tr>\n",
       "      <th>0</th>\n",
       "      <td>-1.711363</td>\n",
       "      <td>-1.711363</td>\n",
       "      <td>-1.711363</td>\n",
       "      <td>1.992335</td>\n",
       "      <td>1.937933</td>\n",
       "    </tr>\n",
       "    <tr>\n",
       "      <th>1</th>\n",
       "      <td>-1.683760</td>\n",
       "      <td>-1.683760</td>\n",
       "      <td>-1.683760</td>\n",
       "      <td>-1.664483</td>\n",
       "      <td>-1.682459</td>\n",
       "    </tr>\n",
       "    <tr>\n",
       "      <th>2</th>\n",
       "      <td>-1.656157</td>\n",
       "      <td>-1.656157</td>\n",
       "      <td>-1.656157</td>\n",
       "      <td>1.109655</td>\n",
       "      <td>1.099622</td>\n",
       "    </tr>\n",
       "    <tr>\n",
       "      <th>3</th>\n",
       "      <td>-1.628555</td>\n",
       "      <td>-1.628555</td>\n",
       "      <td>-1.628555</td>\n",
       "      <td>-2.358017</td>\n",
       "      <td>-2.417880</td>\n",
       "    </tr>\n",
       "    <tr>\n",
       "      <th>4</th>\n",
       "      <td>-1.600952</td>\n",
       "      <td>-1.600952</td>\n",
       "      <td>-1.600952</td>\n",
       "      <td>0.983558</td>\n",
       "      <td>0.978099</td>\n",
       "    </tr>\n",
       "  </tbody>\n",
       "</table>\n",
       "</div>"
      ],
      "text/plain": [
       "     VALMIN    VALMAX  VALCENTER    COUNTS     ERROR\n",
       "0 -1.711363 -1.711363  -1.711363  1.992335  1.937933\n",
       "1 -1.683760 -1.683760  -1.683760 -1.664483 -1.682459\n",
       "2 -1.656157 -1.656157  -1.656157  1.109655  1.099622\n",
       "3 -1.628555 -1.628555  -1.628555 -2.358017 -2.417880\n",
       "4 -1.600952 -1.600952  -1.600952  0.983558  0.978099"
      ]
     },
     "execution_count": 11,
     "metadata": {},
     "output_type": "execute_result"
    }
   ],
   "source": [
    "train_df.head()"
   ]
  },
  {
   "cell_type": "code",
   "execution_count": 12,
   "id": "unlimited-formation",
   "metadata": {},
   "outputs": [
    {
     "data": {
      "image/png": "[encoded data removed]",
      "text/plain": [
       "<Figure size 864x432 with 1 Axes>"
      ]
     },
     "metadata": {
      "needs_background": "light"
     },
     "output_type": "display_data"
    }
   ],
   "source": [
    "df_std = (dataframe - train_mean) / train_std\n",
    "df_std = df_std.melt(var_name='Column', value_name='Normalized')\n",
    "plt.figure(figsize=(12, 6))\n",
    "ax = sns.violinplot(x='Column', y='Normalized', data=df_std)\n",
    "_ = ax.set_xticklabels(dataframe.keys(), rotation=90)"
   ]
  },
  {
   "cell_type": "code",
   "execution_count": 13,
   "id": "declared-helicopter",
   "metadata": {},
   "outputs": [],
   "source": [
    "def drop_columns(df, columns):\n",
    "    for c in columns:\n",
    "        df.drop(c, inplace=True, axis=1)\n"
   ]
  },
  {
   "cell_type": "code",
   "execution_count": 14,
   "id": "limiting-baghdad",
   "metadata": {},
   "outputs": [],
   "source": [
    "train_df[\"CLASS\"] = 0\n",
    "val_df[\"CLASS\"] = 0\n",
    "test_df[\"CLASS\"] = 0"
   ]
  },
  {
   "cell_type": "code",
   "execution_count": 15,
   "id": "effective-affair",
   "metadata": {},
   "outputs": [],
   "source": [
    "drop_columns(train_df, [\"VALMIN\", \"VALMAX\", \"VALCENTER\"])\n",
    "drop_columns(val_df, [\"VALMIN\", \"VALMAX\", \"VALCENTER\"])\n",
    "drop_columns(test_df, [\"VALMIN\", \"VALMAX\", \"VALCENTER\"])"
   ]
  },
  {
   "cell_type": "code",
   "execution_count": 16,
   "id": "domestic-causing",
   "metadata": {},
   "outputs": [
    {
     "data": {
      "text/html": [
       "<div>\n",
       "<style scoped>\n",
       "    .dataframe tbody tr th:only-of-type {\n",
       "        vertical-align: middle;\n",
       "    }\n",
       "\n",
       "    .dataframe tbody tr th {\n",
       "        vertical-align: top;\n",
       "    }\n",
       "\n",
       "    .dataframe thead th {\n",
       "        text-align: right;\n",
       "    }\n",
       "</style>\n",
       "<table border=\"1\" class=\"dataframe\">\n",
       "  <thead>\n",
       "    <tr style=\"text-align: right;\">\n",
       "      <th></th>\n",
       "      <th>COUNTS</th>\n",
       "      <th>ERROR</th>\n",
       "      <th>CLASS</th>\n",
       "    </tr>\n",
       "  </thead>\n",
       "  <tbody>\n",
       "    <tr>\n",
       "      <th>0</th>\n",
       "      <td>1.992335</td>\n",
       "      <td>1.937933</td>\n",
       "      <td>0</td>\n",
       "    </tr>\n",
       "    <tr>\n",
       "      <th>1</th>\n",
       "      <td>-1.664483</td>\n",
       "      <td>-1.682459</td>\n",
       "      <td>0</td>\n",
       "    </tr>\n",
       "    <tr>\n",
       "      <th>2</th>\n",
       "      <td>1.109655</td>\n",
       "      <td>1.099622</td>\n",
       "      <td>0</td>\n",
       "    </tr>\n",
       "    <tr>\n",
       "      <th>3</th>\n",
       "      <td>-2.358017</td>\n",
       "      <td>-2.417880</td>\n",
       "      <td>0</td>\n",
       "    </tr>\n",
       "    <tr>\n",
       "      <th>4</th>\n",
       "      <td>0.983558</td>\n",
       "      <td>0.978099</td>\n",
       "      <td>0</td>\n",
       "    </tr>\n",
       "    <tr>\n",
       "      <th>...</th>\n",
       "      <td>...</td>\n",
       "      <td>...</td>\n",
       "      <td>...</td>\n",
       "    </tr>\n",
       "    <tr>\n",
       "      <th>120</th>\n",
       "      <td>0.731364</td>\n",
       "      <td>0.733836</td>\n",
       "      <td>0</td>\n",
       "    </tr>\n",
       "    <tr>\n",
       "      <th>121</th>\n",
       "      <td>-0.151317</td>\n",
       "      <td>-0.135463</td>\n",
       "      <td>0</td>\n",
       "    </tr>\n",
       "    <tr>\n",
       "      <th>122</th>\n",
       "      <td>-1.412288</td>\n",
       "      <td>-1.419361</td>\n",
       "      <td>0</td>\n",
       "    </tr>\n",
       "    <tr>\n",
       "      <th>123</th>\n",
       "      <td>1.235752</td>\n",
       "      <td>1.220741</td>\n",
       "      <td>0</td>\n",
       "    </tr>\n",
       "    <tr>\n",
       "      <th>124</th>\n",
       "      <td>0.163926</td>\n",
       "      <td>0.177663</td>\n",
       "      <td>0</td>\n",
       "    </tr>\n",
       "  </tbody>\n",
       "</table>\n",
       "<p>125 rows × 3 columns</p>\n",
       "</div>"
      ],
      "text/plain": [
       "       COUNTS     ERROR  CLASS\n",
       "0    1.992335  1.937933      0\n",
       "1   -1.664483 -1.682459      0\n",
       "2    1.109655  1.099622      0\n",
       "3   -2.358017 -2.417880      0\n",
       "4    0.983558  0.978099      0\n",
       "..        ...       ...    ...\n",
       "120  0.731364  0.733836      0\n",
       "121 -0.151317 -0.135463      0\n",
       "122 -1.412288 -1.419361      0\n",
       "123  1.235752  1.220741      0\n",
       "124  0.163926  0.177663      0\n",
       "\n",
       "[125 rows x 3 columns]"
      ]
     },
     "execution_count": 16,
     "metadata": {},
     "output_type": "execute_result"
    }
   ],
   "source": [
    "train_df"
   ]
  },
  {
   "cell_type": "code",
   "execution_count": 17,
   "id": "classical-blair",
   "metadata": {},
   "outputs": [],
   "source": [
    "data = np.array(train_df, dtype=np.float32)"
   ]
  },
  {
   "cell_type": "code",
   "execution_count": 18,
   "id": "reliable-order",
   "metadata": {},
   "outputs": [
    {
     "data": {
      "text/plain": [
       "array([[ 1.9923351 ,  1.937933  ,  0.        ],\n",
       "       [-1.6644825 , -1.6824594 ,  0.        ],\n",
       "       [ 1.109655  ,  1.0996222 ,  0.        ],\n",
       "       [-2.358017  , -2.41788   ,  0.        ],\n",
       "       [ 0.9835578 ,  0.9780986 ,  0.        ],\n",
       "       [-0.34046233, -0.3248376 ,  0.        ],\n",
       "       [ 0.66831493,  0.6724666 ,  0.        ],\n",
       "       [-0.5926567 , -0.57902455,  0.        ],\n",
       "       [-1.0339967 , -1.0286621 ,  0.        ],\n",
       "       [-0.08826801, -0.07267601,  0.        ],\n",
       "       [-1.2231425 , -1.223505  ,  0.        ],\n",
       "       [ 0.73136353,  0.733836  ,  0.        ],\n",
       "       [-0.02521943, -0.00988878,  0.        ],\n",
       "       [ 1.0466064 ,  1.0388604 ,  0.        ],\n",
       "       [-0.7187538 , -0.706827  ,  0.        ],\n",
       "       [ 0.73136353,  0.733836  ,  0.        ],\n",
       "       [ 0.35307205,  0.363999  ,  0.        ],\n",
       "       [ 0.6052664 ,  0.6110971 ,  0.        ],\n",
       "       [-0.5926567 , -0.57902455,  0.        ],\n",
       "       [ 0.7944121 ,  0.79500294,  0.        ],\n",
       "       [-0.1513166 , -0.13546324,  0.        ],\n",
       "       [-0.27741376, -0.2616453 ,  0.        ],\n",
       "       [ 0.73136353,  0.733836  ,  0.        ],\n",
       "       [-0.6557052 , -0.64282453,  0.        ],\n",
       "       [-0.4035109 , -0.38823244,  0.        ],\n",
       "       [-0.6557052 , -0.64282453,  0.        ],\n",
       "       [ 0.35307205,  0.363999  ,  0.        ],\n",
       "       [ 0.6052664 ,  0.6110971 ,  0.        ],\n",
       "       [ 0.35307205,  0.363999  ,  0.        ],\n",
       "       [ 0.29002348,  0.30202195,  0.        ],\n",
       "       [ 1.3618493 ,  1.3412517 ,  0.        ],\n",
       "       [ 0.47916922,  0.4877506 ,  0.        ],\n",
       "       [ 0.8574607 ,  0.8561698 ,  0.        ],\n",
       "       [ 0.9205093 ,  0.91713417,  0.        ],\n",
       "       [ 1.4248979 ,  1.4014059 ,  0.        ],\n",
       "       [-1.0970453 , -1.0934747 ,  0.        ],\n",
       "       [ 0.29002348,  0.30202195,  0.        ],\n",
       "       [-0.6557052 , -0.64282453,  0.        ],\n",
       "       [ 0.10087772,  0.11528058,  0.        ],\n",
       "       [-0.84485096, -0.83523697,  0.        ],\n",
       "       [ 0.41612062,  0.42597607,  0.        ],\n",
       "       [ 0.66831493,  0.6724666 ,  0.        ],\n",
       "       [ 0.29002348,  0.30202195,  0.        ],\n",
       "       [-2.1688712 , -2.2155433 ,  0.        ],\n",
       "       [ 1.9923351 ,  1.937933  ,  0.        ],\n",
       "       [-1.3492396 , -1.3539405 ,  0.        ],\n",
       "       [-0.34046233, -0.3248376 ,  0.        ],\n",
       "       [-0.08826801, -0.07267601,  0.        ],\n",
       "       [ 0.35307205,  0.363999  ,  0.        ],\n",
       "       [ 0.9835578 ,  0.9780986 ,  0.        ],\n",
       "       [-0.27741376, -0.2616453 ,  0.        ],\n",
       "       [ 0.6052664 ,  0.6110971 ,  0.        ],\n",
       "       [ 0.7944121 ,  0.79500294,  0.        ],\n",
       "       [ 0.03782915,  0.0526959 ,  0.        ],\n",
       "       [ 0.41612062,  0.42597607,  0.        ],\n",
       "       [-1.0970453 , -1.0934747 ,  0.        ],\n",
       "       [ 0.35307205,  0.363999  ,  0.        ],\n",
       "       [-0.4665595 , -0.45162728,  0.        ],\n",
       "       [-0.02521943, -0.00988878,  0.        ],\n",
       "       [-1.6014339 , -1.6164316 ,  0.        ],\n",
       "       [ 1.109655  ,  1.0996222 ,  0.        ],\n",
       "       [ 1.4248979 ,  1.4014059 ,  0.        ],\n",
       "       [-0.27741376, -0.2616453 ,  0.        ],\n",
       "       [-0.5926567 , -0.57902455,  0.        ],\n",
       "       [ 0.29002348,  0.30202195,  0.        ],\n",
       "       [ 0.8574607 ,  0.8561698 ,  0.        ],\n",
       "       [ 0.22697489,  0.23984233,  0.        ],\n",
       "       [-1.3492396 , -1.3539405 ,  0.        ],\n",
       "       [ 0.8574607 ,  0.8561698 ,  0.        ],\n",
       "       [-1.0339967 , -1.0286621 ,  0.        ],\n",
       "       [ 0.1639263 ,  0.17766273,  0.        ],\n",
       "       [ 0.8574607 ,  0.8561698 ,  0.        ],\n",
       "       [ 1.7401408 ,  1.7005568 ,  0.        ],\n",
       "       [-0.1513166 , -0.13546324,  0.        ],\n",
       "       [-0.5296081 , -0.51522464,  0.        ],\n",
       "       [-0.9709481 , -0.964052  ,  0.        ],\n",
       "       [-0.5926567 , -0.57902455,  0.        ],\n",
       "       [-0.21436517, -0.198453  ,  0.        ],\n",
       "       [ 1.0466064 ,  1.0388604 ,  0.        ],\n",
       "       [-0.1513166 , -0.13546324,  0.        ],\n",
       "       [ 0.5422178 ,  0.54952514,  0.        ],\n",
       "       [-1.2231425 , -1.223505  ,  0.        ],\n",
       "       [ 0.6052664 ,  0.6110971 ,  0.        ],\n",
       "       [-0.84485096, -0.83523697,  0.        ],\n",
       "       [ 0.29002348,  0.30202195,  0.        ],\n",
       "       [-1.9797254 , -2.0144215 ,  0.        ],\n",
       "       [ 0.9205093 ,  0.91713417,  0.        ],\n",
       "       [-0.02521943, -0.00988878,  0.        ],\n",
       "       [ 0.66831493,  0.6724666 ,  0.        ],\n",
       "       [ 0.66831493,  0.6724666 ,  0.        ],\n",
       "       [-1.6014339 , -1.6164316 ,  0.        ],\n",
       "       [ 0.5422178 ,  0.54952514,  0.        ],\n",
       "       [ 1.109655  ,  1.0996222 ,  0.        ],\n",
       "       [ 0.73136353,  0.733836  ,  0.        ],\n",
       "       [ 0.03782915,  0.0526959 ,  0.        ],\n",
       "       [-0.9709481 , -0.964052  ,  0.        ],\n",
       "       [ 0.7944121 ,  0.79500294,  0.        ],\n",
       "       [ 2.3706267 ,  2.2911618 ,  0.        ],\n",
       "       [-3.0515513 , -3.1715293 ,  0.        ],\n",
       "       [-0.90789956, -0.8996445 ,  0.        ],\n",
       "       [ 0.35307205,  0.363999  ,  0.        ],\n",
       "       [-0.08826801, -0.07267601,  0.        ],\n",
       "       [ 2.2445295 ,  2.1738913 ,  0.        ],\n",
       "       [-1.1600939 , -1.1582874 ,  0.        ],\n",
       "       [-1.4122882 , -1.4193606 ,  0.        ],\n",
       "       [-0.27741376, -0.2616453 ,  0.        ],\n",
       "       [ 0.8574607 ,  0.8561698 ,  0.        ],\n",
       "       [-1.7275311 , -1.7484872 ,  0.        ],\n",
       "       [-0.27741376, -0.2616453 ,  0.        ],\n",
       "       [-0.4665595 , -0.45162728,  0.        ],\n",
       "       [-0.4035109 , -0.38823244,  0.        ],\n",
       "       [-0.6557052 , -0.64282453,  0.        ],\n",
       "       [ 1.6770922 ,  1.64101   ,  0.        ],\n",
       "       [ 0.03782915,  0.0526959 ,  0.        ],\n",
       "       [ 0.10087772,  0.11528058,  0.        ],\n",
       "       [ 0.35307205,  0.363999  ,  0.        ],\n",
       "       [-1.3492396 , -1.3539405 ,  0.        ],\n",
       "       [-0.84485096, -0.83523697,  0.        ],\n",
       "       [ 0.47916922,  0.4877506 ,  0.        ],\n",
       "       [-2.2949684 , -2.350232  ,  0.        ],\n",
       "       [ 0.73136353,  0.733836  ,  0.        ],\n",
       "       [-0.1513166 , -0.13546324,  0.        ],\n",
       "       [-1.4122882 , -1.4193606 ,  0.        ],\n",
       "       [ 1.2357521 ,  1.2207408 ,  0.        ],\n",
       "       [ 0.1639263 ,  0.17766273,  0.        ]], dtype=float32)"
      ]
     },
     "execution_count": 18,
     "metadata": {},
     "output_type": "execute_result"
    }
   ],
   "source": [
    "data"
   ]
  },
  {
   "cell_type": "code",
   "execution_count": 42,
   "id": "israeli-conversation",
   "metadata": {},
   "outputs": [],
   "source": [
    "class WindowGenerator():\n",
    "\n",
    "    def __init__(self, input_width, label_width, shift, train_df, val_df, test_df, label_columns=None, label_is_feature=None):\n",
    "        \n",
    "        # Store the raw data.\n",
    "        self.train_df = train_df\n",
    "        self.val_df = val_df\n",
    "        self.test_df = test_df\n",
    "\n",
    "        # Work out the label column indices.\n",
    "        self.label_is_feature = label_is_feature\n",
    "        self.label_columns = label_columns\n",
    "        if label_columns is not None:\n",
    "            self.label_columns_indices = {name: i for i, name in enumerate(label_columns)}\n",
    "            \n",
    "            if label_is_feature is None:\n",
    "                self.label_is_feature = [True for l in label_columns]\n",
    "        \n",
    "        self.column_indices = {name: i for i, name in enumerate(train_df.columns)}\n",
    "\n",
    "        # Work out the window parameters.\n",
    "        self.input_width = input_width\n",
    "        self.label_width = label_width\n",
    "        \n",
    "        self.shift = shift\n",
    "\n",
    "        self.total_window_size = input_width + shift\n",
    "\n",
    "        self.input_slice = slice(0, input_width)\n",
    "        self.input_indices = np.arange(self.total_window_size)[self.input_slice]\n",
    "\n",
    "        self.label_start = self.total_window_size - self.label_width\n",
    "        self.labels_slice = slice(self.label_start, None)\n",
    "        self.label_indices = np.arange(self.total_window_size)[self.labels_slice]\n",
    "\n",
    "        #print(f\"input_width: {self.input_width}\")\n",
    "        #print(f\"label_width: {self.label_width}\")\n",
    "        #print(f\"input_slice: {self.input_slice}\")\n",
    "        #print(f\"input_indices: {self.input_indices}\") \n",
    "        #print(f\"label_start: {self.label_start}\")\n",
    "        #print(f\"labels_slice: {self.labels_slice}\")\n",
    "        #print(f\"label_indices: {self.label_indices}\")\n",
    "\n",
    "                          \n",
    "    def __repr__(self):\n",
    "        return '\\n'.join([\n",
    "            f'Total window size: {self.total_window_size}',\n",
    "            f'Input indices: {self.input_indices}',\n",
    "            f'Label indices: {self.label_indices}',\n",
    "            f'Label column name(s): {self.label_columns}'])\n",
    "\n",
    "    def split_window(self, data):\n",
    "        #print(\"split window called!\")\n",
    "        #print(f\"data: {data}\")\n",
    "        #print(f\"data.shape: {data.shape}\")\n",
    "        #print(f\"input_slice: {self.input_slice}\")\n",
    "        #print(f\"labels_slice: {self.labels_slice}\"\n",
    "\n",
    "\n",
    "        labels = data[:, self.labels_slice, :]\n",
    "\n",
    "        # THE INPUT SLICE MUST DELETE THE LABEL COLUMNS IF THEY ARE NOT FEATURES\n",
    "        # FOR NOW, I REMOVE THE CLASS COLUMN MANUALLY\n",
    "\n",
    "        inputs = data[:, self.input_slice, :2]\n",
    "        \n",
    "        \n",
    "        #print(f\"inputs: {inputs}\")\n",
    "        #print(f\"labels: {labels}\")\n",
    "        #print(f\"label_columns: {self.label_columns}\")\n",
    "        #print(f\"column_indices[class]: {self.column_indices['CLASS']}\")\n",
    "\n",
    "        \n",
    "        if self.label_columns is not None:\n",
    "            labels = tf.stack(\n",
    "                [labels[:, :, self.column_indices[name]] for name in self.label_columns], axis=-1)\n",
    "        #print(\"labels: \",labels)\n",
    "                \n",
    "        \n",
    "        #print(inputs.shape)\n",
    "        #print(labels.shape)\n",
    "\n",
    "                    \n",
    "        # Slicing doesn't preserve static shape information, so set the shapes\n",
    "        # manually. This way the `tf.data.Datasets` are easier to inspect.\n",
    "        inputs.set_shape([None, self.input_width, None])\n",
    "        \n",
    "        labels.set_shape([None, None, 1])\n",
    "\n",
    "        \n",
    "        return inputs, labels\n",
    "\n",
    "    def make_dataset(self, data):\n",
    "        data = np.array(data, dtype=np.float32)\n",
    "        \n",
    "        ds = tf.keras.preprocessing.timeseries_dataset_from_array(  data=data,\n",
    "                                                                    targets=None,\n",
    "                                                                    sequence_length=self.total_window_size,\n",
    "                                                                    sequence_stride=1,\n",
    "                                                                    shuffle=True,\n",
    "                                                                    batch_size=32,)\n",
    "\n",
    "        ds = ds.map(self.split_window)\n",
    "\n",
    "        return ds\n",
    "    \n",
    "    def set_example(self, example_inputs, example_labels):\n",
    "        self.example = example_inputs, example_labels\n",
    "\n",
    "        \n",
    "    def remove_class_columns_if_not_features(self, df):\n",
    "\n",
    "        for i, label in enumerate(self.label_columns):\n",
    "            if not self.label_is_feature[i]:\n",
    "                df.drop(label, axis=1, inplace=True)        \n",
    "        \n",
    "        # print(\"df: \",df)\n",
    "        return df\n",
    "        \n",
    "    @property\n",
    "    def train(self):\n",
    "        #print(self.train_df)\n",
    "        return self.make_dataset(self.train_df)\n",
    "    \n",
    "    @property\n",
    "    def val(self):\n",
    "        return self.make_dataset(self.val_df)\n",
    "\n",
    "    @property\n",
    "    def test(self):\n",
    "        return self.make_dataset(self.test_df)\n",
    "\n",
    "    @property\n",
    "    def example(self):\n",
    "        \"\"\"Get and cache an example batch of `inputs, labels` for plotting.\"\"\"\n",
    "        result = getattr(self, '_example', None)\n",
    "        if result is None:\n",
    "            # No example batch was found, so get one from the `.train` dataset\n",
    "            result = next(iter(self.train))\n",
    "            # And cache it for next time\n",
    "            self._example = result\n",
    "        # print(f\"result: {result}\")\n",
    "\n",
    "        return result\n"
   ]
  },
  {
   "cell_type": "code",
   "execution_count": 43,
   "id": "unlikely-inspector",
   "metadata": {},
   "outputs": [],
   "source": [
    "data_window = WindowGenerator(input_width=10, \n",
    "                             label_width=1, \n",
    "                             shift=0, \n",
    "                             train_df=train_df, \n",
    "                             test_df=test_df, \n",
    "                             val_df=val_df, \n",
    "                             label_columns=[\"CLASS\"], \n",
    "                             label_is_feature=[False])\n",
    "\n"
   ]
  },
  {
   "cell_type": "code",
   "execution_count": 44,
   "id": "charged-expansion",
   "metadata": {},
   "outputs": [
    {
     "name": "stdout",
     "output_type": "stream",
     "text": [
      "Inputs shape (batch, time, features): (32, 10, 2)\n",
      "Labels shape (batch, time, features): (32, 1, 1)\n",
      "example_inputs:  tf.Tensor(\n",
      "[[ 1.4248979   1.4014059 ]\n",
      " [-1.0970453  -1.0934747 ]\n",
      " [ 0.29002348  0.30202195]\n",
      " [-0.6557052  -0.64282453]\n",
      " [ 0.10087772  0.11528058]\n",
      " [-0.84485096 -0.83523697]\n",
      " [ 0.41612062  0.42597607]\n",
      " [ 0.66831493  0.6724666 ]\n",
      " [ 0.29002348  0.30202195]\n",
      " [-2.1688712  -2.2155433 ]], shape=(10, 2), dtype=float32)\n",
      "example_labels:  tf.Tensor([[0.]], shape=(1, 1), dtype=float32)\n"
     ]
    }
   ],
   "source": [
    "for example_inputs, example_labels in data_window.train.take(1):\n",
    "    print(f'Inputs shape (batch, time, features): {example_inputs.shape}')\n",
    "    print(f'Labels shape (batch, time, features): {example_labels.shape}')\n",
    "    print(\"example_inputs: \",example_inputs[0])\n",
    "    print(\"example_labels: \",example_labels[0])"
   ]
  },
  {
   "cell_type": "code",
   "execution_count": 45,
   "id": "pleased-finland",
   "metadata": {
    "scrolled": true
   },
   "outputs": [
    {
     "data": {
      "image/png": "[encoded data removed]",
      "text/plain": [
       "<Figure size 864x576 with 3 Axes>"
      ]
     },
     "metadata": {
      "needs_background": "light"
     },
     "output_type": "display_data"
    }
   ],
   "source": [
    "def plot(self, model=None, plot_col='', max_subplots=3):\n",
    "    inputs, labels = self.example\n",
    "    plt.figure(figsize=(12, 8))\n",
    "    plot_col_index = self.column_indices[plot_col]\n",
    "    max_n = min(max_subplots, len(inputs))\n",
    "    for n in range(max_n):\n",
    "        plt.subplot(max_n, 1, n+1)\n",
    "        plt.ylabel(f'{plot_col} [normed]')\n",
    "        plt.plot(self.input_indices, inputs[n, :, plot_col_index], label='Inputs', marker='.', zorder=-10)\n",
    "\n",
    "        if self.label_columns:\n",
    "            label_col_index = self.label_columns_indices.get(plot_col, None)\n",
    "        else:\n",
    "            label_col_index = plot_col_index\n",
    "\n",
    "        if label_col_index is None:\n",
    "            continue\n",
    "\n",
    "        plt.scatter(self.label_indices, labels[n, :, label_col_index], dgecolors='k', label='Labels', c='#2ca02c', s=64)\n",
    "\n",
    "        if model is not None:\n",
    "            predictions = model(inputs)\n",
    "            plt.scatter(self.label_indices, predictions[n, :, label_col_index], marker='X', edgecolors='k', label='Predictions', c='#ff7f0e', s=64)\n",
    "\n",
    "        if n == 0:\n",
    "            plt.legend()\n",
    "\n",
    "    plt.xlabel('Time [h]')\n",
    "\n",
    "\n",
    "    return inputs, labels\n",
    "\n",
    "\n",
    "WindowGenerator.plot=plot\n",
    "\n",
    "_ = data_window.plot(plot_col=\"COUNTS\")"
   ]
  },
  {
   "cell_type": "code",
   "execution_count": 46,
   "id": "dried-bunch",
   "metadata": {},
   "outputs": [
    {
     "name": "stdout",
     "output_type": "stream",
     "text": [
      "Inputs shape (batch, time, features): (32, 10, 2)\n",
      "Labels shape (batch, time, features): (32, 1, 1)\n",
      "Inputs shape (batch, time, features): (32, 10, 2)\n",
      "Labels shape (batch, time, features): (32, 1, 1)\n",
      "Inputs shape (batch, time, features): (32, 10, 2)\n",
      "Labels shape (batch, time, features): (32, 1, 1)\n",
      "Inputs shape (batch, time, features): (20, 10, 2)\n",
      "Labels shape (batch, time, features): (20, 1, 1)\n"
     ]
    }
   ],
   "source": [
    "for example_inputs, example_labels in data_window.train.take(5):\n",
    "    print(f'Inputs shape (batch, time, features): {example_inputs.shape}')\n",
    "    print(f'Labels shape (batch, time, features): {example_labels.shape}')"
   ]
  },
  {
   "cell_type": "code",
   "execution_count": 50,
   "id": "promising-courtesy",
   "metadata": {},
   "outputs": [
    {
     "data": {
      "text/plain": [
       "<TakeDataset shapes: ((None, 10, 2), (None, None, 1)), types: (tf.float32, tf.float32)>"
      ]
     },
     "execution_count": 50,
     "metadata": {},
     "output_type": "execute_result"
    }
   ],
   "source": [
    "example_inputs = data_window.train.take(1)\n",
    "example_inputs"
   ]
  },
  {
   "cell_type": "code",
   "execution_count": 60,
   "id": "focused-upgrade",
   "metadata": {},
   "outputs": [
    {
     "data": {
      "text/plain": [
       "TensorShape([32, 10, 2])"
      ]
     },
     "execution_count": 60,
     "metadata": {},
     "output_type": "execute_result"
    }
   ],
   "source": [
    "data_window.example[0].shape"
   ]
  },
  {
   "cell_type": "code",
   "execution_count": 61,
   "id": "polar-attribute",
   "metadata": {},
   "outputs": [],
   "source": [
    "input_shape=(data_window.example[0].shape[1], data_window.example[0].shape[2])"
   ]
  },
  {
   "cell_type": "code",
   "execution_count": null,
   "id": "sensitive-abraham",
   "metadata": {},
   "outputs": [],
   "source": []
  },
  {
   "cell_type": "code",
   "execution_count": 62,
   "id": "recreational-thunder",
   "metadata": {},
   "outputs": [
    {
     "name": "stdout",
     "output_type": "stream",
     "text": [
      "Model: \"sequential_5\"\n",
      "_________________________________________________________________\n",
      "Layer (type)                 Output Shape              Param #   \n",
      "=================================================================\n",
      "lstm_7 (LSTM)                (None, 32)                4480      \n",
      "_________________________________________________________________\n",
      "dropout_7 (Dropout)          (None, 32)                0         \n",
      "_________________________________________________________________\n",
      "repeat_vector_3 (RepeatVecto (None, 10, 32)            0         \n",
      "_________________________________________________________________\n",
      "lstm_8 (LSTM)                (None, 10, 32)            8320      \n",
      "_________________________________________________________________\n",
      "dropout_8 (Dropout)          (None, 10, 32)            0         \n",
      "_________________________________________________________________\n",
      "time_distributed_2 (TimeDist (None, 10, 2)             66        \n",
      "=================================================================\n",
      "Total params: 12,866\n",
      "Trainable params: 12,866\n",
      "Non-trainable params: 0\n",
      "_________________________________________________________________\n"
     ]
    }
   ],
   "source": [
    "modelLSTM = Sequential()\n",
    "modelLSTM.add(LSTM(32, input_shape=input_shape))\n",
    "modelLSTM.add(Dropout(rate=0.3))\n",
    "modelLSTM.add(RepeatVector(input_shape[0]))\n",
    "modelLSTM.add(LSTM(32, return_sequences=True))\n",
    "modelLSTM.add(Dropout(rate=0.3))\n",
    "modelLSTM.add(TimeDistributed(Dense(input_shape[1])))\n",
    "\n",
    "modelLSTM.compile(optimizer='adam', loss='mae')\n",
    "modelLSTM.summary()"
   ]
  },
  {
   "cell_type": "code",
   "execution_count": 67,
   "id": "western-portfolio",
   "metadata": {},
   "outputs": [],
   "source": [
    "MAX_EPOCHS = 20\n",
    "\n",
    "def compile_and_fit(model, window, patience=2):\n",
    "    early_stopping_cb = tf.keras.callbacks.EarlyStopping(monitor='val_loss', patience=patience, mode='min')\n",
    "    save_weights_cb = keras.callbacks.ModelCheckpoint(filepath=str(checkpoint_path_lstm), save_weights_only=True, verbose=1)\n",
    "\n",
    "    model.compile(loss=tf.losses.MeanSquaredError(),\n",
    "                  optimizer=tf.optimizers.Adam(),\n",
    "                  metrics=[tf.metrics.MeanAbsoluteError()])\n",
    "\n",
    "    history = model.fit(data_window.train, epochs=MAX_EPOCHS,\n",
    "                        # validation_data=window.val,\n",
    "                        batch_size=32,\n",
    "                        verbose=1,\n",
    "                        callbacks=[save_weights_cb, early_stopping_cb]\n",
    "                       )\n",
    "    \n",
    "\n",
    "    return history"
   ]
  },
  {
   "cell_type": "code",
   "execution_count": 68,
   "id": "accepting-factor",
   "metadata": {},
   "outputs": [],
   "source": [
    "checkpoint_path_lstm = Path(\"./lstm_exp3/training_lstm/cp.ckpt\")\n",
    "checkpoint_path_lstm.mkdir(exist_ok=True, parents=True)"
   ]
  },
  {
   "cell_type": "code",
   "execution_count": null,
   "id": "certified-lingerie",
   "metadata": {},
   "outputs": [],
   "source": []
  },
  {
   "cell_type": "code",
   "execution_count": 69,
   "id": "equivalent-isolation",
   "metadata": {},
   "outputs": [],
   "source": [
    "epochs=20"
   ]
  },
  {
   "cell_type": "code",
   "execution_count": 70,
   "id": "third-spotlight",
   "metadata": {},
   "outputs": [
    {
     "name": "stdout",
     "output_type": "stream",
     "text": [
      "Epoch 1/20\n",
      "4/4 [==============================] - 3s 16ms/step - loss: 3.2043e-04 - mean_absolute_error: 0.0124\n",
      "\n",
      "Epoch 00001: saving model to lstm_exp3/training_lstm/cp.ckpt\n",
      "WARNING:tensorflow:Early stopping conditioned on metric `val_loss` which is not available. Available metrics are: loss,mean_absolute_error\n",
      "Epoch 2/20\n",
      "4/4 [==============================] - 0s 14ms/step - loss: 2.1909e-04 - mean_absolute_error: 0.0102\n",
      "\n",
      "Epoch 00002: saving model to lstm_exp3/training_lstm/cp.ckpt\n",
      "WARNING:tensorflow:Early stopping conditioned on metric `val_loss` which is not available. Available metrics are: loss,mean_absolute_error\n",
      "Epoch 3/20\n",
      "4/4 [==============================] - 0s 13ms/step - loss: 2.0001e-04 - mean_absolute_error: 0.0093\n",
      "\n",
      "Epoch 00003: saving model to lstm_exp3/training_lstm/cp.ckpt\n",
      "WARNING:tensorflow:Early stopping conditioned on metric `val_loss` which is not available. Available metrics are: loss,mean_absolute_error\n",
      "Epoch 4/20\n",
      "4/4 [==============================] - 0s 12ms/step - loss: 1.8157e-04 - mean_absolute_error: 0.0088\n",
      "\n",
      "Epoch 00004: saving model to lstm_exp3/training_lstm/cp.ckpt\n",
      "WARNING:tensorflow:Early stopping conditioned on metric `val_loss` which is not available. Available metrics are: loss,mean_absolute_error\n",
      "Epoch 5/20\n",
      "4/4 [==============================] - 0s 11ms/step - loss: 1.2855e-04 - mean_absolute_error: 0.0075\n",
      "\n",
      "Epoch 00005: saving model to lstm_exp3/training_lstm/cp.ckpt\n",
      "WARNING:tensorflow:Early stopping conditioned on metric `val_loss` which is not available. Available metrics are: loss,mean_absolute_error\n",
      "Epoch 6/20\n",
      "4/4 [==============================] - 0s 12ms/step - loss: 1.1421e-04 - mean_absolute_error: 0.0073\n",
      "\n",
      "Epoch 00006: saving model to lstm_exp3/training_lstm/cp.ckpt\n",
      "WARNING:tensorflow:Early stopping conditioned on metric `val_loss` which is not available. Available metrics are: loss,mean_absolute_error\n",
      "Epoch 7/20\n",
      "4/4 [==============================] - 0s 12ms/step - loss: 1.0109e-04 - mean_absolute_error: 0.0067\n",
      "\n",
      "Epoch 00007: saving model to lstm_exp3/training_lstm/cp.ckpt\n",
      "WARNING:tensorflow:Early stopping conditioned on metric `val_loss` which is not available. Available metrics are: loss,mean_absolute_error\n",
      "Epoch 8/20\n",
      "4/4 [==============================] - 0s 12ms/step - loss: 8.6720e-05 - mean_absolute_error: 0.0061\n",
      "\n",
      "Epoch 00008: saving model to lstm_exp3/training_lstm/cp.ckpt\n",
      "WARNING:tensorflow:Early stopping conditioned on metric `val_loss` which is not available. Available metrics are: loss,mean_absolute_error\n",
      "Epoch 9/20\n",
      "4/4 [==============================] - 0s 11ms/step - loss: 8.2672e-05 - mean_absolute_error: 0.0060\n",
      "\n",
      "Epoch 00009: saving model to lstm_exp3/training_lstm/cp.ckpt\n",
      "WARNING:tensorflow:Early stopping conditioned on metric `val_loss` which is not available. Available metrics are: loss,mean_absolute_error\n",
      "Epoch 10/20\n",
      "4/4 [==============================] - 0s 12ms/step - loss: 6.5686e-05 - mean_absolute_error: 0.0054\n",
      "\n",
      "Epoch 00010: saving model to lstm_exp3/training_lstm/cp.ckpt\n",
      "WARNING:tensorflow:Early stopping conditioned on metric `val_loss` which is not available. Available metrics are: loss,mean_absolute_error\n",
      "Epoch 11/20\n",
      "4/4 [==============================] - 0s 12ms/step - loss: 5.9160e-05 - mean_absolute_error: 0.0052\n",
      "\n",
      "Epoch 00011: saving model to lstm_exp3/training_lstm/cp.ckpt\n",
      "WARNING:tensorflow:Early stopping conditioned on metric `val_loss` which is not available. Available metrics are: loss,mean_absolute_error\n",
      "Epoch 12/20\n",
      "4/4 [==============================] - 0s 12ms/step - loss: 4.9582e-05 - mean_absolute_error: 0.0048\n",
      "\n",
      "Epoch 00012: saving model to lstm_exp3/training_lstm/cp.ckpt\n",
      "WARNING:tensorflow:Early stopping conditioned on metric `val_loss` which is not available. Available metrics are: loss,mean_absolute_error\n",
      "Epoch 13/20\n",
      "4/4 [==============================] - 0s 12ms/step - loss: 5.3102e-05 - mean_absolute_error: 0.0047\n",
      "\n",
      "Epoch 00013: saving model to lstm_exp3/training_lstm/cp.ckpt\n",
      "WARNING:tensorflow:Early stopping conditioned on metric `val_loss` which is not available. Available metrics are: loss,mean_absolute_error\n",
      "Epoch 14/20\n",
      "4/4 [==============================] - 0s 12ms/step - loss: 4.8421e-05 - mean_absolute_error: 0.0046\n",
      "\n",
      "Epoch 00014: saving model to lstm_exp3/training_lstm/cp.ckpt\n",
      "WARNING:tensorflow:Early stopping conditioned on metric `val_loss` which is not available. Available metrics are: loss,mean_absolute_error\n",
      "Epoch 15/20\n",
      "4/4 [==============================] - 0s 12ms/step - loss: 4.6646e-05 - mean_absolute_error: 0.0044\n",
      "\n",
      "Epoch 00015: saving model to lstm_exp3/training_lstm/cp.ckpt\n",
      "WARNING:tensorflow:Early stopping conditioned on metric `val_loss` which is not available. Available metrics are: loss,mean_absolute_error\n",
      "Epoch 16/20\n",
      "4/4 [==============================] - 0s 11ms/step - loss: 3.7907e-05 - mean_absolute_error: 0.0041\n",
      "\n",
      "Epoch 00016: saving model to lstm_exp3/training_lstm/cp.ckpt\n",
      "WARNING:tensorflow:Early stopping conditioned on metric `val_loss` which is not available. Available metrics are: loss,mean_absolute_error\n",
      "Epoch 17/20\n",
      "4/4 [==============================] - 0s 11ms/step - loss: 3.8295e-05 - mean_absolute_error: 0.0040\n",
      "\n",
      "Epoch 00017: saving model to lstm_exp3/training_lstm/cp.ckpt\n",
      "WARNING:tensorflow:Early stopping conditioned on metric `val_loss` which is not available. Available metrics are: loss,mean_absolute_error\n",
      "Epoch 18/20\n",
      "4/4 [==============================] - 0s 11ms/step - loss: 4.0523e-05 - mean_absolute_error: 0.0039\n",
      "\n",
      "Epoch 00018: saving model to lstm_exp3/training_lstm/cp.ckpt\n",
      "WARNING:tensorflow:Early stopping conditioned on metric `val_loss` which is not available. Available metrics are: loss,mean_absolute_error\n",
      "Epoch 19/20\n",
      "4/4 [==============================] - 0s 11ms/step - loss: 3.4838e-05 - mean_absolute_error: 0.0039\n",
      "\n",
      "Epoch 00019: saving model to lstm_exp3/training_lstm/cp.ckpt\n",
      "WARNING:tensorflow:Early stopping conditioned on metric `val_loss` which is not available. Available metrics are: loss,mean_absolute_error\n",
      "Epoch 20/20\n",
      "4/4 [==============================] - 0s 12ms/step - loss: 3.1601e-05 - mean_absolute_error: 0.0037\n",
      "\n",
      "Epoch 00020: saving model to lstm_exp3/training_lstm/cp.ckpt\n",
      "WARNING:tensorflow:Early stopping conditioned on metric `val_loss` which is not available. Available metrics are: loss,mean_absolute_error\n"
     ]
    }
   ],
   "source": [
    "history = compile_and_fit(modelLSTM, data_window)"
   ]
  },
  {
   "cell_type": "code",
   "execution_count": null,
   "id": "senior-maple",
   "metadata": {},
   "outputs": [],
   "source": []
  },
  {
   "cell_type": "code",
   "execution_count": 73,
   "id": "atomic-momentum",
   "metadata": {},
   "outputs": [
    {
     "ename": "KeyError",
     "evalue": "'val_loss'",
     "output_type": "error",
     "traceback": [
      "\u001b[0;31m---------------------------------------------------------------------------\u001b[0m",
      "\u001b[0;31mKeyError\u001b[0m                                  Traceback (most recent call last)",
      "\u001b[0;32m<ipython-input-73-ac58e35b254d>\u001b[0m in \u001b[0;36m<module>\u001b[0;34m\u001b[0m\n\u001b[1;32m      1\u001b[0m \u001b[0mplt\u001b[0m\u001b[0;34m.\u001b[0m\u001b[0mplot\u001b[0m\u001b[0;34m(\u001b[0m\u001b[0mhistory\u001b[0m\u001b[0;34m.\u001b[0m\u001b[0mhistory\u001b[0m\u001b[0;34m[\u001b[0m\u001b[0;34m\"loss\"\u001b[0m\u001b[0;34m]\u001b[0m\u001b[0;34m,\u001b[0m \u001b[0mlabel\u001b[0m\u001b[0;34m=\u001b[0m\u001b[0;34m\"LSTM Training Loss\"\u001b[0m\u001b[0;34m,\u001b[0m \u001b[0mcolor\u001b[0m\u001b[0;34m=\u001b[0m\u001b[0;34m\"orange\"\u001b[0m\u001b[0;34m)\u001b[0m\u001b[0;34m\u001b[0m\u001b[0;34m\u001b[0m\u001b[0m\n\u001b[0;32m----> 2\u001b[0;31m \u001b[0mplt\u001b[0m\u001b[0;34m.\u001b[0m\u001b[0mplot\u001b[0m\u001b[0;34m(\u001b[0m\u001b[0mhistory\u001b[0m\u001b[0;34m.\u001b[0m\u001b[0mhistory\u001b[0m\u001b[0;34m[\u001b[0m\u001b[0;34m\"val_loss\"\u001b[0m\u001b[0;34m]\u001b[0m\u001b[0;34m,\u001b[0m \u001b[0mlabel\u001b[0m\u001b[0;34m=\u001b[0m\u001b[0;34m\"LSTM Validation Loss\"\u001b[0m\u001b[0;34m,\u001b[0m \u001b[0mcolor\u001b[0m\u001b[0;34m=\u001b[0m\u001b[0;34m\"orange\"\u001b[0m\u001b[0;34m,\u001b[0m \u001b[0mlinestyle\u001b[0m\u001b[0;34m=\u001b[0m\u001b[0;34m\"--\"\u001b[0m\u001b[0;34m)\u001b[0m\u001b[0;34m\u001b[0m\u001b[0;34m\u001b[0m\u001b[0m\n\u001b[0m\u001b[1;32m      3\u001b[0m \u001b[0;34m\u001b[0m\u001b[0m\n",
      "\u001b[0;31mKeyError\u001b[0m: 'val_loss'"
     ]
    },
    {
     "data": {
      "image/png": "[encoded data removed]",
      "text/plain": [
       "<Figure size 432x288 with 1 Axes>"
      ]
     },
     "metadata": {
      "needs_background": "light"
     },
     "output_type": "display_data"
    }
   ],
   "source": [
    "plt.plot(history.history[\"loss\"], label=\"LSTM Training Loss\", color=\"orange\")\n",
    "#plt.plot(history.history[\"val_loss\"], label=\"LSTM Validation Loss\", color=\"orange\", linestyle=\"--\")\n",
    "\n"
   ]
  },
  {
   "cell_type": "code",
   "execution_count": 75,
   "id": "narrow-award",
   "metadata": {},
   "outputs": [],
   "source": [
    "lstm_predictions_on_training = modelLSTM.predict(data_window.test)"
   ]
  },
  {
   "cell_type": "code",
   "execution_count": 80,
   "id": "vanilla-london",
   "metadata": {},
   "outputs": [
    {
     "data": {
      "text/plain": [
       "array([[[-6.84956438e-04, -9.31966817e-04],\n",
       "        [-8.94839177e-04, -7.06436753e-04],\n",
       "        [-8.90128082e-04, -1.74839137e-04],\n",
       "        [-7.93030718e-04,  4.49235522e-04],\n",
       "        [-6.69015339e-04,  1.05565507e-03],\n",
       "        [-5.50184632e-04,  1.59404753e-03],\n",
       "        [-4.49853687e-04,  2.04729335e-03],\n",
       "        [-3.71357164e-04,  2.41573597e-03],\n",
       "        [-3.13225872e-04,  2.70798663e-03],\n",
       "        [-2.72064208e-04,  2.93573854e-03]],\n",
       "\n",
       "       [[-2.43866161e-04,  2.00130016e-04],\n",
       "        [-3.09609546e-04,  5.72781661e-04],\n",
       "        [-3.02540575e-04,  7.76556670e-04],\n",
       "        [-2.60578323e-04,  8.84577283e-04],\n",
       "        [-2.06070472e-04,  9.39952093e-04],\n",
       "        [-1.51144792e-04,  9.67535889e-04],\n",
       "        [-1.01588186e-04,  9.81238671e-04],\n",
       "        [-5.94944977e-05,  9.88531858e-04],\n",
       "        [-2.49771219e-05,  9.93194408e-04],\n",
       "        [ 2.78094740e-06,  9.96968942e-04]],\n",
       "\n",
       "       [[-4.94097709e-04, -1.66315265e-04],\n",
       "        [-6.47596316e-04,  1.65196339e-04],\n",
       "        [-6.47580484e-04,  4.85112803e-04],\n",
       "        [-5.77649334e-04,  7.71804596e-04],\n",
       "        [-4.84377815e-04,  1.01752079e-03],\n",
       "        [-3.91736598e-04,  1.22200197e-03],\n",
       "        [-3.10480798e-04,  1.38868950e-03],\n",
       "        [-2.44049108e-04,  1.52255222e-03],\n",
       "        [-1.92148364e-04,  1.62888411e-03],\n",
       "        [-1.52844455e-04,  1.71268079e-03]],\n",
       "\n",
       "       [[-6.42406638e-04, -5.73128229e-04],\n",
       "        [-8.15402949e-04, -2.89357296e-04],\n",
       "        [-7.76443165e-04,  1.56780734e-04],\n",
       "        [-6.47442183e-04,  6.39340607e-04],\n",
       "        [-4.94283391e-04,  1.09456934e-03],\n",
       "        [-3.49435228e-04,  1.49447098e-03],\n",
       "        [-2.26318589e-04,  1.83080975e-03],\n",
       "        [-1.28149273e-04,  2.10560765e-03],\n",
       "        [-5.31768710e-05,  2.32562469e-03],\n",
       "        [ 2.34485560e-06,  2.49926862e-03]],\n",
       "\n",
       "       [[-5.13490755e-04, -1.24507642e-05],\n",
       "        [-6.24248991e-04,  3.61124723e-04],\n",
       "        [-5.55812614e-04,  6.68032328e-04],\n",
       "        [-4.12135822e-04,  9.18806065e-04],\n",
       "        [-2.50105251e-04,  1.12303265e-03],\n",
       "        [-9.80433397e-05,  1.28902774e-03],\n",
       "        [ 3.22612650e-05,  1.42379431e-03],\n",
       "        [ 1.38020390e-04,  1.53313251e-03],\n",
       "        [ 2.20889939e-04,  1.62179675e-03],\n",
       "        [ 2.84347014e-04,  1.69366784e-03]],\n",
       "\n",
       "       [[ 9.53787530e-05,  2.58595246e-04],\n",
       "        [ 1.33365960e-04,  6.07760274e-04],\n",
       "        [ 1.26533894e-04,  7.42224278e-04],\n",
       "        [ 1.04823630e-04,  7.58122536e-04],\n",
       "        [ 8.25832540e-05,  7.13114277e-04],\n",
       "        [ 6.56881457e-05,  6.41039107e-04],\n",
       "        [ 5.56541090e-05,  5.61087392e-04],\n",
       "        [ 5.19531495e-05,  4.83545329e-04],\n",
       "        [ 5.32639569e-05,  4.13381815e-04],\n",
       "        [ 5.81166423e-05,  3.52488220e-04]],\n",
       "\n",
       "       [[-3.83229839e-04,  1.73865090e-04],\n",
       "        [-4.55698319e-04,  5.76918712e-04],\n",
       "        [-3.93633236e-04,  8.34546983e-04],\n",
       "        [-2.74637685e-04,  1.00239762e-03],\n",
       "        [-1.41781740e-04,  1.11503294e-03],\n",
       "        [-1.68091901e-05,  1.19367591e-03],\n",
       "        [ 9.10733506e-05,  1.25119102e-03],\n",
       "        [ 1.79576702e-04,  1.29527063e-03],\n",
       "        [ 2.49883888e-04,  1.33046089e-03],\n",
       "        [ 3.04634479e-04,  1.35943189e-03]],\n",
       "\n",
       "       [[-3.04083078e-04,  1.39688404e-04],\n",
       "        [-4.00582241e-04,  4.73380758e-04],\n",
       "        [-4.07194340e-04,  6.53278898e-04],\n",
       "        [-3.69267393e-04,  7.47009879e-04],\n",
       "        [-3.13650089e-04,  7.93692889e-04],\n",
       "        [-2.55205057e-04,  8.15598643e-04],\n",
       "        [-2.01359377e-04,  8.25127936e-04],\n",
       "        [-1.55156580e-04,  8.28966033e-04],\n",
       "        [-1.17218806e-04,  8.30553472e-04],\n",
       "        [-8.69538489e-05,  8.31530197e-04]],\n",
       "\n",
       "       [[-4.44335485e-04, -5.66829694e-05],\n",
       "        [-5.66224218e-04,  3.01150227e-04],\n",
       "        [-5.44439303e-04,  6.07071328e-04],\n",
       "        [-4.58536175e-04,  8.63680616e-04],\n",
       "        [-3.53041309e-04,  1.07610738e-03],\n",
       "        [-2.50804907e-04,  1.25028810e-03],\n",
       "        [-1.61878517e-04,  1.39208313e-03],\n",
       "        [-8.92083481e-05,  1.50686200e-03],\n",
       "        [-3.21324733e-05,  1.59934722e-03],\n",
       "        [ 1.15698385e-05,  1.67358806e-03]]], dtype=float32)"
      ]
     },
     "execution_count": 80,
     "metadata": {},
     "output_type": "execute_result"
    }
   ],
   "source": [
    "lstm_predictions_on_training"
   ]
  },
  {
   "cell_type": "code",
   "execution_count": 79,
   "id": "prescribed-porcelain",
   "metadata": {},
   "outputs": [
    {
     "data": {
      "image/png": "[encoded data removed]",
      "text/plain": [
       "<Figure size 432x288 with 1 Axes>"
      ]
     },
     "metadata": {
      "needs_background": "light"
     },
     "output_type": "display_data"
    }
   ],
   "source": [
    "plt.plot(lstm_predictions_on_training[0], label=\"Lstm\")\n",
    "plt.legend()\n",
    "plt.show()"
   ]
  },
  {
   "cell_type": "code",
   "execution_count": null,
   "id": "driving-canadian",
   "metadata": {},
   "outputs": [],
   "source": []
  }
 ],
 "metadata": {
  "kernelspec": {
   "display_name": "Python 3",
   "language": "python",
   "name": "python3"
  },
  "language_info": {
   "codemirror_mode": {
    "name": "ipython",
    "version": 3
   },
   "file_extension": ".py",
   "mimetype": "text/x-python",
   "name": "python",
   "nbconvert_exporter": "python",
   "pygments_lexer": "ipython3",
   "version": "3.7.3"
  }
 },
 "nbformat": 4,
 "nbformat_minor": 5
}
